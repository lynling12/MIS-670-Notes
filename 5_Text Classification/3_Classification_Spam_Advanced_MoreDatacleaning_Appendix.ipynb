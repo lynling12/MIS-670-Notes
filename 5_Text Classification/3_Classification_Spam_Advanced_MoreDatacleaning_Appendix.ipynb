{
 "cells": [
  {
   "cell_type": "markdown",
   "metadata": {},
   "source": [
    "# More text-preprocessing prior to TfidfVectorizer"
   ]
  },
  {
   "cell_type": "code",
   "execution_count": 1,
   "metadata": {},
   "outputs": [
    {
     "name": "stderr",
     "output_type": "stream",
     "text": [
      "C:\\Anaconda\\lib\\site-packages\\sklearn\\cross_validation.py:41: DeprecationWarning: This module was deprecated in version 0.18 in favor of the model_selection module into which all the refactored classes and functions are moved. Also note that the interface of the new CV iterators are different from that of this module. This module will be removed in 0.20.\n",
      "  \"This module will be removed in 0.20.\", DeprecationWarning)\n",
      "C:\\Anaconda\\lib\\site-packages\\sklearn\\grid_search.py:42: DeprecationWarning: This module was deprecated in version 0.18 in favor of the model_selection module into which all the refactored classes and functions are moved. This module will be removed in 0.20.\n",
      "  DeprecationWarning)\n"
     ]
    }
   ],
   "source": [
    "%matplotlib inline\n",
    "import nltk\n",
    "import matplotlib.pyplot as plt\n",
    "import csv\n",
    "import pandas as pd\n",
    "import sklearn\n",
    "import numpy as np\n",
    "from collections import Counter\n",
    "\n",
    "# import packages for text processing\n",
    "import nltk\n",
    "from nltk.corpus import stopwords\n",
    "from nltk.stem.wordnet import WordNetLemmatizer\n",
    "import re\n",
    "\n",
    "# feature engineering (words to vectors)\n",
    "from sklearn.feature_extraction.text import TfidfVectorizer\n",
    "\n",
    "# classification algorithms (or classifiers)\n",
    "from sklearn.naive_bayes import MultinomialNB\n",
    "from sklearn.neighbors import KNeighborsClassifier\n",
    "from sklearn.svm import SVC, LinearSVC\n",
    "\n",
    "# build a pipeline\n",
    "from sklearn.pipeline import Pipeline\n",
    "\n",
    "# for gridsearch ... buiild many models with different parameters (e.g., with/without bi-gram)\n",
    "from sklearn.grid_search import GridSearchCV\n",
    "\n",
    "# model evaluation, validation\n",
    "from sklearn.metrics import classification_report, f1_score, accuracy_score, confusion_matrix\n",
    "from sklearn.cross_validation import StratifiedKFold, cross_val_score, train_test_split \n",
    "from sklearn import metrics\n",
    "from sklearn.metrics import roc_curve, auc"
   ]
  },
  {
   "cell_type": "markdown",
   "metadata": {},
   "source": [
    "# Step 1: Loading the dataset\n",
    "\n",
    "The data is in a single csv file. We can use Pandas, a python package, to load the data"
   ]
  },
  {
   "cell_type": "code",
   "execution_count": 134,
   "metadata": {},
   "outputs": [
    {
     "data": {
      "text/html": [
       "<div>\n",
       "<style>\n",
       "    .dataframe thead tr:only-child th {\n",
       "        text-align: right;\n",
       "    }\n",
       "\n",
       "    .dataframe thead th {\n",
       "        text-align: left;\n",
       "    }\n",
       "\n",
       "    .dataframe tbody tr th {\n",
       "        vertical-align: top;\n",
       "    }\n",
       "</style>\n",
       "<table border=\"1\" class=\"dataframe\">\n",
       "  <thead>\n",
       "    <tr style=\"text-align: right;\">\n",
       "      <th></th>\n",
       "      <th>0</th>\n",
       "      <th>1</th>\n",
       "    </tr>\n",
       "  </thead>\n",
       "  <tbody>\n",
       "    <tr>\n",
       "      <th>0</th>\n",
       "      <td>Go until jurong point, crazy.. Available only ...</td>\n",
       "      <td>0</td>\n",
       "    </tr>\n",
       "    <tr>\n",
       "      <th>1</th>\n",
       "      <td>Ok lar... Joking wif u oni...</td>\n",
       "      <td>0</td>\n",
       "    </tr>\n",
       "    <tr>\n",
       "      <th>2</th>\n",
       "      <td>Free entry in 2 a wkly comp to win FA Cup fina...</td>\n",
       "      <td>1</td>\n",
       "    </tr>\n",
       "    <tr>\n",
       "      <th>3</th>\n",
       "      <td>U dun say so early hor... U c already then say...</td>\n",
       "      <td>0</td>\n",
       "    </tr>\n",
       "    <tr>\n",
       "      <th>4</th>\n",
       "      <td>Nah I don't think he goes to usf, he lives aro...</td>\n",
       "      <td>0</td>\n",
       "    </tr>\n",
       "  </tbody>\n",
       "</table>\n",
       "</div>"
      ],
      "text/plain": [
       "                                                   0  1\n",
       "0  Go until jurong point, crazy.. Available only ...  0\n",
       "1                      Ok lar... Joking wif u oni...  0\n",
       "2  Free entry in 2 a wkly comp to win FA Cup fina...  1\n",
       "3  U dun say so early hor... U c already then say...  0\n",
       "4  Nah I don't think he goes to usf, he lives aro...  0"
      ]
     },
     "execution_count": 134,
     "metadata": {},
     "output_type": "execute_result"
    }
   ],
   "source": [
    "df = pd.read_csv('data/spam.csv', header=None)\n",
    "df.head()"
   ]
  },
  {
   "cell_type": "code",
   "execution_count": 135,
   "metadata": {},
   "outputs": [
    {
     "data": {
      "text/html": [
       "<div>\n",
       "<style>\n",
       "    .dataframe thead tr:only-child th {\n",
       "        text-align: right;\n",
       "    }\n",
       "\n",
       "    .dataframe thead th {\n",
       "        text-align: left;\n",
       "    }\n",
       "\n",
       "    .dataframe tbody tr th {\n",
       "        vertical-align: top;\n",
       "    }\n",
       "</style>\n",
       "<table border=\"1\" class=\"dataframe\">\n",
       "  <thead>\n",
       "    <tr style=\"text-align: right;\">\n",
       "      <th></th>\n",
       "      <th>0</th>\n",
       "      <th>1</th>\n",
       "    </tr>\n",
       "  </thead>\n",
       "  <tbody>\n",
       "    <tr>\n",
       "      <th>0</th>\n",
       "      <td>Go until jurong point, crazy.. Available only ...</td>\n",
       "      <td>0</td>\n",
       "    </tr>\n",
       "    <tr>\n",
       "      <th>1</th>\n",
       "      <td>Ok lar... Joking wif u oni...</td>\n",
       "      <td>0</td>\n",
       "    </tr>\n",
       "    <tr>\n",
       "      <th>2</th>\n",
       "      <td>Free entry in  a wkly comp to win FA Cup final...</td>\n",
       "      <td>1</td>\n",
       "    </tr>\n",
       "    <tr>\n",
       "      <th>3</th>\n",
       "      <td>U dun say so early hor... U c already then say...</td>\n",
       "      <td>0</td>\n",
       "    </tr>\n",
       "    <tr>\n",
       "      <th>4</th>\n",
       "      <td>Nah I don't think he goes to usf, he lives aro...</td>\n",
       "      <td>0</td>\n",
       "    </tr>\n",
       "  </tbody>\n",
       "</table>\n",
       "</div>"
      ],
      "text/plain": [
       "                                                   0  1\n",
       "0  Go until jurong point, crazy.. Available only ...  0\n",
       "1                      Ok lar... Joking wif u oni...  0\n",
       "2  Free entry in  a wkly comp to win FA Cup final...  1\n",
       "3  U dun say so early hor... U c already then say...  0\n",
       "4  Nah I don't think he goes to usf, he lives aro...  0"
      ]
     },
     "execution_count": 135,
     "metadata": {},
     "output_type": "execute_result"
    }
   ],
   "source": [
    "# remove numbers\n",
    "\n",
    "df[0] = df[0].str.replace('\\d+', '')\n",
    "df.head()"
   ]
  },
  {
   "cell_type": "code",
   "execution_count": 136,
   "metadata": {},
   "outputs": [
    {
     "data": {
      "text/html": [
       "<div>\n",
       "<style>\n",
       "    .dataframe thead tr:only-child th {\n",
       "        text-align: right;\n",
       "    }\n",
       "\n",
       "    .dataframe thead th {\n",
       "        text-align: left;\n",
       "    }\n",
       "\n",
       "    .dataframe tbody tr th {\n",
       "        vertical-align: top;\n",
       "    }\n",
       "</style>\n",
       "<table border=\"1\" class=\"dataframe\">\n",
       "  <thead>\n",
       "    <tr style=\"text-align: right;\">\n",
       "      <th></th>\n",
       "      <th>0</th>\n",
       "      <th>1</th>\n",
       "    </tr>\n",
       "  </thead>\n",
       "  <tbody>\n",
       "    <tr>\n",
       "      <th>0</th>\n",
       "      <td>Go until jurong point crazy Available only in ...</td>\n",
       "      <td>0</td>\n",
       "    </tr>\n",
       "    <tr>\n",
       "      <th>1</th>\n",
       "      <td>Ok lar Joking wif u oni</td>\n",
       "      <td>0</td>\n",
       "    </tr>\n",
       "    <tr>\n",
       "      <th>2</th>\n",
       "      <td>Free entry in a wkly comp to win FA Cup final ...</td>\n",
       "      <td>1</td>\n",
       "    </tr>\n",
       "    <tr>\n",
       "      <th>3</th>\n",
       "      <td>U dun say so early hor U c already then say</td>\n",
       "      <td>0</td>\n",
       "    </tr>\n",
       "    <tr>\n",
       "      <th>4</th>\n",
       "      <td>Nah I don t think he goes to usf he lives arou...</td>\n",
       "      <td>0</td>\n",
       "    </tr>\n",
       "  </tbody>\n",
       "</table>\n",
       "</div>"
      ],
      "text/plain": [
       "                                                   0  1\n",
       "0  Go until jurong point crazy Available only in ...  0\n",
       "1                           Ok lar Joking wif u oni   0\n",
       "2  Free entry in a wkly comp to win FA Cup final ...  1\n",
       "3       U dun say so early hor U c already then say   0\n",
       "4  Nah I don t think he goes to usf he lives arou...  0"
      ]
     },
     "execution_count": 136,
     "metadata": {},
     "output_type": "execute_result"
    }
   ],
   "source": [
    "# remove numbers and other non-words\n",
    "\n",
    "df[0] = df[0].str.replace('[^a-zA-Z]+', ' ')\n",
    "df.head()"
   ]
  },
  {
   "cell_type": "code",
   "execution_count": 137,
   "metadata": {},
   "outputs": [
    {
     "data": {
      "text/html": [
       "<div>\n",
       "<style>\n",
       "    .dataframe thead tr:only-child th {\n",
       "        text-align: right;\n",
       "    }\n",
       "\n",
       "    .dataframe thead th {\n",
       "        text-align: left;\n",
       "    }\n",
       "\n",
       "    .dataframe tbody tr th {\n",
       "        vertical-align: top;\n",
       "    }\n",
       "</style>\n",
       "<table border=\"1\" class=\"dataframe\">\n",
       "  <thead>\n",
       "    <tr style=\"text-align: right;\">\n",
       "      <th></th>\n",
       "      <th>0</th>\n",
       "      <th>1</th>\n",
       "    </tr>\n",
       "  </thead>\n",
       "  <tbody>\n",
       "    <tr>\n",
       "      <th>0</th>\n",
       "      <td>until jurong point crazy Available only bugis ...</td>\n",
       "      <td>0</td>\n",
       "    </tr>\n",
       "    <tr>\n",
       "      <th>1</th>\n",
       "      <td>lar Joking wif oni</td>\n",
       "      <td>0</td>\n",
       "    </tr>\n",
       "    <tr>\n",
       "      <th>2</th>\n",
       "      <td>Free entry wkly comp win Cup final tkts May Te...</td>\n",
       "      <td>1</td>\n",
       "    </tr>\n",
       "    <tr>\n",
       "      <th>3</th>\n",
       "      <td>dun say early hor already then say</td>\n",
       "      <td>0</td>\n",
       "    </tr>\n",
       "    <tr>\n",
       "      <th>4</th>\n",
       "      <td>Nah don think goes usf lives around here though</td>\n",
       "      <td>0</td>\n",
       "    </tr>\n",
       "  </tbody>\n",
       "</table>\n",
       "</div>"
      ],
      "text/plain": [
       "                                                   0  1\n",
       "0  until jurong point crazy Available only bugis ...  0\n",
       "1                                 lar Joking wif oni  0\n",
       "2  Free entry wkly comp win Cup final tkts May Te...  1\n",
       "3                 dun say early hor already then say  0\n",
       "4    Nah don think goes usf lives around here though  0"
      ]
     },
     "execution_count": 137,
     "metadata": {},
     "output_type": "execute_result"
    }
   ],
   "source": [
    "# remove short words\n",
    "\n",
    "df[0] = df[0].str.findall('\\w{3,}').str.join(' ')\n",
    "df.head()"
   ]
  },
  {
   "cell_type": "code",
   "execution_count": 138,
   "metadata": {},
   "outputs": [
    {
     "name": "stdout",
     "output_type": "stream",
     "text": [
      "until jurong point crazy Available only bugis great world buffet Cine there got amore wat\n",
      "lar Joking wif oni\n"
     ]
    }
   ],
   "source": [
    "sms_data = df[0].values.tolist()\n",
    "for i in sms_data[:2]:\n",
    "    print i"
   ]
  },
  {
   "cell_type": "code",
   "execution_count": 139,
   "metadata": {},
   "outputs": [
    {
     "name": "stdout",
     "output_type": "stream",
     "text": [
      "0\n",
      "0\n"
     ]
    }
   ],
   "source": [
    "sms_label = df[1].values.tolist()\n",
    "for i in sms_label[:2]:\n",
    "    print i"
   ]
  },
  {
   "cell_type": "code",
   "execution_count": 140,
   "metadata": {},
   "outputs": [
    {
     "name": "stdout",
     "output_type": "stream",
     "text": [
      "5574 5574\n"
     ]
    }
   ],
   "source": [
    "print len(sms_data), len(sms_label)"
   ]
  },
  {
   "cell_type": "markdown",
   "metadata": {},
   "source": [
    "# Step 2: Preprocessing & Step 3: Feature Engineering (Words to Vectors)"
   ]
  },
  {
   "cell_type": "code",
   "execution_count": 141,
   "metadata": {},
   "outputs": [
    {
     "name": "stdout",
     "output_type": "stream",
     "text": [
      "(5574, 7553)\n",
      "  (0, 6957)\t0.243741991074\n",
      "  (0, 3381)\t0.345944902598\n",
      "  (0, 4881)\t0.270585538265\n",
      "  (0, 1427)\t0.267913647715\n",
      "  (0, 449)\t0.258759007117\n",
      "  (0, 4509)\t0.165343652377\n",
      "  (0, 874)\t0.292257808215\n",
      "  (0, 2702)\t0.191106374468\n",
      "  (0, 7399)\t0.234009324038\n",
      "  (0, 872)\t0.330242434104\n",
      "  (0, 1158)\t0.292257808215\n",
      "  (0, 6578)\t0.164799469385\n",
      "  (0, 2664)\t0.162019653862\n",
      "  (0, 218)\t0.345944902598\n",
      "  (0, 7174)\t0.193299057344\n",
      "  (1, 3525)\t0.424314889696\n",
      "  (1, 3351)\t0.544179286831\n",
      "  (1, 7300)\t0.448529675982\n",
      "  (1, 4505)\t0.568020165073\n",
      "  (2, 2433)\t0.149855598588\n",
      "  (2, 2034)\t0.462405475331\n",
      "  (2, 7359)\t0.248055440962\n",
      "  (2, 1268)\t0.253186541892\n",
      "  (2, 7313)\t0.191810303679\n",
      "  (2, 1486)\t0.259176523135\n",
      "  :\t:\n",
      "  (5571, 4122)\t0.422379935503\n",
      "  (5571, 4820)\t0.50789713146\n",
      "  (5571, 6316)\t0.50789713146\n",
      "  (5572, 2433)\t0.170500732882\n",
      "  (5572, 7222)\t0.200576117592\n",
      "  (5572, 232)\t0.120204432402\n",
      "  (5572, 3630)\t0.17085395051\n",
      "  (5572, 5987)\t0.196388199596\n",
      "  (5572, 2384)\t0.130070936666\n",
      "  (5572, 6559)\t0.10941427823\n",
      "  (5572, 4321)\t0.224999129702\n",
      "  (5572, 1687)\t0.197395568831\n",
      "  (5572, 900)\t0.145997006346\n",
      "  (5572, 5996)\t0.219971683933\n",
      "  (5572, 1978)\t0.261389421701\n",
      "  (5572, 2545)\t0.294882457223\n",
      "  (5572, 909)\t0.303069095401\n",
      "  (5572, 2758)\t0.259789358538\n",
      "  (5572, 3210)\t0.303069095401\n",
      "  (5572, 58)\t0.347888501069\n",
      "  (5572, 681)\t0.364430010163\n",
      "  (5573, 4235)\t0.393273667877\n",
      "  (5573, 3270)\t0.586278178328\n",
      "  (5573, 6824)\t0.426922329477\n",
      "  (5573, 5464)\t0.565111532677\n"
     ]
    }
   ],
   "source": [
    "tfidf_vectorizer = TfidfVectorizer(decode_error ='ignore')\n",
    "tfidf = tfidf_vectorizer.fit_transform(sms_data)\n",
    "print tfidf.shape\n",
    "print tfidf"
   ]
  },
  {
   "cell_type": "code",
   "execution_count": 142,
   "metadata": {},
   "outputs": [
    {
     "data": {
      "text/plain": [
       "[u'aah',\n",
       " u'aaniye',\n",
       " u'aaooooright',\n",
       " u'aathi',\n",
       " u'abbey',\n",
       " u'abdomen',\n",
       " u'abeg',\n",
       " u'abel',\n",
       " u'aberdeen',\n",
       " u'abi']"
      ]
     },
     "execution_count": 142,
     "metadata": {},
     "output_type": "execute_result"
    }
   ],
   "source": [
    "tfidf_vectorizer.get_feature_names()[0:10]"
   ]
  },
  {
   "cell_type": "code",
   "execution_count": 143,
   "metadata": {},
   "outputs": [
    {
     "data": {
      "text/plain": [
       "[u'zebra',\n",
       " u'zed',\n",
       " u'zeros',\n",
       " u'zhong',\n",
       " u'zindgi',\n",
       " u'zoe',\n",
       " u'zogtorius',\n",
       " u'zoom',\n",
       " u'zouk',\n",
       " u'zyada']"
      ]
     },
     "execution_count": 143,
     "metadata": {},
     "output_type": "execute_result"
    }
   ],
   "source": [
    "tfidf_vectorizer.get_feature_names()[-10:]"
   ]
  },
  {
   "cell_type": "markdown",
   "metadata": {},
   "source": [
    "## Document Term Matrix (DTM)"
   ]
  },
  {
   "cell_type": "code",
   "execution_count": 144,
   "metadata": {},
   "outputs": [
    {
     "data": {
      "text/plain": [
       "array([[ 0.,  0.,  0., ...,  0.,  0.,  0.],\n",
       "       [ 0.,  0.,  0., ...,  0.,  0.,  0.],\n",
       "       [ 0.,  0.,  0., ...,  0.,  0.,  0.],\n",
       "       ..., \n",
       "       [ 0.,  0.,  0., ...,  0.,  0.,  0.],\n",
       "       [ 0.,  0.,  0., ...,  0.,  0.,  0.],\n",
       "       [ 0.,  0.,  0., ...,  0.,  0.,  0.]])"
      ]
     },
     "execution_count": 144,
     "metadata": {},
     "output_type": "execute_result"
    }
   ],
   "source": [
    "tfidf_matrix = tfidf_vectorizer.fit_transform(sms_data).toarray()\n",
    "tfidf_matrix"
   ]
  },
  {
   "cell_type": "code",
   "execution_count": 145,
   "metadata": {},
   "outputs": [
    {
     "data": {
      "text/html": [
       "<div>\n",
       "<style>\n",
       "    .dataframe thead tr:only-child th {\n",
       "        text-align: right;\n",
       "    }\n",
       "\n",
       "    .dataframe thead th {\n",
       "        text-align: left;\n",
       "    }\n",
       "\n",
       "    .dataframe tbody tr th {\n",
       "        vertical-align: top;\n",
       "    }\n",
       "</style>\n",
       "<table border=\"1\" class=\"dataframe\">\n",
       "  <thead>\n",
       "    <tr style=\"text-align: right;\">\n",
       "      <th></th>\n",
       "      <th>aah</th>\n",
       "      <th>aaniye</th>\n",
       "      <th>aaooooright</th>\n",
       "      <th>aathi</th>\n",
       "      <th>abbey</th>\n",
       "      <th>abdomen</th>\n",
       "      <th>abeg</th>\n",
       "      <th>abel</th>\n",
       "      <th>aberdeen</th>\n",
       "      <th>abi</th>\n",
       "      <th>...</th>\n",
       "      <th>zebra</th>\n",
       "      <th>zed</th>\n",
       "      <th>zeros</th>\n",
       "      <th>zhong</th>\n",
       "      <th>zindgi</th>\n",
       "      <th>zoe</th>\n",
       "      <th>zogtorius</th>\n",
       "      <th>zoom</th>\n",
       "      <th>zouk</th>\n",
       "      <th>zyada</th>\n",
       "    </tr>\n",
       "  </thead>\n",
       "  <tbody>\n",
       "    <tr>\n",
       "      <th>until jurong point crazy Available only bugis great world buffet Cine there got amore wat</th>\n",
       "      <td>0.0</td>\n",
       "      <td>0.0</td>\n",
       "      <td>0.0</td>\n",
       "      <td>0.0</td>\n",
       "      <td>0.0</td>\n",
       "      <td>0.0</td>\n",
       "      <td>0.0</td>\n",
       "      <td>0.0</td>\n",
       "      <td>0.0</td>\n",
       "      <td>0.0</td>\n",
       "      <td>...</td>\n",
       "      <td>0.0</td>\n",
       "      <td>0.0</td>\n",
       "      <td>0.0</td>\n",
       "      <td>0.0</td>\n",
       "      <td>0.0</td>\n",
       "      <td>0.0</td>\n",
       "      <td>0.0</td>\n",
       "      <td>0.0</td>\n",
       "      <td>0.0</td>\n",
       "      <td>0.0</td>\n",
       "    </tr>\n",
       "    <tr>\n",
       "      <th>lar Joking wif oni</th>\n",
       "      <td>0.0</td>\n",
       "      <td>0.0</td>\n",
       "      <td>0.0</td>\n",
       "      <td>0.0</td>\n",
       "      <td>0.0</td>\n",
       "      <td>0.0</td>\n",
       "      <td>0.0</td>\n",
       "      <td>0.0</td>\n",
       "      <td>0.0</td>\n",
       "      <td>0.0</td>\n",
       "      <td>...</td>\n",
       "      <td>0.0</td>\n",
       "      <td>0.0</td>\n",
       "      <td>0.0</td>\n",
       "      <td>0.0</td>\n",
       "      <td>0.0</td>\n",
       "      <td>0.0</td>\n",
       "      <td>0.0</td>\n",
       "      <td>0.0</td>\n",
       "      <td>0.0</td>\n",
       "      <td>0.0</td>\n",
       "    </tr>\n",
       "    <tr>\n",
       "      <th>Free entry wkly comp win Cup final tkts May Text receive entry question std txt rate apply over</th>\n",
       "      <td>0.0</td>\n",
       "      <td>0.0</td>\n",
       "      <td>0.0</td>\n",
       "      <td>0.0</td>\n",
       "      <td>0.0</td>\n",
       "      <td>0.0</td>\n",
       "      <td>0.0</td>\n",
       "      <td>0.0</td>\n",
       "      <td>0.0</td>\n",
       "      <td>0.0</td>\n",
       "      <td>...</td>\n",
       "      <td>0.0</td>\n",
       "      <td>0.0</td>\n",
       "      <td>0.0</td>\n",
       "      <td>0.0</td>\n",
       "      <td>0.0</td>\n",
       "      <td>0.0</td>\n",
       "      <td>0.0</td>\n",
       "      <td>0.0</td>\n",
       "      <td>0.0</td>\n",
       "      <td>0.0</td>\n",
       "    </tr>\n",
       "    <tr>\n",
       "      <th>dun say early hor already then say</th>\n",
       "      <td>0.0</td>\n",
       "      <td>0.0</td>\n",
       "      <td>0.0</td>\n",
       "      <td>0.0</td>\n",
       "      <td>0.0</td>\n",
       "      <td>0.0</td>\n",
       "      <td>0.0</td>\n",
       "      <td>0.0</td>\n",
       "      <td>0.0</td>\n",
       "      <td>0.0</td>\n",
       "      <td>...</td>\n",
       "      <td>0.0</td>\n",
       "      <td>0.0</td>\n",
       "      <td>0.0</td>\n",
       "      <td>0.0</td>\n",
       "      <td>0.0</td>\n",
       "      <td>0.0</td>\n",
       "      <td>0.0</td>\n",
       "      <td>0.0</td>\n",
       "      <td>0.0</td>\n",
       "      <td>0.0</td>\n",
       "    </tr>\n",
       "    <tr>\n",
       "      <th>Nah don think goes usf lives around here though</th>\n",
       "      <td>0.0</td>\n",
       "      <td>0.0</td>\n",
       "      <td>0.0</td>\n",
       "      <td>0.0</td>\n",
       "      <td>0.0</td>\n",
       "      <td>0.0</td>\n",
       "      <td>0.0</td>\n",
       "      <td>0.0</td>\n",
       "      <td>0.0</td>\n",
       "      <td>0.0</td>\n",
       "      <td>...</td>\n",
       "      <td>0.0</td>\n",
       "      <td>0.0</td>\n",
       "      <td>0.0</td>\n",
       "      <td>0.0</td>\n",
       "      <td>0.0</td>\n",
       "      <td>0.0</td>\n",
       "      <td>0.0</td>\n",
       "      <td>0.0</td>\n",
       "      <td>0.0</td>\n",
       "      <td>0.0</td>\n",
       "    </tr>\n",
       "  </tbody>\n",
       "</table>\n",
       "<p>5 rows × 7553 columns</p>\n",
       "</div>"
      ],
      "text/plain": [
       "                                                    aah  aaniye  aaooooright  \\\n",
       "until jurong point crazy Available only bugis g...  0.0     0.0          0.0   \n",
       "lar Joking wif oni                                  0.0     0.0          0.0   \n",
       "Free entry wkly comp win Cup final tkts May Tex...  0.0     0.0          0.0   \n",
       "dun say early hor already then say                  0.0     0.0          0.0   \n",
       "Nah don think goes usf lives around here though     0.0     0.0          0.0   \n",
       "\n",
       "                                                    aathi  abbey  abdomen  \\\n",
       "until jurong point crazy Available only bugis g...    0.0    0.0      0.0   \n",
       "lar Joking wif oni                                    0.0    0.0      0.0   \n",
       "Free entry wkly comp win Cup final tkts May Tex...    0.0    0.0      0.0   \n",
       "dun say early hor already then say                    0.0    0.0      0.0   \n",
       "Nah don think goes usf lives around here though       0.0    0.0      0.0   \n",
       "\n",
       "                                                    abeg  abel  aberdeen  abi  \\\n",
       "until jurong point crazy Available only bugis g...   0.0   0.0       0.0  0.0   \n",
       "lar Joking wif oni                                   0.0   0.0       0.0  0.0   \n",
       "Free entry wkly comp win Cup final tkts May Tex...   0.0   0.0       0.0  0.0   \n",
       "dun say early hor already then say                   0.0   0.0       0.0  0.0   \n",
       "Nah don think goes usf lives around here though      0.0   0.0       0.0  0.0   \n",
       "\n",
       "                                                    ...    zebra  zed  zeros  \\\n",
       "until jurong point crazy Available only bugis g...  ...      0.0  0.0    0.0   \n",
       "lar Joking wif oni                                  ...      0.0  0.0    0.0   \n",
       "Free entry wkly comp win Cup final tkts May Tex...  ...      0.0  0.0    0.0   \n",
       "dun say early hor already then say                  ...      0.0  0.0    0.0   \n",
       "Nah don think goes usf lives around here though     ...      0.0  0.0    0.0   \n",
       "\n",
       "                                                    zhong  zindgi  zoe  \\\n",
       "until jurong point crazy Available only bugis g...    0.0     0.0  0.0   \n",
       "lar Joking wif oni                                    0.0     0.0  0.0   \n",
       "Free entry wkly comp win Cup final tkts May Tex...    0.0     0.0  0.0   \n",
       "dun say early hor already then say                    0.0     0.0  0.0   \n",
       "Nah don think goes usf lives around here though       0.0     0.0  0.0   \n",
       "\n",
       "                                                    zogtorius  zoom  zouk  \\\n",
       "until jurong point crazy Available only bugis g...        0.0   0.0   0.0   \n",
       "lar Joking wif oni                                        0.0   0.0   0.0   \n",
       "Free entry wkly comp win Cup final tkts May Tex...        0.0   0.0   0.0   \n",
       "dun say early hor already then say                        0.0   0.0   0.0   \n",
       "Nah don think goes usf lives around here though           0.0   0.0   0.0   \n",
       "\n",
       "                                                    zyada  \n",
       "until jurong point crazy Available only bugis g...    0.0  \n",
       "lar Joking wif oni                                    0.0  \n",
       "Free entry wkly comp win Cup final tkts May Tex...    0.0  \n",
       "dun say early hor already then say                    0.0  \n",
       "Nah don think goes usf lives around here though       0.0  \n",
       "\n",
       "[5 rows x 7553 columns]"
      ]
     },
     "execution_count": 145,
     "metadata": {},
     "output_type": "execute_result"
    }
   ],
   "source": [
    "# Document Term Matrix\n",
    "pd.DataFrame(tfidf_matrix,index=sms_data,columns=tfidf_vectorizer.get_feature_names()).head()"
   ]
  },
  {
   "cell_type": "markdown",
   "metadata": {},
   "source": [
    "# Step 4 Model Building / Model Validation / Model Evaluation"
   ]
  },
  {
   "cell_type": "markdown",
   "metadata": {},
   "source": [
    "## Naive Bayes"
   ]
  },
  {
   "cell_type": "markdown",
   "metadata": {},
   "source": [
    "Now that we have our features, we can train a classifier to try to predict the category of a post. Let’s start with a naïve Bayes classifier, which provides a nice baseline for this task. scikit-learn includes several variants of this classifier; the one most suitable for word counts is the multinomial variant:"
   ]
  },
  {
   "cell_type": "code",
   "execution_count": 146,
   "metadata": {},
   "outputs": [
    {
     "data": {
      "text/plain": [
       "0.97380696088984575"
      ]
     },
     "execution_count": 146,
     "metadata": {},
     "output_type": "execute_result"
    }
   ],
   "source": [
    "# the below model does not use \"split validation\", meaning this model is NOT validated. \n",
    "# We create this invalidated model to illustrate the concep called \"overfitting\"\n",
    "# overfitting happends that the model fits extremely well into the existing dataset, but would not be suitable for new datasets\n",
    "# Simply, the model is not much generalizable.\n",
    "\n",
    "nb = MultinomialNB().fit(tfidf, sms_labels)\n",
    "\n",
    "predicted = nb.predict(tfidf)\n",
    "np.mean(predicted == sms_labels)  "
   ]
  },
  {
   "cell_type": "code",
   "execution_count": 147,
   "metadata": {},
   "outputs": [
    {
     "name": "stdout",
     "output_type": "stream",
     "text": [
      "\n",
      " overall accuracy:\n",
      "0.97380696089\n",
      "\n",
      " confusion_matrix:\n",
      "[[4826    1]\n",
      " [ 145  602]]\n",
      "\n",
      " Here is the classification report:\n",
      "             precision    recall  f1-score   support\n",
      "\n",
      "          0       0.97      1.00      0.99      4827\n",
      "          1       1.00      0.81      0.89       747\n",
      "\n",
      "avg / total       0.97      0.97      0.97      5574\n",
      "\n"
     ]
    }
   ],
   "source": [
    "print '\\n overall accuracy:'\n",
    "print metrics.accuracy_score(sms_labels, predicted)\n",
    "\n",
    "print '\\n confusion_matrix:'\n",
    "print metrics.confusion_matrix(sms_labels, predicted)\n",
    "\n",
    "print '\\n Here is the classification report:'\n",
    "print metrics.classification_report(sms_labels, predicted)"
   ]
  },
  {
   "cell_type": "code",
   "execution_count": 148,
   "metadata": {},
   "outputs": [
    {
     "data": {
      "image/png": "[encoded data removed]",
      "text/plain": [
       "<matplotlib.figure.Figure at 0x3d31bcf8>"
      ]
     },
     "metadata": {},
     "output_type": "display_data"
    }
   ],
   "source": [
    "#using scikit-plot python package (https://github.com/reiinakano/scikit-plot) ... you need to install \n",
    "# !pip install scikit-plot\n",
    "from scikitplot import plotters as skplt\n",
    "\n",
    "skplt.plot_confusion_matrix(y_true=sms_labels, y_pred=predicted)\n",
    "plt.show()"
   ]
  },
  {
   "cell_type": "code",
   "execution_count": 149,
   "metadata": {},
   "outputs": [
    {
     "data": {
      "image/png": "[encoded data removed]",
      "text/plain": [
       "<matplotlib.figure.Figure at 0x3e7ab048>"
      ]
     },
     "metadata": {},
     "output_type": "display_data"
    }
   ],
   "source": [
    "# true positive rate = 614 / 747 = 82%\n",
    "# false positive rate = 0 / 4827 = 0%\n",
    "\n",
    "probas = nb.predict_proba(tfidf)\n",
    "skplt.plot_roc_curve(y_true=sms_labels, y_probas=probas)\n",
    "plt.show()"
   ]
  },
  {
   "cell_type": "markdown",
   "metadata": {},
   "source": [
    "The above ROC curve shows our Naive Bayesian classification model is almost perfect. \n",
    "<br><br>\n",
    "The diagonal line represents pure guessing."
   ]
  },
  {
   "cell_type": "markdown",
   "metadata": {},
   "source": [
    "## Split validation\n",
    "\n",
    "In Step 4, we built a model using different machine learning (or classification) algorithms. However, it is a **bad idea to evaluate the performance of the model on the same dataset we train the model on**. Thus, we'll use a validation method called ** split validation**.\n",
    "\n",
    "First, we split the dataset to two parts: **training dataset (70% of the original dataset)** and **testing dataset (30% of the original dataset)**. We build a model using training dataset and apply the model to testing dataset and measure the accuracy of the model. You could have a 80-20 split or a 50-50 split.\n",
    "\n",
    "We will build a predictive model using **x_train** and **y_train**, which are called as **training dataset**.\n",
    "\n",
    "Then, we will apply the model to **x_test** and **y_test** (**testing dataset**) and this will tell us the performance or quality of the model"
   ]
  },
  {
   "cell_type": "code",
   "execution_count": 150,
   "metadata": {},
   "outputs": [
    {
     "data": {
      "text/html": [
       "<img src=\"http://www.developer.com/imagesvr_ce/6793/ML4.png\"/>"
      ],
      "text/plain": [
       "<IPython.core.display.Image object>"
      ]
     },
     "execution_count": 150,
     "metadata": {},
     "output_type": "execute_result"
    }
   ],
   "source": [
    "from IPython.display import Image\n",
    "from IPython.core.display import HTML \n",
    "Image(url= \"http://www.developer.com/imagesvr_ce/6793/ML4.png\")"
   ]
  },
  {
   "cell_type": "code",
   "execution_count": 151,
   "metadata": {},
   "outputs": [
    {
     "data": {
      "text/plain": [
       "(3901, 3901, 1673, 1673)"
      ]
     },
     "execution_count": 151,
     "metadata": {},
     "output_type": "execute_result"
    }
   ],
   "source": [
    "x_train, x_test, y_train, y_test = train_test_split(sms_data, sms_labels, test_size=0.3, random_state=0)\n",
    "len(x_train), len(y_train), len(x_test), len(y_test)"
   ]
  },
  {
   "cell_type": "code",
   "execution_count": 152,
   "metadata": {},
   "outputs": [
    {
     "name": "stdout",
     "output_type": "stream",
     "text": [
      "  (0, 1204)\t0.638808364203\n",
      "  (0, 1637)\t0.638808364203\n",
      "  (0, 2503)\t0.293580980942\n",
      "  (0, 266)\t0.264349602294\n",
      "  (0, 6261)\t0.166665062463\n",
      "  (1, 5038)\t0.435019215097\n",
      "  (1, 1485)\t0.436888669869\n",
      "  (1, 2898)\t0.634129501709\n",
      "  (1, 6068)\t0.466654419993\n",
      "+++++++++++++++++++++++++++++++++++++++++\n",
      "  (0, 6261)\t0.145761899082\n",
      "  (0, 6055)\t0.258685604128\n",
      "  (0, 5464)\t0.220213600611\n",
      "  (0, 3606)\t0.316768663611\n",
      "  (0, 2993)\t0.48711992507\n",
      "  (0, 2895)\t0.268133291783\n",
      "  (0, 2408)\t0.309984458102\n",
      "  (0, 1122)\t0.382273272771\n",
      "  (0, 288)\t0.37806891805\n",
      "  (0, 141)\t0.262027100038\n",
      "  (1, 5038)\t0.479865519857\n",
      "  (1, 3299)\t0.623825948143\n",
      "  (1, 2949)\t0.510553040818\n",
      "  (1, 759)\t0.34627425805\n"
     ]
    }
   ],
   "source": [
    "X_train = tfidf_vectorizer.fit_transform(x_train)\n",
    "X_test = tfidf_vectorizer.transform(x_test)\n",
    "print X_train[:2]\n",
    "print \"+++++++++++++++++++++++++++++++++++++++++\"\n",
    "print X_test[:2]"
   ]
  },
  {
   "cell_type": "code",
   "execution_count": 153,
   "metadata": {},
   "outputs": [
    {
     "data": {
      "text/plain": [
       "0.95636580992229525"
      ]
     },
     "execution_count": 153,
     "metadata": {},
     "output_type": "execute_result"
    }
   ],
   "source": [
    "nb = MultinomialNB().fit(X_train, y_train)\n",
    "\n",
    "predicted = nb.predict(X_test)\n",
    "np.mean(predicted == y_test)  "
   ]
  },
  {
   "cell_type": "code",
   "execution_count": 154,
   "metadata": {},
   "outputs": [
    {
     "name": "stdout",
     "output_type": "stream",
     "text": [
      "\n",
      " overall accuracy:\n",
      "0.956365809922\n",
      "\n",
      " confusion_matrix:\n",
      "[[1431    0]\n",
      " [  73  169]]\n",
      "\n",
      " Here is the classification report:\n",
      "             precision    recall  f1-score   support\n",
      "\n",
      "          0       0.95      1.00      0.98      1431\n",
      "          1       1.00      0.70      0.82       242\n",
      "\n",
      "avg / total       0.96      0.96      0.95      1673\n",
      "\n"
     ]
    }
   ],
   "source": [
    "print '\\n overall accuracy:'\n",
    "print metrics.accuracy_score(y_test, predicted)\n",
    "\n",
    "print '\\n confusion_matrix:'\n",
    "print metrics.confusion_matrix(y_test, predicted)\n",
    "\n",
    "print '\\n Here is the classification report:'\n",
    "print metrics.classification_report(y_test, predicted)"
   ]
  },
  {
   "cell_type": "code",
   "execution_count": 155,
   "metadata": {},
   "outputs": [
    {
     "data": {
      "image/png": "[encoded data removed]",
      "text/plain": [
       "<matplotlib.figure.Figure at 0x3e3e7748>"
      ]
     },
     "metadata": {},
     "output_type": "display_data"
    }
   ],
   "source": [
    "#using scikit-plot python package (https://github.com/reiinakano/scikit-plot) ... you need to install \n",
    "# !pip install scikit-plot\n",
    "from scikitplot import plotters as skplt\n",
    "\n",
    "skplt.plot_confusion_matrix(y_true=np.array(y_test), y_pred=predicted)\n",
    "plt.show()"
   ]
  },
  {
   "cell_type": "markdown",
   "metadata": {},
   "source": [
    "# Step 5: Model Deployment"
   ]
  },
  {
   "cell_type": "code",
   "execution_count": 156,
   "metadata": {},
   "outputs": [
    {
     "name": "stdout",
     "output_type": "stream",
     "text": [
      "'Free entry in 2 a wkly comp to win FA Cup final tkts 21st May 2005. Text FA to 87121 to receive entry question' => 1\n",
      "'Even my brother is not like to speak with me. They treat me like aids patent.' => 0\n",
      "\"As per your request 'Melle Melle (Oru Minnaminunginte Nurungu Vettam)' has been set as your callertune for all Callers. Press *9\" => 0\n",
      "'hello, thank you' => 0\n",
      "'To claim txt DIS to 87121' => 1\n"
     ]
    }
   ],
   "source": [
    "docs_new = [\"Free entry in 2 a wkly comp to win FA Cup final tkts 21st May 2005. Text FA to 87121 to receive entry question\",\n",
    "            \"Even my brother is not like to speak with me. They treat me like aids patent.\",\n",
    "             \"As per your request 'Melle Melle (Oru Minnaminunginte Nurungu Vettam)' has been set as your callertune for all Callers. Press *9\",\n",
    "            \"hello, thank you\",\n",
    "           \"To claim txt DIS to 87121\"]\n",
    "\n",
    "unlabeled_tfidf = tfidf_vectorizer.transform(docs_new)\n",
    "\n",
    "predicted = nb.predict(unlabeled_tfidf)\n",
    "\n",
    "for doc, category in zip(docs_new, predicted):\n",
    "    print('%r => %s' % (doc, category))"
   ]
  },
  {
   "cell_type": "code",
   "execution_count": 157,
   "metadata": {},
   "outputs": [
    {
     "name": "stdout",
     "output_type": "stream",
     "text": [
      "'Free entry in 2 a wkly comp to win FA Cup final tkts 21st May 2005. Text FA to 87121 to receive entry question' => [ 0.06805643  0.93194357]\n",
      "'Even my brother is not like to speak with me. They treat me like aids patent.' => [ 0.98133642  0.01866358]\n",
      "\"As per your request 'Melle Melle (Oru Minnaminunginte Nurungu Vettam)' has been set as your callertune for all Callers. Press *9\" => [ 0.87510252  0.12489748]\n",
      "'hello, thank you' => [ 0.98066628  0.01933372]\n",
      "'To claim txt DIS to 87121' => [ 0.32744995  0.67255005]\n"
     ]
    }
   ],
   "source": [
    "#let's find the probability\n",
    "\n",
    "predicted_prob = nb.predict_proba(unlabeled_tfidf)\n",
    "\n",
    "for doc, category in zip(docs_new, predicted_prob):\n",
    "    print('%r => %s' % (doc, category))"
   ]
  },
  {
   "cell_type": "markdown",
   "metadata": {},
   "source": [
    "# Appendixes\n",
    "- We need to understand the following topics as well."
   ]
  },
  {
   "cell_type": "markdown",
   "metadata": {},
   "source": [
    "## Appendix. Building a pipeline\n",
    "\n",
    "As you have seen, building a classification (or predictive) model requires several steps. **Pipeline** is what chains these different steps together, and thus streamline the predictive modeling process. Using pipeline we write less codes.\n",
    "\n",
    "Also, Pipeline can build several predictive models through a loop to find the best one.\n",
    "\n",
    "http://scikit-learn.org/stable/modules/generated/sklearn.pipeline.Pipeline.html#sklearn.pipeline.Pipeline\n",
    "http://scikit-learn.org/stable/modules/pipeline.html"
   ]
  },
  {
   "cell_type": "code",
   "execution_count": 158,
   "metadata": {
    "collapsed": true
   },
   "outputs": [],
   "source": [
    "# combining feature engineering and model building\n",
    "nb_pipeline = Pipeline([('tfidf', TfidfVectorizer(decode_error ='ignore')), ('clf', MultinomialNB())])"
   ]
  },
  {
   "cell_type": "code",
   "execution_count": 159,
   "metadata": {},
   "outputs": [
    {
     "data": {
      "text/plain": [
       "Pipeline(memory=None,\n",
       "     steps=[('tfidf', TfidfVectorizer(analyzer=u'word', binary=False, decode_error='ignore',\n",
       "        dtype=<type 'numpy.int64'>, encoding=u'utf-8', input=u'content',\n",
       "        lowercase=True, max_df=1.0, max_features=None, min_df=1,\n",
       "        ngram_range=(1, 1), norm=u'l2', preprocessor=None, smooth_idf=True...rue,\n",
       "        vocabulary=None)), ('clf', MultinomialNB(alpha=1.0, class_prior=None, fit_prior=True))])"
      ]
     },
     "execution_count": 159,
     "metadata": {},
     "output_type": "execute_result"
    }
   ],
   "source": [
    "nb_pipeline = nb_pipeline.fit(x_train, y_train)\n",
    "nb_pipeline"
   ]
  },
  {
   "cell_type": "code",
   "execution_count": 160,
   "metadata": {},
   "outputs": [
    {
     "data": {
      "text/plain": [
       "0.95636580992229525"
      ]
     },
     "execution_count": 160,
     "metadata": {},
     "output_type": "execute_result"
    }
   ],
   "source": [
    "predicted = nb_pipeline.predict(x_test)\n",
    "np.mean(predicted == y_test)  "
   ]
  },
  {
   "cell_type": "code",
   "execution_count": 161,
   "metadata": {},
   "outputs": [
    {
     "data": {
      "text/plain": [
       "0.95636580992229525"
      ]
     },
     "execution_count": 161,
     "metadata": {},
     "output_type": "execute_result"
    }
   ],
   "source": [
    "# a complete pipeline\n",
    "\n",
    "nb_pipeline = Pipeline([('tfidf', TfidfVectorizer(decode_error ='ignore')), ('clf', MultinomialNB())])\n",
    "nb_pipeline = nb_pipeline.fit(x_train, y_train)\n",
    "predicted = nb_pipeline.predict(x_test)\n",
    "np.mean(predicted == y_test)  "
   ]
  },
  {
   "cell_type": "markdown",
   "metadata": {},
   "source": [
    "## Appendix. Other Classifiers: How to find a better model with different classifiers or classification algorithms?"
   ]
  },
  {
   "cell_type": "markdown",
   "metadata": {},
   "source": [
    "<img src=\"http://scikit-learn.org/stable/_static/ml_map.png\">"
   ]
  },
  {
   "cell_type": "markdown",
   "metadata": {},
   "source": [
    "### kNeighbors Classifier (kNN)\n",
    "- http://scikit-learn.org/stable/modules/generated/sklearn.neighbors.KNeighborsClassifier.html\n",
    "- http://scikit-learn.org/stable/modules/neighbors.html"
   ]
  },
  {
   "cell_type": "code",
   "execution_count": 162,
   "metadata": {
    "scrolled": true
   },
   "outputs": [
    {
     "data": {
      "text/plain": [
       "0.90436341900777051"
      ]
     },
     "execution_count": 162,
     "metadata": {},
     "output_type": "execute_result"
    }
   ],
   "source": [
    "knn_pipeline = Pipeline([('tfidf', TfidfVectorizer(decode_error ='ignore')), ('clf', KNeighborsClassifier())])\n",
    "knn_pipeline = knn_pipeline.fit(x_train, y_train)\n",
    "predicted = knn_pipeline.predict(x_test)\n",
    "np.mean(predicted == y_test)"
   ]
  },
  {
   "cell_type": "markdown",
   "metadata": {},
   "source": [
    "### Support Vector Machine (SVM)\n",
    "- http://scikit-learn.org/stable/modules/svm.html"
   ]
  },
  {
   "cell_type": "code",
   "execution_count": 163,
   "metadata": {},
   "outputs": [
    {
     "data": {
      "text/plain": [
       "0.98027495517035268"
      ]
     },
     "execution_count": 163,
     "metadata": {},
     "output_type": "execute_result"
    }
   ],
   "source": [
    "svm_pipeline = Pipeline([('tfidf', TfidfVectorizer(decode_error ='ignore')), ('clf', SVC(kernel='linear', probability=True))])\n",
    "svm_pipeline = svm_pipeline.fit(x_train, y_train)\n",
    "predicted = svm_pipeline.predict(x_test)\n",
    "np.mean(predicted == y_test)"
   ]
  },
  {
   "cell_type": "markdown",
   "metadata": {},
   "source": [
    "This shows that SVM works best for this dataset. You can use this svm model for model deployment"
   ]
  },
  {
   "cell_type": "code",
   "execution_count": 164,
   "metadata": {},
   "outputs": [
    {
     "name": "stdout",
     "output_type": "stream",
     "text": [
      "0.98027495517\n",
      "this processing has taken 2.33155746772\n"
     ]
    }
   ],
   "source": [
    "# to figure out processing time\n",
    "\n",
    "import timeit\n",
    "start_time = timeit.default_timer()\n",
    "\n",
    "svm_pipeline = Pipeline([('tfidf', TfidfVectorizer(decode_error ='ignore')), ('clf', SVC(kernel='linear', probability=True))])\n",
    "svm_pipeline = svm_pipeline.fit(x_train, y_train)\n",
    "predicted = svm_pipeline.predict(x_test)\n",
    "print np.mean(predicted == y_test)\n",
    "\n",
    "elapsed = timeit.default_timer() - start_time\n",
    "print \"%s %s\" % (\"this processing has taken\", elapsed)"
   ]
  },
  {
   "cell_type": "markdown",
   "metadata": {},
   "source": [
    "In my computer the above processing took about 2.63 seconds. How about yours?"
   ]
  },
  {
   "cell_type": "code",
   "execution_count": 165,
   "metadata": {},
   "outputs": [
    {
     "name": "stdout",
     "output_type": "stream",
     "text": [
      "'Free entry in 2 a wkly comp to win FA Cup final tkts 21st May 2005. Text FA to 87121 to receive entry question' => 1\n",
      "'Even my brother is not like to speak with me. They treat me like aids patent.' => 0\n",
      "\"As per your request 'Melle Melle (Oru Minnaminunginte Nurungu Vettam)' has been set as your callertune for all Callers. Press *9\" => 0\n",
      "'hello, thank you' => 0\n",
      "'To claim txt DIS to 87121' => 1\n"
     ]
    }
   ],
   "source": [
    "docs_new = [\"Free entry in 2 a wkly comp to win FA Cup final tkts 21st May 2005. Text FA to 87121 to receive entry question\",\n",
    "            \"Even my brother is not like to speak with me. They treat me like aids patent.\",\n",
    "             \"As per your request 'Melle Melle (Oru Minnaminunginte Nurungu Vettam)' has been set as your callertune for all Callers. Press *9\",\n",
    "            \"hello, thank you\",\n",
    "           \"To claim txt DIS to 87121\"]\n",
    "\n",
    "#unlabeled_tfidf = tfidf_vectorizer.transform(docs_new)\n",
    "predicted = svm_pipeline.predict(docs_new)\n",
    "\n",
    "for doc, category in zip(docs_new, predicted):\n",
    "    print('%r => %s' % (doc, category))"
   ]
  },
  {
   "cell_type": "code",
   "execution_count": 166,
   "metadata": {},
   "outputs": [
    {
     "name": "stdout",
     "output_type": "stream",
     "text": [
      "Free entry in 2 a wkly comp to win FA Cup final tkts 21st May 2005. Text FA to 87121 to receive entry question => [ 0.0484292  0.9515708]\n",
      "Even my brother is not like to speak with me. They treat me like aids patent. => [ 0.99216601  0.00783399]\n",
      "As per your request 'Melle Melle (Oru Minnaminunginte Nurungu Vettam)' has been set as your callertune for all Callers. Press *9 => [ 0.96969412  0.03030588]\n",
      "hello, thank you => [ 0.99151021  0.00848979]\n",
      "To claim txt DIS to 87121 => [  3.22039147e-09   9.99999997e-01]\n"
     ]
    }
   ],
   "source": [
    "#let's find the probability\n",
    "\n",
    "predicted_prob = svm_pipeline.predict_proba(docs_new)\n",
    "\n",
    "for doc, category in zip(docs_new, predicted_prob):\n",
    "    print('%s => %s' % (doc, (category)))"
   ]
  },
  {
   "cell_type": "markdown",
   "metadata": {},
   "source": [
    "## Appendix. Changing Parameters: How to improve this model? How to find a better model? How to deploy the predictive model in practice?"
   ]
  },
  {
   "cell_type": "markdown",
   "metadata": {},
   "source": [
    "### Improving the Naive Bayes-based predictive model by changing parameter values?\n",
    "\n",
    "See the parameters in Naive Bayes classifier\n",
    "\n",
    "- TfidfVectorizer(input=’content’, encoding=’utf-8’, decode_error=’strict’, strip_accents=None, lowercase=True, preprocessor=None, tokenizer=None, analyzer=’word’, stop_words=None, token_pattern=’(?u)\\b\\w\\w+\\b’, ngram_range=(1, 1), max_df=1.0, min_df=1, max_features=None, vocabulary=None, binary=False, dtype=<class ‘numpy.int64’>, norm=’l2’, use_idf=True, smooth_idf=True, sublinear_tf=False)\n",
    "\n",
    "http://scikit-learn.org/stable/modules/generated/sklearn.feature_extraction.text.TfidfVectorizer.html\n",
    "\n",
    "- max_df : float in range [0.0, 1.0] or int, default=1.0 \n",
    "When building the vocabulary ignore terms that have a **document frequency** strictly higher than the given threshold (corpus-specific stop words). If float, the parameter represents a proportion of documents, integer absolute counts. \n",
    "    - For example, max_df = 0.7 ==> This removes words which appear in more than 70% of the corpus (**removing frequent words**).\n",
    "<br><br>    \n",
    "- min_df : float in range [0.0, 1.0] or int, default=1\n",
    "When building the vocabulary ignore terms that have a document frequency strictly lower than the given threshold. This value is also called cut-off in the literature. If float, the parameter represents a proportion of documents, integer absolute counts. \n",
    "    - For example, min_df = 5 ==> This removes words which appear in less than five documents (**removing rare words**)."
   ]
  },
  {
   "cell_type": "markdown",
   "metadata": {},
   "source": [
    "### Using different parameter values (e.g., removing stopwords, using stemming words, using ngrams, removing too frequent words, removing too rare words), the model accuracy can be improved."
   ]
  },
  {
   "cell_type": "code",
   "execution_count": 167,
   "metadata": {},
   "outputs": [
    {
     "data": {
      "text/plain": [
       "0.96712492528392113"
      ]
     },
     "execution_count": 167,
     "metadata": {},
     "output_type": "execute_result"
    }
   ],
   "source": [
    "# removing stopwords\n",
    "\n",
    "nb_pipeline = Pipeline([('tfidf', TfidfVectorizer(decode_error ='ignore', stop_words='english')), ('clf', MultinomialNB())])\n",
    "nb_pipeline = nb_pipeline.fit(x_train, y_train)\n",
    "predicted = nb_pipeline.predict(x_test)\n",
    "np.mean(predicted == y_test)  "
   ]
  },
  {
   "cell_type": "code",
   "execution_count": 168,
   "metadata": {},
   "outputs": [
    {
     "data": {
      "text/plain": [
       "0.97310221159593546"
      ]
     },
     "execution_count": 168,
     "metadata": {},
     "output_type": "execute_result"
    }
   ],
   "source": [
    "# removing stopwords & rare words\n",
    "\n",
    "nb_pipeline = Pipeline([('tfidf', TfidfVectorizer(decode_error ='ignore', stop_words='english', min_df=2)), ('clf', MultinomialNB())])\n",
    "nb_pipeline = nb_pipeline.fit(x_train, y_train)\n",
    "predicted = nb_pipeline.predict(x_test)\n",
    "np.mean(predicted == y_test)  "
   ]
  },
  {
   "cell_type": "code",
   "execution_count": 169,
   "metadata": {},
   "outputs": [
    {
     "data": {
      "text/plain": [
       "0.90376569037656906"
      ]
     },
     "execution_count": 169,
     "metadata": {},
     "output_type": "execute_result"
    }
   ],
   "source": [
    "# removing stopwords\n",
    "\n",
    "knn_pipeline = Pipeline([('tfidf', TfidfVectorizer(decode_error ='ignore', stop_words='english')), ('clf', KNeighborsClassifier())])\n",
    "knn_pipeline = knn_pipeline.fit(x_train, y_train)\n",
    "predicted = knn_pipeline.predict(x_test)\n",
    "np.mean(predicted == y_test)"
   ]
  },
  {
   "cell_type": "code",
   "execution_count": 170,
   "metadata": {},
   "outputs": [
    {
     "data": {
      "text/plain": [
       "0.97609085475194257"
      ]
     },
     "execution_count": 170,
     "metadata": {},
     "output_type": "execute_result"
    }
   ],
   "source": [
    "# removing stopwords\n",
    "\n",
    "svm_pipeline = Pipeline([('tfidf', TfidfVectorizer(decode_error ='ignore', stop_words='english')), ('clf', SVC(kernel='linear', probability=True))])\n",
    "svm_pipeline = svm_pipeline.fit(x_train, y_train)\n",
    "predicted = svm_pipeline.predict(x_test)\n",
    "np.mean(predicted == y_test)"
   ]
  },
  {
   "cell_type": "code",
   "execution_count": 171,
   "metadata": {},
   "outputs": [
    {
     "data": {
      "text/plain": [
       "0.89061566049013752"
      ]
     },
     "execution_count": 171,
     "metadata": {},
     "output_type": "execute_result"
    }
   ],
   "source": [
    "# removing stopwords & using bigram as well\n",
    "\n",
    "knn_pipeline = Pipeline([('tfidf', TfidfVectorizer(decode_error ='ignore', stop_words='english', ngram_range=(1, 2))), ('clf', KNeighborsClassifier())])\n",
    "knn_pipeline = knn_pipeline.fit(x_train, y_train)\n",
    "predicted = knn_pipeline.predict(x_test)\n",
    "np.mean(predicted == y_test)"
   ]
  },
  {
   "cell_type": "code",
   "execution_count": 172,
   "metadata": {},
   "outputs": [
    {
     "data": {
      "text/plain": [
       "0.9778840406455469"
      ]
     },
     "execution_count": 172,
     "metadata": {},
     "output_type": "execute_result"
    }
   ],
   "source": [
    "svm_pipeline = Pipeline([('tfidf', TfidfVectorizer(decode_error ='ignore', stop_words='english', ngram_range=(1, 2))), ('clf', SVC(kernel='linear', probability=True))])\n",
    "svm_pipeline = svm_pipeline.fit(x_train, y_train)\n",
    "predicted = svm_pipeline.predict(x_test)\n",
    "np.mean(predicted == y_test)"
   ]
  },
  {
   "cell_type": "markdown",
   "metadata": {},
   "source": [
    "It looks like the best model uses **TFIDF (and bigram) with SVM after removing stopwords**"
   ]
  },
  {
   "cell_type": "markdown",
   "metadata": {},
   "source": [
    "### Pipeline with multiple classifiers (or algorithms)\n",
    "- Then, can we test the accuracy of all classifiers at once?"
   ]
  },
  {
   "cell_type": "code",
   "execution_count": 173,
   "metadata": {
    "collapsed": true
   },
   "outputs": [],
   "source": [
    "classifiers = [MultinomialNB(), KNeighborsClassifier(), SVC(kernel='linear', probability=True)]"
   ]
  },
  {
   "cell_type": "code",
   "execution_count": 174,
   "metadata": {},
   "outputs": [
    {
     "name": "stdout",
     "output_type": "stream",
     "text": [
      "MultinomialNB(alpha=1.0, class_prior=None, fit_prior=True) --> 0.947997609085\n",
      " ++++++++++++++++++++++++++++++++++++++++++++++++++++++++ \n",
      "KNeighborsClassifier(algorithm='auto', leaf_size=30, metric='minkowski',\n",
      "           metric_params=None, n_jobs=1, n_neighbors=5, p=2,\n",
      "           weights='uniform') --> 0.89061566049\n",
      " ++++++++++++++++++++++++++++++++++++++++++++++++++++++++ \n",
      "SVC(C=1.0, cache_size=200, class_weight=None, coef0=0.0,\n",
      "  decision_function_shape='ovr', degree=3, gamma='auto', kernel='linear',\n",
      "  max_iter=-1, probability=True, random_state=None, shrinking=True,\n",
      "  tol=0.001, verbose=False) --> 0.977884040646\n",
      " ++++++++++++++++++++++++++++++++++++++++++++++++++++++++ \n"
     ]
    }
   ],
   "source": [
    "for clf in classifiers:\n",
    "    pipeline = Pipeline([('tfidf', TfidfVectorizer(decode_error ='ignore', stop_words='english', ngram_range=(1, 2))), \n",
    "                         ('clf', clf)])\n",
    "    classifiers_pipeline = pipeline.fit(x_train, y_train)\n",
    "    predicted = classifiers_pipeline.predict(x_test)\n",
    "    print \"%s --> %s\" % (clf, np.mean(predicted == y_test))\n",
    "    print \" ++++++++++++++++++++++++++++++++++++++++++++++++++++++++ \""
   ]
  },
  {
   "cell_type": "markdown",
   "metadata": {},
   "source": [
    "## Appendix. k-fold Cross validation (CV) \n",
    "\n",
    "### 10-fold CV\n",
    "* The basic idea is that, rather than testing the model quality **only once**, cross validation (or 10-fold CV) tests the model **10 times** with 10 different testing datasets.\n",
    "\n",
    "#### How?\n",
    "* The training (or original) dataset is randomly partitioned into 10 equal sized subsamples (see the figure below). \n",
    "* At each time, one subsample is set aside as the **testing** or **validation dataset** and the other 9 subsamples are used as the training dataset. \n",
    "* A model is built using the training dataset and tested with the testing dataset. This is done 10 times. \n",
    "* This leads to 10 evaluation scores (mean squared error). The final score is based on the average of the scores.\n",
    "\n",
    "<img src=\"https://chrisjmccormick.files.wordpress.com/2013/07/10_fold_cv.png\">\n"
   ]
  },
  {
   "cell_type": "code",
   "execution_count": 175,
   "metadata": {},
   "outputs": [
    {
     "name": "stdout",
     "output_type": "stream",
     "text": [
      "[ 0.97849462  0.97491039  0.95519713  0.97311828  0.96057348  0.95878136\n",
      "  0.96415771  0.97302158  0.97122302  0.96942446]\n",
      "0.967890203966\n"
     ]
    }
   ],
   "source": [
    "nb_pipeline = Pipeline([('tfidf', TfidfVectorizer(decode_error ='ignore', stop_words='english')), ('clf', MultinomialNB())])\n",
    "nb_pipeline = nb_pipeline.fit(sms_data, sms_labels)\n",
    "\n",
    "scores = cross_val_score(nb_pipeline, sms_data, sms_labels, scoring='accuracy', cv=10)\n",
    "print scores\n",
    "print scores.mean()"
   ]
  },
  {
   "cell_type": "code",
   "execution_count": 176,
   "metadata": {
    "scrolled": true
   },
   "outputs": [
    {
     "name": "stdout",
     "output_type": "stream",
     "text": [
      "[ 0.91577061  0.91935484  0.91935484  0.90681004  0.91756272  0.92114695\n",
      "  0.91039427  0.92446043  0.91546763  0.92805755]\n",
      "0.917837987674\n"
     ]
    }
   ],
   "source": [
    "knn_pipeline = Pipeline([('tfidf', TfidfVectorizer(decode_error ='ignore', stop_words='english')), ('clf', KNeighborsClassifier())])\n",
    "knn_pipeline = knn_pipeline.fit(sms_data, sms_labels)\n",
    "\n",
    "scores = cross_val_score(knn_pipeline, sms_data, sms_labels, scoring='accuracy', cv=10)\n",
    "print scores\n",
    "print scores.mean()"
   ]
  },
  {
   "cell_type": "code",
   "execution_count": 177,
   "metadata": {},
   "outputs": [
    {
     "name": "stdout",
     "output_type": "stream",
     "text": [
      "[ 0.98566308  0.97849462  0.98387097  0.9874552   0.98207885  0.97491039\n",
      "  0.98207885  0.98201439  0.98381295  0.98381295]\n",
      "0.98241922591\n",
      "this processing has taken 61.1147039392\n"
     ]
    }
   ],
   "source": [
    "import timeit\n",
    "start_time = timeit.default_timer()\n",
    "\n",
    "svm_pipeline = Pipeline([('tfidf', TfidfVectorizer(decode_error ='ignore', stop_words='english', ngram_range=(1, 2))), ('clf', SVC(kernel='linear', probability=True))])\n",
    "svm_pipeline = svm_pipeline.fit(sms_data, sms_labels)\n",
    "\n",
    "scores = cross_val_score(svm_pipeline, sms_data, sms_labels, scoring='accuracy', cv=10)\n",
    "print scores\n",
    "print scores.mean()\n",
    "\n",
    "elapsed = timeit.default_timer() - start_time\n",
    "print \"%s %s\" % (\"this processing has taken\", elapsed)"
   ]
  },
  {
   "cell_type": "markdown",
   "metadata": {},
   "source": [
    "This process has taken 72 seconds in my machine. "
   ]
  },
  {
   "cell_type": "markdown",
   "metadata": {},
   "source": [
    "## Appendix. Parameter tuning using Grid Search (Requiring high computational power!!!) \n",
    "## Warning: This process is likely to slow down your computer"
   ]
  },
  {
   "cell_type": "markdown",
   "metadata": {},
   "source": [
    "\" We’ve already encountered some parameters such as stopwords and ngram in the TfidfTransformer. Classifiers tend to have many parameters as well; e.g., MultinomialNB includes a smoothing parameter alpha and SGDClassifier has a penalty parameter alpha and configurable loss and penalty terms in the objective function (see the module documentation, or use the Python help function, to get a description of these).\n",
    "\n",
    "Instead of tweaking the parameters of the various components of the chain, it is possible to run an exhaustive search of the best parameters on a grid of possible values. We try out all classifiers on either words or bigrams, with or without idf, and with a penalty parameter of either 0.01 or 0.001 for the linear SVM:\"\n",
    "\n",
    "http://scikit-learn.org/stable/tutorial/text_analytics/working_with_text_data.html"
   ]
  },
  {
   "cell_type": "code",
   "execution_count": 178,
   "metadata": {
    "collapsed": true
   },
   "outputs": [],
   "source": [
    "nb_pipeline = Pipeline([('tfidf', TfidfVectorizer(decode_error ='ignore', stop_words='english')), ('clf', MultinomialNB())])"
   ]
  },
  {
   "cell_type": "code",
   "execution_count": 179,
   "metadata": {
    "collapsed": true
   },
   "outputs": [],
   "source": [
    "parameters = {'tfidf__ngram_range': [(1, 1), (1, 2), (1, 3)],\n",
    "              'tfidf__min_df': [1, 2, 5],\n",
    "              'tfidf__max_df': [0.9, 0.8, 0.7],\n",
    "              'clf__alpha': (0.01, 0.001, 1),\n",
    "}"
   ]
  },
  {
   "cell_type": "markdown",
   "metadata": {},
   "source": [
    "**TfidfVectorizer** \n",
    "\n",
    "- ngram_range : tuple (min_n, max_n)\n",
    "    - The lower and upper boundary of the range of n-values for different n-grams to be extracted. All values of n such that min_n <= n <= max_n will be used.\n",
    "\n",
    "- min_df : float in range [0.0, 1.0] or int, default=1\n",
    "    - When building the vocabulary ignore terms that have a document frequency strictly lower than the given threshold. This value is also called cut-off in the literature. If float, the parameter represents a proportion of documents, integer absolute counts.\n",
    "\n",
    "http://scikit-learn.org/stable/modules/generated/sklearn.feature_extraction.text.TfidfVectorizer.html\n",
    "\n",
    "**MultinomialNB()** MultinomialNB(alpha=1.0, fit_prior=True, class_prior=None)\n",
    "\n",
    "- alpha : float, optional (default=1.0)\n",
    "    - Additive (Laplace/Lidstone) smoothing parameter (0 for no smoothing).\n",
    "\n",
    "http://scikit-learn.org/stable/modules/generated/sklearn.naive_bayes.MultinomialNB.html"
   ]
  },
  {
   "cell_type": "code",
   "execution_count": 180,
   "metadata": {},
   "outputs": [
    {
     "data": {
      "text/plain": [
       "GridSearchCV(cv=None, error_score='raise',\n",
       "       estimator=Pipeline(memory=None,\n",
       "     steps=[('tfidf', TfidfVectorizer(analyzer=u'word', binary=False, decode_error='ignore',\n",
       "        dtype=<type 'numpy.int64'>, encoding=u'utf-8', input=u'content',\n",
       "        lowercase=True, max_df=1.0, max_features=None, min_df=1,\n",
       "        ngram_range=(1, 1), norm=u'l2', preprocessor=None, smooth_idf=True...rue,\n",
       "        vocabulary=None)), ('clf', MultinomialNB(alpha=1.0, class_prior=None, fit_prior=True))]),\n",
       "       fit_params={}, iid=True, n_jobs=1,\n",
       "       param_grid={'tfidf__max_df': [0.9, 0.8, 0.7], 'clf__alpha': (0.01, 0.001, 1), 'tfidf__ngram_range': [(1, 1), (1, 2), (1, 3)], 'tfidf__min_df': [1, 2, 5]},\n",
       "       pre_dispatch='2*n_jobs', refit=True, scoring=None, verbose=0)"
      ]
     },
     "execution_count": 180,
     "metadata": {},
     "output_type": "execute_result"
    }
   ],
   "source": [
    "gs_clf = GridSearchCV(nb_pipeline, parameters)\n",
    "gs_clf.fit(x_train, y_train)"
   ]
  },
  {
   "cell_type": "code",
   "execution_count": 181,
   "metadata": {},
   "outputs": [
    {
     "data": {
      "text/plain": [
       "0.9797487823634965"
      ]
     },
     "execution_count": 181,
     "metadata": {},
     "output_type": "execute_result"
    }
   ],
   "source": [
    "gs_clf.best_score_"
   ]
  },
  {
   "cell_type": "code",
   "execution_count": 182,
   "metadata": {},
   "outputs": [
    {
     "name": "stdout",
     "output_type": "stream",
     "text": [
      "clf__alpha: 0.01\n",
      "tfidf__max_df: 0.9\n",
      "tfidf__min_df: 1\n",
      "tfidf__ngram_range: (1, 3)\n"
     ]
    }
   ],
   "source": [
    "for param_name in sorted(parameters.keys()):\n",
    "    print(\"%s: %r\" % (param_name, gs_clf.best_params_[param_name]))"
   ]
  },
  {
   "cell_type": "markdown",
   "metadata": {},
   "source": [
    "Now, we can use the best model recommended by gridsearch."
   ]
  },
  {
   "cell_type": "code",
   "execution_count": 183,
   "metadata": {},
   "outputs": [
    {
     "data": {
      "text/plain": [
       "0.9778840406455469"
      ]
     },
     "execution_count": 183,
     "metadata": {},
     "output_type": "execute_result"
    }
   ],
   "source": [
    "# split validation\n",
    "\n",
    "nb_pipeline = Pipeline([('tfidf', TfidfVectorizer(decode_error='ignore', stop_words='english', min_df=1, \n",
    "                                                  ngram_range=(1,2), max_df=0.9)), \n",
    "                        ('clf', MultinomialNB(alpha=0.01))])\n",
    "nb_pipeline = nb_pipeline.fit(x_train, y_train)\n",
    "predicted = nb_pipeline.predict(x_test)\n",
    "np.mean(predicted == y_test) "
   ]
  },
  {
   "cell_type": "code",
   "execution_count": 184,
   "metadata": {},
   "outputs": [
    {
     "name": "stdout",
     "output_type": "stream",
     "text": [
      "[ 0.9874552   0.98028674  0.98207885  0.9874552   0.98028674  0.98028674\n",
      "  0.98566308  0.98561151  0.97661871  0.98021583]\n",
      "0.982595858797\n"
     ]
    }
   ],
   "source": [
    "# 10 fold cross validation\n",
    "\n",
    "nb_pipeline = Pipeline([('tfidf', TfidfVectorizer(decode_error='ignore', stop_words='english', min_df=1, \n",
    "                                                  ngram_range=(1,2), max_df=0.9)), \n",
    "                        ('clf', MultinomialNB(alpha=0.01))])\n",
    "nb_pipeline = nb_pipeline.fit(sms_data, sms_labels)\n",
    "\n",
    "scores = cross_val_score(nb_pipeline, sms_data, sms_labels, scoring='accuracy', cv=10)\n",
    "print scores\n",
    "print scores.mean()"
   ]
  },
  {
   "cell_type": "markdown",
   "metadata": {},
   "source": [
    "## Appendix get most informative features for scikit-learn classifier (Naive Bayes) for different class?"
   ]
  },
  {
   "cell_type": "code",
   "execution_count": 185,
   "metadata": {
    "collapsed": true
   },
   "outputs": [],
   "source": [
    "# since we know the parameters for the best NB model, let's initialize TfidfVectorizer again\n",
    "\n",
    "tfidf_vectorizer = TfidfVectorizer(decode_error='ignore', stop_words='english', min_df=1, ngram_range=(1,2), max_df=0.9)"
   ]
  },
  {
   "cell_type": "code",
   "execution_count": 186,
   "metadata": {},
   "outputs": [
    {
     "data": {
      "text/plain": [
       "(4459, 4459, 1115, 1115)"
      ]
     },
     "execution_count": 186,
     "metadata": {},
     "output_type": "execute_result"
    }
   ],
   "source": [
    "# split validation again\n",
    "\n",
    "x_train, x_test, y_train, y_test = train_test_split(sms_data, sms_labels, test_size=0.2, random_state=0)\n",
    "len(x_train), len(y_train), len(x_test), len(y_test)"
   ]
  },
  {
   "cell_type": "code",
   "execution_count": 187,
   "metadata": {
    "collapsed": true
   },
   "outputs": [],
   "source": [
    "# transform traing data and testing data to tfidf format \n",
    "\n",
    "X_train = tfidf_vectorizer.fit_transform(x_train)\n",
    "X_test = tfidf_vectorizer.transform(x_test)"
   ]
  },
  {
   "cell_type": "code",
   "execution_count": 188,
   "metadata": {},
   "outputs": [
    {
     "name": "stdout",
     "output_type": "stream",
     "text": [
      "(4459, 27536)\n",
      "(1115, 27536)\n"
     ]
    }
   ],
   "source": [
    "# now we have more vectors due to bi-grams\n",
    "print X_train.shape\n",
    "print X_test.shape"
   ]
  },
  {
   "cell_type": "code",
   "execution_count": 189,
   "metadata": {},
   "outputs": [
    {
     "name": "stdout",
     "output_type": "stream",
     "text": [
      "[u'aah', u'aah bless', u'aah cuddle', u'aah speak', u'aaniye']\n",
      "[u'zoe just', u'zouk', u'zouk nichols', u'zyada', u'zyada kisi']\n"
     ]
    }
   ],
   "source": [
    "print tfidf_vectorizer.get_feature_names()[0:5]\n",
    "print tfidf_vectorizer.get_feature_names()[-5:]"
   ]
  },
  {
   "cell_type": "code",
   "execution_count": 190,
   "metadata": {},
   "outputs": [
    {
     "data": {
      "text/plain": [
       "0.95156950672645735"
      ]
     },
     "execution_count": 190,
     "metadata": {},
     "output_type": "execute_result"
    }
   ],
   "source": [
    "nb = MultinomialNB().fit(X_train, y_train)\n",
    "\n",
    "predicted = nb.predict(X_test)\n",
    "np.mean(predicted == y_test)  "
   ]
  },
  {
   "cell_type": "code",
   "execution_count": 191,
   "metadata": {},
   "outputs": [
    {
     "data": {
      "image/png": "[encoded data removed]",
      "text/plain": [
       "<matplotlib.figure.Figure at 0x27674588>"
      ]
     },
     "metadata": {},
     "output_type": "display_data"
    }
   ],
   "source": [
    "probas = nb.predict_proba(X_test)\n",
    "skplt.plot_roc_curve(y_true=y_test, y_probas=probas)\n",
    "plt.show()"
   ]
  },
  {
   "cell_type": "code",
   "execution_count": 192,
   "metadata": {},
   "outputs": [
    {
     "name": "stdout",
     "output_type": "stream",
     "text": [
      "('0', -10.316694638423741, u'aah')\n",
      "('0', -10.316694638423741, u'aah bless')\n",
      "('0', -10.316694638423741, u'aah cuddle')\n",
      "('0', -10.316694638423741, u'aah speak')\n",
      "('0', -10.316694638423741, u'aaniye')\n",
      "('0', -10.316694638423741, u'aaniye pudunga')\n",
      "('0', -10.316694638423741, u'aaooooright')\n",
      "('0', -10.316694638423741, u'aaooooright work')\n",
      "('0', -10.316694638423741, u'aathi')\n",
      "('0', -10.316694638423741, u'aathi dear')\n",
      "=========================================\n",
      "('1', -7.2841863318469073, u'free')\n",
      "('1', -7.4970954030224313, u'txt')\n",
      "('1', -7.6267246325768472, u'mobile')\n",
      "('1', -7.698155179534302, u'claim')\n",
      "('1', -7.7385296143462705, u'stop')\n",
      "('1', -7.7400629609442513, u'prize')\n",
      "('1', -7.7624584375996708, u'text')\n",
      "('1', -7.9119405667253595, u'reply')\n",
      "('1', -7.9126575888542385, u'won')\n",
      "('1', -7.9163693229043126, u'www')\n"
     ]
    }
   ],
   "source": [
    "#https://stackoverflow.com/questions/26976362/how-to-get-most-informative-features-for-scikit-learn-classifier-for-different-c\n",
    "\n",
    "def most_informative_feature_for_binanry_classification(vectorizer, classifier, n=50):\n",
    "    \n",
    "    class_labels = classifier.classes_\n",
    "    feature_names = vectorizer.get_feature_names()\n",
    "    topn_class1 = sorted(zip(classifier.coef_[0], feature_names))[:n]\n",
    "    topn_class2 = sorted(zip(classifier.coef_[0], feature_names))[-n:]\n",
    "\n",
    "    for coef, feat in topn_class1:\n",
    "        print(class_labels[0], coef, feat)\n",
    "\n",
    "    print \"=========================================\"\n",
    "\n",
    "    for coef, feat in reversed(topn_class2):\n",
    "        print(class_labels[1], coef, feat)\n",
    "\n",
    "\n",
    "most_informative_feature_for_binanry_classification(tfidf_vectorizer, nb, n=10)"
   ]
  },
  {
   "cell_type": "markdown",
   "metadata": {},
   "source": [
    "It appears **spam** mails tend to contain such terms as **free, claim, prize, reply, ... **"
   ]
  },
  {
   "cell_type": "markdown",
   "metadata": {},
   "source": [
    "# References\n",
    "\n",
    "- http://scikit-learn.org/stable/tutorial/text_analytics/working_with_text_data.html\n",
    "- http://scikit-learn.org/stable/modules/generated/sklearn.naive_bayes.MultinomialNB.html (Naive Bayes)\n",
    "- http://scikit-learn.org/stable/modules/generated/sklearn.neighbors.KNeighborsClassifier.html (KNN)\n",
    "- http://scikit-learn.org/stable/modules/generated/sklearn.svm.SVC.html (SVM)\n",
    "- https://stackoverflow.com/questions/26976362/how-to-get-most-informative-features-for-scikit-learn-classifier-for-different-c"
   ]
  }
 ],
 "metadata": {
  "kernelspec": {
   "display_name": "Python 2",
   "language": "python",
   "name": "python2"
  },
  "language_info": {
   "codemirror_mode": {
    "name": "ipython",
    "version": 2
   },
   "file_extension": ".py",
   "mimetype": "text/x-python",
   "name": "python",
   "nbconvert_exporter": "python",
   "pygments_lexer": "ipython2",
   "version": "2.7.13"
  }
 },
 "nbformat": 4,
 "nbformat_minor": 1
}
