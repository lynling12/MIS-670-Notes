{
 "cells": [
  {
   "cell_type": "markdown",
   "metadata": {
    "deletable": true,
    "editable": true
   },
   "source": [
    "<img src = \"images\\Slide2.gif\">\n",
    "<img src = \"images\\Slide0.gif\">\n",
    "<img src = \"images\\Slide1.gif\">\n",
    "<img src = \"images\\Slide3.gif\">\n",
    "<img src = \"images\\Slide4.gif\">\n",
    "<img src = \"images\\Slide5.gif\">\n",
    "<img src = \"images\\Slide10.gif\">\n",
    "<img src = \"images\\Slide11.gif\">"
   ]
  },
  {
   "cell_type": "markdown",
   "metadata": {},
   "source": [
    "You can find more information about Association Rule Mining from https://en.wikipedia.org/wiki/Association_rule_learning"
   ]
  }
 ],
 "metadata": {
  "kernelspec": {
   "display_name": "Python 2",
   "language": "python",
   "name": "python2"
  },
  "language_info": {
   "codemirror_mode": {
    "name": "ipython",
    "version": 2
   },
   "file_extension": ".py",
   "mimetype": "text/x-python",
   "name": "python",
   "nbconvert_exporter": "python",
   "pygments_lexer": "ipython2",
   "version": "2.7.13"
  }
 },
 "nbformat": 4,
 "nbformat_minor": 0
}
