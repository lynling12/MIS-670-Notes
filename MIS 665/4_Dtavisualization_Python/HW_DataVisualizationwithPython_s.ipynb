{
 "cells": [
  {
   "cell_type": "markdown",
   "metadata": {},
   "source": [
    "Your name, K-State Honor Code"
   ]
  },
  {
   "cell_type": "raw",
   "metadata": {
    "deletable": true,
    "editable": true
   },
   "source": [
    "German Credit Dataset (Real-world dataset)\n",
    "https://archive.ics.uci.edu/ml/datasets/Statlog+%28German+Credit+Data%29\n",
    "\n",
    "Description of dataset\n",
    "http://iainpardoe.com/teaching/dsc433/handouts/German.pdf\n",
    "\n",
    "1. OBS# Observation No. Categorical\n",
    "2. CHK_ACCT Checking account status Categorical \n",
    " 0 : < 0 DM\n",
    " 1: 0 < ...< 200 DM\n",
    " 2 : => 200 DM\n",
    " 3: unknown\n",
    "3. DURATION Duration of credit in months Numerical\n",
    "4. HISTORY Credit history Categorical \n",
    " 0: no credits taken\n",
    " 1: all credits at this bank paid back duly\n",
    " 2: existing credits paid back duly till now\n",
    " 3: delay in paying off in the past\n",
    " 4: critical account\n",
    "5. NEW_CAR Purpose of credit Binary car (new) 0: No, 1: Yes\n",
    "6. USED_CAR Purpose of credit Binary car (used) 0: No, 1: Yes\n",
    "7. FURNITURE Purpose of credit Binary furniture/equipment 0: No, 1: Yes\n",
    "8. RADIO/TV Purpose of credit Binary radio/television 0: No, 1: Yes\n",
    "9. EDUCATION Purpose of credit Binary education 0: No, 1: Yes\n",
    "10. RETRAINING Purpose of credit Binary retraining 0: No, 1: Yes\n",
    "11. AMOUNT Credit amount Numerical\n",
    "12. SAV_ACCT Average balance in savings account Categorical \n",
    " 0 : < 100 DM\n",
    " 1 : 100<= ... < 500 DM\n",
    " 2 : 500<= ... < 1000 DM\n",
    " 3 : =>1000 DM\n",
    " 4 : unknown\n",
    "13. EMPLOYMENT Present employment since Categorical \n",
    " 0 : unemployed\n",
    " 1: < 1 year\n",
    " 2 : 1 <= ... < 4 years\n",
    " 3 : 4 <=... < 7 years\n",
    " 4 : >= 7 years\n",
    "14. INSTALL_RATE Installment rate as % of disposable\n",
    "income\n",
    "Numerical\n",
    "15. MALE_DIV Applicant is male and divorced Binary 0: No, 1: Yes\n",
    "16. MALE_SINGLE Applicant is male and single Binary 0: No, 1: Yes\n",
    "17. MALE_MAR Applicant is male and married or widower Binary 0: No, 1: Yes \n",
    "18. CO-APPLICANT Application has a co-applicant Binary 0: No, 1: Yes\n",
    "19. GUARANTOR Applicant has a guarantor Binary 0: No, 1: Yes\n",
    "20. TIME_RES Present resident since - years Categorical \n",
    " 0: <= 1 year\n",
    " 1<…<=2 years\n",
    " 2<…<=3 years\n",
    " 3:>4years\n",
    "21. REAL_ESTATE Applicant owns real estate Binary 0: No, 1: Yes\n",
    "22. PROP_NONE Applicant owns no property (or unknown) Binary 0: No, 1: Yes\n",
    "23. AGE Age in years Numerical\n",
    "24. OTHER_INSTALL Applicant has other installment plan credit Binary 0: No, 1: Yes\n",
    "25. RENT Applicant rents Binary 0: No, 1: Yes\n",
    "26. OWN_RES Applicant owns residence Binary 0: No, 1: Yes\n",
    "27. NUM_CREDITS Number of existing credits at this bank Numerical\n",
    "28. JOB Nature of job Categorical \n",
    " 0 : unemployed/ unskilled - non-resident\n",
    " 1 : unskilled - resident\n",
    " 2 : skilled employee / official\n",
    " 3 : management/ self-employed/highly\n",
    "qualified employee/ officer\n",
    "29. NUM_DEPEND Number of dependents Numerical\n",
    "30. TELEPHONE Applicant has phone in his or her name Binary 0: No, 1: Yes\n",
    "31. FOREIGN Foreign worker Binary 0: No, 1: Yes\n",
    "32 RESPONSE Fulfilled terms of credit agreement Binary 0: No, 1: Yes\n",
    "\n",
    "Column #32 ('RESPONSE') is Y value in regression, meaning that is something you're trying to predict"
   ]
  },
  {
   "cell_type": "markdown",
   "metadata": {
    "deletable": true,
    "editable": true
   },
   "source": [
    "## 1. Before doing data analytics, use some common sense (and/or your business knowledge) and think about which columns or (independent) variables would significant influence the Y value (whether someone fulfills the terms of credit agreement or not). "
   ]
  },
  {
   "cell_type": "code",
   "execution_count": null,
   "metadata": {
    "collapsed": true
   },
   "outputs": [],
   "source": [
    "\n",
    "\n",
    "\n"
   ]
  },
  {
   "cell_type": "code",
   "execution_count": 1,
   "metadata": {
    "collapsed": true,
    "deletable": true,
    "editable": true
   },
   "outputs": [],
   "source": [
    "#import pandas, numpy, matplotlib, seaborn\n",
    "\n"
   ]
  },
  {
   "cell_type": "code",
   "execution_count": 2,
   "metadata": {
    "collapsed": false,
    "deletable": true,
    "editable": true
   },
   "outputs": [],
   "source": [
    "#import the data\n",
    "#display top five rows\n"
   ]
  },
  {
   "cell_type": "code",
   "execution_count": 3,
   "metadata": {
    "collapsed": false,
    "deletable": true,
    "editable": true
   },
   "outputs": [],
   "source": [
    "#find out the general information about the dataset (e.g., data types)\n"
   ]
  },
  {
   "cell_type": "code",
   "execution_count": 4,
   "metadata": {
    "collapsed": false,
    "deletable": true,
    "editable": true
   },
   "outputs": [],
   "source": [
    "#generate the description (e.g., count, mean, standard deviation, min, max)\n"
   ]
  },
  {
   "cell_type": "markdown",
   "metadata": {
    "deletable": true,
    "editable": true
   },
   "source": [
    "## Pivot table"
   ]
  },
  {
   "cell_type": "code",
   "execution_count": null,
   "metadata": {
    "collapsed": true,
    "deletable": true,
    "editable": true
   },
   "outputs": [],
   "source": [
    "# create a pivot, which helps you develop insights about who is likely to pay back and who is likely to default on loans\n",
    "\n",
    "\n"
   ]
  },
  {
   "cell_type": "code",
   "execution_count": null,
   "metadata": {
    "collapsed": true,
    "deletable": true,
    "editable": true
   },
   "outputs": [],
   "source": [
    "# create a pivot, which helps you develop insights about who is likely to pay back and who is likely to default on loans\n",
    "\n",
    "\n"
   ]
  },
  {
   "cell_type": "code",
   "execution_count": null,
   "metadata": {
    "collapsed": true,
    "deletable": true,
    "editable": true
   },
   "outputs": [],
   "source": [
    "# create a pivot, which helps you develop insights about who is likely to pay back and who is likely to default on loans\n",
    "\n",
    "\n"
   ]
  },
  {
   "cell_type": "code",
   "execution_count": null,
   "metadata": {
    "collapsed": true,
    "deletable": true,
    "editable": true
   },
   "outputs": [],
   "source": [
    "# create a pivot, which helps you develop insights about who is likely to pay back and who is likely to default on loans\n",
    "\n",
    "\n"
   ]
  },
  {
   "cell_type": "markdown",
   "metadata": {},
   "source": [
    "##  2.\tWhat are some general findings from basic statistics (describe)?"
   ]
  },
  {
   "cell_type": "code",
   "execution_count": null,
   "metadata": {
    "collapsed": true
   },
   "outputs": [],
   "source": []
  },
  {
   "cell_type": "markdown",
   "metadata": {
    "deletable": true,
    "editable": true
   },
   "source": [
    "## Use \"plt (matplotlib)\" to draw the following charts"
   ]
  },
  {
   "cell_type": "code",
   "execution_count": 5,
   "metadata": {
    "collapsed": false,
    "deletable": true,
    "editable": true
   },
   "outputs": [],
   "source": [
    "#create a histogram per each variable. This should generate 31 histograms.\n",
    "#Figures would not be very visible due to too many figures. That is acceptable.\n",
    "\n"
   ]
  },
  {
   "cell_type": "code",
   "execution_count": 6,
   "metadata": {
    "collapsed": false,
    "deletable": true,
    "editable": true
   },
   "outputs": [],
   "source": [
    "#create a histogram for Y value (or column) \"response\" only\n",
    "\n"
   ]
  },
  {
   "cell_type": "markdown",
   "metadata": {},
   "source": [
    "## 3.\tWhat portion of borrowers have paid back? What portion have defaulted on their loans?"
   ]
  },
  {
   "cell_type": "code",
   "execution_count": null,
   "metadata": {
    "collapsed": true
   },
   "outputs": [],
   "source": []
  },
  {
   "cell_type": "code",
   "execution_count": 8,
   "metadata": {
    "collapsed": false,
    "deletable": true,
    "editable": true
   },
   "outputs": [],
   "source": [
    "##find out any possible relationship between RESPONSE and DURATION ... \n",
    "# draw a box plot or a different plot: DURATION by RESPONSE\n"
   ]
  },
  {
   "cell_type": "code",
   "execution_count": 9,
   "metadata": {
    "collapsed": false,
    "deletable": true,
    "editable": true
   },
   "outputs": [],
   "source": [
    "#find out any possible relationship between RESPONSE and EMPLOYMENT\n",
    "# draw a box plot or a different plot for this\n"
   ]
  },
  {
   "cell_type": "code",
   "execution_count": 10,
   "metadata": {
    "collapsed": false,
    "deletable": true,
    "editable": true
   },
   "outputs": [],
   "source": [
    "#find out any possible relationship between RESPONSE and CHK_ACCT\n",
    "# draw a box plot or a different for this\n"
   ]
  },
  {
   "cell_type": "code",
   "execution_count": 11,
   "metadata": {
    "collapsed": false,
    "deletable": true,
    "editable": true
   },
   "outputs": [],
   "source": [
    "#draw a scatter chart: AMOUNT vs DURATION \n",
    "\n"
   ]
  },
  {
   "cell_type": "code",
   "execution_count": null,
   "metadata": {
    "collapsed": true,
    "deletable": true,
    "editable": true
   },
   "outputs": [],
   "source": [
    "# your own question & chart\n",
    "\n"
   ]
  },
  {
   "cell_type": "code",
   "execution_count": null,
   "metadata": {
    "collapsed": true,
    "deletable": true,
    "editable": true
   },
   "outputs": [],
   "source": [
    "# your own question & chart\n",
    "\n"
   ]
  },
  {
   "cell_type": "code",
   "execution_count": null,
   "metadata": {
    "collapsed": true,
    "deletable": true,
    "editable": true
   },
   "outputs": [],
   "source": [
    "# your own question & chart\n",
    "\n"
   ]
  },
  {
   "cell_type": "code",
   "execution_count": null,
   "metadata": {
    "collapsed": true,
    "deletable": true,
    "editable": true
   },
   "outputs": [],
   "source": [
    "# your own question & chart\n",
    "\n"
   ]
  },
  {
   "cell_type": "markdown",
   "metadata": {},
   "source": [
    "## 4.\tWhat is the relationship between RESPONSE and three other variables (Choose three variables for this analysis based on your answer for Question#1)?"
   ]
  },
  {
   "cell_type": "code",
   "execution_count": null,
   "metadata": {
    "collapsed": true
   },
   "outputs": [],
   "source": []
  },
  {
   "cell_type": "markdown",
   "metadata": {},
   "source": [
    "## 5.\tWhat are some insights from the chart about the relationship between DURATION and RESPONSE?"
   ]
  },
  {
   "cell_type": "code",
   "execution_count": null,
   "metadata": {
    "collapsed": true
   },
   "outputs": [],
   "source": []
  },
  {
   "cell_type": "markdown",
   "metadata": {
    "deletable": true,
    "editable": true
   },
   "source": [
    "## Use \"seaborn\" to draw the following charts"
   ]
  },
  {
   "cell_type": "markdown",
   "metadata": {
    "collapsed": true,
    "deletable": true,
    "editable": true
   },
   "source": [
    "create three different charts using seaborn's lmplot() and/or jointpolot() and briefly discuss some insight from each chart below. While creating new charts, you must stay on the research question (who is like to fulfill the credit agreement?)\n"
   ]
  },
  {
   "cell_type": "code",
   "execution_count": 12,
   "metadata": {
    "collapsed": false,
    "deletable": true,
    "editable": true
   },
   "outputs": [],
   "source": [
    "#1 the relationship of DURATION and AMOUNT\n",
    "\n"
   ]
  },
  {
   "cell_type": "code",
   "execution_count": 13,
   "metadata": {
    "collapsed": false,
    "deletable": true,
    "editable": true
   },
   "outputs": [],
   "source": [
    "#2 the relationship of RESPONSE and CHK_ACCT ... use y_jitter and x_jitter with a proper value for each ... this will provide very interesting charts\n",
    "\n"
   ]
  },
  {
   "cell_type": "code",
   "execution_count": 14,
   "metadata": {
    "collapsed": false,
    "deletable": true,
    "editable": true
   },
   "outputs": [],
   "source": [
    "#3 the relationship of RESPONSE and AMOUNT ... use x_jitter with a proper value  \n",
    "\n"
   ]
  },
  {
   "cell_type": "markdown",
   "metadata": {
    "deletable": true,
    "editable": true
   },
   "source": [
    "create three different charts using seaborn's factorplot() and/or jointpolot() and briefly discuss some insight from each chart below. While creating new charts, you must stay on the research question (who is like to fulfill the credit agreement?)\n"
   ]
  },
  {
   "cell_type": "code",
   "execution_count": 15,
   "metadata": {
    "collapsed": false,
    "deletable": true,
    "editable": true
   },
   "outputs": [],
   "source": [
    "#1\n",
    "\n"
   ]
  },
  {
   "cell_type": "code",
   "execution_count": 16,
   "metadata": {
    "collapsed": false,
    "deletable": true,
    "editable": true
   },
   "outputs": [],
   "source": [
    "#2\n",
    "\n"
   ]
  },
  {
   "cell_type": "code",
   "execution_count": 17,
   "metadata": {
    "collapsed": false,
    "deletable": true,
    "editable": true
   },
   "outputs": [],
   "source": [
    "#3\n",
    "\n"
   ]
  },
  {
   "cell_type": "markdown",
   "metadata": {
    "deletable": true,
    "editable": true
   },
   "source": [
    "create three different charts using seaborn's FacetGrid, PairGrid, and/or pairplot(), and briefly discuss some insight from each chart below. While creating new charts, you must stay on the research question (who is like to fulfill the credit agreement?)\n",
    "\n"
   ]
  },
  {
   "cell_type": "code",
   "execution_count": 18,
   "metadata": {
    "collapsed": false,
    "deletable": true,
    "editable": true
   },
   "outputs": [],
   "source": [
    "#1 \n",
    "\n"
   ]
  },
  {
   "cell_type": "code",
   "execution_count": 19,
   "metadata": {
    "collapsed": false,
    "deletable": true,
    "editable": true
   },
   "outputs": [],
   "source": [
    "#2\n",
    "\n"
   ]
  },
  {
   "cell_type": "code",
   "execution_count": 20,
   "metadata": {
    "collapsed": false,
    "deletable": true,
    "editable": true
   },
   "outputs": [],
   "source": [
    "#3\n",
    "\n"
   ]
  },
  {
   "cell_type": "markdown",
   "metadata": {},
   "source": [
    "## 6.\tWhat variables appear to be highly influential in determining Y value (RESPONSE)?"
   ]
  },
  {
   "cell_type": "code",
   "execution_count": null,
   "metadata": {
    "collapsed": true
   },
   "outputs": [],
   "source": []
  },
  {
   "cell_type": "markdown",
   "metadata": {},
   "source": [
    "## 7.\tBe very specific. What are the characteristics of the people who have paid back? Be very specific. What are the characteristics of the people who have defaulted on loans?"
   ]
  },
  {
   "cell_type": "code",
   "execution_count": null,
   "metadata": {
    "collapsed": true
   },
   "outputs": [],
   "source": []
  },
  {
   "cell_type": "markdown",
   "metadata": {
    "deletable": true,
    "editable": true
   },
   "source": [
    "# Bokeh\n",
    "- Below create three different **Interactive plots** using Bokeh"
   ]
  },
  {
   "cell_type": "code",
   "execution_count": null,
   "metadata": {
    "collapsed": true,
    "deletable": true,
    "editable": true
   },
   "outputs": [],
   "source": [
    "#1\n",
    "\n"
   ]
  },
  {
   "cell_type": "code",
   "execution_count": null,
   "metadata": {
    "collapsed": true,
    "deletable": true,
    "editable": true
   },
   "outputs": [],
   "source": [
    "#2\n",
    "\n"
   ]
  },
  {
   "cell_type": "code",
   "execution_count": null,
   "metadata": {
    "collapsed": true,
    "deletable": true,
    "editable": true
   },
   "outputs": [],
   "source": [
    "#3\n",
    "\n"
   ]
  },
  {
   "cell_type": "markdown",
   "metadata": {},
   "source": [
    "## 8.\tProvide additional insights from interactive plots using Bokeh."
   ]
  },
  {
   "cell_type": "code",
   "execution_count": null,
   "metadata": {
    "collapsed": true
   },
   "outputs": [],
   "source": []
  },
  {
   "cell_type": "markdown",
   "metadata": {
    "deletable": true,
    "editable": true
   },
   "source": [
    "# plotly\n",
    "- Below create three different **Interactive plots** using plotly"
   ]
  },
  {
   "cell_type": "code",
   "execution_count": null,
   "metadata": {
    "collapsed": true,
    "deletable": true,
    "editable": true
   },
   "outputs": [],
   "source": [
    "#1\n",
    "\n"
   ]
  },
  {
   "cell_type": "code",
   "execution_count": null,
   "metadata": {
    "collapsed": true,
    "deletable": true,
    "editable": true
   },
   "outputs": [],
   "source": [
    "#2\n",
    "\n"
   ]
  },
  {
   "cell_type": "code",
   "execution_count": null,
   "metadata": {
    "collapsed": true,
    "deletable": true,
    "editable": true
   },
   "outputs": [],
   "source": [
    "#3\n",
    "\n"
   ]
  },
  {
   "cell_type": "markdown",
   "metadata": {},
   "source": [
    "## 9.\tProvide additional insights from interactive plots using plotly."
   ]
  },
  {
   "cell_type": "code",
   "execution_count": null,
   "metadata": {
    "collapsed": true
   },
   "outputs": [],
   "source": []
  },
  {
   "cell_type": "markdown",
   "metadata": {
    "deletable": true,
    "editable": true
   },
   "source": [
    "## 10. Finally, what is your general recommendation for the German bank?"
   ]
  },
  {
   "cell_type": "code",
   "execution_count": null,
   "metadata": {
    "collapsed": true,
    "deletable": true,
    "editable": true
   },
   "outputs": [],
   "source": [
    "\n",
    "\n",
    "\n",
    "\n",
    "\n",
    "\n"
   ]
  }
 ],
 "metadata": {
  "kernelspec": {
   "display_name": "Python 2",
   "language": "python",
   "name": "python2"
  },
  "language_info": {
   "codemirror_mode": {
    "name": "ipython",
    "version": 2
   },
   "file_extension": ".py",
   "mimetype": "text/x-python",
   "name": "python",
   "nbconvert_exporter": "python",
   "pygments_lexer": "ipython2",
   "version": "2.7.13"
  }
 },
 "nbformat": 4,
 "nbformat_minor": 0
}
