{
 "cells": [
  {
   "cell_type": "markdown",
   "metadata": {},
   "source": [
    "# Multiple Regression Analysis: Baseball Analytics & HR Analytics\n",
    "\n",
    "- The goal of regression model is to **minimize Sum of Squared Error (SSE)**\n",
    "\n",
    "                             minimize SSE\n",
    " \n",
    "- **The model with multiple X variables is likely to reduce SSE. This makes multiple regression more powerful than single variable regression (or univariate regression)**"
   ]
  },
  {
   "cell_type": "code",
   "execution_count": 1,
   "metadata": {
    "collapsed": true
   },
   "outputs": [],
   "source": [
    "import pandas as pd\n",
    "import numpy as np\n",
    "import seaborn as sns\n",
    "import matplotlib.pyplot as plt\n",
    "%matplotlib inline\n",
    "\n",
    "#regression packages\n",
    "import sklearn.linear_model as lm\n",
    "from sklearn.metrics import mean_squared_error\n",
    "from sklearn.metrics import explained_variance_score\n",
    "import statsmodels.formula.api as sm"
   ]
  },
  {
   "cell_type": "code",
   "execution_count": 2,
   "metadata": {},
   "outputs": [
    {
     "data": {
      "text/html": [
       "<div>\n",
       "<style>\n",
       "    .dataframe thead tr:only-child th {\n",
       "        text-align: right;\n",
       "    }\n",
       "\n",
       "    .dataframe thead th {\n",
       "        text-align: left;\n",
       "    }\n",
       "\n",
       "    .dataframe tbody tr th {\n",
       "        vertical-align: top;\n",
       "    }\n",
       "</style>\n",
       "<table border=\"1\" class=\"dataframe\">\n",
       "  <thead>\n",
       "    <tr style=\"text-align: right;\">\n",
       "      <th></th>\n",
       "      <th>yearID</th>\n",
       "      <th>teamID</th>\n",
       "      <th>Rank</th>\n",
       "      <th>R</th>\n",
       "      <th>RA</th>\n",
       "      <th>G</th>\n",
       "      <th>W</th>\n",
       "      <th>H</th>\n",
       "      <th>BB</th>\n",
       "      <th>HBP</th>\n",
       "      <th>AB</th>\n",
       "      <th>SF</th>\n",
       "      <th>HR</th>\n",
       "      <th>2B</th>\n",
       "      <th>3B</th>\n",
       "      <th>salary</th>\n",
       "      <th>BA</th>\n",
       "      <th>OBP</th>\n",
       "      <th>SLG</th>\n",
       "    </tr>\n",
       "  </thead>\n",
       "  <tbody>\n",
       "    <tr>\n",
       "      <th>0</th>\n",
       "      <td>2000</td>\n",
       "      <td>CHA</td>\n",
       "      <td>1</td>\n",
       "      <td>978</td>\n",
       "      <td>839</td>\n",
       "      <td>162</td>\n",
       "      <td>95</td>\n",
       "      <td>1615</td>\n",
       "      <td>591</td>\n",
       "      <td>53</td>\n",
       "      <td>5646</td>\n",
       "      <td>61</td>\n",
       "      <td>216</td>\n",
       "      <td>325</td>\n",
       "      <td>33</td>\n",
       "      <td>31133500</td>\n",
       "      <td>0.286043</td>\n",
       "      <td>0.355692</td>\n",
       "      <td>0.470067</td>\n",
       "    </tr>\n",
       "    <tr>\n",
       "      <th>1</th>\n",
       "      <td>2000</td>\n",
       "      <td>CLE</td>\n",
       "      <td>2</td>\n",
       "      <td>950</td>\n",
       "      <td>816</td>\n",
       "      <td>162</td>\n",
       "      <td>90</td>\n",
       "      <td>1639</td>\n",
       "      <td>685</td>\n",
       "      <td>51</td>\n",
       "      <td>5683</td>\n",
       "      <td>52</td>\n",
       "      <td>221</td>\n",
       "      <td>310</td>\n",
       "      <td>30</td>\n",
       "      <td>75880771</td>\n",
       "      <td>0.288404</td>\n",
       "      <td>0.367022</td>\n",
       "      <td>0.470174</td>\n",
       "    </tr>\n",
       "    <tr>\n",
       "      <th>2</th>\n",
       "      <td>2000</td>\n",
       "      <td>DET</td>\n",
       "      <td>3</td>\n",
       "      <td>823</td>\n",
       "      <td>827</td>\n",
       "      <td>162</td>\n",
       "      <td>79</td>\n",
       "      <td>1553</td>\n",
       "      <td>562</td>\n",
       "      <td>43</td>\n",
       "      <td>5644</td>\n",
       "      <td>49</td>\n",
       "      <td>177</td>\n",
       "      <td>307</td>\n",
       "      <td>41</td>\n",
       "      <td>58265167</td>\n",
       "      <td>0.275159</td>\n",
       "      <td>0.342648</td>\n",
       "      <td>0.438164</td>\n",
       "    </tr>\n",
       "    <tr>\n",
       "      <th>3</th>\n",
       "      <td>2000</td>\n",
       "      <td>KCA</td>\n",
       "      <td>4</td>\n",
       "      <td>879</td>\n",
       "      <td>930</td>\n",
       "      <td>162</td>\n",
       "      <td>77</td>\n",
       "      <td>1644</td>\n",
       "      <td>511</td>\n",
       "      <td>48</td>\n",
       "      <td>5709</td>\n",
       "      <td>70</td>\n",
       "      <td>150</td>\n",
       "      <td>281</td>\n",
       "      <td>27</td>\n",
       "      <td>23433000</td>\n",
       "      <td>0.287966</td>\n",
       "      <td>0.347586</td>\n",
       "      <td>0.425469</td>\n",
       "    </tr>\n",
       "    <tr>\n",
       "      <th>4</th>\n",
       "      <td>2000</td>\n",
       "      <td>MIN</td>\n",
       "      <td>5</td>\n",
       "      <td>748</td>\n",
       "      <td>880</td>\n",
       "      <td>162</td>\n",
       "      <td>69</td>\n",
       "      <td>1516</td>\n",
       "      <td>556</td>\n",
       "      <td>35</td>\n",
       "      <td>5615</td>\n",
       "      <td>51</td>\n",
       "      <td>116</td>\n",
       "      <td>325</td>\n",
       "      <td>49</td>\n",
       "      <td>16519500</td>\n",
       "      <td>0.269991</td>\n",
       "      <td>0.336743</td>\n",
       "      <td>0.407302</td>\n",
       "    </tr>\n",
       "  </tbody>\n",
       "</table>\n",
       "</div>"
      ],
      "text/plain": [
       "   yearID teamID  Rank    R   RA    G   W     H   BB  HBP    AB  SF   HR   2B  \\\n",
       "0    2000    CHA     1  978  839  162  95  1615  591   53  5646  61  216  325   \n",
       "1    2000    CLE     2  950  816  162  90  1639  685   51  5683  52  221  310   \n",
       "2    2000    DET     3  823  827  162  79  1553  562   43  5644  49  177  307   \n",
       "3    2000    KCA     4  879  930  162  77  1644  511   48  5709  70  150  281   \n",
       "4    2000    MIN     5  748  880  162  69  1516  556   35  5615  51  116  325   \n",
       "\n",
       "   3B    salary        BA       OBP       SLG  \n",
       "0  33  31133500  0.286043  0.355692  0.470067  \n",
       "1  30  75880771  0.288404  0.367022  0.470174  \n",
       "2  41  58265167  0.275159  0.342648  0.438164  \n",
       "3  27  23433000  0.287966  0.347586  0.425469  \n",
       "4  49  16519500  0.269991  0.336743  0.407302  "
      ]
     },
     "execution_count": 2,
     "metadata": {},
     "output_type": "execute_result"
    }
   ],
   "source": [
    "teams = pd.read_csv(\"data/baseball.csv\")\n",
    "teams.head()"
   ]
  },
  {
   "cell_type": "raw",
   "metadata": {},
   "source": [
    "Below is an explanation of the teams DataFrame attribtues.\n",
    "\n",
    "yearID: Year\n",
    "teamID: Team\n",
    "Rank: Position in final standings\n",
    "R: Runs scored\n",
    "RA: Opponents runs scored\n",
    "G: Games played\n",
    "W: Wins\n",
    "H: Hits by batters\n",
    "BB: Walks by batters\n",
    "HBP: Batters hit by pitch\n",
    "AB: At bats\n",
    "SF: Sacrifice flies\n",
    "HR: Homeruns by batters\n",
    "2B: Doubles\n",
    "3B: Triples\n",
    "Batting Average (BA) = H/AB    \n",
    "On Base Percentage (OBP) = (H+BB+HBP)/(AB+BB+HBP+SF)\n",
    "Slugging Percentage (SLG) = H+2B+(2*3B)+(3*HR)/AB"
   ]
  },
  {
   "cell_type": "markdown",
   "metadata": {},
   "source": [
    "On Base Percentage (OBP, On Base Average, OBA) is a measure of how often a batter reaches base. \n",
    "\n",
    "The full formula is OBP = (Hits + Walks + Hit by Pitch) / (At Bats + Walks + Hit by Pitch + Sacrifice Flies). Batters are not credited with reaching base on an error or fielder's choice, and they are not charged with an opportunity if they make a sacrifice bunt.\n",
    "\n",
    "All Time Leaders\n",
    "Ted Williams\t.482\t(career)\n",
    "Barry Bonds\t    .609\t(2004 season)\n",
    "\n",
    "http://www.baseball-reference.com/bullpen/On_base_percentage"
   ]
  },
  {
   "cell_type": "code",
   "execution_count": 3,
   "metadata": {
    "collapsed": true
   },
   "outputs": [],
   "source": [
    "# correlation \n"
   ]
  },
  {
   "cell_type": "code",
   "execution_count": 4,
   "metadata": {
    "collapsed": true
   },
   "outputs": [],
   "source": [
    "# correlation heatmap\n"
   ]
  },
  {
   "cell_type": "code",
   "execution_count": 5,
   "metadata": {},
   "outputs": [
    {
     "data": {
      "text/plain": [
       "<seaborn.axisgrid.FacetGrid at 0x103af4290>"
      ]
     },
     "execution_count": 5,
     "metadata": {},
     "output_type": "execute_result"
    },
    {
     "data": {
      "image/png": "[encoded data removed]",
      "text/plain": [
       "<matplotlib.figure.Figure at 0x103af40d0>"
      ]
     },
     "metadata": {},
     "output_type": "display_data"
    }
   ],
   "source": [
    "sns.lmplot('OBP', 'R', teams)"
   ]
  },
  {
   "cell_type": "code",
   "execution_count": 6,
   "metadata": {
    "collapsed": true
   },
   "outputs": [],
   "source": [
    "# lmplot for SLF and R\n",
    "\n"
   ]
  },
  {
   "cell_type": "markdown",
   "metadata": {},
   "source": [
    "# Model Development\n",
    "- We use **scikit**, the python package for statistical analysis and data mining (predictive analytics)"
   ]
  },
  {
   "cell_type": "code",
   "execution_count": 7,
   "metadata": {},
   "outputs": [
    {
     "data": {
      "text/html": [
       "<div>\n",
       "<style>\n",
       "    .dataframe thead tr:only-child th {\n",
       "        text-align: right;\n",
       "    }\n",
       "\n",
       "    .dataframe thead th {\n",
       "        text-align: left;\n",
       "    }\n",
       "\n",
       "    .dataframe tbody tr th {\n",
       "        vertical-align: top;\n",
       "    }\n",
       "</style>\n",
       "<table border=\"1\" class=\"dataframe\">\n",
       "  <thead>\n",
       "    <tr style=\"text-align: right;\">\n",
       "      <th></th>\n",
       "      <th>R</th>\n",
       "      <th>RA</th>\n",
       "      <th>G</th>\n",
       "      <th>W</th>\n",
       "      <th>H</th>\n",
       "      <th>BB</th>\n",
       "      <th>HBP</th>\n",
       "      <th>AB</th>\n",
       "      <th>SF</th>\n",
       "      <th>HR</th>\n",
       "      <th>2B</th>\n",
       "      <th>3B</th>\n",
       "      <th>salary</th>\n",
       "      <th>BA</th>\n",
       "      <th>OBP</th>\n",
       "      <th>SLG</th>\n",
       "    </tr>\n",
       "  </thead>\n",
       "  <tbody>\n",
       "    <tr>\n",
       "      <th>0</th>\n",
       "      <td>978</td>\n",
       "      <td>839</td>\n",
       "      <td>162</td>\n",
       "      <td>95</td>\n",
       "      <td>1615</td>\n",
       "      <td>591</td>\n",
       "      <td>53</td>\n",
       "      <td>5646</td>\n",
       "      <td>61</td>\n",
       "      <td>216</td>\n",
       "      <td>325</td>\n",
       "      <td>33</td>\n",
       "      <td>31133500</td>\n",
       "      <td>0.286043</td>\n",
       "      <td>0.355692</td>\n",
       "      <td>0.470067</td>\n",
       "    </tr>\n",
       "    <tr>\n",
       "      <th>1</th>\n",
       "      <td>950</td>\n",
       "      <td>816</td>\n",
       "      <td>162</td>\n",
       "      <td>90</td>\n",
       "      <td>1639</td>\n",
       "      <td>685</td>\n",
       "      <td>51</td>\n",
       "      <td>5683</td>\n",
       "      <td>52</td>\n",
       "      <td>221</td>\n",
       "      <td>310</td>\n",
       "      <td>30</td>\n",
       "      <td>75880771</td>\n",
       "      <td>0.288404</td>\n",
       "      <td>0.367022</td>\n",
       "      <td>0.470174</td>\n",
       "    </tr>\n",
       "  </tbody>\n",
       "</table>\n",
       "</div>"
      ],
      "text/plain": [
       "     R   RA    G   W     H   BB  HBP    AB  SF   HR   2B  3B    salary  \\\n",
       "0  978  839  162  95  1615  591   53  5646  61  216  325  33  31133500   \n",
       "1  950  816  162  90  1639  685   51  5683  52  221  310  30  75880771   \n",
       "\n",
       "         BA       OBP       SLG  \n",
       "0  0.286043  0.355692  0.470067  \n",
       "1  0.288404  0.367022  0.470174  "
      ]
     },
     "execution_count": 7,
     "metadata": {},
     "output_type": "execute_result"
    }
   ],
   "source": [
    "teams = teams.drop(['yearID', 'teamID', 'Rank'], axis=1)\n",
    "teams.head(2)"
   ]
  },
  {
   "cell_type": "code",
   "execution_count": 8,
   "metadata": {
    "collapsed": true
   },
   "outputs": [],
   "source": [
    "#assigning columns to X and Y variables\n",
    "y = teams['R'] \n",
    "X = teams.drop(['R'], axis =1)\n",
    "# X contains (too) many independent variables or predictors ... we will see how it goes"
   ]
  },
  {
   "cell_type": "code",
   "execution_count": 9,
   "metadata": {},
   "outputs": [
    {
     "data": {
      "text/plain": [
       "0    978\n",
       "1    950\n",
       "Name: R, dtype: int64"
      ]
     },
     "execution_count": 9,
     "metadata": {},
     "output_type": "execute_result"
    }
   ],
   "source": [
    "y.head(2)"
   ]
  },
  {
   "cell_type": "code",
   "execution_count": 10,
   "metadata": {},
   "outputs": [
    {
     "data": {
      "text/html": [
       "<div>\n",
       "<style>\n",
       "    .dataframe thead tr:only-child th {\n",
       "        text-align: right;\n",
       "    }\n",
       "\n",
       "    .dataframe thead th {\n",
       "        text-align: left;\n",
       "    }\n",
       "\n",
       "    .dataframe tbody tr th {\n",
       "        vertical-align: top;\n",
       "    }\n",
       "</style>\n",
       "<table border=\"1\" class=\"dataframe\">\n",
       "  <thead>\n",
       "    <tr style=\"text-align: right;\">\n",
       "      <th></th>\n",
       "      <th>RA</th>\n",
       "      <th>G</th>\n",
       "      <th>W</th>\n",
       "      <th>H</th>\n",
       "      <th>BB</th>\n",
       "      <th>HBP</th>\n",
       "      <th>AB</th>\n",
       "      <th>SF</th>\n",
       "      <th>HR</th>\n",
       "      <th>2B</th>\n",
       "      <th>3B</th>\n",
       "      <th>salary</th>\n",
       "      <th>BA</th>\n",
       "      <th>OBP</th>\n",
       "      <th>SLG</th>\n",
       "    </tr>\n",
       "  </thead>\n",
       "  <tbody>\n",
       "    <tr>\n",
       "      <th>0</th>\n",
       "      <td>839</td>\n",
       "      <td>162</td>\n",
       "      <td>95</td>\n",
       "      <td>1615</td>\n",
       "      <td>591</td>\n",
       "      <td>53</td>\n",
       "      <td>5646</td>\n",
       "      <td>61</td>\n",
       "      <td>216</td>\n",
       "      <td>325</td>\n",
       "      <td>33</td>\n",
       "      <td>31133500</td>\n",
       "      <td>0.286043</td>\n",
       "      <td>0.355692</td>\n",
       "      <td>0.470067</td>\n",
       "    </tr>\n",
       "    <tr>\n",
       "      <th>1</th>\n",
       "      <td>816</td>\n",
       "      <td>162</td>\n",
       "      <td>90</td>\n",
       "      <td>1639</td>\n",
       "      <td>685</td>\n",
       "      <td>51</td>\n",
       "      <td>5683</td>\n",
       "      <td>52</td>\n",
       "      <td>221</td>\n",
       "      <td>310</td>\n",
       "      <td>30</td>\n",
       "      <td>75880771</td>\n",
       "      <td>0.288404</td>\n",
       "      <td>0.367022</td>\n",
       "      <td>0.470174</td>\n",
       "    </tr>\n",
       "  </tbody>\n",
       "</table>\n",
       "</div>"
      ],
      "text/plain": [
       "    RA    G   W     H   BB  HBP    AB  SF   HR   2B  3B    salary        BA  \\\n",
       "0  839  162  95  1615  591   53  5646  61  216  325  33  31133500  0.286043   \n",
       "1  816  162  90  1639  685   51  5683  52  221  310  30  75880771  0.288404   \n",
       "\n",
       "        OBP       SLG  \n",
       "0  0.355692  0.470067  \n",
       "1  0.367022  0.470174  "
      ]
     },
     "execution_count": 10,
     "metadata": {},
     "output_type": "execute_result"
    }
   ],
   "source": [
    "X.head(2)"
   ]
  },
  {
   "cell_type": "code",
   "execution_count": 11,
   "metadata": {
    "collapsed": true
   },
   "outputs": [],
   "source": [
    "model1 = lm.LinearRegression()\n",
    "model1.fit(X, y)   \n",
    "model1_y = model1.predict(X)"
   ]
  },
  {
   "cell_type": "code",
   "execution_count": 12,
   "metadata": {},
   "outputs": [
    {
     "name": "stdout",
     "output_type": "stream",
     "text": [
      "Coefficients:  [  2.14557581e-01   2.83197746e-01   2.13712608e+00   4.35374346e+00\n",
      "   4.96998166e-01   5.69565514e-01  -9.04191260e-01   4.13313528e-01\n",
      "  -3.16197606e+00  -1.11752068e+00  -1.95843536e+00  -2.36373413e-08\n",
      "  -2.66509695e+04  -2.37182482e+03   7.19139370e+03]\n",
      "y-intercept  4429.11048328\n"
     ]
    }
   ],
   "source": [
    "print 'Coefficients: ', model1.coef_\n",
    "print \"y-intercept \", model1.intercept_"
   ]
  },
  {
   "cell_type": "code",
   "execution_count": 13,
   "metadata": {},
   "outputs": [
    {
     "data": {
      "text/html": [
       "<div>\n",
       "<style>\n",
       "    .dataframe thead tr:only-child th {\n",
       "        text-align: right;\n",
       "    }\n",
       "\n",
       "    .dataframe thead th {\n",
       "        text-align: left;\n",
       "    }\n",
       "\n",
       "    .dataframe tbody tr th {\n",
       "        vertical-align: top;\n",
       "    }\n",
       "</style>\n",
       "<table border=\"1\" class=\"dataframe\">\n",
       "  <thead>\n",
       "    <tr style=\"text-align: right;\">\n",
       "      <th></th>\n",
       "      <th>0</th>\n",
       "      <th>1</th>\n",
       "    </tr>\n",
       "  </thead>\n",
       "  <tbody>\n",
       "    <tr>\n",
       "      <th>0</th>\n",
       "      <td>RA</td>\n",
       "      <td>2.145576e-01</td>\n",
       "    </tr>\n",
       "    <tr>\n",
       "      <th>1</th>\n",
       "      <td>G</td>\n",
       "      <td>2.831977e-01</td>\n",
       "    </tr>\n",
       "    <tr>\n",
       "      <th>2</th>\n",
       "      <td>W</td>\n",
       "      <td>2.137126e+00</td>\n",
       "    </tr>\n",
       "    <tr>\n",
       "      <th>3</th>\n",
       "      <td>H</td>\n",
       "      <td>4.353743e+00</td>\n",
       "    </tr>\n",
       "    <tr>\n",
       "      <th>4</th>\n",
       "      <td>BB</td>\n",
       "      <td>4.969982e-01</td>\n",
       "    </tr>\n",
       "    <tr>\n",
       "      <th>5</th>\n",
       "      <td>HBP</td>\n",
       "      <td>5.695655e-01</td>\n",
       "    </tr>\n",
       "    <tr>\n",
       "      <th>6</th>\n",
       "      <td>AB</td>\n",
       "      <td>-9.041913e-01</td>\n",
       "    </tr>\n",
       "    <tr>\n",
       "      <th>7</th>\n",
       "      <td>SF</td>\n",
       "      <td>4.133135e-01</td>\n",
       "    </tr>\n",
       "    <tr>\n",
       "      <th>8</th>\n",
       "      <td>HR</td>\n",
       "      <td>-3.161976e+00</td>\n",
       "    </tr>\n",
       "    <tr>\n",
       "      <th>9</th>\n",
       "      <td>2B</td>\n",
       "      <td>-1.117521e+00</td>\n",
       "    </tr>\n",
       "    <tr>\n",
       "      <th>10</th>\n",
       "      <td>3B</td>\n",
       "      <td>-1.958435e+00</td>\n",
       "    </tr>\n",
       "    <tr>\n",
       "      <th>11</th>\n",
       "      <td>salary</td>\n",
       "      <td>-2.363734e-08</td>\n",
       "    </tr>\n",
       "    <tr>\n",
       "      <th>12</th>\n",
       "      <td>BA</td>\n",
       "      <td>-2.665097e+04</td>\n",
       "    </tr>\n",
       "    <tr>\n",
       "      <th>13</th>\n",
       "      <td>OBP</td>\n",
       "      <td>-2.371825e+03</td>\n",
       "    </tr>\n",
       "    <tr>\n",
       "      <th>14</th>\n",
       "      <td>SLG</td>\n",
       "      <td>7.191394e+03</td>\n",
       "    </tr>\n",
       "  </tbody>\n",
       "</table>\n",
       "</div>"
      ],
      "text/plain": [
       "         0             1\n",
       "0       RA  2.145576e-01\n",
       "1        G  2.831977e-01\n",
       "2        W  2.137126e+00\n",
       "3        H  4.353743e+00\n",
       "4       BB  4.969982e-01\n",
       "5      HBP  5.695655e-01\n",
       "6       AB -9.041913e-01\n",
       "7       SF  4.133135e-01\n",
       "8       HR -3.161976e+00\n",
       "9       2B -1.117521e+00\n",
       "10      3B -1.958435e+00\n",
       "11  salary -2.363734e-08\n",
       "12      BA -2.665097e+04\n",
       "13     OBP -2.371825e+03\n",
       "14     SLG  7.191394e+03"
      ]
     },
     "execution_count": 13,
     "metadata": {},
     "output_type": "execute_result"
    }
   ],
   "source": [
    "pd.DataFrame(zip(X.columns, np.transpose(model1.coef_)))"
   ]
  },
  {
   "cell_type": "code",
   "execution_count": 14,
   "metadata": {},
   "outputs": [
    {
     "data": {
      "text/plain": [
       "[('RA', '0.215'),\n",
       " ('G', '0.283'),\n",
       " ('W', '2.137'),\n",
       " ('H', '4.354'),\n",
       " ('BB', '0.497'),\n",
       " ('HBP', '0.570'),\n",
       " ('AB', '-0.904'),\n",
       " ('SF', '0.413'),\n",
       " ('HR', '-3.162'),\n",
       " ('2B', '-1.118'),\n",
       " ('3B', '-1.958'),\n",
       " ('salary', '-0.000'),\n",
       " ('BA', '-26650.970'),\n",
       " ('OBP', '-2371.825'),\n",
       " ('SLG', '7191.394')]"
      ]
     },
     "execution_count": 14,
     "metadata": {},
     "output_type": "execute_result"
    }
   ],
   "source": [
    "coef = [\"%.3f\" % i for i in model1.coef_]\n",
    "xcolumns = [ i for i in X.columns ]\n",
    "zip(xcolumns, coef)"
   ]
  },
  {
   "cell_type": "code",
   "execution_count": 15,
   "metadata": {},
   "outputs": [
    {
     "name": "stdout",
     "output_type": "stream",
     "text": [
      "mean square error:  387.969874646\n",
      "variance or r-squared:  0.94461690711\n"
     ]
    }
   ],
   "source": [
    "print \"mean square error: \", mean_squared_error(y, model1_y)\n",
    "print \"variance or r-squared: \", explained_variance_score(y, model1_y)"
   ]
  },
  {
   "cell_type": "markdown",
   "metadata": {},
   "source": [
    "This full model seems better than a model (univariate regression model) with one X variable, but would be too complex to be practical in sports management (hiring baseball players)"
   ]
  },
  {
   "cell_type": "code",
   "execution_count": 16,
   "metadata": {
    "collapsed": true
   },
   "outputs": [],
   "source": [
    "# Choose a smaller set of multiple variables as X (e.g., OBP, SLG) and develop a multiple linear regression model (model2).\n",
    "\n",
    "y = teams['R'] \n",
    "X = teams[['OBP', 'SLG']]\n",
    "\n",
    "model2 = lm.LinearRegression()\n",
    "model2.fit(X, y)   \n",
    "model2_y = model2.predict(X)"
   ]
  },
  {
   "cell_type": "code",
   "execution_count": 17,
   "metadata": {},
   "outputs": [
    {
     "data": {
      "text/plain": [
       "[('OBP', '2782.586'), ('SLG', '1736.976')]"
      ]
     },
     "execution_count": 17,
     "metadata": {},
     "output_type": "execute_result"
    }
   ],
   "source": [
    "coef = [\"%.3f\" % i for i in model2.coef_]\n",
    "xcolumns = [ i for i in X.columns ]\n",
    "zip(xcolumns, coef)"
   ]
  },
  {
   "cell_type": "markdown",
   "metadata": {},
   "source": [
    "# Model Evaluation"
   ]
  },
  {
   "cell_type": "code",
   "execution_count": 38,
   "metadata": {},
   "outputs": [
    {
     "name": "stdout",
     "output_type": "stream",
     "text": [
      "mean square error:  568.117528704\n",
      "variance or r-squared:  0.918900646878\n"
     ]
    }
   ],
   "source": [
    "print \"mean square error: \", mean_squared_error(y, model2_y)\n",
    "print \"variance or r-squared: \", explained_variance_score(y, model2_y)"
   ]
  },
  {
   "cell_type": "code",
   "execution_count": 40,
   "metadata": {},
   "outputs": [
    {
     "name": "stdout",
     "output_type": "stream",
     "text": [
      "mean square error:  567.797347862\n",
      "variance or r-squared:  0.918946353018\n"
     ]
    }
   ],
   "source": [
    "# Choose three variables (BA, OBP, SLG) and develop a multiple linear regression model (model3).\n",
    "Y = teams['R']\n",
    "x = teams[['BA', 'SLG', 'OBP']]\n",
    "model3 = lm.LinearRegression()\n",
    "model3.fit(x, Y)   \n",
    "model3_y = model3.predict(x)\n",
    "coef = [\"%.3f\" % i for i in model3.coef_]\n",
    "xcolumns = [ i for i in x.columns ]\n",
    "zip(xcolumns, coef)\n",
    "print \"mean square error: \", mean_squared_error(y, model3_y)\n",
    "print \"variance or r-squared: \", explained_variance_score(y, model3_y)\n"
   ]
  },
  {
   "cell_type": "markdown",
   "metadata": {},
   "source": [
    "# Multiple Regression using Statsmodels"
   ]
  },
  {
   "cell_type": "code",
   "execution_count": 41,
   "metadata": {},
   "outputs": [
    {
     "name": "stdout",
     "output_type": "stream",
     "text": [
      "                            OLS Regression Results                            \n",
      "==============================================================================\n",
      "Dep. Variable:                      R   R-squared:                       0.944\n",
      "Model:                            OLS   Adj. R-squared:                  0.942\n",
      "Method:                 Least Squares   F-statistic:                     524.9\n",
      "Date:                Tue, 03 Oct 2017   Prob (F-statistic):          1.81e-244\n",
      "Time:                        13:29:10   Log-Likelihood:                -1850.7\n",
      "No. Observations:                 420   AIC:                             3729.\n",
      "Df Residuals:                     406   BIC:                             3786.\n",
      "Df Model:                          13                                         \n",
      "Covariance Type:            nonrobust                                         \n",
      "==============================================================================\n",
      "                 coef    std err          t      P>|t|      [0.025      0.975]\n",
      "------------------------------------------------------------------------------\n",
      "Intercept   3904.7724   1479.247      2.640      0.009     996.833    6812.712\n",
      "RA             0.2159      0.027      7.914      0.000       0.162       0.269\n",
      "G              0.9681      3.110      0.311      0.756      -5.145       7.082\n",
      "W              2.1483      0.237      9.067      0.000       1.683       2.614\n",
      "H              3.5200      0.981      3.588      0.000       1.591       5.449\n",
      "BB             0.3235      0.441      0.733      0.464      -0.544       1.191\n",
      "HBP            0.3835      0.446      0.859      0.391      -0.494       1.261\n",
      "AB            -0.8409      0.256     -3.289      0.001      -1.344      -0.338\n",
      "SF             0.5200      0.268      1.940      0.053      -0.007       1.047\n",
      "HR             0.0321      0.117      0.274      0.785      -0.198       0.263\n",
      "salary     -2.929e-08   3.21e-08     -0.913      0.362   -9.24e-08    3.38e-08\n",
      "BA         -1.749e+04   7113.308     -2.459      0.014   -3.15e+04   -3505.601\n",
      "OBP         -796.1011   4101.321     -0.194      0.846   -8858.578    7266.376\n",
      "SLG         1254.6497    209.352      5.993      0.000     843.101    1666.199\n",
      "==============================================================================\n",
      "Omnibus:                        5.951   Durbin-Watson:                   1.826\n",
      "Prob(Omnibus):                  0.051   Jarque-Bera (JB):                7.436\n",
      "Skew:                          -0.126   Prob(JB):                       0.0243\n",
      "Kurtosis:                       3.601   Cond. No.                     6.91e+11\n",
      "==============================================================================\n",
      "\n",
      "Warnings:\n",
      "[1] Standard Errors assume that the covariance matrix of the errors is correctly specified.\n",
      "[2] The condition number is large, 6.91e+11. This might indicate that there are\n",
      "strong multicollinearity or other numerical problems.\n"
     ]
    }
   ],
   "source": [
    "# without two columns: 2B, 3B (Python does not like the variables starting with number)\n",
    "runs_reg_model = sm.ols(\"R~RA+G+W+H+BB+HBP+AB+SF+HR+salary+BA+OBP+SLG\",teams)\n",
    "runs_reg = runs_reg_model.fit()\n",
    "print runs_reg.summary()"
   ]
  },
  {
   "cell_type": "code",
   "execution_count": 42,
   "metadata": {},
   "outputs": [
    {
     "name": "stdout",
     "output_type": "stream",
     "text": [
      "                            OLS Regression Results                            \n",
      "==============================================================================\n",
      "Dep. Variable:                      R   R-squared:                       0.944\n",
      "Model:                            OLS   Adj. R-squared:                  0.942\n",
      "Method:                 Least Squares   F-statistic:                     524.9\n",
      "Date:                Tue, 03 Oct 2017   Prob (F-statistic):          1.81e-244\n",
      "Time:                        13:29:11   Log-Likelihood:                -1850.7\n",
      "No. Observations:                 420   AIC:                             3729.\n",
      "Df Residuals:                     406   BIC:                             3786.\n",
      "Df Model:                          13                                         \n",
      "Covariance Type:            nonrobust                                         \n",
      "==============================================================================\n",
      "                 coef    std err          t      P>|t|      [0.025      0.975]\n",
      "------------------------------------------------------------------------------\n",
      "Intercept   3904.7724   1479.247      2.640      0.009     996.833    6812.712\n",
      "RA             0.2159      0.027      7.914      0.000       0.162       0.269\n",
      "G              0.9681      3.110      0.311      0.756      -5.145       7.082\n",
      "W              2.1483      0.237      9.067      0.000       1.683       2.614\n",
      "H              3.5200      0.981      3.588      0.000       1.591       5.449\n",
      "BB             0.3235      0.441      0.733      0.464      -0.544       1.191\n",
      "HBP            0.3835      0.446      0.859      0.391      -0.494       1.261\n",
      "AB            -0.8409      0.256     -3.289      0.001      -1.344      -0.338\n",
      "SF             0.5200      0.268      1.940      0.053      -0.007       1.047\n",
      "HR             0.0321      0.117      0.274      0.785      -0.198       0.263\n",
      "salary     -2.929e-08   3.21e-08     -0.913      0.362   -9.24e-08    3.38e-08\n",
      "BA         -1.749e+04   7113.308     -2.459      0.014   -3.15e+04   -3505.601\n",
      "OBP         -796.1011   4101.321     -0.194      0.846   -8858.578    7266.376\n",
      "SLG         1254.6497    209.352      5.993      0.000     843.101    1666.199\n",
      "==============================================================================\n",
      "Omnibus:                        5.951   Durbin-Watson:                   1.826\n",
      "Prob(Omnibus):                  0.051   Jarque-Bera (JB):                7.436\n",
      "Skew:                          -0.126   Prob(JB):                       0.0243\n",
      "Kurtosis:                       3.601   Cond. No.                     6.91e+11\n",
      "==============================================================================\n",
      "\n",
      "Warnings:\n",
      "[1] Standard Errors assume that the covariance matrix of the errors is correctly specified.\n",
      "[2] The condition number is large, 6.91e+11. This might indicate that there are\n",
      "strong multicollinearity or other numerical problems.\n",
      "                            OLS Regression Results                            \n",
      "==============================================================================\n",
      "Dep. Variable:                      R   R-squared:                       0.919\n",
      "Model:                            OLS   Adj. R-squared:                  0.918\n",
      "Method:                 Least Squares   F-statistic:                     1573.\n",
      "Date:                Tue, 03 Oct 2017   Prob (F-statistic):          1.42e-226\n",
      "Time:                        13:29:11   Log-Likelihood:                -1927.6\n",
      "No. Observations:                 420   AIC:                             3863.\n",
      "Df Residuals:                     416   BIC:                             3879.\n",
      "Df Model:                           3                                         \n",
      "Covariance Type:            nonrobust                                         \n",
      "==============================================================================\n",
      "                 coef    std err          t      P>|t|      [0.025      0.975]\n",
      "------------------------------------------------------------------------------\n",
      "Intercept   -899.6570     28.863    -31.170      0.000    -956.393    -842.921\n",
      "RA             0.0101      0.014      0.734      0.464      -0.017       0.037\n",
      "OBP         2786.1197    136.151     20.464      0.000    2518.491    3053.749\n",
      "SLG         1727.9741     73.452     23.525      0.000    1583.591    1872.357\n",
      "==============================================================================\n",
      "Omnibus:                        5.373   Durbin-Watson:                   1.656\n",
      "Prob(Omnibus):                  0.068   Jarque-Bera (JB):                5.735\n",
      "Skew:                           0.178   Prob(JB):                       0.0568\n",
      "Kurtosis:                       3.448   Cond. No.                     9.70e+04\n",
      "==============================================================================\n",
      "\n",
      "Warnings:\n",
      "[1] Standard Errors assume that the covariance matrix of the errors is correctly specified.\n",
      "[2] The condition number is large, 9.7e+04. This might indicate that there are\n",
      "strong multicollinearity or other numerical problems.\n"
     ]
    }
   ],
   "source": [
    "# Choose a smaller set of multiple variables as X (e.g., OBP, SLG, BA) and develop a multiple linear regression model with statsmodel.\n",
    "runs_reg_model = sm.ols(\"R~RA+OBP+SLG\",teams)\n",
    "runs_reg_1 = runs_reg_model.fit()\n",
    "print runs_reg.summary()\n",
    "print runs_reg_1.summary()\n",
    "\n",
    "\n"
   ]
  },
  {
   "cell_type": "markdown",
   "metadata": {},
   "source": [
    "# Appendix : With fewer independent variables"
   ]
  },
  {
   "cell_type": "markdown",
   "metadata": {},
   "source": [
    "### Recruting strategy based on Bill Beane's Formula: Bill's \"Hiring\" Strategy\n",
    "\n",
    "Based on the analysis above, a good strategy for recruiting batters would focus on targeting **undervalued players with high OBP and SLG**. In the late 1990s, **the old school scouts overvalued BA, and players with high BA had high salaries**. Although BA and OBP have a positive correlation, **there were some players that have high OBP and SLG, and relatively small BA**. These players were undervalued by the market, and were the target of Billy Beane."
   ]
  },
  {
   "cell_type": "code",
   "execution_count": 43,
   "metadata": {
    "collapsed": true
   },
   "outputs": [],
   "source": [
    "#First Model\n",
    "runs_reg_model1 = sm.ols(\"R~OBP+SLG+BA\",teams)\n",
    "runs_reg1 = runs_reg_model1.fit()\n",
    "#Second Model\n",
    "runs_reg_model2 = sm.ols(\"R~OBP+SLG\",teams)\n",
    "runs_reg2 = runs_reg_model2.fit()\n",
    "#Third Model\n",
    "runs_reg_model3 = sm.ols(\"R~BA\",teams)\n",
    "runs_reg3 = runs_reg_model3.fit()"
   ]
  },
  {
   "cell_type": "markdown",
   "metadata": {},
   "source": [
    "- The first one will have as features OBP, SLG and BA. \n",
    "- The second model will have as features OBP and SLG. \n",
    "- The last one will have as feature BA only."
   ]
  },
  {
   "cell_type": "code",
   "execution_count": 44,
   "metadata": {},
   "outputs": [
    {
     "name": "stdout",
     "output_type": "stream",
     "text": [
      "                            OLS Regression Results                            \n",
      "==============================================================================\n",
      "Dep. Variable:                      R   R-squared:                       0.919\n",
      "Model:                            OLS   Adj. R-squared:                  0.918\n",
      "Method:                 Least Squares   F-statistic:                     1572.\n",
      "Date:                Tue, 03 Oct 2017   Prob (F-statistic):          1.65e-226\n",
      "Time:                        13:29:13   Log-Likelihood:                -1927.7\n",
      "No. Observations:                 420   AIC:                             3863.\n",
      "Df Residuals:                     416   BIC:                             3880.\n",
      "Df Model:                           3                                         \n",
      "Covariance Type:            nonrobust                                         \n",
      "==============================================================================\n",
      "                 coef    std err          t      P>|t|      [0.025      0.975]\n",
      "------------------------------------------------------------------------------\n",
      "Intercept   -898.1717     28.975    -30.998      0.000    -955.127    -841.217\n",
      "OBP         2733.2207    170.046     16.073      0.000    2398.964    3067.478\n",
      "SLG         1726.2120     75.778     22.780      0.000    1577.256    1875.168\n",
      "BA            92.5515    191.089      0.484      0.628    -283.069     468.172\n",
      "==============================================================================\n",
      "Omnibus:                        5.256   Durbin-Watson:                   1.659\n",
      "Prob(Omnibus):                  0.072   Jarque-Bera (JB):                5.636\n",
      "Skew:                           0.172   Prob(JB):                       0.0597\n",
      "Kurtosis:                       3.451   Cond. No.                         228.\n",
      "==============================================================================\n",
      "\n",
      "Warnings:\n",
      "[1] Standard Errors assume that the covariance matrix of the errors is correctly specified.\n",
      "                            OLS Regression Results                            \n",
      "==============================================================================\n",
      "Dep. Variable:                      R   R-squared:                       0.919\n",
      "Model:                            OLS   Adj. R-squared:                  0.919\n",
      "Method:                 Least Squares   F-statistic:                     2362.\n",
      "Date:                Tue, 03 Oct 2017   Prob (F-statistic):          3.39e-228\n",
      "Time:                        13:29:13   Log-Likelihood:                -1927.8\n",
      "No. Observations:                 420   AIC:                             3862.\n",
      "Df Residuals:                     417   BIC:                             3874.\n",
      "Df Model:                           2                                         \n",
      "Covariance Type:            nonrobust                                         \n",
      "==============================================================================\n",
      "                 coef    std err          t      P>|t|      [0.025      0.975]\n",
      "------------------------------------------------------------------------------\n",
      "Intercept   -894.6863     28.041    -31.906      0.000    -949.806    -839.567\n",
      "OBP         2782.5861    135.990     20.462      0.000    2515.275    3049.897\n",
      "SLG         1736.9757     72.380     23.998      0.000    1594.701    1879.250\n",
      "==============================================================================\n",
      "Omnibus:                        5.496   Durbin-Watson:                   1.650\n",
      "Prob(Omnibus):                  0.064   Jarque-Bera (JB):                5.917\n",
      "Skew:                           0.179   Prob(JB):                       0.0519\n",
      "Kurtosis:                       3.459   Cond. No.                         145.\n",
      "==============================================================================\n",
      "\n",
      "Warnings:\n",
      "[1] Standard Errors assume that the covariance matrix of the errors is correctly specified.\n",
      "                            OLS Regression Results                            \n",
      "==============================================================================\n",
      "Dep. Variable:                      R   R-squared:                       0.658\n",
      "Model:                            OLS   Adj. R-squared:                  0.657\n",
      "Method:                 Least Squares   F-statistic:                     804.9\n",
      "Date:                Tue, 03 Oct 2017   Prob (F-statistic):           1.74e-99\n",
      "Time:                        13:29:13   Log-Likelihood:                -2229.9\n",
      "No. Observations:                 420   AIC:                             4464.\n",
      "Df Residuals:                     418   BIC:                             4472.\n",
      "Df Model:                           1                                         \n",
      "Covariance Type:            nonrobust                                         \n",
      "==============================================================================\n",
      "                 coef    std err          t      P>|t|      [0.025      0.975]\n",
      "------------------------------------------------------------------------------\n",
      "Intercept   -762.6743     53.334    -14.300      0.000    -867.511    -657.837\n",
      "BA          5761.5942    203.077     28.371      0.000    5362.414    6160.774\n",
      "==============================================================================\n",
      "Omnibus:                        0.685   Durbin-Watson:                   1.824\n",
      "Prob(Omnibus):                  0.710   Jarque-Bera (JB):                0.691\n",
      "Skew:                           0.097   Prob(JB):                        0.708\n",
      "Kurtosis:                       2.962   Cond. No.                         90.7\n",
      "==============================================================================\n",
      "\n",
      "Warnings:\n",
      "[1] Standard Errors assume that the covariance matrix of the errors is correctly specified.\n"
     ]
    }
   ],
   "source": [
    "print runs_reg1.summary()\n",
    "print runs_reg2.summary()\n",
    "print runs_reg3.summary()"
   ]
  },
  {
   "cell_type": "markdown",
   "metadata": {},
   "source": [
    "- The first model has an Adjusted R-squared of 0.918, with 95% confidence interval of BA between -283 and 468. This is counterintuitive, since we expect the BA value to be positive. This is due to a **multicollinearity** between the variables.\n",
    "\n",
    "- The second model has an Adjusted R-squared of 0.919, and the last model an Adjusted R-squared of 0.500.\n",
    "\n",
    "- Based on this analysis, we could confirm that the second model using **OBP** and **SLG** is the best model for predicting Run Scored."
   ]
  },
  {
   "cell_type": "markdown",
   "metadata": {},
   "source": [
    "# Multicollinearity\n",
    "- The **X variables (or predictors) are highly correlated**. This causes the coefficient estimates (e.g., BA, OBP) to be **unstable** \n",
    "- Thus, the regression model should be **as simple as possible** (having a fewer number of variables) ... **simplicity** is important, but **not too simple either**\n",
    "- You may consider advanced regression techniques such as **lasso** to deal with multicollinearity. lasso removes highly correlated variables from the model. This is called **\"feature selection** in regression. This type of regression helps develop **simple or parsimonious models**."
   ]
  },
  {
   "cell_type": "code",
   "execution_count": 45,
   "metadata": {},
   "outputs": [
    {
     "name": "stdout",
     "output_type": "stream",
     "text": [
      "228.19034548\n",
      "145.385892644\n",
      "90.6918193641\n",
      "691095102049.0\n"
     ]
    }
   ],
   "source": [
    "# high values indicate multicollinearity\n",
    "print np.linalg.cond(runs_reg1.model.exog)\n",
    "print np.linalg.cond(runs_reg2.model.exog)\n",
    "print np.linalg.cond(runs_reg3.model.exog)\n",
    "print np.linalg.cond(runs_reg.model.exog)"
   ]
  },
  {
   "cell_type": "markdown",
   "metadata": {},
   "source": [
    "# Modely Deployment : Predictive Analytics (Predicting Y value)\n",
    "- **Scoring dataset** (e.g., baseball_scoringdataset.csv) refers to a dataset without y value. This type of dataset usually refers to the data from **\"the future\"**\n",
    "- On the other hand 'baseball.csv' is called **training dataset** because the model is built on that dataset.\n",
    "- This could be tomorrow's stock price, the next quarter's employment rate or oil price, the next season's team performance, etc. \n",
    "- Your model is used to predict y value for this dataset"
   ]
  },
  {
   "cell_type": "code",
   "execution_count": 46,
   "metadata": {},
   "outputs": [
    {
     "data": {
      "text/plain": [
       "array([ 941.43273551,  872.46103958,  822.55663049,  796.03863536,\n",
       "        749.98499776,  846.19200759,  767.20694274,  676.34841245,\n",
       "        709.04999644,  750.34843826,  734.73407408,  794.73608351,\n",
       "        673.63489592,  688.37492899,  663.02312989,  811.2233233 ,\n",
       "        774.13312006,  751.88142713,  722.58414549,  747.1359056 ,\n",
       "        782.7445277 ,  825.11957336,  642.17397974,  659.06432719,\n",
       "        733.44305517,  785.58703791,  757.85069844,  759.21961052,\n",
       "        657.33688648,  720.04537771,  731.52911718,  835.99177116,\n",
       "        832.09376403,  762.85500771,  654.37727243,  773.82257158,\n",
       "        664.41457277,  649.39941071,  524.01707251,  804.34343332,\n",
       "        726.02139185,  772.875052  ,  577.11373555,  692.07193255,\n",
       "        600.15907295,  747.13856405,  744.91019791,  697.94310087,\n",
       "        645.0259872 ,  668.41671839,  708.18342185,  633.56705229,\n",
       "        777.08798868,  658.22950404,  730.70092724,  803.81589049,\n",
       "        676.82947796,  665.37268804,  740.72970874,  582.62967481,\n",
       "        832.33591738,  699.65412224,  876.16849135,  703.70863873,\n",
       "        701.92440968,  849.24973049,  673.12249561,  611.92164156,\n",
       "        523.51943146,  747.83067461,  791.96210195,  720.23962181,\n",
       "        602.65703089,  675.96905422,  618.66961377,  688.55449179,\n",
       "        635.3533092 ,  628.64209884,  715.49777174,  663.59992953,\n",
       "        720.04550031,  588.10740782,  652.33120159,  733.15729647,\n",
       "        558.94821141,  769.87568466,  723.70617506,  680.7012512 ,\n",
       "        668.07678306,  687.10242825,  829.91316204,  695.93065432,\n",
       "        671.28544918,  672.05302927,  702.65926364,  669.79525428,\n",
       "        808.240737  ,  779.87688672,  568.70439201,  695.89131204,\n",
       "        775.86265932,  767.91432019,  636.75048505,  601.01296429,\n",
       "        589.63450296,  744.46823871,  671.16433393,  680.13754742,\n",
       "        653.66423047,  625.53962324,  705.30350181,  635.12249731,\n",
       "        744.09388554,  653.98387115,  780.88775427,  822.46767634,\n",
       "        726.34809979,  639.34449192,  634.56950379,  603.10175036,\n",
       "        851.96518543,  729.12330272,  723.63941052,  612.19664467,\n",
       "        703.03135287,  741.49010623,  720.41808995,  740.52660894,\n",
       "        632.17522863,  589.07653383,  725.81923927,  664.31543765,\n",
       "        694.76099128,  659.79847067,  622.52292389,  697.09679744,\n",
       "        665.64219934,  591.68463848,  624.44028268,  500.72098946,\n",
       "        701.01586246,  684.61588887,  618.07779052,  658.67728164,\n",
       "        729.99659777])"
      ]
     },
     "execution_count": 46,
     "metadata": {},
     "output_type": "execute_result"
    }
   ],
   "source": [
    "# loading the scoring datset\n",
    "scoring = pd.read_csv(\"data/baseball_scoringdataset.csv\")\n",
    "# We use model2 to predict y value. model2 considered only two X variables (OBP, SLG)\n",
    "columns = scoring[['OBP', 'SLG']]\n",
    "model2.predict(columns)"
   ]
  },
  {
   "cell_type": "code",
   "execution_count": 47,
   "metadata": {},
   "outputs": [
    {
     "data": {
      "text/plain": [
       "array([ 1057.79896039,   974.57870055,   918.93878023,   904.32799958,\n",
       "         834.51592358,   939.15282682,   893.30598485,   765.80833288,\n",
       "         778.6320524 ,   833.77422943,   809.85854761,   879.72392286,\n",
       "         750.24127562,   770.44056605,   732.10416358,   923.9609459 ,\n",
       "         850.0771989 ,   819.02896418,   782.89917288,   816.66557077,\n",
       "         849.02223343,   922.24863846,   723.43540061,   718.37230246,\n",
       "         826.69791349,   867.3783617 ,   847.05349053,   840.13745363,\n",
       "         714.03797102,   790.08447511,   800.78286462,   921.9715475 ,\n",
       "         944.43071215,   905.13344176,   726.23698804,   855.87612959,\n",
       "         718.48867853,   728.92383113,   565.72741055,   902.71396889,\n",
       "         796.88342723,   862.32967922,   637.22635099,   774.66541318,\n",
       "         669.74966715,   828.8145838 ,   806.59807829,   779.94937471,\n",
       "         713.54239491,   740.67441457,   796.06787017,   687.54526939,\n",
       "         866.51921469,   715.89192955,   821.479609  ,   898.99831432,\n",
       "         756.29766811,   734.82567433,   828.97039775,   637.13199827,\n",
       "         932.98015635,   779.54331174,   989.21624826,   799.98654889,\n",
       "         799.67985459,   971.41744632,   763.35021652,   669.44680458,\n",
       "         579.51488221,   848.61147635,   877.10263056,   802.68924787,\n",
       "         662.04160479,   763.51735558,   683.22855838,   760.8678567 ,\n",
       "         714.46750813,   702.82131817,   772.02891886,   734.31757682,\n",
       "         810.84936083,   653.71779533,   706.31776512,   814.04960174,\n",
       "         602.59949123,   858.58877771,   827.96318442,   765.78940076,\n",
       "         725.90918157,   753.45687655,   946.4050347 ,   802.03124419,\n",
       "         748.1643763 ,   769.66766677,   803.76373474,   762.71160592,\n",
       "         921.91133669,   882.62058526,   642.16257065,   791.69175882,\n",
       "         860.37183547,   880.06809142,   728.39567985,   677.62053677,\n",
       "         659.35193525,   850.86564757,   740.36108633,   763.88518824,\n",
       "         723.98199618,   699.99284985,   776.14143946,   692.83125246,\n",
       "         834.79598974,   714.46456123,   889.20708179,   912.44981502,\n",
       "         809.64040216,   704.43067608,   701.96844314,   680.23676507,\n",
       "         949.6518102 ,   807.98882415,   843.34773756,   681.35924534,\n",
       "         796.32841524,   833.70452479,   810.18411094,   826.90596839,\n",
       "         715.91245482,   666.13719665,   796.72116192,   746.86962789,\n",
       "         757.95121388,   747.67450981,   714.30676357,   777.5300195 ,\n",
       "         751.22270998,   651.95506716,   702.66338446,   542.75115381,\n",
       "         772.2467573 ,   753.65331564,   688.63471409,   720.89365864,\n",
       "         827.5400217 ])"
      ]
     },
     "execution_count": 47,
     "metadata": {},
     "output_type": "execute_result"
    }
   ],
   "source": [
    "# use model3 to predict y value for the scoring dataset.\n",
    "\n",
    "# loading the scoring datset\n",
    "scoring = pd.read_csv(\"data/baseball_scoringdataset.csv\")\n",
    "# We use model2 to predict y value. model2 considered only two X variables (OBP, SLG)\n",
    "columns = scoring[['BA', 'OBP', 'SLG']]\n",
    "model3.predict(columns)\n"
   ]
  },
  {
   "cell_type": "markdown",
   "metadata": {},
   "source": [
    "# References\n",
    "\n",
    "- http://adilmoujahid.com/posts/2014/07/baseball-analytics/ (reproduced from this page)"
   ]
  },
  {
   "cell_type": "code",
   "execution_count": null,
   "metadata": {
    "collapsed": true
   },
   "outputs": [],
   "source": []
  }
 ],
 "metadata": {
  "kernelspec": {
   "display_name": "Python 2",
   "language": "python",
   "name": "python2"
  },
  "language_info": {
   "codemirror_mode": {
    "name": "ipython",
    "version": 2
   },
   "file_extension": ".py",
   "mimetype": "text/x-python",
   "name": "python",
   "nbconvert_exporter": "python",
   "pygments_lexer": "ipython2",
   "version": "2.7.13"
  }
 },
 "nbformat": 4,
 "nbformat_minor": 1
}
