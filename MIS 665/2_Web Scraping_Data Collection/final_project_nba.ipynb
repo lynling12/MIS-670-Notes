{
 "cells": [
  {
   "cell_type": "code",
   "execution_count": 4,
   "metadata": {
    "collapsed": true
   },
   "outputs": [],
   "source": [
    "import requests \n",
    "from lxml import html \n",
    "import csv\n",
    "import pandas as pd "
   ]
  },
  {
   "cell_type": "code",
   "execution_count": 5,
   "metadata": {},
   "outputs": [],
   "source": [
    "r = requests.get('https://www.basketball-reference.com/leagues/NBA_2017_per_game.html')\n",
    "data = html.fromstring(r.text)"
   ]
  },
  {
   "cell_type": "code",
   "execution_count": 6,
   "metadata": {
    "collapsed": true
   },
   "outputs": [],
   "source": [
    "player = data.xpath(\"//tbody/tr/td[@data-stat='player']/a[@href]/text()\")\n",
    "urll = data.xpath(\"//tbody/tr/td[@data-stat='player']/a/@href\")\n",
    "position = data.xpath(\"//tbody/tr/td[@class='center ']/text()\")\n",
    "age = data.xpath(\"//tbody/tr/td[@data-stat='age']/text()\")\n",
    "team = data.xpath(\"//tbody/tr/td[@data-stat='team_id']/a[@href]/text()|//tbody/tr/td[@data-stat='team_id']/text()\")\n",
    "games = data.xpath(\"//tbody/tr/td[@data-stat='g']/text()\")\n",
    "games_started = data.xpath(\"//tbody/tr/td[@data-stat='gs']/text()\")\n",
    "mins_per_g = data.xpath(\"//tbody/tr/td[@data-stat='mp_per_g']/text()\")\n",
    "fg_per_g = data.xpath(\"//tbody/tr/td[@data-stat='fg_per_g']/text()\")\n",
    "fga_per_g = data.xpath(\"//tbody/tr/td[@data-stat='fga_per_g']/text()\")\n",
    "fg_pct = data.xpath(\"//tbody/tr/td[@data-stat='fg_pct']\")\n",
    "fg_pct = [i.text_content() for i in fg_pct]\n",
    "fg3_per_g = data.xpath(\"//tbody/tr/td[@data-stat='fg3_per_g']/text()\")\n",
    "fg3a_per_g = data.xpath(\"//tbody/tr/td[@data-stat='fg3a_per_g']/text()\")\n",
    "fg3_pct = data.xpath(\"//tbody/tr/td[@data-stat='fg3_pct']\")\n",
    "fg3_pct = [i.text_content() for i in fg3_pct]\n",
    "fg2_per_g = data.xpath(\"//tbody/tr/td[@data-stat='fg2_per_g']/text()\")\n",
    "fg2a_per_g = data.xpath(\"//tbody/tr/td[@data-stat='fg2a_per_g']/text()\")\n",
    "fg2_pct = data.xpath(\"//tbody/tr/td[@data-stat='fg2_pct']\")\n",
    "fg2_pct = [i.text_content() for i in fg2_pct]\n",
    "efg_pct = data.xpath(\"//tbody/tr/td[@data-stat='efg_pct']\")\n",
    "efg_pct = [i.text_content() for i in efg_pct]\n",
    "ft_per_g = data.xpath(\"//tbody/tr/td[@data-stat='ft_per_g']/text()\")\n",
    "fta_per_g = data.xpath(\"//tbody/tr/td[@data-stat='ft_per_g']/text()\")\n",
    "ft_pct = data.xpath(\"//tbody/tr/td[@data-stat='ft_pct']\")\n",
    "ft_pct = [i.text_content() for i in ft_pct]\n",
    "orb_per_g = data.xpath(\"//tbody/tr/td[@data-stat='orb_per_g']/text()\")\n",
    "drb_per_g = data.xpath(\"//tbody/tr/td[@data-stat='drb_per_g']/text()\")\n",
    "trb_per_g = data.xpath(\"//tbody/tr/td[@data-stat='trb_per_g']/text()\")\n",
    "ast_per_g = data.xpath(\"//tbody/tr/td[@data-stat='ast_per_g']/text()\")\n",
    "stl_per_g = data.xpath(\"//tbody/tr/td[@data-stat='stl_per_g']/text()\")\n",
    "blk_per_g = data.xpath(\"//tbody/tr/td[@data-stat='blk_per_g']/text()\")\n",
    "tov_per_g = data.xpath(\"//tbody/tr/td[@data-stat='tov_per_g']/text()\")\n",
    "pf_per_g = data.xpath(\"//tbody/tr/td[@data-stat='pf_per_g']/text()\")\n",
    "pts_per_g = data.xpath(\"//tbody/tr/td[@data-stat='pts_per_g']/text()\")\n"
   ]
  },
  {
   "cell_type": "code",
   "execution_count": 7,
   "metadata": {
    "collapsed": true
   },
   "outputs": [],
   "source": [
    "a = \"https://www.basketball-reference.com\"\n",
    "for i in urll:\n",
    "    url = '%s%s' %(a,i)\n",
    "    headers = { 'User-Agent': 'Mozilla/5.0 (Windows NT 6.0; WOW64; rv:24.0) Gecko/20100101 Firefox/24.0' }\n",
    "    data2 = html.fromstring(requests.get(url, headers=headers).text)"
   ]
  },
  {
   "cell_type": "code",
   "execution_count": 9,
   "metadata": {
    "collapsed": true
   },
   "outputs": [],
   "source": [
    "urle = requests.get('https://www.basketball-reference.com/players/a/abrinal01.html')\n",
    "data3 = html.fromstring(urle.text)"
   ]
  },
  {
   "cell_type": "code",
   "execution_count": 10,
   "metadata": {
    "collapsed": true
   },
   "outputs": [],
   "source": [
    "for i in data3.xpath(\"//div[@id='all_all_salaries']/div[@class = 'table_outer_container']\"):\n",
    "    for row in tr:\n",
    "        if i = '2016-17'[for i in data3.xpath(th[@data-stat )]\n",
    "            if \n",
    "            salary = i.xpath('tbody/tr/td[2]/a[@herf]/text()')\n",
    "            print salary"
   ]
  },
  {
   "cell_type": "code",
   "execution_count": 6,
   "metadata": {
    "collapsed": true
   },
   "outputs": [],
   "source": [
    "salary = data3.xpath(\"//div[@id='all_all_salaries']/div[@class ='table_outer_container']/tbody/tr/td[1]/a[@herf]/text()\")"
   ]
  },
  {
   "cell_type": "code",
   "execution_count": 7,
   "metadata": {},
   "outputs": [
    {
     "data": {
      "text/plain": [
       "[]"
      ]
     },
     "execution_count": 7,
     "metadata": {},
     "output_type": "execute_result"
    }
   ],
   "source": [
    "salary"
   ]
  },
  {
   "cell_type": "code",
   "execution_count": 8,
   "metadata": {
    "collapsed": true
   },
   "outputs": [],
   "source": [
    "nba2017 = zip(player, \n",
    "              position, \n",
    "              age, \n",
    "              team, \n",
    "              games, \n",
    "              games_started, \n",
    "              mins_per_g, \n",
    "              fg_per_g, \n",
    "              fga_per_g, \n",
    "              fg_pct, \n",
    "              fg3_per_g, \n",
    "              fg3a_per_g, \n",
    "              fg3_pct, \n",
    "              fg2_per_g, \n",
    "              fg2a_per_g, \n",
    "              fg2_pct, \n",
    "              efg_pct, \n",
    "              ft_per_g, \n",
    "              fta_per_g, \n",
    "              ft_pct, \n",
    "              orb_per_g, \n",
    "              drb_per_g,\n",
    "              trb_per_g,\n",
    "              ast_per_g,\n",
    "              stl_per_g,\n",
    "              blk_per_g,\n",
    "              tov_per_g,\n",
    "              pf_per_g,\n",
    "              pts_per_g)\n",
    "\n",
    "df = pd.DataFrame(nba2017)\n",
    "\n"
   ]
  },
  {
   "cell_type": "code",
   "execution_count": 9,
   "metadata": {},
   "outputs": [
    {
     "data": {
      "text/html": [
       "<div>\n",
       "<style>\n",
       "    .dataframe thead tr:only-child th {\n",
       "        text-align: right;\n",
       "    }\n",
       "\n",
       "    .dataframe thead th {\n",
       "        text-align: left;\n",
       "    }\n",
       "\n",
       "    .dataframe tbody tr th {\n",
       "        vertical-align: top;\n",
       "    }\n",
       "</style>\n",
       "<table border=\"1\" class=\"dataframe\">\n",
       "  <thead>\n",
       "    <tr style=\"text-align: right;\">\n",
       "      <th></th>\n",
       "      <th>player</th>\n",
       "      <th>position</th>\n",
       "      <th>age</th>\n",
       "      <th>team</th>\n",
       "      <th>games</th>\n",
       "      <th>games_started</th>\n",
       "      <th>mins_per_g</th>\n",
       "      <th>fg_per_g</th>\n",
       "      <th>fga_per_g</th>\n",
       "      <th>fg_pct</th>\n",
       "      <th>...</th>\n",
       "      <th>ft_pct</th>\n",
       "      <th>orb_per_g</th>\n",
       "      <th>drb_per_g</th>\n",
       "      <th>trb_per_g</th>\n",
       "      <th>ast_per_g</th>\n",
       "      <th>stl_per_g</th>\n",
       "      <th>blk_per_g</th>\n",
       "      <th>tov_per_g</th>\n",
       "      <th>pf_per_g</th>\n",
       "      <th>pts_per_g</th>\n",
       "    </tr>\n",
       "  </thead>\n",
       "  <tbody>\n",
       "    <tr>\n",
       "      <th>0</th>\n",
       "      <td>Alex Abrines</td>\n",
       "      <td>SG</td>\n",
       "      <td>23</td>\n",
       "      <td>OKC</td>\n",
       "      <td>68</td>\n",
       "      <td>6</td>\n",
       "      <td>15.5</td>\n",
       "      <td>2.0</td>\n",
       "      <td>5.0</td>\n",
       "      <td>.393</td>\n",
       "      <td>...</td>\n",
       "      <td>.898</td>\n",
       "      <td>0.3</td>\n",
       "      <td>1.0</td>\n",
       "      <td>1.3</td>\n",
       "      <td>0.6</td>\n",
       "      <td>0.5</td>\n",
       "      <td>0.1</td>\n",
       "      <td>0.5</td>\n",
       "      <td>1.7</td>\n",
       "      <td>6.0</td>\n",
       "    </tr>\n",
       "    <tr>\n",
       "      <th>1</th>\n",
       "      <td>Quincy Acy</td>\n",
       "      <td>PF</td>\n",
       "      <td>26</td>\n",
       "      <td>TOT</td>\n",
       "      <td>38</td>\n",
       "      <td>1</td>\n",
       "      <td>14.7</td>\n",
       "      <td>1.8</td>\n",
       "      <td>4.5</td>\n",
       "      <td>.412</td>\n",
       "      <td>...</td>\n",
       "      <td>.750</td>\n",
       "      <td>0.5</td>\n",
       "      <td>2.5</td>\n",
       "      <td>3.0</td>\n",
       "      <td>0.5</td>\n",
       "      <td>0.4</td>\n",
       "      <td>0.4</td>\n",
       "      <td>0.6</td>\n",
       "      <td>1.8</td>\n",
       "      <td>5.8</td>\n",
       "    </tr>\n",
       "    <tr>\n",
       "      <th>2</th>\n",
       "      <td>Quincy Acy</td>\n",
       "      <td>PF</td>\n",
       "      <td>26</td>\n",
       "      <td>DAL</td>\n",
       "      <td>6</td>\n",
       "      <td>0</td>\n",
       "      <td>8.0</td>\n",
       "      <td>0.8</td>\n",
       "      <td>2.8</td>\n",
       "      <td>.294</td>\n",
       "      <td>...</td>\n",
       "      <td>.667</td>\n",
       "      <td>0.3</td>\n",
       "      <td>1.0</td>\n",
       "      <td>1.3</td>\n",
       "      <td>0.0</td>\n",
       "      <td>0.0</td>\n",
       "      <td>0.0</td>\n",
       "      <td>0.3</td>\n",
       "      <td>1.5</td>\n",
       "      <td>2.2</td>\n",
       "    </tr>\n",
       "    <tr>\n",
       "      <th>3</th>\n",
       "      <td>Quincy Acy</td>\n",
       "      <td>PF</td>\n",
       "      <td>26</td>\n",
       "      <td>BRK</td>\n",
       "      <td>32</td>\n",
       "      <td>1</td>\n",
       "      <td>15.9</td>\n",
       "      <td>2.0</td>\n",
       "      <td>4.8</td>\n",
       "      <td>.425</td>\n",
       "      <td>...</td>\n",
       "      <td>.754</td>\n",
       "      <td>0.6</td>\n",
       "      <td>2.8</td>\n",
       "      <td>3.3</td>\n",
       "      <td>0.6</td>\n",
       "      <td>0.4</td>\n",
       "      <td>0.5</td>\n",
       "      <td>0.6</td>\n",
       "      <td>1.8</td>\n",
       "      <td>6.5</td>\n",
       "    </tr>\n",
       "    <tr>\n",
       "      <th>4</th>\n",
       "      <td>Steven Adams</td>\n",
       "      <td>C</td>\n",
       "      <td>23</td>\n",
       "      <td>OKC</td>\n",
       "      <td>80</td>\n",
       "      <td>80</td>\n",
       "      <td>29.9</td>\n",
       "      <td>4.7</td>\n",
       "      <td>8.2</td>\n",
       "      <td>.571</td>\n",
       "      <td>...</td>\n",
       "      <td>.611</td>\n",
       "      <td>3.5</td>\n",
       "      <td>4.2</td>\n",
       "      <td>7.7</td>\n",
       "      <td>1.1</td>\n",
       "      <td>1.1</td>\n",
       "      <td>1.0</td>\n",
       "      <td>1.8</td>\n",
       "      <td>2.4</td>\n",
       "      <td>11.3</td>\n",
       "    </tr>\n",
       "  </tbody>\n",
       "</table>\n",
       "<p>5 rows × 29 columns</p>\n",
       "</div>"
      ],
      "text/plain": [
       "         player position age team games games_started mins_per_g fg_per_g  \\\n",
       "0  Alex Abrines       SG  23  OKC    68             6       15.5      2.0   \n",
       "1    Quincy Acy       PF  26  TOT    38             1       14.7      1.8   \n",
       "2    Quincy Acy       PF  26  DAL     6             0        8.0      0.8   \n",
       "3    Quincy Acy       PF  26  BRK    32             1       15.9      2.0   \n",
       "4  Steven Adams        C  23  OKC    80            80       29.9      4.7   \n",
       "\n",
       "  fga_per_g fg_pct    ...    ft_pct orb_per_g drb_per_g trb_per_g ast_per_g  \\\n",
       "0       5.0   .393    ...      .898       0.3       1.0       1.3       0.6   \n",
       "1       4.5   .412    ...      .750       0.5       2.5       3.0       0.5   \n",
       "2       2.8   .294    ...      .667       0.3       1.0       1.3       0.0   \n",
       "3       4.8   .425    ...      .754       0.6       2.8       3.3       0.6   \n",
       "4       8.2   .571    ...      .611       3.5       4.2       7.7       1.1   \n",
       "\n",
       "  stl_per_g blk_per_g tov_per_g pf_per_g pts_per_g  \n",
       "0       0.5       0.1       0.5      1.7       6.0  \n",
       "1       0.4       0.4       0.6      1.8       5.8  \n",
       "2       0.0       0.0       0.3      1.5       2.2  \n",
       "3       0.4       0.5       0.6      1.8       6.5  \n",
       "4       1.1       1.0       1.8      2.4      11.3  \n",
       "\n",
       "[5 rows x 29 columns]"
      ]
     },
     "execution_count": 9,
     "metadata": {},
     "output_type": "execute_result"
    }
   ],
   "source": [
    "df = df.rename(columns = {0:'player', \n",
    "                          1:'position', \n",
    "                          2:'age', \n",
    "                          3:'team', \n",
    "                          4:'games', \n",
    "                          5:'games_started', \n",
    "                          6:'mins_per_g', \n",
    "                          7:'fg_per_g', \n",
    "                          8:'fga_per_g', \n",
    "                          9:'fg_pct', \n",
    "                          10:'fg3_per_g', \n",
    "                          11:'fg3a_per_g', \n",
    "                          12:'fg3_pct', \n",
    "                          13:'fg2_per_g', \n",
    "                          14:'fg2a_per_g', \n",
    "                          15:'fg2_pct', \n",
    "                          16:'efg_pct', \n",
    "                          17:'ft_per_g', \n",
    "                          18:'fta_per_g', \n",
    "                          19:'ft_pct', \n",
    "                          20:'orb_per_g', \n",
    "                          21:'drb_per_g',\n",
    "                          22:'trb_per_g',\n",
    "                          23:'ast_per_g',\n",
    "                          24:'stl_per_g',\n",
    "                          25:'blk_per_g',\n",
    "                          26:'tov_per_g',\n",
    "                          27:'pf_per_g',\n",
    "                          28:'pts_per_g'})\n",
    "df.head()\n"
   ]
  },
  {
   "cell_type": "code",
   "execution_count": 3,
   "metadata": {},
   "outputs": [
    {
     "name": "stdout",
     "output_type": "stream",
     "text": [
      "http://www.espn.com/nba/salaries/_/year/2017/page/1\n",
      "http://www.espn.com/nba/salaries/_/year/2017/page/2\n",
      "http://www.espn.com/nba/salaries/_/year/2017/page/3\n",
      "http://www.espn.com/nba/salaries/_/year/2017/page/4\n",
      "http://www.espn.com/nba/salaries/_/year/2017/page/5\n",
      "http://www.espn.com/nba/salaries/_/year/2017/page/6\n",
      "http://www.espn.com/nba/salaries/_/year/2017/page/7\n",
      "http://www.espn.com/nba/salaries/_/year/2017/page/8\n",
      "http://www.espn.com/nba/salaries/_/year/2017/page/9\n",
      "http://www.espn.com/nba/salaries/_/year/2017/page/10\n",
      "http://www.espn.com/nba/salaries/_/year/2017/page/11\n",
      "http://www.espn.com/nba/salaries/_/year/2017/page/12\n"
     ]
    }
   ],
   "source": [
    "# use a for loop to ensure the webpages generate properly\n",
    "\n",
    "a = \"http://www.espn.com/nba/salaries/_/year/2017/page/\"\n",
    "\n",
    "for i in range(1,13):\n",
    "    print '%s%s' %(a,i)"
   ]
  },
  {
   "cell_type": "code",
   "execution_count": 4,
   "metadata": {},
   "outputs": [
    {
     "ename": "ConnectionError",
     "evalue": "HTTPConnectionPool(host='www.espn.com', port=80): Max retries exceeded with url: /nba/salaries/_/year/2017/page/1 (Caused by NewConnectionError('<urllib3.connection.HTTPConnection object at 0x1147a8b90>: Failed to establish a new connection: [Errno 8] nodename nor servname provided, or not known',))",
     "output_type": "error",
     "traceback": [
      "\u001b[0;31m---------------------------------------------------------------------------\u001b[0m",
      "\u001b[0;31mConnectionError\u001b[0m                           Traceback (most recent call last)",
      "\u001b[0;32m<ipython-input-4-09f7adc627c4>\u001b[0m in \u001b[0;36m<module>\u001b[0;34m()\u001b[0m\n\u001b[1;32m      5\u001b[0m     \u001b[0murl\u001b[0m \u001b[0;34m=\u001b[0m \u001b[0;34m'%s%s'\u001b[0m \u001b[0;34m%\u001b[0m\u001b[0;34m(\u001b[0m\u001b[0ma\u001b[0m\u001b[0;34m,\u001b[0m\u001b[0mi\u001b[0m\u001b[0;34m)\u001b[0m\u001b[0;34m\u001b[0m\u001b[0m\n\u001b[1;32m      6\u001b[0m     \u001b[0mheaders\u001b[0m \u001b[0;34m=\u001b[0m \u001b[0;34m{\u001b[0m \u001b[0;34m'User-Agent'\u001b[0m\u001b[0;34m:\u001b[0m \u001b[0;34m'Mozilla/5.0 (Windows NT 6.0; WOW64; rv:24.0) Gecko/20100101 Firefox/24.0'\u001b[0m \u001b[0;34m}\u001b[0m\u001b[0;34m\u001b[0m\u001b[0m\n\u001b[0;32m----> 7\u001b[0;31m     \u001b[0mdata\u001b[0m \u001b[0;34m=\u001b[0m \u001b[0mhtml\u001b[0m\u001b[0;34m.\u001b[0m\u001b[0mfromstring\u001b[0m\u001b[0;34m(\u001b[0m\u001b[0mrequests\u001b[0m\u001b[0;34m.\u001b[0m\u001b[0mget\u001b[0m\u001b[0;34m(\u001b[0m\u001b[0murl\u001b[0m\u001b[0;34m,\u001b[0m \u001b[0mheaders\u001b[0m\u001b[0;34m=\u001b[0m\u001b[0mheaders\u001b[0m\u001b[0;34m)\u001b[0m\u001b[0;34m.\u001b[0m\u001b[0mtext\u001b[0m\u001b[0;34m)\u001b[0m\u001b[0;34m\u001b[0m\u001b[0m\n\u001b[0m",
      "\u001b[0;32m/anaconda/lib/python2.7/site-packages/requests/api.pyc\u001b[0m in \u001b[0;36mget\u001b[0;34m(url, params, **kwargs)\u001b[0m\n\u001b[1;32m     70\u001b[0m \u001b[0;34m\u001b[0m\u001b[0m\n\u001b[1;32m     71\u001b[0m     \u001b[0mkwargs\u001b[0m\u001b[0;34m.\u001b[0m\u001b[0msetdefault\u001b[0m\u001b[0;34m(\u001b[0m\u001b[0;34m'allow_redirects'\u001b[0m\u001b[0;34m,\u001b[0m \u001b[0mTrue\u001b[0m\u001b[0;34m)\u001b[0m\u001b[0;34m\u001b[0m\u001b[0m\n\u001b[0;32m---> 72\u001b[0;31m     \u001b[0;32mreturn\u001b[0m \u001b[0mrequest\u001b[0m\u001b[0;34m(\u001b[0m\u001b[0;34m'get'\u001b[0m\u001b[0;34m,\u001b[0m \u001b[0murl\u001b[0m\u001b[0;34m,\u001b[0m \u001b[0mparams\u001b[0m\u001b[0;34m=\u001b[0m\u001b[0mparams\u001b[0m\u001b[0;34m,\u001b[0m \u001b[0;34m**\u001b[0m\u001b[0mkwargs\u001b[0m\u001b[0;34m)\u001b[0m\u001b[0;34m\u001b[0m\u001b[0m\n\u001b[0m\u001b[1;32m     73\u001b[0m \u001b[0;34m\u001b[0m\u001b[0m\n\u001b[1;32m     74\u001b[0m \u001b[0;34m\u001b[0m\u001b[0m\n",
      "\u001b[0;32m/anaconda/lib/python2.7/site-packages/requests/api.pyc\u001b[0m in \u001b[0;36mrequest\u001b[0;34m(method, url, **kwargs)\u001b[0m\n\u001b[1;32m     56\u001b[0m     \u001b[0;31m# cases, and look like a memory leak in others.\u001b[0m\u001b[0;34m\u001b[0m\u001b[0;34m\u001b[0m\u001b[0m\n\u001b[1;32m     57\u001b[0m     \u001b[0;32mwith\u001b[0m \u001b[0msessions\u001b[0m\u001b[0;34m.\u001b[0m\u001b[0mSession\u001b[0m\u001b[0;34m(\u001b[0m\u001b[0;34m)\u001b[0m \u001b[0;32mas\u001b[0m \u001b[0msession\u001b[0m\u001b[0;34m:\u001b[0m\u001b[0;34m\u001b[0m\u001b[0m\n\u001b[0;32m---> 58\u001b[0;31m         \u001b[0;32mreturn\u001b[0m \u001b[0msession\u001b[0m\u001b[0;34m.\u001b[0m\u001b[0mrequest\u001b[0m\u001b[0;34m(\u001b[0m\u001b[0mmethod\u001b[0m\u001b[0;34m=\u001b[0m\u001b[0mmethod\u001b[0m\u001b[0;34m,\u001b[0m \u001b[0murl\u001b[0m\u001b[0;34m=\u001b[0m\u001b[0murl\u001b[0m\u001b[0;34m,\u001b[0m \u001b[0;34m**\u001b[0m\u001b[0mkwargs\u001b[0m\u001b[0;34m)\u001b[0m\u001b[0;34m\u001b[0m\u001b[0m\n\u001b[0m\u001b[1;32m     59\u001b[0m \u001b[0;34m\u001b[0m\u001b[0m\n\u001b[1;32m     60\u001b[0m \u001b[0;34m\u001b[0m\u001b[0m\n",
      "\u001b[0;32m/anaconda/lib/python2.7/site-packages/requests/sessions.pyc\u001b[0m in \u001b[0;36mrequest\u001b[0;34m(self, method, url, params, data, headers, cookies, files, auth, timeout, allow_redirects, proxies, hooks, stream, verify, cert, json)\u001b[0m\n\u001b[1;32m    506\u001b[0m         }\n\u001b[1;32m    507\u001b[0m         \u001b[0msend_kwargs\u001b[0m\u001b[0;34m.\u001b[0m\u001b[0mupdate\u001b[0m\u001b[0;34m(\u001b[0m\u001b[0msettings\u001b[0m\u001b[0;34m)\u001b[0m\u001b[0;34m\u001b[0m\u001b[0m\n\u001b[0;32m--> 508\u001b[0;31m         \u001b[0mresp\u001b[0m \u001b[0;34m=\u001b[0m \u001b[0mself\u001b[0m\u001b[0;34m.\u001b[0m\u001b[0msend\u001b[0m\u001b[0;34m(\u001b[0m\u001b[0mprep\u001b[0m\u001b[0;34m,\u001b[0m \u001b[0;34m**\u001b[0m\u001b[0msend_kwargs\u001b[0m\u001b[0;34m)\u001b[0m\u001b[0;34m\u001b[0m\u001b[0m\n\u001b[0m\u001b[1;32m    509\u001b[0m \u001b[0;34m\u001b[0m\u001b[0m\n\u001b[1;32m    510\u001b[0m         \u001b[0;32mreturn\u001b[0m \u001b[0mresp\u001b[0m\u001b[0;34m\u001b[0m\u001b[0m\n",
      "\u001b[0;32m/anaconda/lib/python2.7/site-packages/requests/sessions.pyc\u001b[0m in \u001b[0;36msend\u001b[0;34m(self, request, **kwargs)\u001b[0m\n\u001b[1;32m    616\u001b[0m \u001b[0;34m\u001b[0m\u001b[0m\n\u001b[1;32m    617\u001b[0m         \u001b[0;31m# Send the request\u001b[0m\u001b[0;34m\u001b[0m\u001b[0;34m\u001b[0m\u001b[0m\n\u001b[0;32m--> 618\u001b[0;31m         \u001b[0mr\u001b[0m \u001b[0;34m=\u001b[0m \u001b[0madapter\u001b[0m\u001b[0;34m.\u001b[0m\u001b[0msend\u001b[0m\u001b[0;34m(\u001b[0m\u001b[0mrequest\u001b[0m\u001b[0;34m,\u001b[0m \u001b[0;34m**\u001b[0m\u001b[0mkwargs\u001b[0m\u001b[0;34m)\u001b[0m\u001b[0;34m\u001b[0m\u001b[0m\n\u001b[0m\u001b[1;32m    619\u001b[0m \u001b[0;34m\u001b[0m\u001b[0m\n\u001b[1;32m    620\u001b[0m         \u001b[0;31m# Total elapsed time of the request (approximately)\u001b[0m\u001b[0;34m\u001b[0m\u001b[0;34m\u001b[0m\u001b[0m\n",
      "\u001b[0;32m/anaconda/lib/python2.7/site-packages/requests/adapters.pyc\u001b[0m in \u001b[0;36msend\u001b[0;34m(self, request, stream, timeout, verify, cert, proxies)\u001b[0m\n\u001b[1;32m    506\u001b[0m                 \u001b[0;32mraise\u001b[0m \u001b[0mSSLError\u001b[0m\u001b[0;34m(\u001b[0m\u001b[0me\u001b[0m\u001b[0;34m,\u001b[0m \u001b[0mrequest\u001b[0m\u001b[0;34m=\u001b[0m\u001b[0mrequest\u001b[0m\u001b[0;34m)\u001b[0m\u001b[0;34m\u001b[0m\u001b[0m\n\u001b[1;32m    507\u001b[0m \u001b[0;34m\u001b[0m\u001b[0m\n\u001b[0;32m--> 508\u001b[0;31m             \u001b[0;32mraise\u001b[0m \u001b[0mConnectionError\u001b[0m\u001b[0;34m(\u001b[0m\u001b[0me\u001b[0m\u001b[0;34m,\u001b[0m \u001b[0mrequest\u001b[0m\u001b[0;34m=\u001b[0m\u001b[0mrequest\u001b[0m\u001b[0;34m)\u001b[0m\u001b[0;34m\u001b[0m\u001b[0m\n\u001b[0m\u001b[1;32m    509\u001b[0m \u001b[0;34m\u001b[0m\u001b[0m\n\u001b[1;32m    510\u001b[0m         \u001b[0;32mexcept\u001b[0m \u001b[0mClosedPoolError\u001b[0m \u001b[0;32mas\u001b[0m \u001b[0me\u001b[0m\u001b[0;34m:\u001b[0m\u001b[0;34m\u001b[0m\u001b[0m\n",
      "\u001b[0;31mConnectionError\u001b[0m: HTTPConnectionPool(host='www.espn.com', port=80): Max retries exceeded with url: /nba/salaries/_/year/2017/page/1 (Caused by NewConnectionError('<urllib3.connection.HTTPConnection object at 0x1147a8b90>: Failed to establish a new connection: [Errno 8] nodename nor servname provided, or not known',))"
     ]
    }
   ],
   "source": [
    "# use a for loop to cycle throught the review pages\n",
    "a = \"http://www.espn.com/nba/salaries/_/year/2017/page/\"\n",
    "\n",
    "for i in range(1,12):\n",
    "    url = '%s%s' %(a,i)\n",
    "    headers = { 'User-Agent': 'Mozilla/5.0 (Windows NT 6.0; WOW64; rv:24.0) Gecko/20100101 Firefox/24.0' }\n",
    "    data = html.fromstring(requests.get(url, headers=headers).text)\n"
   ]
  },
  {
   "cell_type": "code",
   "execution_count": 76,
   "metadata": {
    "collapsed": true
   },
   "outputs": [],
   "source": [
    "r = requests.get('http://www.espn.com/nba/salaries/_/year/2017/page/1')\n",
    "data = html.fromstring(r.text)"
   ]
  },
  {
   "cell_type": "code",
   "execution_count": 79,
   "metadata": {},
   "outputs": [
    {
     "data": {
      "text/plain": [
       "[]"
      ]
     },
     "execution_count": 79,
     "metadata": {},
     "output_type": "execute_result"
    }
   ],
   "source": [
    "# Xpath to pull specific data from the webpage\n",
    "salary = data.xpath(\"//div[@class='mod-content']/tbody/tr/td[2]/a[@href]/text()\")\n",
    "salary"
   ]
  },
  {
   "cell_type": "code",
   "execution_count": null,
   "metadata": {
    "collapsed": true
   },
   "outputs": [],
   "source": []
  }
 ],
 "metadata": {
  "kernelspec": {
   "display_name": "Python 2",
   "language": "python",
   "name": "python2"
  },
  "language_info": {
   "codemirror_mode": {
    "name": "ipython",
    "version": 2
   },
   "file_extension": ".py",
   "mimetype": "text/x-python",
   "name": "python",
   "nbconvert_exporter": "python",
   "pygments_lexer": "ipython2",
   "version": "2.7.13"
  }
 },
 "nbformat": 4,
 "nbformat_minor": 2
}
