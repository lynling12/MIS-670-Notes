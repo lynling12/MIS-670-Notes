{
 "cells": [
  {
   "cell_type": "markdown",
   "metadata": {},
   "source": [
    "# Sentiment-Level Sentiment Analysis"
   ]
  },
  {
   "cell_type": "code",
   "execution_count": 1,
   "metadata": {},
   "outputs": [],
   "source": [
    "from pattern.en import sentiment\n",
    "import csv\n",
    "import pandas as pd\n",
    "\n",
    "import re\n",
    "\n",
    "import nltk\n",
    "from nltk.corpus import stopwords\n",
    "from nltk import tokenize"
   ]
  },
  {
   "cell_type": "markdown",
   "metadata": {},
   "source": [
    "## Review-level sentiment analysis"
   ]
  },
  {
   "cell_type": "code",
   "execution_count": 2,
   "metadata": {},
   "outputs": [
    {
     "name": "stdout",
     "output_type": "stream",
     "text": [
      "(0.07500000000000001, 0.55)\n",
      "(0.12000000000000006, 0.7322222222222222)\n",
      "(0.305, 0.89)\n"
     ]
    }
   ],
   "source": [
    "reviews = [\n",
    "    \"The server was rude, and overall the service is poor. However, the restaurant has an excellent location.\",\n",
    "    \"This ice maker works great, and the price is very reasonable. Some bad smell from the ice maker.\",\n",
    "    \"The food was awesome. But water was very rude\"\n",
    "    ]\n",
    "\n",
    "for row in reviews:\n",
    "    print sentiment(row)    "
   ]
  },
  {
   "cell_type": "markdown",
   "metadata": {},
   "source": [
    "## Sentence-level sentiment analysis"
   ]
  },
  {
   "cell_type": "code",
   "execution_count": 4,
   "metadata": {},
   "outputs": [
    {
     "data": {
      "text/plain": [
       "['Good morning Dr. Adams.',\n",
       " 'The patient is waiting for you in room number 3.',\n",
       " 'I love you']"
      ]
     },
     "execution_count": 4,
     "metadata": {},
     "output_type": "execute_result"
    }
   ],
   "source": [
    "# BREAK each review into each sentences\n",
    "\n",
    "from nltk import tokenize\n",
    "p = \"Good morning Dr. Adams. The patient is waiting for you in room number 3. I love you\"\n",
    "tokenize.sent_tokenize(p)\n"
   ]
  },
  {
   "cell_type": "code",
   "execution_count": 6,
   "metadata": {},
   "outputs": [
    {
     "name": "stdout",
     "output_type": "stream",
     "text": [
      "The server was rude, and overall the service is poor.\n",
      "However, the restaurant has an excellent location.\n",
      "This ice maker works great, and the price is very reasonable.\n",
      "Some bad smell from the ice maker.\n",
      "The food was awesome.\n",
      "But water was very rude\n"
     ]
    }
   ],
   "source": [
    "for row in reviews:\n",
    "    sen = tokenize.sent_tokenize(row)\n",
    "    for a in sen:\n",
    "        print a\n",
    "    "
   ]
  },
  {
   "cell_type": "code",
   "execution_count": 7,
   "metadata": {},
   "outputs": [
    {
     "name": "stdout",
     "output_type": "stream",
     "text": [
      "The server was rude, and overall the service is poor. (-0.2333333333333333, 0.39999999999999997)\n",
      "However, the restaurant has an excellent location. (1.0, 1.0)\n",
      "This ice maker works great, and the price is very reasonable. (0.53, 0.765)\n",
      "Some bad smell from the ice maker. (-0.6999999999999998, 0.6666666666666666)\n",
      "The food was awesome. (1.0, 1.0)\n",
      "But water was very rude (-0.39, 0.78)\n"
     ]
    }
   ],
   "source": [
    "for row in reviews:\n",
    "    sen = tokenize.sent_tokenize(row)\n",
    "    for a in sen:\n",
    "        print a, sentiment(a)"
   ]
  },
  {
   "cell_type": "markdown",
   "metadata": {
    "collapsed": true
   },
   "source": [
    "# Aspect-based sentiment analysis"
   ]
  },
  {
   "cell_type": "code",
   "execution_count": 10,
   "metadata": {},
   "outputs": [
    {
     "name": "stdout",
     "output_type": "stream",
     "text": [
      "The server was rude, and overall the service is poor. (-0.2333333333333333, 0.39999999999999997)\n"
     ]
    }
   ],
   "source": [
    "# what is the sentiment about service?\"Service\"\n",
    "for row in reviews:\n",
    "    sen = tokenize.sent_tokenize(row)\n",
    "    for a in sen:\n",
    "        if \"service\" in a:\n",
    "            print a, sentiment(a)\n",
    "        "
   ]
  },
  {
   "cell_type": "code",
   "execution_count": 11,
   "metadata": {},
   "outputs": [
    {
     "name": "stdout",
     "output_type": "stream",
     "text": [
      "The server was rude, and overall the service is poor. (-0.2333333333333333, 0.39999999999999997)\n",
      "The server was rude, and overall the service is poor. (-0.2333333333333333, 0.39999999999999997)\n"
     ]
    }
   ],
   "source": [
    "service = [\"server\", \"service\", \"waiter\"]\n",
    "for row in reviews:\n",
    "    sen = tokenize.sent_tokenize(row)\n",
    "    for a in sen:\n",
    "        for word in service:\n",
    "            if word in a:\n",
    "                print a, sentiment(a)\n",
    "        "
   ]
  },
  {
   "cell_type": "code",
   "execution_count": 14,
   "metadata": {},
   "outputs": [
    {
     "name": "stdout",
     "output_type": "stream",
     "text": [
      "The food was awesome. (1.0, 1.0)\n"
     ]
    }
   ],
   "source": [
    "# what is the sentiment about food?\n",
    "food = [\"food\", \"taste\"]\n",
    "for row in reviews:\n",
    "    sen = tokenize.sent_tokenize(row)\n",
    "    for a in sen:\n",
    "        for word in food:\n",
    "            if word in a:\n",
    "                print a, sentiment(a)\n",
    "        "
   ]
  },
  {
   "cell_type": "code",
   "execution_count": null,
   "metadata": {
    "collapsed": true
   },
   "outputs": [],
   "source": []
  },
  {
   "cell_type": "code",
   "execution_count": 17,
   "metadata": {},
   "outputs": [
    {
     "name": "stdout",
     "output_type": "stream",
     "text": [
      "However, the restaurant has an excellent location. (1.0, 1.0)\n",
      "This ice maker works great, and the price is very reasonable. (0.53, 0.765)\n"
     ]
    }
   ],
   "source": [
    "# what is the sentiment about non-essential product attributes?\n",
    "non_ess = [\"price\", \"location\"]\n",
    "for row in reviews:\n",
    "    sen = tokenize.sent_tokenize(row)\n",
    "    for a in sen:\n",
    "        for word in non_ess:\n",
    "            if word in a:\n",
    "                print a, sentiment(a)"
   ]
  },
  {
   "cell_type": "code",
   "execution_count": null,
   "metadata": {
    "collapsed": true
   },
   "outputs": [],
   "source": []
  }
 ],
 "metadata": {
  "kernelspec": {
   "display_name": "Python 2",
   "language": "python",
   "name": "python2"
  },
  "language_info": {
   "codemirror_mode": {
    "name": "ipython",
    "version": 2
   },
   "file_extension": ".py",
   "mimetype": "text/x-python",
   "name": "python",
   "nbconvert_exporter": "python",
   "pygments_lexer": "ipython2",
   "version": "2.7.13"
  }
 },
 "nbformat": 4,
 "nbformat_minor": 1
}
