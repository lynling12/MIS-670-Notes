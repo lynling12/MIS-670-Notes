{
 "cells": [
  {
   "cell_type": "markdown",
   "metadata": {},
   "source": [
    "# Natural Language Processing APIs\n",
    "\n",
    "This is an example of sentiment analysis APIs. This service is currently free.\n",
    "\n",
    "- http://text-processing.com/\n",
    "- http://text-processing.com/docs/sentiment.html"
   ]
  },
  {
   "cell_type": "code",
   "execution_count": 6,
   "metadata": {
    "collapsed": true
   },
   "outputs": [],
   "source": [
    "import pandas as pd\n",
    "import csv\n",
    "import urllib"
   ]
  },
  {
   "cell_type": "code",
   "execution_count": 13,
   "metadata": {},
   "outputs": [
    {
     "name": "stdout",
     "output_type": "stream",
     "text": [
      "{\"probability\": {\"neg\": 0.25625037395887407, \"neutral\": 0.095193495111109971, \"pos\": 0.74374962604112593}, \"label\": \"pos\"}\n"
     ]
    }
   ],
   "source": [
    "data = urllib.urlencode({\"text\": \"I am a great person.\"})\n",
    "u = urllib.urlopen(\"http://text-processing.com/api/sentiment/\",data)\n",
    "result = u.read()\n",
    "print result"
   ]
  },
  {
   "cell_type": "code",
   "execution_count": 8,
   "metadata": {},
   "outputs": [
    {
     "name": "stdout",
     "output_type": "stream",
     "text": [
      "{'text': 'I am a great person.'}\n",
      "{'text': 'I am a good person'}\n"
     ]
    }
   ],
   "source": [
    "sentences = [{\"text\": \"I am a great person.\"}, {\"text\": \"I am a good person\"}]\n",
    "for data in sentences:\n",
    "    print data"
   ]
  },
  {
   "cell_type": "code",
   "execution_count": 14,
   "metadata": {},
   "outputs": [
    {
     "name": "stdout",
     "output_type": "stream",
     "text": [
      "{\"probability\": {\"neg\": 0.25625037395887407, \"neutral\": 0.095193495111109971, \"pos\": 0.74374962604112593}, \"label\": \"pos\"}\n",
      "{\"probability\": {\"neg\": 0.35750960958582056, \"neutral\": 0.14090470912064604, \"pos\": 0.64249039041417944}, \"label\": \"pos\"}\n"
     ]
    }
   ],
   "source": [
    "for i in sentences:\n",
    "    data = urllib.urlencode(i)\n",
    "    u = urllib.urlopen(\"http://text-processing.com/api/sentiment/\",data)\n",
    "    result = u.read()\n",
    "    print result"
   ]
  },
  {
   "cell_type": "code",
   "execution_count": null,
   "metadata": {
    "collapsed": true
   },
   "outputs": [],
   "source": []
  }
 ],
 "metadata": {
  "kernelspec": {
   "display_name": "Python 2",
   "language": "python",
   "name": "python2"
  },
  "language_info": {
   "codemirror_mode": {
    "name": "ipython",
    "version": 2
   },
   "file_extension": ".py",
   "mimetype": "text/x-python",
   "name": "python",
   "nbconvert_exporter": "python",
   "pygments_lexer": "ipython2",
   "version": "2.7.13"
  }
 },
 "nbformat": 4,
 "nbformat_minor": 2
}
