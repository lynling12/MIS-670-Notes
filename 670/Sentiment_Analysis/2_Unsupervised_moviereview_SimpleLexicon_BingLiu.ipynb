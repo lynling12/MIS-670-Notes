{
 "cells": [
  {
   "cell_type": "markdown",
   "metadata": {},
   "source": [
    "# Unsupervised Sentiment Analysis\n",
    "- When you have unlabled texts (e.g., customer product reviews, movie reviews, political tweets)\n",
    "- Unsupervised = Lexicon-based\n",
    "- If positive (negative) words dominate, the sentence is classified as positive (negative)\n",
    "- Corpus : Your dataset\n",
    "- Lexicon : a collection of positive and negative words\n",
    "- Some lexicons are simple: Lists of positive and negative words\n",
    "- Some advanced lexicons : Offer scores for each word (strength of polarity)\n",
    "    - Awesome (+4), Terrible (-4)"
   ]
  },
  {
   "cell_type": "code",
   "execution_count": 2,
   "metadata": {
    "collapsed": true
   },
   "outputs": [],
   "source": [
    "import csv\n",
    "import re\n",
    "import pandas as pd\n",
    "\n",
    "import nltk\n",
    "from nltk.corpus import stopwords"
   ]
  },
  {
   "cell_type": "markdown",
   "metadata": {},
   "source": [
    "How many positive and negative reviews are in the dataset below?"
   ]
  },
  {
   "cell_type": "code",
   "execution_count": 18,
   "metadata": {
    "collapsed": true
   },
   "outputs": [],
   "source": [
    "# dataset\n",
    "\n",
    "reviews = [\n",
    "    \"The server was rude, bad location, poor service overall, call 911!\",\n",
    "    \"This bike is amazing, but the brake is very poor\",\n",
    "    \"This ice maker works great, the price is very reasonable, some bad smell from the ice maker\",\n",
    "    \"The food was awesome, but the water was very rude\"\n",
    "    ]"
   ]
  },
  {
   "cell_type": "code",
   "execution_count": 19,
   "metadata": {
    "collapsed": true
   },
   "outputs": [],
   "source": [
    "# negative and positive word lists ... this is called \"lexicon\"\n",
    "\n",
    "positive_words = ['amazing', 'great', 'awesome', 'reasonable']\n",
    "negative_words = ['poor', 'bad', 'rude']"
   ]
  },
  {
   "cell_type": "code",
   "execution_count": 20,
   "metadata": {},
   "outputs": [
    {
     "data": {
      "text/plain": [
       "[['the',\n",
       "  'server',\n",
       "  'was',\n",
       "  'rude',\n",
       "  'bad',\n",
       "  'location',\n",
       "  'poor',\n",
       "  'service',\n",
       "  'overall',\n",
       "  'call'],\n",
       " ['this',\n",
       "  'bike',\n",
       "  'is',\n",
       "  'amazing',\n",
       "  'but',\n",
       "  'the',\n",
       "  'brake',\n",
       "  'is',\n",
       "  'very',\n",
       "  'poor'],\n",
       " ['this',\n",
       "  'ice',\n",
       "  'maker',\n",
       "  'works',\n",
       "  'great',\n",
       "  'the',\n",
       "  'price',\n",
       "  'is',\n",
       "  'very',\n",
       "  'reasonable',\n",
       "  'some',\n",
       "  'bad',\n",
       "  'smell',\n",
       "  'from',\n",
       "  'the',\n",
       "  'ice',\n",
       "  'maker'],\n",
       " ['the',\n",
       "  'food',\n",
       "  'was',\n",
       "  'awesome',\n",
       "  'but',\n",
       "  'the',\n",
       "  'water',\n",
       "  'was',\n",
       "  'very',\n",
       "  'rude']]"
      ]
     },
     "execution_count": 20,
     "metadata": {},
     "output_type": "execute_result"
    }
   ],
   "source": [
    "# Remove useless numbers and alphanumerical words\n",
    "documents = [re.sub(\"[^a-zA-Z]+\", \" \", document) for document in reviews]\n",
    "# tokenize\n",
    "texts = [[word for word in document.lower().split() ] for document in documents]\n",
    "texts"
   ]
  },
  {
   "cell_type": "code",
   "execution_count": 21,
   "metadata": {},
   "outputs": [
    {
     "name": "stdout",
     "output_type": "stream",
     "text": [
      "['the', 'server', 'was', 'rude', 'bad', 'location', 'poor', 'service', 'overall', 'call']\n",
      "['this', 'bike', 'is', 'amazing', 'but', 'the', 'brake', 'is', 'very', 'poor']\n",
      "['this', 'ice', 'maker', 'works', 'great', 'the', 'price', 'is', 'very', 'reasonable', 'some', 'bad', 'smell', 'from', 'the', 'ice', 'maker']\n",
      "['the', 'food', 'was', 'awesome', 'but', 'the', 'water', 'was', 'very', 'rude']\n"
     ]
    }
   ],
   "source": [
    "for sentence in texts:\n",
    "    print sentence    "
   ]
  },
  {
   "cell_type": "code",
   "execution_count": 22,
   "metadata": {},
   "outputs": [
    {
     "name": "stdout",
     "output_type": "stream",
     "text": [
      "0 3\n",
      "1 1\n",
      "2 1\n",
      "1 1\n"
     ]
    }
   ],
   "source": [
    "#loop inside loop (nested loop)\n",
    "for sentence in texts:  \n",
    "    positive = 0\n",
    "    negative = 0\n",
    "    for word in sentence:\n",
    "        if word in positive_words:\n",
    "            positive += 1\n",
    "        elif word in negative_words:\n",
    "            negative += 1\n",
    "    print positive, negative"
   ]
  },
  {
   "cell_type": "code",
   "execution_count": 23,
   "metadata": {},
   "outputs": [
    {
     "name": "stdout",
     "output_type": "stream",
     "text": [
      "0 3 -3 Negative\n",
      "1 1 0 Neutral\n",
      "2 1 1 Positive\n",
      "1 1 0 Neutral\n"
     ]
    }
   ],
   "source": [
    "for sentence in texts: \n",
    "    positive = 0\n",
    "    negative = 0\n",
    "    for word in sentence:\n",
    "        if word in positive_words:\n",
    "            positive += 1\n",
    "        elif word in negative_words:\n",
    "            negative += 1\n",
    "    print positive, negative, positive-negative, \"Positive\" if positive-negative > 0 else \"Neutral\" if positive-negative == 0 else \"Negative\""
   ]
  },
  {
   "cell_type": "raw",
   "metadata": {},
   "source": [
    "for sentence in texts:\n",
    "    positive = 0\n",
    "    negative = 0\n",
    "    for word in sentence:\n",
    "        if word in positive_words:\n",
    "            positive += 1\n",
    "        elif word in negative_words:\n",
    "            negative += 1\n",
    "    # if you want different ranges for pos, neg, and neutral, consider this ...\n",
    "    print positive, negative, positive-negative, \"Positive\" if positive-negative > 2 else \"Negative\" if positive-negative < -4 else \"Neutral\""
   ]
  },
  {
   "cell_type": "markdown",
   "metadata": {},
   "source": [
    "# Bing Liu lexicon"
   ]
  },
  {
   "cell_type": "markdown",
   "metadata": {},
   "source": [
    "<img src = \"images\\bingliu_pos.gif\">\n",
    "<img src = \"images\\bingliu_neg.gif\">"
   ]
  },
  {
   "cell_type": "code",
   "execution_count": 42,
   "metadata": {},
   "outputs": [
    {
     "name": "stdout",
     "output_type": "stream",
     "text": [
      "The server was rude, bad location, poor service overall\n",
      "This bike is amazing, but the brake is very poor\n",
      "This ice maker works great, the price is very reasonable, some bad smell from the ice maker\n",
      "The food was awesome, but the water was very rude\n"
     ]
    }
   ],
   "source": []
  },
  {
   "cell_type": "code",
   "execution_count": 45,
   "metadata": {},
   "outputs": [
    {
     "name": "stdout",
     "output_type": "stream",
     "text": [
      "['The server was rude, bad location, poor service overall']\n",
      "['This bike is amazing, but the brake is very poor']\n",
      "['This ice maker works great, the price is very reasonable, some bad smell from the ice maker']\n",
      "['The food was awesome, but the water was very rude']\n"
     ]
    },
    {
     "data": {
      "text/plain": [
       "['The server was rude, bad location, poor service overall',\n",
       " 'This bike is amazing, but the brake is very poor',\n",
       " 'This ice maker works great, the price is very reasonable, some bad smell from the ice maker',\n",
       " 'The food was awesome, but the water was very rude']"
      ]
     },
     "execution_count": 45,
     "metadata": {},
     "output_type": "execute_result"
    }
   ],
   "source": [
    "openfile = open(\"data/4rows_sentimentdata.csv\", \"rb\")\n",
    "r = csv.reader(openfile)\n",
    "reviews = []\n",
    "for i in r:\n",
    "    reviews.append(i)\n",
    "openfile.close()\n",
    "for i in reviews:\n",
    "    print i\n",
    "reviews = [x for y in reviews for x in y]\n",
    "reviews\n"
   ]
  },
  {
   "cell_type": "code",
   "execution_count": 24,
   "metadata": {},
   "outputs": [
    {
     "name": "stdout",
     "output_type": "stream",
     "text": [
      "0 3 -3 Negative\n",
      "1 1 0 Neutral\n",
      "3 2 1 Positive\n",
      "1 1 0 Neutral\n"
     ]
    }
   ],
   "source": [
    "reviews = [\n",
    "    \"The server was rude, bad location, poor service overall, call 911!\",\n",
    "    \"This bike is amazing, but the brake is very poor\",\n",
    "    \"This ice maker works great, the price is very reasonable, some bad smell from the ice maker\",\n",
    "    \"The food was awesome, but the water was very rude\"\n",
    "    ]\n",
    "\n",
    "# Remove useless numbers and alphanumerical words\n",
    "documents = [re.sub(\"[^a-zA-Z]+\", \" \", document) for document in reviews]\n",
    "# tokenize\n",
    "texts = [[word for word in document.lower().split() ] for document in documents]\n",
    "\n",
    "#Bing-Liu lexicon (positive word list & negative word list)\n",
    "positive_words = open(\"data/positive-words.txt\", \"rb\").read().splitlines()\n",
    "negative_words = open(\"data/negative-words.txt\", \"rb\").read().splitlines()\n",
    "\n",
    "for sentence in texts:\n",
    "    positive = 0\n",
    "    negative = 0\n",
    "    for word in sentence:\n",
    "        if word in positive_words:\n",
    "            positive += 1\n",
    "        elif word in negative_words:\n",
    "            negative += 1\n",
    "    print positive, negative, positive-negative, \"Positive\" if positive-negative > 0 else \"Neutral\" if positive-negative == 0 else \"Negative\""
   ]
  },
  {
   "cell_type": "markdown",
   "metadata": {},
   "source": [
    "### if customer or moview reviews are in a single CSV file"
   ]
  },
  {
   "cell_type": "code",
   "execution_count": 3,
   "metadata": {},
   "outputs": [
    {
     "name": "stdout",
     "output_type": "stream",
     "text": [
      "0 3 -3 Negative\n",
      "1 1 0 Neutral\n",
      "3 2 1 Positive\n",
      "1 1 0 Neutral\n"
     ]
    }
   ],
   "source": [
    "openfile = open(\"data/4rows_sentimentdata.csv\", \"rb\")\n",
    "r = csv.reader(openfile)\n",
    "reviews = []\n",
    "for i in r:\n",
    "    reviews.append(i)\n",
    "openfile.close()\n",
    "\n",
    "#remove the extra bracket\n",
    "reviews = [x for y in reviews for x in y]\n",
    "# Remove useless numbers and alphanumerical words\n",
    "documents = [re.sub(\"[^a-zA-Z]+\", \" \", document) for document in reviews]\n",
    "# tokenize\n",
    "texts = [[word for word in document.lower().split() ] for document in documents]\n",
    "\n",
    "#Bing-Liu lexicon (positive word list & negative word list)\n",
    "positive_words = open(\"data/positive-words.txt\", \"rb\").read().splitlines()\n",
    "negative_words = open(\"data/negative-words.txt\", \"rb\").read().splitlines()\n",
    "\n",
    "for sentence in texts:\n",
    "    positive = 0\n",
    "    negative = 0\n",
    "    for word in sentence:\n",
    "        if word in positive_words:\n",
    "            positive += 1\n",
    "        elif word in negative_words:\n",
    "            negative += 1\n",
    "    print positive, negative, positive-negative, \"Positive\" if positive-negative > 0 else \"Neutral\" if positive-negative == 0 else \"Negative\""
   ]
  },
  {
   "cell_type": "code",
   "execution_count": 4,
   "metadata": {},
   "outputs": [
    {
     "data": {
      "text/plain": [
       "['The server was rude, bad location, poor service overall',\n",
       " 'This bike is amazing, but the brake is very poor',\n",
       " 'This ice maker works great, the price is very reasonable, some bad smell from the ice maker',\n",
       " 'The food was awesome, but the water was very rude']"
      ]
     },
     "execution_count": 4,
     "metadata": {},
     "output_type": "execute_result"
    }
   ],
   "source": [
    "reviews"
   ]
  },
  {
   "cell_type": "markdown",
   "metadata": {},
   "source": [
    "# Appendix"
   ]
  },
  {
   "cell_type": "markdown",
   "metadata": {},
   "source": [
    "## Step by step"
   ]
  },
  {
   "cell_type": "code",
   "execution_count": 49,
   "metadata": {
    "collapsed": true
   },
   "outputs": [],
   "source": [
    "openfile = open(\"data/4rows_sentimentdata.csv\", \"rb\")\n",
    "r = csv.reader(openfile)\n",
    "reviews = []\n",
    "for i in r:\n",
    "    reviews.append(i)\n",
    "openfile.close()"
   ]
  },
  {
   "cell_type": "code",
   "execution_count": 50,
   "metadata": {},
   "outputs": [
    {
     "data": {
      "text/plain": [
       "[['The server was rude, bad location, poor service overall'],\n",
       " ['This bike is amazing, but the brake is very poor'],\n",
       " ['This ice maker works great, the price is very reasonable, some bad smell from the ice maker'],\n",
       " ['The food was awesome, but the water was very rude']]"
      ]
     },
     "execution_count": 50,
     "metadata": {},
     "output_type": "execute_result"
    }
   ],
   "source": [
    "reviews"
   ]
  },
  {
   "cell_type": "code",
   "execution_count": 51,
   "metadata": {},
   "outputs": [
    {
     "data": {
      "text/plain": [
       "['The server was rude, bad location, poor service overall',\n",
       " 'This bike is amazing, but the brake is very poor',\n",
       " 'This ice maker works great, the price is very reasonable, some bad smell from the ice maker',\n",
       " 'The food was awesome, but the water was very rude']"
      ]
     },
     "execution_count": 51,
     "metadata": {},
     "output_type": "execute_result"
    }
   ],
   "source": [
    "#remove the extra bracket\n",
    "reviews = [x for y in reviews for x in y]\n",
    "reviews"
   ]
  },
  {
   "cell_type": "raw",
   "metadata": {},
   "source": [
    "#remove the extra bracket\n",
    "reviews = [i[0] for i in reviews]\n",
    "reviews"
   ]
  },
  {
   "cell_type": "code",
   "execution_count": 52,
   "metadata": {},
   "outputs": [
    {
     "ename": "IOError",
     "evalue": "[Errno 2] No such file or directory: 'data\\\\positive-words.txt'",
     "output_type": "error",
     "traceback": [
      "\u001b[0;31m---------------------------------------------------------------------------\u001b[0m",
      "\u001b[0;31mIOError\u001b[0m                                   Traceback (most recent call last)",
      "\u001b[0;32m<ipython-input-52-bcad53cec866>\u001b[0m in \u001b[0;36m<module>\u001b[0;34m()\u001b[0m\n\u001b[0;32m----> 1\u001b[0;31m \u001b[0mpositive_words\u001b[0m \u001b[0;34m=\u001b[0m \u001b[0mopen\u001b[0m\u001b[0;34m(\u001b[0m\u001b[0;34m\"data\\\\positive-words.txt\"\u001b[0m\u001b[0;34m,\u001b[0m \u001b[0;34m\"rb\"\u001b[0m\u001b[0;34m)\u001b[0m\u001b[0;34m.\u001b[0m\u001b[0mread\u001b[0m\u001b[0;34m(\u001b[0m\u001b[0;34m)\u001b[0m\u001b[0;34m.\u001b[0m\u001b[0msplitlines\u001b[0m\u001b[0;34m(\u001b[0m\u001b[0;34m)\u001b[0m\u001b[0;34m\u001b[0m\u001b[0m\n\u001b[0m\u001b[1;32m      2\u001b[0m \u001b[0mnegative_words\u001b[0m \u001b[0;34m=\u001b[0m \u001b[0mopen\u001b[0m\u001b[0;34m(\u001b[0m\u001b[0;34m\"data\\\\negative-words.txt\"\u001b[0m\u001b[0;34m,\u001b[0m \u001b[0;34m\"rb\"\u001b[0m\u001b[0;34m)\u001b[0m\u001b[0;34m.\u001b[0m\u001b[0mread\u001b[0m\u001b[0;34m(\u001b[0m\u001b[0;34m)\u001b[0m\u001b[0;34m.\u001b[0m\u001b[0msplitlines\u001b[0m\u001b[0;34m(\u001b[0m\u001b[0;34m)\u001b[0m\u001b[0;34m\u001b[0m\u001b[0m\n\u001b[1;32m      3\u001b[0m \u001b[0;34m\u001b[0m\u001b[0m\n\u001b[1;32m      4\u001b[0m \u001b[0;32mfor\u001b[0m \u001b[0msentence\u001b[0m \u001b[0;32min\u001b[0m \u001b[0mtexts\u001b[0m\u001b[0;34m:\u001b[0m\u001b[0;34m\u001b[0m\u001b[0m\n\u001b[1;32m      5\u001b[0m     \u001b[0mpositive\u001b[0m \u001b[0;34m=\u001b[0m \u001b[0;36m0\u001b[0m\u001b[0;34m\u001b[0m\u001b[0m\n",
      "\u001b[0;31mIOError\u001b[0m: [Errno 2] No such file or directory: 'data\\\\positive-words.txt'"
     ]
    }
   ],
   "source": [
    "positive_words = open(\"data\\\\positive-words.txt\", \"rb\").read().splitlines()\n",
    "negative_words = open(\"data\\\\negative-words.txt\", \"rb\").read().splitlines()\n",
    "\n",
    "for sentence in texts:\n",
    "    positive = 0\n",
    "    negative = 0\n",
    "    for word in sentence:\n",
    "        if word in positive_words:\n",
    "            positive += 1\n",
    "        elif word in negative_words:\n",
    "            negative += 1\n",
    "    print positive, negative, positive-negative, \"Positive\" if positive-negative > 0 else \"Neutral\" if positive-negative == 0 else \"Negative\""
   ]
  },
  {
   "cell_type": "markdown",
   "metadata": {},
   "source": [
    "## Further analysis: Separating Positive/Negative Reviews & Word Frequency & Word Cloud"
   ]
  },
  {
   "cell_type": "code",
   "execution_count": 30,
   "metadata": {
    "collapsed": true
   },
   "outputs": [],
   "source": [
    "positive_review = []\n",
    "negative_review = []\n",
    "neutral_review = []\n",
    "\n",
    "for sentence in texts:\n",
    "    positive = 0\n",
    "    negative = 0\n",
    "    for word in sentence:\n",
    "        if word in positive_words:\n",
    "            positive += 1\n",
    "        elif word in negative_words:\n",
    "            negative += 1\n",
    "    if positive-negative > 0:\n",
    "        positive_review.append(sentence)\n",
    "    elif positive-negative == 0:\n",
    "        neutral_review.append(sentence)\n",
    "    else:\n",
    "        negative_review.append(sentence)"
   ]
  },
  {
   "cell_type": "code",
   "execution_count": 31,
   "metadata": {},
   "outputs": [
    {
     "name": "stdout",
     "output_type": "stream",
     "text": [
      "1\n",
      "1\n",
      "2\n"
     ]
    }
   ],
   "source": [
    "print len(positive_review)\n",
    "print len(negative_review)\n",
    "print len(neutral_review)"
   ]
  },
  {
   "cell_type": "code",
   "execution_count": 32,
   "metadata": {},
   "outputs": [
    {
     "data": {
      "text/plain": [
       "[['this',\n",
       "  'ice',\n",
       "  'maker',\n",
       "  'works',\n",
       "  'great',\n",
       "  'the',\n",
       "  'price',\n",
       "  'is',\n",
       "  'very',\n",
       "  'reasonable',\n",
       "  'some',\n",
       "  'bad',\n",
       "  'smell',\n",
       "  'from',\n",
       "  'the',\n",
       "  'ice',\n",
       "  'maker']]"
      ]
     },
     "execution_count": 32,
     "metadata": {},
     "output_type": "execute_result"
    }
   ],
   "source": [
    "positive_review"
   ]
  },
  {
   "cell_type": "code",
   "execution_count": 33,
   "metadata": {},
   "outputs": [
    {
     "data": {
      "text/plain": [
       "[('ice', 2),\n",
       " ('the', 2),\n",
       " ('maker', 2),\n",
       " ('great', 1),\n",
       " ('from', 1),\n",
       " ('this', 1),\n",
       " ('price', 1),\n",
       " ('some', 1),\n",
       " ('very', 1),\n",
       " ('bad', 1),\n",
       " ('reasonable', 1),\n",
       " ('works', 1),\n",
       " ('smell', 1),\n",
       " ('is', 1)]"
      ]
     },
     "execution_count": 33,
     "metadata": {},
     "output_type": "execute_result"
    }
   ],
   "source": [
    "# remove extra brackets)\n",
    "positive_review_tokens = [x for y in positive_review for x in y]\n",
    "\n",
    "# count words in list\n",
    "from collections import Counter\n",
    "positive_review_wordcounts= Counter(positive_review_tokens)\n",
    "positive_review_wordcounts.most_common()"
   ]
  },
  {
   "cell_type": "markdown",
   "metadata": {},
   "source": [
    "Good results, but we could do more text preprocessing (e.g., removing stopwords, removing short words)"
   ]
  },
  {
   "cell_type": "code",
   "execution_count": 34,
   "metadata": {
    "collapsed": true
   },
   "outputs": [],
   "source": [
    "# remove common words \n",
    "stoplist = stopwords.words('english')\n",
    "# if you want to remove additional words ... here I consider ice and from as unimportant words\n",
    "more = set(['ice', 'from'])\n",
    "stoplist = set(stoplist) | more \n",
    "texts = [[word for word in text if word not in stoplist] for text in positive_review]\n",
    "#remove short words\n",
    "texts = [[ word for word in tokens if len(word) >= 3 ] for tokens in texts]"
   ]
  },
  {
   "cell_type": "code",
   "execution_count": 35,
   "metadata": {},
   "outputs": [
    {
     "data": {
      "text/plain": [
       "[['maker', 'works', 'great', 'price', 'reasonable', 'bad', 'smell', 'maker']]"
      ]
     },
     "execution_count": 35,
     "metadata": {},
     "output_type": "execute_result"
    }
   ],
   "source": [
    "texts"
   ]
  },
  {
   "cell_type": "code",
   "execution_count": 36,
   "metadata": {},
   "outputs": [
    {
     "data": {
      "text/plain": [
       "['maker', 'works', 'great', 'price', 'reasonable', 'bad', 'smell', 'maker']"
      ]
     },
     "execution_count": 36,
     "metadata": {},
     "output_type": "execute_result"
    }
   ],
   "source": [
    "# remove extra brackets\n",
    "cleaned_positive_review_tokens = [x for y in texts for x in y]\n",
    "cleaned_positive_review_tokens"
   ]
  },
  {
   "cell_type": "code",
   "execution_count": 37,
   "metadata": {
    "scrolled": true
   },
   "outputs": [
    {
     "data": {
      "text/plain": [
       "[('maker', 2),\n",
       " ('great', 1),\n",
       " ('price', 1),\n",
       " ('bad', 1),\n",
       " ('reasonable', 1),\n",
       " ('works', 1),\n",
       " ('smell', 1)]"
      ]
     },
     "execution_count": 37,
     "metadata": {},
     "output_type": "execute_result"
    }
   ],
   "source": [
    "# word frequency on positive reviews\n",
    "positive_review_wordcounts= Counter(cleaned_positive_review_tokens)\n",
    "positive_review_wordcounts.most_common(20)"
   ]
  },
  {
   "cell_type": "markdown",
   "metadata": {},
   "source": [
    "### Word Cloud \n",
    "\n",
    "Installation (https://github.com/amueller/word_cloud)\n",
    "\n",
    "- **pip install wordcloud**\n",
    "\n",
    "If there is error, follow this:\n",
    "\n",
    "- Download the .whl file compatible with your Python version and your windows distribution (32bit or 64bit) from http://www.lfd.uci.edu/~gohlke/pythonlibs/#wordcloud (in my case, I downloaded **wordcloud-1.2.1-cp27-cp27m-win_amd64.whl**)\n",
    "- cd to the file path (most likely to your **downloads** folder)\n",
    "- Run this command **python -m pip install <filename>**  (in my case, **python -m pip install wordcloud-1.2.1-cp27-cp27m-win_amd64.whl**)\n",
    "\n",
    "More information about this package\n",
    "\n",
    "- http://peekaboo-vision.blogspot.de/2012/11/a-wordcloud-in-python.html"
   ]
  },
  {
   "cell_type": "code",
   "execution_count": 38,
   "metadata": {},
   "outputs": [
    {
     "data": {
      "text/plain": [
       "(-0.5, 399.5, 199.5, -0.5)"
      ]
     },
     "execution_count": 38,
     "metadata": {},
     "output_type": "execute_result"
    },
    {
     "data": {
      "image/png": "[encoded data removed]",
      "text/plain": [
       "<matplotlib.figure.Figure at 0x118f59e10>"
      ]
     },
     "metadata": {},
     "output_type": "display_data"
    },
    {
     "data": {
      "image/png": "[encoded data removed]",
      "text/plain": [
       "<matplotlib.figure.Figure at 0x11981e350>"
      ]
     },
     "metadata": {},
     "output_type": "display_data"
    }
   ],
   "source": [
    "from os import path\n",
    "from wordcloud import WordCloud, STOPWORDS\n",
    "import matplotlib.pyplot as plt\n",
    "%matplotlib inline\n",
    "\n",
    "text = str(cleaned_positive_review_tokens)\n",
    "\n",
    "# Generate a word cloud image\n",
    "wordcloud = WordCloud().generate(text)\n",
    "\n",
    "# Display the generated image:\n",
    "# the matplotlib way:\n",
    "plt.imshow(wordcloud)\n",
    "plt.axis(\"off\")\n",
    "\n",
    "# take relative word frequencies into account, lower max_font_size\n",
    "wordcloud = WordCloud(max_font_size=40, relative_scaling=.5).generate(text)\n",
    "plt.figure()\n",
    "plt.imshow(wordcloud)\n",
    "plt.axis(\"off\")"
   ]
  },
  {
   "cell_type": "code",
   "execution_count": 39,
   "metadata": {},
   "outputs": [
    {
     "data": {
      "image/png": "[encoded data removed]",
      "text/plain": [
       "<matplotlib.figure.Figure at 0x112748510>"
      ]
     },
     "metadata": {},
     "output_type": "display_data"
    },
    {
     "data": {
      "image/png": "[encoded data removed]",
      "text/plain": [
       "<matplotlib.figure.Figure at 0x10a40e2d0>"
      ]
     },
     "metadata": {},
     "output_type": "display_data"
    }
   ],
   "source": [
    "from os import path\n",
    "from wordcloud import WordCloud, STOPWORDS\n",
    "import matplotlib.pyplot as plt\n",
    "%matplotlib inline\n",
    "\n",
    "text = str(cleaned_positive_review_tokens) \n",
    "\n",
    "# Generate a word cloud image\n",
    "wordcloud = WordCloud(background_color=\"white\", max_words=2000).generate(text)\n",
    "\n",
    "# Display the generated image:\n",
    "# the matplotlib way:\n",
    "plt.imshow(wordcloud)\n",
    "plt.axis(\"off\")\n",
    "\n",
    "# take relative word frequencies into account, lower max_font_size\n",
    "wordcloud = WordCloud(background_color=\"white\",max_font_size=40, relative_scaling=.5).generate(text)\n",
    "plt.figure(figsize=(10,10))\n",
    "plt.imshow(wordcloud)\n",
    "plt.axis(\"off\")\n",
    "plt.savefig(\"data/pos.png\")\n",
    "plt.savefig(\"data/pos.pdf\")"
   ]
  },
  {
   "cell_type": "code",
   "execution_count": 40,
   "metadata": {},
   "outputs": [
    {
     "data": {
      "text/html": [
       "<div>\n",
       "<style>\n",
       "    .dataframe thead tr:only-child th {\n",
       "        text-align: right;\n",
       "    }\n",
       "\n",
       "    .dataframe thead th {\n",
       "        text-align: left;\n",
       "    }\n",
       "\n",
       "    .dataframe tbody tr th {\n",
       "        vertical-align: top;\n",
       "    }\n",
       "</style>\n",
       "<table border=\"1\" class=\"dataframe\">\n",
       "  <thead>\n",
       "    <tr style=\"text-align: right;\">\n",
       "      <th></th>\n",
       "      <th>0</th>\n",
       "      <th>1</th>\n",
       "    </tr>\n",
       "  </thead>\n",
       "  <tbody>\n",
       "    <tr>\n",
       "      <th>0</th>\n",
       "      <td>maker</td>\n",
       "      <td>2</td>\n",
       "    </tr>\n",
       "    <tr>\n",
       "      <th>1</th>\n",
       "      <td>great</td>\n",
       "      <td>1</td>\n",
       "    </tr>\n",
       "    <tr>\n",
       "      <th>2</th>\n",
       "      <td>price</td>\n",
       "      <td>1</td>\n",
       "    </tr>\n",
       "    <tr>\n",
       "      <th>3</th>\n",
       "      <td>bad</td>\n",
       "      <td>1</td>\n",
       "    </tr>\n",
       "    <tr>\n",
       "      <th>4</th>\n",
       "      <td>reasonable</td>\n",
       "      <td>1</td>\n",
       "    </tr>\n",
       "    <tr>\n",
       "      <th>5</th>\n",
       "      <td>works</td>\n",
       "      <td>1</td>\n",
       "    </tr>\n",
       "    <tr>\n",
       "      <th>6</th>\n",
       "      <td>smell</td>\n",
       "      <td>1</td>\n",
       "    </tr>\n",
       "  </tbody>\n",
       "</table>\n",
       "</div>"
      ],
      "text/plain": [
       "            0  1\n",
       "0       maker  2\n",
       "1       great  1\n",
       "2       price  1\n",
       "3         bad  1\n",
       "4  reasonable  1\n",
       "5       works  1\n",
       "6       smell  1"
      ]
     },
     "execution_count": 40,
     "metadata": {},
     "output_type": "execute_result"
    }
   ],
   "source": [
    "# save the word frequency in dataframe (Excel like)\n",
    "positivereview_wordfreq = pd.DataFrame(positive_review_wordcounts.most_common())\n",
    "positivereview_wordfreq"
   ]
  },
  {
   "cell_type": "markdown",
   "metadata": {},
   "source": [
    "# Now, you can perform the same analysis for negative reviews\n",
    "- First, perform the word frequency analysis on the negative reviews\n",
    "- Then, combine the results of positive and negative reviews for comparison\n",
    "- Also, you can compare the word clouds"
   ]
  },
  {
   "cell_type": "code",
   "execution_count": 53,
   "metadata": {},
   "outputs": [
    {
     "data": {
      "text/plain": [
       "[['the',\n",
       "  'server',\n",
       "  'was',\n",
       "  'rude',\n",
       "  'bad',\n",
       "  'location',\n",
       "  'poor',\n",
       "  'service',\n",
       "  'overall']]"
      ]
     },
     "execution_count": 53,
     "metadata": {},
     "output_type": "execute_result"
    }
   ],
   "source": [
    "negative_review"
   ]
  },
  {
   "cell_type": "code",
   "execution_count": 54,
   "metadata": {},
   "outputs": [
    {
     "name": "stdout",
     "output_type": "stream",
     "text": [
      "['the', 'server', 'was', 'rude', 'bad', 'location', 'poor', 'service', 'overall']\n"
     ]
    }
   ],
   "source": [
    "for i in negative_review:\n",
    "    print i\n",
    "    "
   ]
  },
  {
   "cell_type": "code",
   "execution_count": 56,
   "metadata": {},
   "outputs": [
    {
     "data": {
      "text/plain": [
       "[('poor', 1),\n",
       " ('service', 1),\n",
       " ('rude', 1),\n",
       " ('overall', 1),\n",
       " ('server', 1),\n",
       " ('bad', 1),\n",
       " ('location', 1),\n",
       " ('the', 1),\n",
       " ('was', 1)]"
      ]
     },
     "execution_count": 56,
     "metadata": {},
     "output_type": "execute_result"
    }
   ],
   "source": [
    "# remove extra brackets)\n",
    "negative_review_tokens = [x for y in negative_review for x in y]\n",
    "\n",
    "# count words in list\n",
    "from collections import Counter\n",
    "negative_review_wordcounts= Counter(negative_review_tokens)\n",
    "negative_review_wordcounts.most_common()"
   ]
  },
  {
   "cell_type": "code",
   "execution_count": null,
   "metadata": {
    "collapsed": true
   },
   "outputs": [],
   "source": []
  },
  {
   "cell_type": "markdown",
   "metadata": {
    "collapsed": true
   },
   "source": [
    "# Sentiment analysis of the data in sample_restaurant_reviews.csv"
   ]
  },
  {
   "cell_type": "code",
   "execution_count": null,
   "metadata": {
    "collapsed": true
   },
   "outputs": [],
   "source": []
  },
  {
   "cell_type": "code",
   "execution_count": null,
   "metadata": {
    "collapsed": true
   },
   "outputs": [],
   "source": []
  },
  {
   "cell_type": "code",
   "execution_count": null,
   "metadata": {
    "collapsed": true
   },
   "outputs": [],
   "source": []
  },
  {
   "cell_type": "code",
   "execution_count": null,
   "metadata": {
    "collapsed": true
   },
   "outputs": [],
   "source": []
  },
  {
   "cell_type": "code",
   "execution_count": null,
   "metadata": {
    "collapsed": true
   },
   "outputs": [],
   "source": []
  }
 ],
 "metadata": {
  "kernelspec": {
   "display_name": "Python 2",
   "language": "python",
   "name": "python2"
  },
  "language_info": {
   "codemirror_mode": {
    "name": "ipython",
    "version": 2
   },
   "file_extension": ".py",
   "mimetype": "text/x-python",
   "name": "python",
   "nbconvert_exporter": "python",
   "pygments_lexer": "ipython2",
   "version": "2.7.13"
  }
 },
 "nbformat": 4,
 "nbformat_minor": 1
}
