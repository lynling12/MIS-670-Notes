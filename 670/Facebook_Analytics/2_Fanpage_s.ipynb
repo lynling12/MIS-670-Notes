{
 "cells": [
  {
   "cell_type": "markdown",
   "metadata": {
    "deletable": true,
    "editable": true
   },
   "source": [
    "# How to Scrape Data From Facebook Page Posts for Statistical Analysis\n",
    "\n",
    "Adapted from http://minimaxir.com/2015/07/facebook-scraper/"
   ]
  },
  {
   "cell_type": "code",
   "execution_count": 1,
   "metadata": {
    "collapsed": true,
    "deletable": true,
    "editable": true
   },
   "outputs": [],
   "source": [
    "# import some Python dependencies\n",
    "\n",
    "import urllib2\n",
    "import json\n",
    "import datetime\n",
    "import csv\n",
    "import time"
   ]
  },
  {
   "cell_type": "markdown",
   "metadata": {
    "deletable": true,
    "editable": true
   },
   "source": [
    "Accessing Facebook page data requires an access token.\n",
    "\n",
    "+ Go to https://developers.facebook.com/ and **add a new app**\n",
    "+ Now get **App id** and **App secret**"
   ]
  },
  {
   "cell_type": "code",
   "execution_count": 2,
   "metadata": {
    "collapsed": false,
    "deletable": true,
    "editable": true
   },
   "outputs": [],
   "source": [
    "# Since the code output in this notebook leaks the app_secret,\n",
    "# it has been reset by the time you read this.\n",
    "\n",
    "app_id = \"662979177234964\"\n",
    "app_secret = \"52cf25e144057adb969e816e38f3307e\" # DO NOT SHARE WITH ANYONE!\n",
    "\n",
    "access_token = app_id + \"|\" + app_secret"
   ]
  },
  {
   "cell_type": "markdown",
   "metadata": {
    "deletable": true,
    "editable": true
   },
   "source": [
    "Now we can access public Facebook data without limit. Let's do our analysis on the [https://www.facebook.com/383Indians], which provides enough data."
   ]
  },
  {
   "cell_type": "code",
   "execution_count": 3,
   "metadata": {
    "collapsed": true,
    "deletable": true,
    "editable": true
   },
   "outputs": [],
   "source": [
    "page_id = '383Indians'    #USD383 Manhattan High School"
   ]
  },
  {
   "cell_type": "markdown",
   "metadata": {
    "deletable": true,
    "editable": true
   },
   "source": [
    "Let's write a quick program to ping NYT's Facebook page to verify that the `access_token` works and the `page_id` is valid."
   ]
  },
  {
   "cell_type": "code",
   "execution_count": 4,
   "metadata": {
    "collapsed": false,
    "deletable": true,
    "editable": true
   },
   "outputs": [
    {
     "name": "stdout",
     "output_type": "stream",
     "text": [
      "{\n",
      "    \"id\": \"527750833927938\", \n",
      "    \"name\": \"USD 383: Manhattan High School\"\n",
      "}\n"
     ]
    }
   ],
   "source": [
    "def testFacebookPageData(page_id, access_token):\n",
    "    \n",
    "    # construct the URL string\n",
    "    base = \"https://graph.facebook.com/v2.4\"\n",
    "    node = \"/\" + page_id\n",
    "    parameters = \"/?access_token=%s\" % access_token\n",
    "    url = base + node + parameters\n",
    "    \n",
    "    # retrieve data\n",
    "    req = urllib2.Request(url)\n",
    "    response = urllib2.urlopen(req)\n",
    "    data = json.loads(response.read())\n",
    "    \n",
    "    print json.dumps(data, indent=4, sort_keys=True)\n",
    "    \n",
    "\n",
    "testFacebookPageData(page_id, access_token)"
   ]
  },
  {
   "cell_type": "markdown",
   "metadata": {
    "deletable": true,
    "editable": true
   },
   "source": [
    "When scraping large amounts of data from public APIs, there's a high probability that you'll hit an [HTTP Error 500 (Internal Error)](http://www.checkupdown.com/status/E500.html) at some point. There is no way to avoid that on our end. \n",
    "\n",
    "Instead, we'll use a helper function to catch the error and try again after a few seconds, which usually works. This helper function also consolidates the data retrival code, so it kills two birds with one stone."
   ]
  },
  {
   "cell_type": "code",
   "execution_count": 5,
   "metadata": {
    "collapsed": true,
    "deletable": true,
    "editable": true
   },
   "outputs": [],
   "source": [
    "def request_until_succeed(url):\n",
    "    req = urllib2.Request(url)\n",
    "    success = False\n",
    "    while success is False:\n",
    "        try: \n",
    "            response = urllib2.urlopen(req)\n",
    "            if response.getcode() == 200:\n",
    "                success = True\n",
    "        except Exception, e:\n",
    "            print e\n",
    "            time.sleep(5)\n",
    "            \n",
    "            print \"Error for URL %s: %s\" % (url, datetime.datetime.now())\n",
    "\n",
    "    return response.read()"
   ]
  },
  {
   "cell_type": "markdown",
   "metadata": {
    "deletable": true,
    "editable": true
   },
   "source": [
    "The data is the Facebook Page metadata however; we need to change the endpoint to the /feed endpoint."
   ]
  },
  {
   "cell_type": "code",
   "execution_count": 6,
   "metadata": {
    "collapsed": false,
    "deletable": true,
    "editable": true
   },
   "outputs": [
    {
     "name": "stdout",
     "output_type": "stream",
     "text": [
      "{\n",
      "    \"data\": [\n",
      "        {\n",
      "            \"created_time\": \"2017-04-13T20:04:33+0000\", \n",
      "            \"id\": \"527750833927938_1267169329986081\", \n",
      "            \"message\": \"MHS Business Professionals of America club is holding a donation car wash this Saturday, April 15, at AutoZone. They are raising money to attend the National Leadership Conference in Orlando in May. We hope to see you there from 10:00 am to 2:00 pm!\"\n",
      "        }, \n",
      "        {\n",
      "            \"created_time\": \"2017-04-13T12:27:13+0000\", \n",
      "            \"id\": \"527750833927938_1266787703357577\", \n",
      "            \"story\": \"USD 383: Manhattan High School added a new photo.\"\n",
      "        }, \n",
      "        {\n",
      "            \"created_time\": \"2017-04-12T15:58:44+0000\", \n",
      "            \"id\": \"527750833927938_1265918030111211\", \n",
      "            \"message\": \"Our band program at Manhattan High School has started its annual Flower Bulb Fundraiser for the spring!!! If you are interested, please click the link below and check out what is available. Please share the link so that everyone can see what they are selling. The profits will help offset their trip to Orlando, Florida next November!!! Happy Shopping!!! GO BAND!!!!\"\n",
      "        }, \n",
      "        {\n",
      "            \"created_time\": \"2017-04-10T19:56:15+0000\", \n",
      "            \"id\": \"527750833927938_1263946126975068\", \n",
      "            \"story\": \"USD 383: Manhattan High School shared Manhattan High School Counselors's post.\"\n",
      "        }, \n",
      "        {\n",
      "            \"created_time\": \"2017-04-05T20:09:32+0000\", \n",
      "            \"id\": \"527750833927938_1258358114200536\", \n",
      "            \"story\": \"USD 383: Manhattan High School shared Manhattan-Ogden USD 383's post.\"\n",
      "        }, \n",
      "        {\n",
      "            \"created_time\": \"2017-04-05T17:17:39+0000\", \n",
      "            \"id\": \"527750833927938_1258240210878993\", \n",
      "            \"story\": \"USD 383: Manhattan High School shared Manhattan-Ogden USD 383's post.\"\n",
      "        }, \n",
      "        {\n",
      "            \"created_time\": \"2017-04-04T18:21:35+0000\", \n",
      "            \"id\": \"527750833927938_1257279567641724\", \n",
      "            \"message\": \"**THE JV/VARSITY SOFTBALL GAMES FOR TODAY HAVE BEEN POSTPONED.  THEY HAVE BEEN RESCHEDULED FOR MAY 2ND**\"\n",
      "        }, \n",
      "        {\n",
      "            \"created_time\": \"2017-04-04T15:55:20+0000\", \n",
      "            \"id\": \"527750833927938_1257159427653738\", \n",
      "            \"message\": \"**VARSITY BOYS TENNIS FOR TODAY HAS BEEN POSTPONED UNTIL THURSDAY, APRIL 6TH AT KOSSOVER TENNIS COMPLEX IN TOPEKA AT 3PM**\"\n",
      "        }, \n",
      "        {\n",
      "            \"created_time\": \"2017-04-04T13:23:20+0000\", \n",
      "            \"id\": \"527750833927938_1257041070998907\", \n",
      "            \"message\": \"**GRADUATES**\\nJOSTEN'S LAST DELIVERY DAY FOR CAP AND GOWNS WILL BE TODAY FROM 11:30 - 1:00 P.M @MHSW.\"\n",
      "        }, \n",
      "        {\n",
      "            \"created_time\": \"2017-04-04T13:21:28+0000\", \n",
      "            \"id\": \"527750833927938_1257038697665811\", \n",
      "            \"message\": \"**JV BASEBALL AT WICHITA EAST TODAY HAS BEEN POSTPONED, MAKE-UP DATE TBD**\"\n",
      "        }, \n",
      "        {\n",
      "            \"created_time\": \"2017-04-03T15:49:38+0000\", \n",
      "            \"id\": \"527750833927938_1256065967763084\", \n",
      "            \"message\": \"**C-TEAM BASEBALL HAS BEEN POSTPONED FOR TODAY 4/3**\"\n",
      "        }, \n",
      "        {\n",
      "            \"created_time\": \"2017-04-03T14:13:48+0000\", \n",
      "            \"id\": \"527750833927938_1255971637772517\", \n",
      "            \"message\": \"Any word on the baseball games today?\"\n",
      "        }, \n",
      "        {\n",
      "            \"created_time\": \"2017-03-31T18:04:59+0000\", \n",
      "            \"id\": \"527750833927938_1253148758054805\", \n",
      "            \"message\": \"Congratulations to our March Student and Teacher of the Month!\\nJoy Gruenbacher \\u2013 11th grade and Kristal Kleiner \\u2013 Language Arts\"\n",
      "        }, \n",
      "        {\n",
      "            \"created_time\": \"2017-03-30T16:08:24+0000\", \n",
      "            \"id\": \"527750833927938_1252060154830332\", \n",
      "            \"message\": \"Hello Senior Parents:\\n\\nGraduation is quickly approaching for your MHS senior.  The Manhattan High School Project Graduation 2017 party planning has begun.  Please pass these details along to your senior.  We will announce the event to students at graduation practice but in the excitement of it all, they might not remember. \\n\\nThe Project Graduation event is for graduating MHS seniors only.  It is held on graduation evening, Sunday May 21st from 9:00pm-1:00am.  The purpose of this event is to provide our seniors with a fun, safe, drug and alcohol free, night of activities.  The event will be held at the KSU Recreation Complex at Kimball and Denison.  \\n\\nStudents need to arrive by 10:30pm.  Once they leave, they will not be able to return.  Project Graduation is free and activities include:  racquetball, basketball, an inflatable obstacle course, KSU's climbing rock wall, food, prizes and more!!!  All seniors attending who are still present at midnight will receive a free t-shirt with all seniors\\u2019 names on the back and at the end of the night we will raffle off a $500 cash prize. \\n\\nAn extra fee is required by the recreation complex in order for them to allow our students to climb their rock wall.  In addition, if a student is under the age of 18, they will need a parent signature on the Rock Wall Waiver Form.  Please sign it for them and have them bring it with them on the evening of the event.  Please consider making a small donation to our event in order to cover the cost of this activity and prizes.  Checks should be made to \\u201cMHS Project Graduation\\u201d and can be sent to the high school at 2100 Poyntz Avenue or may be dropped off at the front office.  Please be sure to put my name on the envelope.\\n\\nI am currently collecting food donations and looking for adult chaperones.  Please use this link to provide food or chaperone: \\n http://www7.mysignup.com/cgi-bin/view.cgi?datafile=mhs_project_graduation_2017 \\nIf the link does not work just go to www.mysignup and search for MHS Project Graduation 2017 or enter my email: kariq@usd383.org .  \\n\\nAll food donations can be dropped off at the KSU Recreation Complex on Sunday the 21st between 8:00 and 9:00pm.  If this time does not work for you, please contact me at 785-587-2100 extension 8098 or via email and we will figure out a way to get your donation there.\\n\\nCongratulations to you all and thank you for your support with this event.  We typically have anywhere from 50-80% of our seniors in attendance at Project Graduation.\\n\\nThanks,\\n\\nKari Q. Humes, LAC, CPP\\nDrug and Alcohol Prevention Coordinator\\nUSD #383 Manhattan-Ogden Schools\"\n",
      "        }, \n",
      "        {\n",
      "            \"created_time\": \"2017-03-30T15:23:40+0000\", \n",
      "            \"id\": \"527750833927938_1252032984833049\", \n",
      "            \"message\": \"** The C-Team Baseball game @ Washburn Rural today has been postponed**\"\n",
      "        }, \n",
      "        {\n",
      "            \"created_time\": \"2017-03-28T06:36:04+0000\", \n",
      "            \"id\": \"527750833927938_1249977721705242\", \n",
      "            \"message\": \"i would like to pass along a 90th birthday celebration scheduled for mid april for phyllis weyerts, a former teacher...anyone interested in more info, please contact me via facebook...\"\n",
      "        }, \n",
      "        {\n",
      "            \"created_time\": \"2017-03-27T18:34:34+0000\", \n",
      "            \"id\": \"527750833927938_1249531161749898\", \n",
      "            \"message\": \"Congratulations to the Cyborg Indian Robotics team who competed against 59 other robots during regionals, March 15-18!!  They solidly improved their preliminary placement from last year by 16 positions and they were selected by the number 3 ranked team to be in an Alliance for the final rounds.  Their alliance was undefeated in the quarterfinals, and only lost after two tie breaker rounds!  Their alliance finished 3rd overall and missed qualifying for worlds by 20 points in the semi-finals.\", \n",
      "            \"story\": \"USD 383: Manhattan High School added 6 new photos.\"\n",
      "        }, \n",
      "        {\n",
      "            \"created_time\": \"2017-03-27T16:29:17+0000\", \n",
      "            \"id\": \"527750833927938_1249409461762068\", \n",
      "            \"message\": \"PASG fundraiser today at KFC from 11am-10pm!!\"\n",
      "        }, \n",
      "        {\n",
      "            \"created_time\": \"2017-03-27T12:54:27+0000\", \n",
      "            \"id\": \"527750833927938_1249270918442589\", \n",
      "            \"message\": \"Hungry for Chipotle?\\n\\nHelp support the MHS Business of Professionals of America as 13 students compete in the May National Leadership Conference in Orlando!\\n\\n\\u2022         Chipotle Fundraiser, 505 N. Manhattan Avenue\\n\\u2022         Tuesday, March 28th, 5-9pm\\n\\u2022         Chipotle will donate a percentage of their sales\\n\\u2022         Show a printed or mobile device flyer when you place your order\\n\\u2022         Instructions for online orders at the bottom of the flyer\\n\\nThank you for your support!\"\n",
      "        }, \n",
      "        {\n",
      "            \"created_time\": \"2017-03-16T19:08:58+0000\", \n",
      "            \"id\": \"527750833927938_1239624572740557\", \n",
      "            \"message\": \"Woohoo!! Congrats Mr. Joel Gittle!!!\", \n",
      "            \"story\": \"USD 383: Manhattan High School shared Manhattan-Ogden USD 383's post.\"\n",
      "        }, \n",
      "        {\n",
      "            \"created_time\": \"2017-03-16T14:19:34+0000\", \n",
      "            \"id\": \"527750833927938_1239444499425231\", \n",
      "            \"story\": \"USD 383: Manhattan High School added a new photo.\"\n",
      "        }, \n",
      "        {\n",
      "            \"created_time\": \"2017-03-16T12:57:22+0000\", \n",
      "            \"id\": \"527750833927938_1239396899429991\", \n",
      "            \"message\": \"**MHS CHEERLEADING TRYOUTS**\\n\\no INFORMATIONAL MANDATORY PARENTS' MEETING:\\n\\n     \\u2022 MARCH 27 @ 6:00 P.M. AT THE AUDITORIUM AT EAST CAMPUS\\n \\no CLINICS WILL BE HELD ON APRIL 5-7TH FROM 6:00 P.M. - 8:00 P.M. AT MHSE GYM\\n \\no AND TRYOUTS WILL BE APRIL 8TH AT 2:00 P.M. AT MHSW GYM\"\n",
      "        }, \n",
      "        {\n",
      "            \"created_time\": \"2017-03-15T20:04:57+0000\", \n",
      "            \"id\": \"527750833927938_1238789516157396\", \n",
      "            \"message\": \"Congrats Chrissy!!\", \n",
      "            \"story\": \"USD 383: Manhattan High School shared Powercat Sports Grill's photo.\"\n",
      "        }, \n",
      "        {\n",
      "            \"created_time\": \"2017-03-15T19:41:01+0000\", \n",
      "            \"id\": \"527750833927938_1238773559492325\", \n",
      "            \"message\": \"**The Blue Note Concert scheduled for Thursday, March 16 at Manhattan High West has been cancelled.**\\n \\n**Also please mark your calendar : The April 6, 2017 Orchestra Concert has also been cancelled.**\"\n",
      "        }, \n",
      "        {\n",
      "            \"created_time\": \"2017-03-15T14:21:36+0000\", \n",
      "            \"id\": \"527750833927938_1238557199513961\", \n",
      "            \"message\": \"Congratulations to all the Introduction to Business/Entrepreneur  students who participated in the Network Kansas Youth Entrepreneur Challenge 2017!  Taylor R and Kaitlyn H business paradICE Shaved Ice placed 2nd and received $1,000  and Sean M  Safe Shop business placed third and received $500.  All of the students can submit their Executive Summary\\u2019s  to be eligible for 14 wildspots at the 2016-17 State Championship on April 24th in Hays, KS.\"\n",
      "        }\n",
      "    ], \n",
      "    \"paging\": {\n",
      "        \"next\": \"https://graph.facebook.com/v2.8/527750833927938/feed?access_token=662979177234964|52cf25e144057adb969e816e38f3307e&limit=25&until=1489587696&__paging_token=enc_AdCerZB0TmBTo7I8gln9t1geyo3oaVWeZCt6qnHZCk7jNpWkFlK6hQaKJoqtZCOOUM8jd9Sv1zhIttpeIE4zusJXvNNJ2MXQvJgihWL4ZCcdjPZAxFnwZDZD\", \n",
      "        \"previous\": \"https://graph.facebook.com/v2.8/527750833927938/feed?since=1492113873&access_token=662979177234964|52cf25e144057adb969e816e38f3307e&limit=25&__paging_token=enc_AdAuJYRVpCh1lZBEuXlSCgqYjUzgrldfcZAV6PE1oE02nzuKJ2ZAsNDryxiLsAWO2wzxBB0ojU7RoLlAitAEZBUzoc3G7KtZCgsJ5ZB9tiwE3y03a49gZDZD&__previous=1\"\n",
      "    }\n",
      "}\n"
     ]
    }
   ],
   "source": [
    "def testFacebookPageFeedData(page_id, access_token):\n",
    "    \n",
    "    # construct the URL string\n",
    "    base = \"https://graph.facebook.com/v2.4\"\n",
    "    node = \"/\" + page_id + \"/feed\" # changed\n",
    "    parameters = \"/?access_token=%s\" % access_token\n",
    "    url = base + node + parameters\n",
    "    \n",
    "    # retrieve data\n",
    "    data = json.loads(request_until_succeed(url))\n",
    "    \n",
    "    print json.dumps(data, indent=4, sort_keys=True)\n",
    "    \n",
    "\n",
    "testFacebookPageFeedData(page_id, access_token)"
   ]
  },
  {
   "cell_type": "markdown",
   "metadata": {
    "deletable": true,
    "editable": true
   },
   "source": [
    "In v2.4, the default behavior is to return very, very little metadata for statuses in order to reduce bandwidth, with the expectation the user will request the necessary fields.\n",
    "\n",
    "We don't need data on every FB page status. Yet. Let's reduce the requested fields to exactly what we need, and the number of stories returned to 1 so we can process it."
   ]
  },
  {
   "cell_type": "code",
   "execution_count": 7,
   "metadata": {
    "collapsed": false,
    "deletable": true,
    "editable": true,
    "scrolled": true
   },
   "outputs": [
    {
     "name": "stdout",
     "output_type": "stream",
     "text": [
      "{\n",
      "    \"comments\": {\n",
      "        \"data\": [], \n",
      "        \"summary\": {\n",
      "            \"can_comment\": false, \n",
      "            \"order\": \"chronological\", \n",
      "            \"total_count\": 0\n",
      "        }\n",
      "    }, \n",
      "    \"created_time\": \"2017-04-13T20:04:33+0000\", \n",
      "    \"id\": \"527750833927938_1267169329986081\", \n",
      "    \"likes\": {\n",
      "        \"data\": [\n",
      "            {\n",
      "                \"id\": \"10210758794378299\", \n",
      "                \"name\": \"Brenda Mayberry\"\n",
      "            }\n",
      "        ], \n",
      "        \"paging\": {\n",
      "            \"cursors\": {\n",
      "                \"after\": \"MTAyMTA3NTg3OTQzNzgyOTkZD\", \n",
      "                \"before\": \"MTAyMTA3NTg3OTQzNzgyOTkZD\"\n",
      "            }\n",
      "        }, \n",
      "        \"summary\": {\n",
      "            \"can_like\": false, \n",
      "            \"has_liked\": false, \n",
      "            \"total_count\": 2\n",
      "        }\n",
      "    }, \n",
      "    \"link\": \"https://www.facebook.com/383Indians/photos/a.719860491383637.1073741828.527750833927938/1267169329986081/?type=3\", \n",
      "    \"message\": \"MHS Business Professionals of America club is holding a donation car wash this Saturday, April 15, at AutoZone. They are raising money to attend the National Leadership Conference in Orlando in May. We hope to see you there from 10:00 am to 2:00 pm!\", \n",
      "    \"name\": \"Timeline Photos\", \n",
      "    \"shares\": {\n",
      "        \"count\": 1\n",
      "    }, \n",
      "    \"type\": \"photo\"\n",
      "}\n"
     ]
    }
   ],
   "source": [
    "def getFacebookPageFeedData(page_id, access_token, num_statuses):\n",
    "    \n",
    "    # construct the URL string\n",
    "    base = \"https://graph.facebook.com\"\n",
    "    node = \"/\" + page_id + \"/feed\" \n",
    "    parameters = \"/?fields=message,link,created_time,type,name,id,likes.limit(1).summary(true),comments.limit(1).summary(true),shares&limit=%s&access_token=%s\" % (num_statuses, access_token) # changed\n",
    "    url = base + node + parameters\n",
    "    \n",
    "    # retrieve data\n",
    "    data = json.loads(request_until_succeed(url))\n",
    "    \n",
    "    return data\n",
    "    \n",
    "\n",
    "test_status = getFacebookPageFeedData(page_id, access_token, 1)[\"data\"][0]\n",
    "print json.dumps(test_status, indent=4, sort_keys=True)"
   ]
  },
  {
   "cell_type": "markdown",
   "metadata": {
    "deletable": true,
    "editable": true
   },
   "source": [
    "Now that we have a sample Facebook page status, we can write a function to process each field individually."
   ]
  },
  {
   "cell_type": "code",
   "execution_count": 8,
   "metadata": {
    "collapsed": false,
    "deletable": true,
    "editable": true
   },
   "outputs": [
    {
     "name": "stdout",
     "output_type": "stream",
     "text": [
      "(u'527750833927938_1267169329986081', 'MHS Business Professionals of America club is holding a donation car wash this Saturday, April 15, at AutoZone. They are raising money to attend the National Leadership Conference in Orlando in May. We hope to see you there from 10:00 am to 2:00 pm!', 'Timeline Photos', u'photo', u'https://www.facebook.com/383Indians/photos/a.719860491383637.1073741828.527750833927938/1267169329986081/?type=3', '2017-04-13 15:04:33', 2, 0, 1)\n"
     ]
    }
   ],
   "source": [
    "def processFacebookPageFeedStatus(status):\n",
    "    \n",
    "    # The status is now a Python dictionary, so for top-level items,\n",
    "    # we can simply call the key.\n",
    "    \n",
    "    # Additionally, some items may not always exist,\n",
    "    # so must check for existence first\n",
    "    \n",
    "    status_id = status['id']\n",
    "    status_message = '' if 'message' not in status.keys() else status['message'].encode('utf-8')\n",
    "    link_name = '' if 'name' not in status.keys() else status['name'].encode('utf-8')\n",
    "    status_type = status['type']\n",
    "    status_link = '' if 'link' not in status.keys() else status['link']\n",
    "    \n",
    "    \n",
    "    # Time needs special care since a) it's in UTC and\n",
    "    # b) it's not easy to use in statistical programs.\n",
    "    \n",
    "    status_published = datetime.datetime.strptime(status['created_time'],'%Y-%m-%dT%H:%M:%S+0000')\n",
    "    status_published = status_published + datetime.timedelta(hours=-5) # EST\n",
    "    status_published = status_published.strftime('%Y-%m-%d %H:%M:%S') # best time format for spreadsheet programs\n",
    "    \n",
    "    # Nested items require chaining dictionary keys.\n",
    "    \n",
    "    num_likes = 0 if 'likes' not in status.keys() else status['likes']['summary']['total_count']\n",
    "    num_comments = 0 if 'comments' not in status.keys() else status['comments']['summary']['total_count']\n",
    "    num_shares = 0 if 'shares' not in status.keys() else status['shares']['count']\n",
    "    \n",
    "    # return a tuple of all processed data\n",
    "    return (status_id, status_message, link_name, status_type, status_link,\n",
    "           status_published, num_likes, num_comments, num_shares)\n",
    "\n",
    "processed_test_status = processFacebookPageFeedStatus(test_status)\n",
    "print processed_test_status"
   ]
  },
  {
   "cell_type": "markdown",
   "metadata": {
    "deletable": true,
    "editable": true
   },
   "source": [
    "Surprisingly, we're almost done! Now we just need to:\n",
    "\n",
    "1. Query each page of Facebook Page Statuses (100 statuses per page) using `getFacebookPageFeedData`.\n",
    "2. Process all statuses on that page using `processFacebookPageFeedStatus` and writing the output to a CSV file.\n",
    "3. Navigate to the next page, and repeat until no more statuses\n",
    "\n",
    "This block implements both the writing to CSV and page navigation."
   ]
  },
  {
   "cell_type": "code",
   "execution_count": 9,
   "metadata": {
    "collapsed": false,
    "deletable": true,
    "editable": true,
    "scrolled": true
   },
   "outputs": [
    {
     "name": "stdout",
     "output_type": "stream",
     "text": [
      "Scraping 383Indians Facebook Page: 2017-04-13 16:25:59.213000\n",
      "\n",
      "\n",
      "Done!\n",
      "452 Statuses Processed in 0:00:05.943000\n"
     ]
    }
   ],
   "source": [
    "def scrapeFacebookPageFeedStatus(page_id, access_token):\n",
    "    with open('%s_facebook_statuses.csv' % page_id, 'wb') as file:\n",
    "        w = csv.writer(file)\n",
    "        w.writerow([\"status_id\", \"status_message\", \"link_name\", \"status_type\", \"status_link\",\n",
    "           \"status_published\", \"num_likes\", \"num_comments\", \"num_shares\"])\n",
    "        \n",
    "        has_next_page = True\n",
    "        num_processed = 0   # keep a count on how many we've processed\n",
    "        scrape_starttime = datetime.datetime.now()\n",
    "        \n",
    "        print \"Scraping %s Facebook Page: %s\\n\" % (page_id, scrape_starttime)\n",
    "        \n",
    "        statuses = getFacebookPageFeedData(page_id, access_token, 100)\n",
    "        \n",
    "        while has_next_page:\n",
    "            for status in statuses['data']:\n",
    "                w.writerow(processFacebookPageFeedStatus(status))\n",
    "                \n",
    "                # output progress occasionally to make sure code is not stalling\n",
    "                num_processed += 1\n",
    "                if num_processed % 1000 == 0:\n",
    "                    print \"%s Statuses Processed: %s\" % (num_processed, datetime.datetime.now())\n",
    "                    \n",
    "            # if there is no next page, we're done.\n",
    "            if 'paging' in statuses.keys():\n",
    "                statuses = json.loads(request_until_succeed(statuses['paging']['next']))\n",
    "            else:\n",
    "                has_next_page = False\n",
    "                \n",
    "        \n",
    "        print \"\\nDone!\\n%s Statuses Processed in %s\" % (num_processed, datetime.datetime.now() - scrape_starttime)\n",
    "\n",
    "\n",
    "scrapeFacebookPageFeedStatus(page_id, access_token)"
   ]
  },
  {
   "cell_type": "markdown",
   "metadata": {
    "deletable": true,
    "editable": true
   },
   "source": [
    "The CSV can be opened in all major statistical programs. Have fun! :)"
   ]
  },
  {
   "cell_type": "markdown",
   "metadata": {
    "deletable": true,
    "editable": true
   },
   "source": [
    "# Reference\n",
    "\n",
    "How to Scrape Data From Facebook Page Posts for Statistical Analysis\n",
    "\n",
    "By [Max Woolf (@minimaxir)](http://minimaxir.com/)\n",
    "\n",
    "This notebook describes how to build a Facebook Scraper using the latest version of Facebook's Graph API (v2.4). This is the accompanyment to my blog post [How to Scrape Data From Facebook Page Posts for Statistical Analysis](http://minimaxir.com/2015/07/facebook-scraper/)."
   ]
  }
 ],
 "metadata": {
  "kernelspec": {
   "display_name": "Python 2",
   "language": "python",
   "name": "python2"
  },
  "language_info": {
   "codemirror_mode": {
    "name": "ipython",
    "version": 2
   },
   "file_extension": ".py",
   "mimetype": "text/x-python",
   "name": "python",
   "nbconvert_exporter": "python",
   "pygments_lexer": "ipython2",
   "version": "2.7.13"
  }
 },
 "nbformat": 4,
 "nbformat_minor": 0
}
