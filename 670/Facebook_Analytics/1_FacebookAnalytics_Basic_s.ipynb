{
 "cells": [
  {
   "cell_type": "markdown",
   "metadata": {
    "deletable": true,
    "editable": true
   },
   "source": [
    "[1] First, install facebook-sdk\n",
    "\n",
    "# pip install facebook-sdk"
   ]
  },
  {
   "cell_type": "markdown",
   "metadata": {
    "deletable": true,
    "editable": true
   },
   "source": [
    "[2] log into your Facebook account \n",
    "\n",
    "[3] go to https://developers.facebook.com/tools/explorer\n",
    "    \n",
    "[4] copy your access token       "
   ]
  },
  {
   "cell_type": "code",
   "execution_count": null,
   "metadata": {
    "collapsed": false,
    "deletable": true,
    "editable": true
   },
   "outputs": [],
   "source": [
    "# Copy and paste in the value you just got from the inline frame into this variable and execute this cell.\n",
    "# Keep in mind that you could have just gone to https://developers.facebook.com/tools/explorer/\n",
    "# and \"Get User Access Token\" \n",
    "access_token = ''"
   ]
  },
  {
   "cell_type": "code",
   "execution_count": null,
   "metadata": {
    "collapsed": false,
    "deletable": true,
    "editable": true
   },
   "outputs": [],
   "source": [
    "import facebook\n",
    "import json\n",
    "import requests"
   ]
  },
  {
   "cell_type": "markdown",
   "metadata": {
    "deletable": true,
    "editable": true
   },
   "source": [
    "Social media data are in json format containing curly braces so it is helpful to use a function to print json data with indent. "
   ]
  },
  {
   "cell_type": "code",
   "execution_count": null,
   "metadata": {
    "collapsed": false,
    "deletable": true,
    "editable": true
   },
   "outputs": [],
   "source": [
    "# function to print the output pretty (\"pretty print\")\n",
    "def pp(input):\n",
    "    print json.dumps(input, indent=1)"
   ]
  },
  {
   "cell_type": "markdown",
   "metadata": {
    "deletable": true,
    "editable": true
   },
   "source": [
    "# Me"
   ]
  },
  {
   "cell_type": "code",
   "execution_count": null,
   "metadata": {
    "collapsed": false,
    "deletable": true,
    "editable": true
   },
   "outputs": [],
   "source": [
    "graph = facebook.GraphAPI(access_token)\n",
    "me = graph.get_object('me')\n",
    "print me"
   ]
  },
  {
   "cell_type": "code",
   "execution_count": null,
   "metadata": {
    "collapsed": false,
    "deletable": true,
    "editable": true
   },
   "outputs": [],
   "source": [
    "pp(me)"
   ]
  },
  {
   "cell_type": "code",
   "execution_count": null,
   "metadata": {
    "collapsed": false,
    "deletable": true,
    "editable": true
   },
   "outputs": [],
   "source": [
    "# get your posts\n",
    "posts = graph.get_connections('me','posts')\n",
    "pp(posts)"
   ]
  },
  {
   "cell_type": "code",
   "execution_count": null,
   "metadata": {
    "collapsed": false,
    "deletable": true,
    "editable": true
   },
   "outputs": [],
   "source": [
    "for post in posts['data']:\n",
    "    print pp(post)"
   ]
  },
  {
   "cell_type": "code",
   "execution_count": null,
   "metadata": {
    "collapsed": false,
    "deletable": true,
    "editable": true
   },
   "outputs": [],
   "source": [
    "for post in posts['data']:\n",
    "    print post['message'], post['created_time']"
   ]
  },
  {
   "cell_type": "code",
   "execution_count": null,
   "metadata": {
    "collapsed": false,
    "deletable": true,
    "editable": true
   },
   "outputs": [],
   "source": [
    "#save your posts in txt file\n",
    "f = open(\"input.txt\",\"w\")\n",
    "f.write(json.dumps(posts,indent=4))\n",
    "f.close()\n",
    "print len(posts['data'])"
   ]
  },
  {
   "cell_type": "markdown",
   "metadata": {
    "deletable": true,
    "editable": true
   },
   "source": [
    "I have only a few posts on my facebook page.\n",
    "\n",
    "If you have many posts, you won't see all of them in one page. Your program needs to traverse all the pages to get all the posts. See the example below "
   ]
  },
  {
   "cell_type": "code",
   "execution_count": null,
   "metadata": {
    "collapsed": false,
    "deletable": true,
    "editable": true
   },
   "outputs": [],
   "source": [
    "graph = facebook.GraphAPI(access_token)\n",
    "posts = graph.get_connections('me','posts')\n",
    "\n",
    "# this process could take a ver long if you have a large volume of posts\n",
    "allmyposts = []\n",
    "\n",
    "# Wrap this block in a while loop so we can keep paginating requests until finished.\n",
    "while(True):\n",
    "    try:\n",
    "        for post in posts['data']:\n",
    "            allmyposts.append([post['message'], post['created_time']])\n",
    "        # Attempt to make a request to the next page of data, if it exists.\n",
    "        posts=requests.get(posts['paging']['next']).json()\n",
    "    except KeyError:\n",
    "        # When there are no more pages (['paging']['next']), break from the loop and end the script.\n",
    "        break\n",
    "        \n",
    "print allmyposts"
   ]
  },
  {
   "cell_type": "code",
   "execution_count": null,
   "metadata": {
    "collapsed": false,
    "deletable": true,
    "editable": true
   },
   "outputs": [],
   "source": [
    "len(allmyposts)"
   ]
  },
  {
   "cell_type": "code",
   "execution_count": null,
   "metadata": {
    "collapsed": false,
    "deletable": true,
    "editable": true
   },
   "outputs": [],
   "source": [
    "# to save all the data\n",
    "\n",
    "f = open(\"input.txt\",\"w\")\n",
    "\n",
    "graph = facebook.GraphAPI(access_token)\n",
    "posts = graph.get_connections('me','posts')\n",
    "\n",
    "# this process could take a ver long if you have a large volume of posts\n",
    "allmyposts = []\n",
    "\n",
    "# Wrap this block in a while loop so we can keep paginating requests until finished.\n",
    "while(True):\n",
    "    try:\n",
    "        #for post in posts['data']:\n",
    "        f.write(json.dumps(posts,indent=4))\n",
    "        # Attempt to make a request to the next page of data, if it exists.\n",
    "        posts=requests.get(posts['paging']['next']).json()\n",
    "    except KeyError:\n",
    "        # When there are no more pages (['paging']['next']), break from the loop and end the script.\n",
    "        break\n",
    "\n",
    "#close file\n",
    "f.close()"
   ]
  },
  {
   "cell_type": "markdown",
   "metadata": {
    "deletable": true,
    "editable": true
   },
   "source": [
    "# Your friends"
   ]
  },
  {
   "cell_type": "code",
   "execution_count": null,
   "metadata": {
    "collapsed": false,
    "deletable": true,
    "editable": true
   },
   "outputs": [],
   "source": [
    "pp(graph.get_connections('me', 'friends'))"
   ]
  },
  {
   "cell_type": "code",
   "execution_count": null,
   "metadata": {
    "collapsed": false,
    "deletable": true,
    "editable": true
   },
   "outputs": [],
   "source": [
    "friends = graph.get_connections('me', 'friends')\n",
    "for i in friends['data']:\n",
    "    print i['name']"
   ]
  },
  {
   "cell_type": "markdown",
   "metadata": {
    "deletable": true,
    "editable": true
   },
   "source": [
    "This is my FB page for teaching Facebook Ananalytics so it has only a few friends (former MBA students). What if you have many friends? Your program needs to traverse all the data until pagin ends. (http://stackoverflow.com/questions/28589239/python-facebook-api-cursor-pagination)"
   ]
  },
  {
   "cell_type": "code",
   "execution_count": null,
   "metadata": {
    "collapsed": false,
    "deletable": true,
    "editable": true
   },
   "outputs": [],
   "source": [
    "allfriends = []\n",
    "\n",
    "# Wrap this block in a while loop so we can keep paginating requests until\n",
    "# finished.\n",
    "while(True):\n",
    "    try:\n",
    "        for friend in friends['data']:\n",
    "            allfriends.append(friend['name'].encode('utf-8'))\n",
    "        # Attempt to make a request to the next page of data, if it exists.\n",
    "        friends=requests.get(friends['paging']['next']).json()\n",
    "    except KeyError:\n",
    "        # When there are no more pages (['paging']['next']), break from the\n",
    "        # loop and end the script.\n",
    "        break\n",
    "print allfriends"
   ]
  },
  {
   "cell_type": "markdown",
   "metadata": {
    "deletable": true,
    "editable": true
   },
   "source": [
    "# Search by Keywords"
   ]
  },
  {
   "cell_type": "code",
   "execution_count": null,
   "metadata": {
    "collapsed": false,
    "deletable": true,
    "editable": true
   },
   "outputs": [],
   "source": [
    "mysearch = graph.request(\"search\", {'q' : 'Kansas State University', 'type' : 'page', 'limit' : 5})\n",
    "mysearch"
   ]
  },
  {
   "cell_type": "code",
   "execution_count": null,
   "metadata": {
    "collapsed": false,
    "deletable": true,
    "editable": true
   },
   "outputs": [],
   "source": [
    "for i in mysearch['data']:\n",
    "    print i"
   ]
  },
  {
   "cell_type": "code",
   "execution_count": null,
   "metadata": {
    "collapsed": false,
    "deletable": true,
    "editable": true
   },
   "outputs": [],
   "source": [
    "for i in mysearch['data']:\n",
    "    print i['name'], i['category']"
   ]
  },
  {
   "cell_type": "markdown",
   "metadata": {
    "deletable": true,
    "editable": true
   },
   "source": [
    "# Results for a Graph API query for CNN\n",
    "\n",
    "+ More examples http://facebook-sdk.readthedocs.io/en/latest/api.html"
   ]
  },
  {
   "cell_type": "code",
   "execution_count": null,
   "metadata": {
    "collapsed": false,
    "deletable": true,
    "editable": true
   },
   "outputs": [],
   "source": [
    "# Get an instance of CNN.com\n",
    "# Using the page name also works if you know it.\n",
    "# e.g. 'CNN' or 'CNN News'\n",
    "cnn_id = '10154246192721509'\n",
    "cnn = pp(graph.get_object(cnn_id))\n",
    "cnn"
   ]
  },
  {
   "cell_type": "code",
   "execution_count": null,
   "metadata": {
    "collapsed": false,
    "deletable": true,
    "editable": true
   },
   "outputs": [],
   "source": [
    "cnn_page = graph.get_connections(id='10154246192721509', connection_name='likes')\n",
    "cnn_page"
   ]
  },
  {
   "cell_type": "markdown",
   "metadata": {
    "deletable": true,
    "editable": true
   },
   "source": [
    "# Querying the Graph API for Open Graph objects by their URLs"
   ]
  },
  {
   "cell_type": "code",
   "execution_count": null,
   "metadata": {
    "collapsed": false,
    "deletable": true,
    "editable": true
   },
   "outputs": [],
   "source": [
    "# CNN article \"All eyes on Trump, Ryan relationship after health care defeat\"\n",
    "pp(graph.get_object('http://www.cnn.com/2017/03/26/politics/ryan-trump-relationship-health-care/index.html?sr=fbCNN032717ryan-trump-relationship-health-care0130AMVODtopLink&linkId=35871059'))\n"
   ]
  },
  {
   "cell_type": "markdown",
   "metadata": {
    "deletable": true,
    "editable": true
   },
   "source": [
    "# Comparing likes between Coke and Pepsi fan pages"
   ]
  },
  {
   "cell_type": "code",
   "execution_count": null,
   "metadata": {
    "collapsed": false,
    "deletable": true,
    "editable": true
   },
   "outputs": [],
   "source": [
    "# Find Pepsi and Coke in search results\n",
    "\n",
    "pp(graph.request('search', {'q' : 'pepsi', 'type' : 'page', 'limit' : 5}))\n",
    "pp(graph.request('search', {'q' : 'coke', 'type' : 'page', 'limit' : 5}))\n",
    "\n",
    "# Use the ids to query for likes\n",
    "\n",
    "pepsi_id = '56381779049' # Could also use 'PepsiUS'\n",
    "coke_id = '40796308305'  # Could also use 'CocaCola'\n",
    "\n",
    "# A quick way to format integers with commas every 3 digits\n",
    "def int_format(n): return \"{:,}\".format(n)\n",
    "\n",
    "print \"Pepsi likes:\", int_format(graph.get_object(pepsi_id)['likes'])\n",
    "print \"Coke likes:\", int_format(graph.get_object(coke_id)['likes'])"
   ]
  },
  {
   "cell_type": "markdown",
   "metadata": {
    "deletable": true,
    "editable": true
   },
   "source": [
    "# Querying for all of your friends' likes"
   ]
  },
  {
   "cell_type": "code",
   "execution_count": null,
   "metadata": {
    "collapsed": false,
    "deletable": true,
    "editable": true
   },
   "outputs": [],
   "source": [
    "base_url = 'https://graph.facebook.com/me'\n",
    "\n",
    "# Get 10 likes for 10 friends\n",
    "fields = 'id,name,friends.limit(10).fields(likes.limit(10))'\n",
    "\n",
    "url = '%s?fields=%s&access_token=%s' % \\\n",
    "    (base_url, fields, access_token,)\n",
    "\n",
    "content = requests.get(url).json()\n",
    "\n",
    "content"
   ]
  },
  {
   "cell_type": "code",
   "execution_count": null,
   "metadata": {
    "collapsed": false,
    "deletable": true,
    "editable": true
   },
   "outputs": [],
   "source": [
    "for i in content['friends']['data']:\n",
    "    for j in i['likes']['data']:\n",
    "        print j"
   ]
  },
  {
   "cell_type": "code",
   "execution_count": null,
   "metadata": {
    "collapsed": false,
    "deletable": true,
    "editable": true
   },
   "outputs": [],
   "source": [
    "for i in content['friends']['data']:\n",
    "    for j in i['likes']['data']:\n",
    "        print j['name'], j['category'], j['created_time']"
   ]
  },
  {
   "cell_type": "markdown",
   "metadata": {
    "deletable": true,
    "editable": true
   },
   "source": [
    "# Calculating the most popular likes among your friends"
   ]
  },
  {
   "cell_type": "code",
   "execution_count": null,
   "metadata": {
    "collapsed": false,
    "deletable": true,
    "editable": true
   },
   "outputs": [],
   "source": [
    "friends = graph.get_connections(\"me\", \"friends\")['data']\n",
    "\n",
    "likes = { friend['name'] : graph.get_connections(friend['id'], \"likes\")['data'] \n",
    "          for friend in friends }\n",
    "\n",
    "print likes"
   ]
  },
  {
   "cell_type": "code",
   "execution_count": null,
   "metadata": {
    "collapsed": false,
    "deletable": true,
    "editable": true
   },
   "outputs": [],
   "source": [
    "# Analyze all likes from friendships for frequency\n",
    "\n",
    "# pip install prettytable\n",
    "from prettytable import PrettyTable\n",
    "from collections import Counter\n",
    "friends_likes = Counter([like['name']\n",
    "                         for friend in likes \n",
    "                           for like in likes[friend]\n",
    "                               if like.get('name')])\n",
    "\n",
    "pt = PrettyTable(field_names=['Name', 'Freq'])\n",
    "pt.align['Name'], pt.align['Freq'] = 'l', 'r'\n",
    "[ pt.add_row(fl) for fl in friends_likes.most_common(10) ]\n",
    "\n",
    "print 'Top 10 likes amongst friends'\n",
    "print pt"
   ]
  },
  {
   "cell_type": "markdown",
   "metadata": {
    "deletable": true,
    "editable": true
   },
   "source": [
    "# Calculating the most popular categories for likes among your friends"
   ]
  },
  {
   "cell_type": "code",
   "execution_count": null,
   "metadata": {
    "collapsed": false,
    "deletable": true,
    "editable": true
   },
   "outputs": [],
   "source": [
    "# Analyze all like categories by frequency\n",
    "\n",
    "friends_likes_categories = Counter([like['category'] \n",
    "                                    for friend in likes \n",
    "                                      for like in likes[friend]])\n",
    "\n",
    "pt = PrettyTable(field_names=['Category', 'Freq'])\n",
    "pt.align['Category'], pt.align['Freq'] = 'l', 'r'\n",
    "[ pt.add_row(flc) for flc in friends_likes_categories.most_common(10) ]\n",
    "\n",
    "print \"Top 10 like categories for friends\"\n",
    "print pt"
   ]
  },
  {
   "cell_type": "markdown",
   "metadata": {
    "deletable": true,
    "editable": true
   },
   "source": [
    "# Calculating the number of likes for each friend and sorting by frequency"
   ]
  },
  {
   "cell_type": "code",
   "execution_count": null,
   "metadata": {
    "collapsed": false,
    "deletable": true,
    "editable": true
   },
   "outputs": [],
   "source": [
    "# Build a frequency distribution of number of likes by \n",
    "# friend with a dictionary comprehension and sort it in \n",
    "# descending order\n",
    "\n",
    "from operator import itemgetter\n",
    "\n",
    "num_likes_by_friend = { friend : len(likes[friend]) \n",
    "                        for friend in likes }\n",
    "\n",
    "\n",
    "pt = PrettyTable(field_names=['Friend', 'Num Likes'])\n",
    "pt.align['Friend'], pt.align['Num Likes'] = 'l', 'r'\n",
    "[ pt.add_row(nlbf) \n",
    "  for nlbf in sorted(num_likes_by_friend.items(), \n",
    "                     key=itemgetter(1), \n",
    "                     reverse=True) ]\n",
    "\n",
    "print \"Number of likes per friend\"\n",
    "print pt"
   ]
  },
  {
   "cell_type": "markdown",
   "metadata": {
    "deletable": true,
    "editable": true
   },
   "source": [
    "# Finding common likes between an ego and its friendships in a social network"
   ]
  },
  {
   "cell_type": "code",
   "execution_count": null,
   "metadata": {
    "collapsed": false,
    "deletable": true,
    "editable": true
   },
   "outputs": [],
   "source": [
    "# Which of your likes are in common with which friends?\n",
    "my_likes = [ like['name'] \n",
    "             for like in graph.get_connections(\"me\", \"likes\")['data'] ]\n",
    "\n",
    "pt = PrettyTable(field_names=[\"Name\"])\n",
    "pt.align = 'l'\n",
    "[ pt.add_row((ml,)) for ml in my_likes ]\n",
    "print \"My likes\"\n",
    "print pt\n",
    "\n",
    "# Use the set intersection as represented by the ampersand\n",
    "# operator to find common likes.\n",
    "\n",
    "common_likes = list(set(my_likes) & set(friends_likes))\n",
    "\n",
    "pt = PrettyTable(field_names=[\"Name\"])\n",
    "pt.align = 'l'\n",
    "[ pt.add_row((cl,)) for cl in common_likes ]\n",
    "print\n",
    "print \"My common likes with friends\"\n",
    "print pt"
   ]
  },
  {
   "cell_type": "markdown",
   "metadata": {
    "collapsed": true,
    "deletable": true,
    "editable": true
   },
   "source": [
    "# Reference\n",
    "\n",
    "- https://github.com/ptwobrussell/Mining-the-Social-Web-2nd-Edition/blob/master/ipynb/Chapter%202%20-%20Mining%20Facebook.ipynb\n",
    "- http://shivammitra.com/pagination-facebook-api-python/"
   ]
  },
  {
   "cell_type": "markdown",
   "metadata": {
    "deletable": true,
    "editable": true
   },
   "source": [
    "# Additional Resources\n",
    "\n",
    "- Chapter 4.  Posts, Pages, and User Interactions on Facebook in Mastering Social Media Mining with Python (As a student of K-State, you can access over hundreds of data analytics books at no charge through Safari Books Online (http://apps.lib.k-state.edu/databases/?s=safari).\n",
    "- Netvizz (a facebook app for collecting network data)\n",
    "    - https://apps.facebook.com/netvizz/\n",
    "- Facepager (a program for collecting posts and comments) \n",
    "    - Installation https://github.com/strohne/Facepager/releases\n",
    "    - Tutorial https://www.youtube.com/watch?v=S9kYApoR8U4"
   ]
  }
 ],
 "metadata": {
  "kernelspec": {
   "display_name": "Python 2",
   "language": "python",
   "name": "python2"
  },
  "language_info": {
   "codemirror_mode": {
    "name": "ipython",
    "version": 2
   },
   "file_extension": ".py",
   "mimetype": "text/x-python",
   "name": "python",
   "nbconvert_exporter": "python",
   "pygments_lexer": "ipython2",
   "version": "2.7.13"
  }
 },
 "nbformat": 4,
 "nbformat_minor": 0
}
