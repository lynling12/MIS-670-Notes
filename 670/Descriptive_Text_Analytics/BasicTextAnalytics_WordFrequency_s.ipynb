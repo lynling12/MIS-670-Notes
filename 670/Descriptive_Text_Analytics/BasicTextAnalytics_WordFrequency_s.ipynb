{
 "cells": [
  {
   "cell_type": "markdown",
   "metadata": {},
   "source": [
    "<img src = \"images\\outline.gif\">\n",
    "\n",
    "# Descriptive Text Analytics\n",
    "- Unstructured data refers to \"texts\" in your data (e.g., documents, customer/product reviews, tweets, facebook posts)\n",
    "- Many different techniques are available for text (or content) analytics (from simple to advanced)\n",
    "- Simple: word frequency ... word cloud ... application of descriptive analytics to texts\n",
    "- Advanced: classification, sentiment analysis, clustering, topic modeling, ..."
   ]
  },
  {
   "cell_type": "markdown",
   "metadata": {},
   "source": [
    "## Descriptive text analytics, first"
   ]
  },
  {
   "cell_type": "code",
   "execution_count": 1,
   "metadata": {
    "collapsed": true
   },
   "outputs": [],
   "source": [
    "# import nltk (natural language tool kit), a popular python package for text mining\n",
    "import nltk\n",
    "# stopwords, FreqDist, word_tokenize\n",
    "from nltk.corpus import stopwords\n",
    "from nltk import FreqDist, word_tokenize\n",
    "from nltk.stem.porter import PorterStemmer\n",
    "from nltk.stem import WordNetLemmatizer\n",
    "from nltk.corpus import stopwords\n",
    "#regular expression\n",
    "import re\n",
    "#csv\n",
    "import csv\n",
    "# Excel-like format\n",
    "import pandas as pd\n",
    "#data visualization\n",
    "import matplotlib.pyplot as plt\n",
    "% matplotlib inline"
   ]
  },
  {
   "cell_type": "markdown",
   "metadata": {},
   "source": [
    "# Reading data as list"
   ]
  },
  {
   "cell_type": "code",
   "execution_count": 2,
   "metadata": {},
   "outputs": [
    {
     "name": "stdout",
     "output_type": "stream",
     "text": [
      "[['I love this sandwich.'], ['this is an amazing place!'], ['I feel very good about these beers.'], ['this is my best work.'], ['what an awesome view'], ['I do not like this restaurant'], ['I am tired of this stuff.'], ['I cant deal with this'], ['he is my sworn enemy!'], ['my boss is horrible.'], ['the beer was good.'], ['I do not enjoy my job'], ['I aint feeling dandy today.'], ['I feel amazing!'], ['Gary is a friend of mine.'], ['I cant believe Im doing this.']]\n"
     ]
    }
   ],
   "source": [
    "review = []\n",
    "openfile = open('data/sampledata_wordfrequency.csv', 'rb')\n",
    "r = csv.reader(openfile)\n",
    "for i in r:\n",
    "# get the first column only (ignoring the second column)\n",
    "    review.append(i)    \n",
    "openfile.close()\n",
    "\n",
    "print review"
   ]
  },
  {
   "cell_type": "markdown",
   "metadata": {},
   "source": [
    "## Let's study each step necessary for word frequency analysis\n",
    "\n",
    "Data/Text Preprocessing (Data Wrangling) for Content Analytics (or Text Analytics)\n",
    "\n",
    "This step, which is extremely critical for text analytics, involves several data transformation and manipulation activities to prepare the dataset for predictive analytics (e.g., training predictive or machine learning model). Specifically,\n",
    "\n",
    "1. **tokenization** : breaking sentences and documents to tokens (individual words or terms)\n",
    "2. **transforming case** : converting tokens (or words) to lower case\n",
    "3. **removing stopwords** : removing less informative words or tokens from the dataset\n",
    "4. **ngram** : finding informative phrases consisting of two words or more \n",
    "5. **stemming or lemmatization**: finding "
   ]
  },
  {
   "cell_type": "code",
   "execution_count": 3,
   "metadata": {
    "collapsed": true
   },
   "outputs": [],
   "source": [
    "# currently the data are in list ... convert to string\n",
    "tokens = str(review)\n",
    "#lowecases\n",
    "tokens = tokens.lower()\n",
    "# Remove useless numbers and alphanumerical words\n",
    "tokens = re.sub(\"[^a-zA-Z0-9]\", \" \", tokens)\n",
    "#tokenization or word split\n",
    "tokens = word_tokenize(tokens)\n",
    "#Remove stopwords\n",
    "tokens = (word for word in tokens if word not in stopwords.words('english'))\n",
    "# Filter non-alphanumeric characters from tokens\n",
    "tokens = (word for word in tokens if word.isalpha())\n",
    "#remove short words\n",
    "tokens = (word for word in tokens if len(word) >= 3)\n",
    "#Create your bigrams ... bigrams are two tokens\n",
    "#bgs = nltk.bigrams(tokens)"
   ]
  },
  {
   "cell_type": "markdown",
   "metadata": {},
   "source": [
    "# Word Frequency"
   ]
  },
  {
   "cell_type": "code",
   "execution_count": 4,
   "metadata": {},
   "outputs": [
    {
     "data": {
      "text/plain": [
       "FreqDist({'aint': 1,\n",
       "          'amazing': 2,\n",
       "          'awesome': 1,\n",
       "          'beer': 1,\n",
       "          'beers': 1,\n",
       "          'believe': 1,\n",
       "          'best': 1,\n",
       "          'boss': 1,\n",
       "          'cant': 2,\n",
       "          'dandy': 1,\n",
       "          'deal': 1,\n",
       "          'enemy': 1,\n",
       "          'enjoy': 1,\n",
       "          'feel': 2,\n",
       "          'feeling': 1,\n",
       "          'friend': 1,\n",
       "          'gary': 1,\n",
       "          'good': 2,\n",
       "          'horrible': 1,\n",
       "          'job': 1,\n",
       "          'like': 1,\n",
       "          'love': 1,\n",
       "          'mine': 1,\n",
       "          'place': 1,\n",
       "          'restaurant': 1,\n",
       "          'sandwich': 1,\n",
       "          'stuff': 1,\n",
       "          'sworn': 1,\n",
       "          'tired': 1,\n",
       "          'today': 1,\n",
       "          'view': 1,\n",
       "          'work': 1})"
      ]
     },
     "execution_count": 4,
     "metadata": {},
     "output_type": "execute_result"
    }
   ],
   "source": [
    "#compute frequency distribution for all the bigrams in the text\n",
    "fdist = nltk.FreqDist(tokens)\n",
    "fdist"
   ]
  },
  {
   "cell_type": "code",
   "execution_count": 7,
   "metadata": {},
   "outputs": [
    {
     "data": {
      "text/plain": [
       "[('feel', 2),\n",
       " ('cant', 2),\n",
       " ('good', 2),\n",
       " ('amazing', 2),\n",
       " ('enjoy', 1),\n",
       " ('love', 1),\n",
       " ('deal', 1),\n",
       " ('tired', 1),\n",
       " ('awesome', 1),\n",
       " ('mine', 1),\n",
       " ('gary', 1),\n",
       " ('best', 1),\n",
       " ('aint', 1),\n",
       " ('beer', 1),\n",
       " ('horrible', 1),\n",
       " ('sworn', 1),\n",
       " ('today', 1),\n",
       " ('dandy', 1),\n",
       " ('sandwich', 1),\n",
       " ('boss', 1)]"
      ]
     },
     "execution_count": 7,
     "metadata": {},
     "output_type": "execute_result"
    }
   ],
   "source": [
    "fdist.most_common(20)"
   ]
  },
  {
   "cell_type": "markdown",
   "metadata": {},
   "source": [
    "## Additional Text Preprocessing (if needed)\n",
    "\n",
    "- stemming / lemmatize: changes \"dogs\" to \"dog\"\n",
    "- you can add additional stopwords, depending on business contexts (e.g., also, cant, aint)"
   ]
  },
  {
   "cell_type": "code",
   "execution_count": 8,
   "metadata": {},
   "outputs": [
    {
     "data": {
      "text/plain": [
       "FreqDist({'amazing': 2,\n",
       "          'awesome': 1,\n",
       "          u'beer': 2,\n",
       "          'believe': 1,\n",
       "          'best': 1,\n",
       "          u'bos': 1,\n",
       "          'dandy': 1,\n",
       "          'deal': 1,\n",
       "          'enemy': 1,\n",
       "          'enjoy': 1,\n",
       "          'feel': 2,\n",
       "          'feeling': 1,\n",
       "          'friend': 1,\n",
       "          'gary': 1,\n",
       "          'good': 2,\n",
       "          'horrible': 1,\n",
       "          'job': 1,\n",
       "          'like': 1,\n",
       "          'love': 1,\n",
       "          'mine': 1,\n",
       "          'place': 1,\n",
       "          'restaurant': 1,\n",
       "          'sandwich': 1,\n",
       "          'stuff': 1,\n",
       "          'sworn': 1,\n",
       "          'tired': 1,\n",
       "          'view': 1,\n",
       "          'work': 1})"
      ]
     },
     "execution_count": 8,
     "metadata": {},
     "output_type": "execute_result"
    }
   ],
   "source": [
    "review = []\n",
    "openfile = open('data/sampledata_wordfrequency.csv', 'rb')\n",
    "r = csv.reader(openfile)\n",
    "for i in r:\n",
    "# get the first column only (ignoring the second column)\n",
    "    review.append(i)    \n",
    "openfile.close()\n",
    "\n",
    "# what if you have additional stopwords to be removed\n",
    "tokens = str(review)\n",
    "#lowecases\n",
    "tokens = tokens.lower()\n",
    "# Remove useless numbers and alphanumerical words\n",
    "tokens = re.sub(\"[^a-zA-Z0-9]\", \" \", tokens)\n",
    "#tokenization or word split\n",
    "tokens = word_tokenize(tokens)\n",
    "#get stemming words or lemmas\n",
    "wordnet_lemmatizer = WordNetLemmatizer()\n",
    "tokens = (wordnet_lemmatizer.lemmatize(word) for word in tokens)\n",
    "#additional stopwrods\n",
    "more_stopwords = set(('cant', 'aint', 'today'))\n",
    "extra_stoplist = set(stopwords.words('english')) | more_stopwords\n",
    "tokens = (word for word in tokens if word not in extra_stoplist)\n",
    "# Filter non-alphanumeric characters from tokens\n",
    "tokens = (word for word in tokens if word.isalpha())\n",
    "#remove short words\n",
    "tokens = (word for word in tokens if len(word) >= 3)\n",
    "\n",
    "fdist = nltk.FreqDist(tokens)\n",
    "fdist"
   ]
  },
  {
   "cell_type": "markdown",
   "metadata": {},
   "source": [
    "## Appendix: Word Frequency Analysis"
   ]
  },
  {
   "cell_type": "raw",
   "metadata": {},
   "source": [
    "Example\tDescription\n",
    "\n",
    "fdist = FreqDist(samples)\tcreate a frequency distribution containing the given samples\n",
    "fdist[sample] += 1\tincrement the count for this sample\n",
    "fdist['monstrous']\tcount of the number of times a given sample occurred\n",
    "fdist.freq('monstrous')\tfrequency of a given sample\n",
    "fdist.N()\ttotal number of samples\n",
    "fdist.most_common(n)\tthe n most common samples and their frequencies\n",
    "for sample in fdist:\titerate over the samples\n",
    "fdist.max()\tsample with the greatest count\n",
    "fdist.tabulate()\ttabulate the frequency distribution\n",
    "fdist.plot()\tgraphical plot of the frequency distribution\n",
    "fdist.plot(cumulative=True)\tcumulative plot of the frequency distribution\n",
    "fdist1 |= fdist2\tupdate fdist1 with counts from fdist2\n",
    "fdist1 < fdist2\ttest if samples in fdist1 occur less frequently than in fdist2\n",
    "\n",
    "http://www.nltk.org/book/ch01.html"
   ]
  },
  {
   "cell_type": "code",
   "execution_count": 9,
   "metadata": {},
   "outputs": [
    {
     "data": {
      "image/png": "[encoded data removed]",
      "text/plain": [
       "<matplotlib.figure.Figure at 0x1166064d0>"
      ]
     },
     "metadata": {},
     "output_type": "display_data"
    }
   ],
   "source": [
    "plt.figure(figsize=(12,6))\n",
    "fdist.plot(50)"
   ]
  },
  {
   "cell_type": "markdown",
   "metadata": {},
   "source": [
    "### Saving the word frequency analysis"
   ]
  },
  {
   "cell_type": "code",
   "execution_count": 10,
   "metadata": {
    "collapsed": true
   },
   "outputs": [],
   "source": [
    "# save the results of word frequency\n",
    "output = open(\"data/output_fdist.csv\", \"wb\") \n",
    "w = csv.writer(output)\n",
    "w.writerows(fdist.items())\n",
    "output.close()"
   ]
  },
  {
   "cell_type": "markdown",
   "metadata": {},
   "source": [
    "# Word Frequency Analysis - Bigrams\n",
    "\n",
    "* a list of word pairs"
   ]
  },
  {
   "cell_type": "code",
   "execution_count": 11,
   "metadata": {},
   "outputs": [
    {
     "data": {
      "text/plain": [
       "FreqDist({('amazing', 'gary'): 1,\n",
       "          ('amazing', 'place'): 1,\n",
       "          ('awesome', 'view'): 1,\n",
       "          (u'beer', 'best'): 1,\n",
       "          ('beer', 'good'): 1,\n",
       "          ('best', 'work'): 1,\n",
       "          (u'bos', 'horrible'): 1,\n",
       "          ('dandy', 'feel'): 1,\n",
       "          ('deal', 'sworn'): 1,\n",
       "          ('enemy', u'bos'): 1,\n",
       "          ('enjoy', 'job'): 1,\n",
       "          ('feel', 'amazing'): 1,\n",
       "          ('feel', 'good'): 1,\n",
       "          ('feeling', 'dandy'): 1,\n",
       "          ('friend', 'mine'): 1,\n",
       "          ('gary', 'friend'): 1,\n",
       "          ('good', u'beer'): 1,\n",
       "          ('good', 'enjoy'): 1,\n",
       "          ('horrible', 'beer'): 1,\n",
       "          ('job', 'feeling'): 1,\n",
       "          ('like', 'restaurant'): 1,\n",
       "          ('love', 'sandwich'): 1,\n",
       "          ('mine', 'believe'): 1,\n",
       "          ('place', 'feel'): 1,\n",
       "          ('restaurant', 'tired'): 1,\n",
       "          ('sandwich', 'amazing'): 1,\n",
       "          ('stuff', 'deal'): 1,\n",
       "          ('sworn', 'enemy'): 1,\n",
       "          ('tired', 'stuff'): 1,\n",
       "          ('view', 'like'): 1,\n",
       "          ('work', 'awesome'): 1})"
      ]
     },
     "execution_count": 11,
     "metadata": {},
     "output_type": "execute_result"
    }
   ],
   "source": [
    "# what if you have additional stopwords to be removed\n",
    "tokens = str(review)\n",
    "#lowecases\n",
    "tokens = tokens.lower()\n",
    "# Remove useless numbers and alphanumerical words\n",
    "tokens = re.sub(\"[^a-zA-Z0-9]\", \" \", tokens)\n",
    "#tokenization or word split\n",
    "tokens = word_tokenize(tokens)\n",
    "#get stemming words or lemmas\n",
    "wordnet_lemmatizer = WordNetLemmatizer()\n",
    "tokens = (wordnet_lemmatizer.lemmatize(word) for word in tokens)\n",
    "#additional stopwrods\n",
    "more_stopwords = set(('cant', 'aint', 'today'))\n",
    "extra_stoplist = set(stopwords.words('english')) | more_stopwords\n",
    "tokens = (word for word in tokens if word not in extra_stoplist)\n",
    "# Filter non-alphanumeric characters from tokens\n",
    "tokens = (word for word in tokens if word.isalpha())\n",
    "#remove short words\n",
    "tokens = (word for word in tokens if len(word) >= 3)\n",
    "#Create your bigrams ... a bigram are a pair of two tokens\n",
    "bigrams = nltk.bigrams(tokens)\n",
    "#compute frequency distribution for all the bigrams in the text\n",
    "fdist_bi = nltk.FreqDist(bigrams)\n",
    "fdist_bi"
   ]
  },
  {
   "cell_type": "code",
   "execution_count": 12,
   "metadata": {
    "collapsed": true
   },
   "outputs": [],
   "source": [
    "# save the results of word frequency\n",
    "output = open(\"data/output_fdist_bigram.csv\", \"wb\") \n",
    "w = csv.writer(output)\n",
    "w.writerows(fdist_bi.items())\n",
    "output.close()"
   ]
  },
  {
   "cell_type": "markdown",
   "metadata": {},
   "source": [
    "You can perform further descriptive analysis using Tableau, Excel, and Python."
   ]
  },
  {
   "cell_type": "code",
   "execution_count": 13,
   "metadata": {},
   "outputs": [
    {
     "data": {
      "image/png": "[encoded data removed]",
      "text/plain": [
       "<matplotlib.figure.Figure at 0x11e24b2d0>"
      ]
     },
     "metadata": {},
     "output_type": "display_data"
    }
   ],
   "source": [
    "# plot word frequency using bigram\n",
    "plt.figure(figsize=(12,6))\n",
    "fdist_bi.plot(10)"
   ]
  },
  {
   "cell_type": "markdown",
   "metadata": {},
   "source": [
    "# Exercise: Perform word frequency analysis on Politics RSS feed dataset\n",
    "\n",
    "- politics.csv"
   ]
  },
  {
   "cell_type": "code",
   "execution_count": 34,
   "metadata": {
    "collapsed": true
   },
   "outputs": [],
   "source": [
    "review = []\n",
    "openfile = open('data/politics.csv', 'rb')\n",
    "r = csv.reader(openfile)\n",
    "for i in r:\n",
    "# get the first column only (ignoring the second column)\n",
    "    review.append(i)    \n",
    "openfile.close()\n",
    "\n",
    "# what if you have additional stopwords to be removed\n",
    "tokens = str(review)\n",
    "#lowecases\n",
    "tokens = tokens.lower()\n",
    "# Remove useless numbers and alphanumerical words\n",
    "tokens = re.sub(\"[^a-zA-Z0-9]\", \" \", tokens)\n",
    "#tokenization or word split\n",
    "tokens = word_tokenize(tokens)\n",
    "#get stemming words or lemmas\n",
    "wordnet_lemmatizer = WordNetLemmatizer()\n",
    "tokens = (wordnet_lemmatizer.lemmatize(word) for word in tokens)\n",
    "#additional stopwrods\n",
    "more_stopwords = set(('cant', 'aint', 'today'))\n",
    "extra_stoplist = set(stopwords.words('english')) | more_stopwords\n",
    "tokens = (word for word in tokens if word not in extra_stoplist)\n",
    "# Filter non-alphanumeric characters from tokens\n",
    "tokens = (word for word in tokens if word.isalpha())\n",
    "#remove short words\n",
    "tokens = (word for word in tokens if len(word) >= 3)\n",
    "#Create your bigrams ... a bigram are a pair of two tokens\n",
    "bigrams = nltk.bigrams(tokens)\n",
    "#compute frequency distribution for all the bigrams in the text\n",
    "f = nltk.FreqDist(bigrams)\n",
    "\n",
    "\n",
    "\n",
    "\n",
    "\n",
    "\n",
    "\n",
    "\n",
    "\n",
    "\n",
    "\n",
    "\n",
    "\n"
   ]
  },
  {
   "cell_type": "code",
   "execution_count": 33,
   "metadata": {},
   "outputs": [
    {
     "name": "stdout",
     "output_type": "stream",
     "text": [
      "1\n"
     ]
    }
   ],
   "source": [
    "# answer the following questions\n",
    "\n",
    "# Q1. how many rows are in the politics folder\n",
    "count = len(open(r\"data/politics.csv\", 'rU').readlines())\n",
    "print count\n",
    "    \n",
    "\n",
    "# Q2. What are the most popular words\n",
    "\n",
    "    \n",
    "    \n",
    "\n",
    "\n"
   ]
  },
  {
   "cell_type": "code",
   "execution_count": 16,
   "metadata": {},
   "outputs": [
    {
     "data": {
      "image/png": "[encoded data removed]",
      "text/plain": [
       "<matplotlib.figure.Figure at 0x11e61c990>"
      ]
     },
     "metadata": {},
     "output_type": "display_data"
    }
   ],
   "source": [
    "# plot (top 50 words only)\n",
    "plt.figure(figsize=(12,6))\n",
    "f.plot(10)\n"
   ]
  },
  {
   "cell_type": "markdown",
   "metadata": {},
   "source": [
    "# Appendix 1"
   ]
  },
  {
   "cell_type": "markdown",
   "metadata": {},
   "source": [
    "## Putting the frequency results in data frame (Excel-like)"
   ]
  },
  {
   "cell_type": "code",
   "execution_count": 17,
   "metadata": {},
   "outputs": [
    {
     "name": "stdout",
     "output_type": "stream",
     "text": [
      "enjoy 1\n",
      "bos 1\n",
      "love 1\n",
      "deal 1\n",
      "tired 1\n",
      "feel 2\n",
      "awesome 1\n",
      "mine 1\n",
      "good 2\n",
      "gary 1\n",
      "best 1\n",
      "amazing 2\n",
      "beer 2\n",
      "horrible 1\n",
      "sworn 1\n",
      "friend 1\n",
      "dandy 1\n",
      "sandwich 1\n",
      "job 1\n",
      "believe 1\n",
      "enemy 1\n",
      "like 1\n",
      "restaurant 1\n",
      "work 1\n",
      "stuff 1\n",
      "place 1\n",
      "feeling 1\n",
      "view 1\n"
     ]
    }
   ],
   "source": [
    "fdist.most_common(20)\n",
    "for k,v in fdist.items():\n",
    "    print k,v"
   ]
  },
  {
   "cell_type": "code",
   "execution_count": 18,
   "metadata": {},
   "outputs": [
    {
     "name": "stdout",
     "output_type": "stream",
     "text": [
      "[['enjoy', 1]]\n",
      "[['enjoy', 1], [u'bos', 1]]\n",
      "[['enjoy', 1], [u'bos', 1], ['love', 1]]\n",
      "[['enjoy', 1], [u'bos', 1], ['love', 1], ['deal', 1]]\n",
      "[['enjoy', 1], [u'bos', 1], ['love', 1], ['deal', 1], ['tired', 1]]\n",
      "[['enjoy', 1], [u'bos', 1], ['love', 1], ['deal', 1], ['tired', 1], ['feel', 2]]\n",
      "[['enjoy', 1], [u'bos', 1], ['love', 1], ['deal', 1], ['tired', 1], ['feel', 2], ['awesome', 1]]\n",
      "[['enjoy', 1], [u'bos', 1], ['love', 1], ['deal', 1], ['tired', 1], ['feel', 2], ['awesome', 1], ['mine', 1]]\n",
      "[['enjoy', 1], [u'bos', 1], ['love', 1], ['deal', 1], ['tired', 1], ['feel', 2], ['awesome', 1], ['mine', 1], ['good', 2]]\n",
      "[['enjoy', 1], [u'bos', 1], ['love', 1], ['deal', 1], ['tired', 1], ['feel', 2], ['awesome', 1], ['mine', 1], ['good', 2], ['gary', 1]]\n",
      "[['enjoy', 1], [u'bos', 1], ['love', 1], ['deal', 1], ['tired', 1], ['feel', 2], ['awesome', 1], ['mine', 1], ['good', 2], ['gary', 1], ['best', 1]]\n",
      "[['enjoy', 1], [u'bos', 1], ['love', 1], ['deal', 1], ['tired', 1], ['feel', 2], ['awesome', 1], ['mine', 1], ['good', 2], ['gary', 1], ['best', 1], ['amazing', 2]]\n",
      "[['enjoy', 1], [u'bos', 1], ['love', 1], ['deal', 1], ['tired', 1], ['feel', 2], ['awesome', 1], ['mine', 1], ['good', 2], ['gary', 1], ['best', 1], ['amazing', 2], [u'beer', 2]]\n",
      "[['enjoy', 1], [u'bos', 1], ['love', 1], ['deal', 1], ['tired', 1], ['feel', 2], ['awesome', 1], ['mine', 1], ['good', 2], ['gary', 1], ['best', 1], ['amazing', 2], [u'beer', 2], ['horrible', 1]]\n",
      "[['enjoy', 1], [u'bos', 1], ['love', 1], ['deal', 1], ['tired', 1], ['feel', 2], ['awesome', 1], ['mine', 1], ['good', 2], ['gary', 1], ['best', 1], ['amazing', 2], [u'beer', 2], ['horrible', 1], ['sworn', 1]]\n",
      "[['enjoy', 1], [u'bos', 1], ['love', 1], ['deal', 1], ['tired', 1], ['feel', 2], ['awesome', 1], ['mine', 1], ['good', 2], ['gary', 1], ['best', 1], ['amazing', 2], [u'beer', 2], ['horrible', 1], ['sworn', 1], ['friend', 1]]\n",
      "[['enjoy', 1], [u'bos', 1], ['love', 1], ['deal', 1], ['tired', 1], ['feel', 2], ['awesome', 1], ['mine', 1], ['good', 2], ['gary', 1], ['best', 1], ['amazing', 2], [u'beer', 2], ['horrible', 1], ['sworn', 1], ['friend', 1], ['dandy', 1]]\n",
      "[['enjoy', 1], [u'bos', 1], ['love', 1], ['deal', 1], ['tired', 1], ['feel', 2], ['awesome', 1], ['mine', 1], ['good', 2], ['gary', 1], ['best', 1], ['amazing', 2], [u'beer', 2], ['horrible', 1], ['sworn', 1], ['friend', 1], ['dandy', 1], ['sandwich', 1]]\n",
      "[['enjoy', 1], [u'bos', 1], ['love', 1], ['deal', 1], ['tired', 1], ['feel', 2], ['awesome', 1], ['mine', 1], ['good', 2], ['gary', 1], ['best', 1], ['amazing', 2], [u'beer', 2], ['horrible', 1], ['sworn', 1], ['friend', 1], ['dandy', 1], ['sandwich', 1], ['job', 1]]\n",
      "[['enjoy', 1], [u'bos', 1], ['love', 1], ['deal', 1], ['tired', 1], ['feel', 2], ['awesome', 1], ['mine', 1], ['good', 2], ['gary', 1], ['best', 1], ['amazing', 2], [u'beer', 2], ['horrible', 1], ['sworn', 1], ['friend', 1], ['dandy', 1], ['sandwich', 1], ['job', 1], ['believe', 1]]\n",
      "[['enjoy', 1], [u'bos', 1], ['love', 1], ['deal', 1], ['tired', 1], ['feel', 2], ['awesome', 1], ['mine', 1], ['good', 2], ['gary', 1], ['best', 1], ['amazing', 2], [u'beer', 2], ['horrible', 1], ['sworn', 1], ['friend', 1], ['dandy', 1], ['sandwich', 1], ['job', 1], ['believe', 1], ['enemy', 1]]\n",
      "[['enjoy', 1], [u'bos', 1], ['love', 1], ['deal', 1], ['tired', 1], ['feel', 2], ['awesome', 1], ['mine', 1], ['good', 2], ['gary', 1], ['best', 1], ['amazing', 2], [u'beer', 2], ['horrible', 1], ['sworn', 1], ['friend', 1], ['dandy', 1], ['sandwich', 1], ['job', 1], ['believe', 1], ['enemy', 1], ['like', 1]]\n",
      "[['enjoy', 1], [u'bos', 1], ['love', 1], ['deal', 1], ['tired', 1], ['feel', 2], ['awesome', 1], ['mine', 1], ['good', 2], ['gary', 1], ['best', 1], ['amazing', 2], [u'beer', 2], ['horrible', 1], ['sworn', 1], ['friend', 1], ['dandy', 1], ['sandwich', 1], ['job', 1], ['believe', 1], ['enemy', 1], ['like', 1], ['restaurant', 1]]\n",
      "[['enjoy', 1], [u'bos', 1], ['love', 1], ['deal', 1], ['tired', 1], ['feel', 2], ['awesome', 1], ['mine', 1], ['good', 2], ['gary', 1], ['best', 1], ['amazing', 2], [u'beer', 2], ['horrible', 1], ['sworn', 1], ['friend', 1], ['dandy', 1], ['sandwich', 1], ['job', 1], ['believe', 1], ['enemy', 1], ['like', 1], ['restaurant', 1], ['work', 1]]\n",
      "[['enjoy', 1], [u'bos', 1], ['love', 1], ['deal', 1], ['tired', 1], ['feel', 2], ['awesome', 1], ['mine', 1], ['good', 2], ['gary', 1], ['best', 1], ['amazing', 2], [u'beer', 2], ['horrible', 1], ['sworn', 1], ['friend', 1], ['dandy', 1], ['sandwich', 1], ['job', 1], ['believe', 1], ['enemy', 1], ['like', 1], ['restaurant', 1], ['work', 1], ['stuff', 1]]\n",
      "[['enjoy', 1], [u'bos', 1], ['love', 1], ['deal', 1], ['tired', 1], ['feel', 2], ['awesome', 1], ['mine', 1], ['good', 2], ['gary', 1], ['best', 1], ['amazing', 2], [u'beer', 2], ['horrible', 1], ['sworn', 1], ['friend', 1], ['dandy', 1], ['sandwich', 1], ['job', 1], ['believe', 1], ['enemy', 1], ['like', 1], ['restaurant', 1], ['work', 1], ['stuff', 1], ['place', 1]]\n",
      "[['enjoy', 1], [u'bos', 1], ['love', 1], ['deal', 1], ['tired', 1], ['feel', 2], ['awesome', 1], ['mine', 1], ['good', 2], ['gary', 1], ['best', 1], ['amazing', 2], [u'beer', 2], ['horrible', 1], ['sworn', 1], ['friend', 1], ['dandy', 1], ['sandwich', 1], ['job', 1], ['believe', 1], ['enemy', 1], ['like', 1], ['restaurant', 1], ['work', 1], ['stuff', 1], ['place', 1], ['feeling', 1]]\n",
      "[['enjoy', 1], [u'bos', 1], ['love', 1], ['deal', 1], ['tired', 1], ['feel', 2], ['awesome', 1], ['mine', 1], ['good', 2], ['gary', 1], ['best', 1], ['amazing', 2], [u'beer', 2], ['horrible', 1], ['sworn', 1], ['friend', 1], ['dandy', 1], ['sandwich', 1], ['job', 1], ['believe', 1], ['enemy', 1], ['like', 1], ['restaurant', 1], ['work', 1], ['stuff', 1], ['place', 1], ['feeling', 1], ['view', 1]]\n"
     ]
    },
    {
     "data": {
      "text/html": [
       "<div>\n",
       "<style>\n",
       "    .dataframe thead tr:only-child th {\n",
       "        text-align: right;\n",
       "    }\n",
       "\n",
       "    .dataframe thead th {\n",
       "        text-align: left;\n",
       "    }\n",
       "\n",
       "    .dataframe tbody tr th {\n",
       "        vertical-align: top;\n",
       "    }\n",
       "</style>\n",
       "<table border=\"1\" class=\"dataframe\">\n",
       "  <thead>\n",
       "    <tr style=\"text-align: right;\">\n",
       "      <th></th>\n",
       "      <th>0</th>\n",
       "      <th>1</th>\n",
       "    </tr>\n",
       "  </thead>\n",
       "  <tbody>\n",
       "    <tr>\n",
       "      <th>0</th>\n",
       "      <td>enjoy</td>\n",
       "      <td>1</td>\n",
       "    </tr>\n",
       "    <tr>\n",
       "      <th>1</th>\n",
       "      <td>bos</td>\n",
       "      <td>1</td>\n",
       "    </tr>\n",
       "    <tr>\n",
       "      <th>2</th>\n",
       "      <td>love</td>\n",
       "      <td>1</td>\n",
       "    </tr>\n",
       "    <tr>\n",
       "      <th>3</th>\n",
       "      <td>deal</td>\n",
       "      <td>1</td>\n",
       "    </tr>\n",
       "    <tr>\n",
       "      <th>4</th>\n",
       "      <td>tired</td>\n",
       "      <td>1</td>\n",
       "    </tr>\n",
       "    <tr>\n",
       "      <th>5</th>\n",
       "      <td>feel</td>\n",
       "      <td>2</td>\n",
       "    </tr>\n",
       "    <tr>\n",
       "      <th>6</th>\n",
       "      <td>awesome</td>\n",
       "      <td>1</td>\n",
       "    </tr>\n",
       "    <tr>\n",
       "      <th>7</th>\n",
       "      <td>mine</td>\n",
       "      <td>1</td>\n",
       "    </tr>\n",
       "    <tr>\n",
       "      <th>8</th>\n",
       "      <td>good</td>\n",
       "      <td>2</td>\n",
       "    </tr>\n",
       "    <tr>\n",
       "      <th>9</th>\n",
       "      <td>gary</td>\n",
       "      <td>1</td>\n",
       "    </tr>\n",
       "    <tr>\n",
       "      <th>10</th>\n",
       "      <td>best</td>\n",
       "      <td>1</td>\n",
       "    </tr>\n",
       "    <tr>\n",
       "      <th>11</th>\n",
       "      <td>amazing</td>\n",
       "      <td>2</td>\n",
       "    </tr>\n",
       "    <tr>\n",
       "      <th>12</th>\n",
       "      <td>beer</td>\n",
       "      <td>2</td>\n",
       "    </tr>\n",
       "    <tr>\n",
       "      <th>13</th>\n",
       "      <td>horrible</td>\n",
       "      <td>1</td>\n",
       "    </tr>\n",
       "    <tr>\n",
       "      <th>14</th>\n",
       "      <td>sworn</td>\n",
       "      <td>1</td>\n",
       "    </tr>\n",
       "    <tr>\n",
       "      <th>15</th>\n",
       "      <td>friend</td>\n",
       "      <td>1</td>\n",
       "    </tr>\n",
       "    <tr>\n",
       "      <th>16</th>\n",
       "      <td>dandy</td>\n",
       "      <td>1</td>\n",
       "    </tr>\n",
       "    <tr>\n",
       "      <th>17</th>\n",
       "      <td>sandwich</td>\n",
       "      <td>1</td>\n",
       "    </tr>\n",
       "    <tr>\n",
       "      <th>18</th>\n",
       "      <td>job</td>\n",
       "      <td>1</td>\n",
       "    </tr>\n",
       "    <tr>\n",
       "      <th>19</th>\n",
       "      <td>believe</td>\n",
       "      <td>1</td>\n",
       "    </tr>\n",
       "    <tr>\n",
       "      <th>20</th>\n",
       "      <td>enemy</td>\n",
       "      <td>1</td>\n",
       "    </tr>\n",
       "    <tr>\n",
       "      <th>21</th>\n",
       "      <td>like</td>\n",
       "      <td>1</td>\n",
       "    </tr>\n",
       "    <tr>\n",
       "      <th>22</th>\n",
       "      <td>restaurant</td>\n",
       "      <td>1</td>\n",
       "    </tr>\n",
       "    <tr>\n",
       "      <th>23</th>\n",
       "      <td>work</td>\n",
       "      <td>1</td>\n",
       "    </tr>\n",
       "    <tr>\n",
       "      <th>24</th>\n",
       "      <td>stuff</td>\n",
       "      <td>1</td>\n",
       "    </tr>\n",
       "    <tr>\n",
       "      <th>25</th>\n",
       "      <td>place</td>\n",
       "      <td>1</td>\n",
       "    </tr>\n",
       "    <tr>\n",
       "      <th>26</th>\n",
       "      <td>feeling</td>\n",
       "      <td>1</td>\n",
       "    </tr>\n",
       "    <tr>\n",
       "      <th>27</th>\n",
       "      <td>view</td>\n",
       "      <td>1</td>\n",
       "    </tr>\n",
       "  </tbody>\n",
       "</table>\n",
       "</div>"
      ],
      "text/plain": [
       "             0  1\n",
       "0        enjoy  1\n",
       "1          bos  1\n",
       "2         love  1\n",
       "3         deal  1\n",
       "4        tired  1\n",
       "5         feel  2\n",
       "6      awesome  1\n",
       "7         mine  1\n",
       "8         good  2\n",
       "9         gary  1\n",
       "10        best  1\n",
       "11     amazing  2\n",
       "12        beer  2\n",
       "13    horrible  1\n",
       "14       sworn  1\n",
       "15      friend  1\n",
       "16       dandy  1\n",
       "17    sandwich  1\n",
       "18         job  1\n",
       "19     believe  1\n",
       "20       enemy  1\n",
       "21        like  1\n",
       "22  restaurant  1\n",
       "23        work  1\n",
       "24       stuff  1\n",
       "25       place  1\n",
       "26     feeling  1\n",
       "27        view  1"
      ]
     },
     "execution_count": 18,
     "metadata": {},
     "output_type": "execute_result"
    }
   ],
   "source": [
    "# prepare the results of word frequency on auto data as a list\n",
    "\n",
    "freq_word = []\n",
    "\n",
    "# two values or columns in fdist_a\n",
    "for k,v in fdist.items():\n",
    "    freq_word.append([k,v])\n",
    "    print  freq_word\n",
    "\n",
    "#make it like an Excel worksheet\n",
    "wordlist = pd.DataFrame(freq_word)\n",
    "\n",
    "wordlist"
   ]
  },
  {
   "cell_type": "code",
   "execution_count": null,
   "metadata": {
    "collapsed": true
   },
   "outputs": [],
   "source": []
  },
  {
   "cell_type": "code",
   "execution_count": 19,
   "metadata": {
    "collapsed": true
   },
   "outputs": [],
   "source": [
    "# rename column names\n",
    "\n",
    "#http://pandas.pydata.org/pandas-docs/stable/generated/pandas.DataFrame.rename.html\n",
    "wordlist = wordlist.rename(columns={0: 'word', 1: 'freq'})\n",
    "wordlist.to_csv(\"data/worldlist.csv\")"
   ]
  },
  {
   "cell_type": "code",
   "execution_count": 20,
   "metadata": {
    "collapsed": true
   },
   "outputs": [],
   "source": [
    "# You can create a csv file for further analysis using Tabular, Excel, etc.\n",
    "\n",
    "# http://pandas.pydata.org/pandas-docs/stable/generated/pandas.DataFrame.to_csv.html\n",
    "\n",
    "wordlist.to_csv('data/output_wordlist.csv')"
   ]
  },
  {
   "cell_type": "markdown",
   "metadata": {},
   "source": [
    "You can perform further descriptive analysis using Tableau, Excel, and Python."
   ]
  },
  {
   "cell_type": "markdown",
   "metadata": {},
   "source": [
    "# Appendix 2"
   ]
  },
  {
   "cell_type": "code",
   "execution_count": 21,
   "metadata": {
    "collapsed": true
   },
   "outputs": [],
   "source": [
    "review = []\n",
    "openfile = open('data/sampledata_wordfrequency.csv', 'rb')\n",
    "r = csv.reader(openfile)\n",
    "for i in r:\n",
    "# get the first column only (ignoring the second column)\n",
    "    review.append(i)    \n",
    "openfile.close()"
   ]
  },
  {
   "cell_type": "code",
   "execution_count": 22,
   "metadata": {},
   "outputs": [
    {
     "data": {
      "text/plain": [
       "\"[['I love this sandwich.'], ['this is an amazing place!'], ['I feel very good about these beers.'], ['this is my best work.'], ['what an awesome view'], ['I do not like this restaurant'], ['I am tired of this stuff.'], ['I cant deal with this'], ['he is my sworn enemy!'], ['my boss is horrible.'], ['the beer was good.'], ['I do not enjoy my job'], ['I aint feeling dandy today.'], ['I feel amazing!'], ['Gary is a friend of mine.'], ['I cant believe Im doing this.']]\""
      ]
     },
     "execution_count": 22,
     "metadata": {},
     "output_type": "execute_result"
    }
   ],
   "source": [
    "# currently the data are in list ... convert to string. \n",
    "# even though there are 10 customer reviews, we will treat it as a single large document\n",
    "tokens = str(review)\n",
    "tokens"
   ]
  },
  {
   "cell_type": "code",
   "execution_count": 23,
   "metadata": {},
   "outputs": [
    {
     "data": {
      "text/plain": [
       "\"[['i love this sandwich.'], ['this is an amazing place!'], ['i feel very good about these beers.'], ['this is my best work.'], ['what an awesome view'], ['i do not like this restaurant'], ['i am tired of this stuff.'], ['i cant deal with this'], ['he is my sworn enemy!'], ['my boss is horrible.'], ['the beer was good.'], ['i do not enjoy my job'], ['i aint feeling dandy today.'], ['i feel amazing!'], ['gary is a friend of mine.'], ['i cant believe im doing this.']]\""
      ]
     },
     "execution_count": 23,
     "metadata": {},
     "output_type": "execute_result"
    }
   ],
   "source": [
    "# lowecases for content analytics ... we assume, for example, LOVE is sames love \n",
    "tokens = tokens.lower()\n",
    "tokens"
   ]
  },
  {
   "cell_type": "code",
   "execution_count": 24,
   "metadata": {},
   "outputs": [
    {
     "data": {
      "text/plain": [
       "'   i love this sandwich       this is an amazing place       i feel very good about these beers       this is my best work       what an awesome view      i do not like this restaurant      i am tired of this stuff       i cant deal with this      he is my sworn enemy       my boss is horrible       the beer was good       i do not enjoy my job      i aint feeling dandy today       i feel amazing       gary is a friend of mine       i cant believe im doing this    '"
      ]
     },
     "execution_count": 24,
     "metadata": {},
     "output_type": "execute_result"
    }
   ],
   "source": [
    "# the dataset contains useless characters and numbers\n",
    "# Remove useless numbers and alphanumerical words\n",
    "# use regular expression ... a-zA-Z0-9 refers to all English characters (lowercase & uppercase) and numbers\n",
    "# ^a-zA-Z0-9 is opposite of a-zA-Z0-9\n",
    "tokens = re.sub(\"[^a-zA-Z0-9]\", \" \", tokens)\n",
    "tokens"
   ]
  },
  {
   "cell_type": "code",
   "execution_count": 25,
   "metadata": {},
   "outputs": [
    {
     "name": "stdout",
     "output_type": "stream",
     "text": [
      "['i', 'love', 'this', 'sandwich', 'this', 'is', 'an', 'amazing', 'place', 'i', 'feel', 'very', 'good', 'about', 'these', 'beers', 'this', 'is', 'my', 'best', 'work', 'what', 'an', 'awesome', 'view', 'i', 'do', 'not', 'like', 'this', 'restaurant', 'i', 'am', 'tired', 'of', 'this', 'stuff', 'i', 'cant', 'deal', 'with', 'this', 'he', 'is', 'my', 'sworn', 'enemy', 'my', 'boss', 'is', 'horrible', 'the', 'beer', 'was', 'good', 'i', 'do', 'not', 'enjoy', 'my', 'job', 'i', 'aint', 'feeling', 'dandy', 'today', 'i', 'feel', 'amazing', 'gary', 'is', 'a', 'friend', 'of', 'mine', 'i', 'cant', 'believe', 'im', 'doing', 'this']\n"
     ]
    }
   ],
   "source": [
    "#tokenization or word split\n",
    "tokens = word_tokenize(tokens)\n",
    "print tokens"
   ]
  },
  {
   "cell_type": "code",
   "execution_count": 26,
   "metadata": {},
   "outputs": [
    {
     "name": "stdout",
     "output_type": "stream",
     "text": [
      "[u'i', u'me', u'my', u'myself', u'we', u'our', u'ours', u'ourselves', u'you', u'your', u'yours', u'yourself', u'yourselves', u'he', u'him', u'his', u'himself', u'she', u'her', u'hers', u'herself', u'it', u'its', u'itself', u'they', u'them', u'their', u'theirs', u'themselves', u'what', u'which', u'who', u'whom', u'this', u'that', u'these', u'those', u'am', u'is', u'are', u'was', u'were', u'be', u'been', u'being', u'have', u'has', u'had', u'having', u'do', u'does', u'did', u'doing', u'a', u'an', u'the', u'and', u'but', u'if', u'or', u'because', u'as', u'until', u'while', u'of', u'at', u'by', u'for', u'with', u'about', u'against', u'between', u'into', u'through', u'during', u'before', u'after', u'above', u'below', u'to', u'from', u'up', u'down', u'in', u'out', u'on', u'off', u'over', u'under', u'again', u'further', u'then', u'once', u'here', u'there', u'when', u'where', u'why', u'how', u'all', u'any', u'both', u'each', u'few', u'more', u'most', u'other', u'some', u'such', u'no', u'nor', u'not', u'only', u'own', u'same', u'so', u'than', u'too', u'very', u's', u't', u'can', u'will', u'just', u'don', u'should', u'now', u'd', u'll', u'm', u'o', u're', u've', u'y', u'ain', u'aren', u'couldn', u'didn', u'doesn', u'hadn', u'hasn', u'haven', u'isn', u'ma', u'mightn', u'mustn', u'needn', u'shan', u'shouldn', u'wasn', u'weren', u'won', u'wouldn']\n"
     ]
    }
   ],
   "source": [
    "# stopwords are common words (e.g., this, that, of, for), which are not meaningful in analysis\n",
    "# NLTK offers a list of stopwords we can use in our analysis\n",
    "print stopwords.words('english')"
   ]
  },
  {
   "cell_type": "code",
   "execution_count": 27,
   "metadata": {},
   "outputs": [
    {
     "name": "stdout",
     "output_type": "stream",
     "text": [
      "love\n",
      "sandwich\n",
      "amazing\n",
      "place\n",
      "feel\n",
      "good\n",
      "beers\n",
      "best\n",
      "work\n",
      "awesome\n",
      "view\n",
      "like\n",
      "restaurant\n",
      "tired\n",
      "stuff\n",
      "cant\n",
      "deal\n",
      "sworn\n",
      "enemy\n",
      "boss\n",
      "horrible\n",
      "beer\n",
      "good\n",
      "enjoy\n",
      "job\n",
      "aint\n",
      "feeling\n",
      "dandy\n",
      "today\n",
      "feel\n",
      "amazing\n",
      "gary\n",
      "friend\n",
      "mine\n",
      "cant\n",
      "believe\n",
      "im\n"
     ]
    }
   ],
   "source": [
    "# remove stopwords \n",
    "# stopwords are common words (e.g., this, that, of, for), which are not meaningful in analysis\n",
    "for i in tokens:\n",
    "    # collect those words, which are not in the stopword list\n",
    "    if i not in stopwords.words('english'):\n",
    "        print i"
   ]
  },
  {
   "cell_type": "code",
   "execution_count": 28,
   "metadata": {
    "collapsed": true
   },
   "outputs": [],
   "source": [
    "# save those meaningful words\n",
    "tokens = [ i for i in tokens if i not in stopwords.words('english')]"
   ]
  },
  {
   "cell_type": "code",
   "execution_count": 29,
   "metadata": {},
   "outputs": [
    {
     "name": "stdout",
     "output_type": "stream",
     "text": [
      "love\n",
      "sandwich\n",
      "amazing\n",
      "place\n",
      "feel\n",
      "good\n",
      "beers\n",
      "best\n",
      "work\n",
      "awesome\n",
      "view\n",
      "like\n",
      "restaurant\n",
      "tired\n",
      "stuff\n",
      "cant\n",
      "deal\n",
      "sworn\n",
      "enemy\n",
      "boss\n",
      "horrible\n",
      "beer\n",
      "good\n",
      "enjoy\n",
      "job\n",
      "aint\n",
      "feeling\n",
      "dandy\n",
      "today\n",
      "feel\n",
      "amazing\n",
      "gary\n",
      "friend\n",
      "mine\n",
      "cant\n",
      "believe\n"
     ]
    }
   ],
   "source": [
    "# sometimes you want to remove short words\n",
    "for i in tokens:\n",
    "    if len(i) >= 3:\n",
    "        print i"
   ]
  },
  {
   "cell_type": "code",
   "execution_count": 30,
   "metadata": {},
   "outputs": [
    {
     "data": {
      "text/plain": [
       "<generator object <genexpr> at 0x11e6281e0>"
      ]
     },
     "execution_count": 30,
     "metadata": {},
     "output_type": "execute_result"
    }
   ],
   "source": [
    "# saving all the words more than 3 words\n",
    "tokens = ( i for i in tokens if len(i) >= 3 )\n",
    "tokens"
   ]
  },
  {
   "cell_type": "code",
   "execution_count": 31,
   "metadata": {},
   "outputs": [
    {
     "data": {
      "text/plain": [
       "<generator object <genexpr> at 0x11e6280f0>"
      ]
     },
     "execution_count": 31,
     "metadata": {},
     "output_type": "execute_result"
    }
   ],
   "source": [
    "# Filter non-alphabetic tokens or words from corpus\n",
    "tokens = ( word for word in tokens if word.isalpha() )\n",
    "tokens"
   ]
  },
  {
   "cell_type": "code",
   "execution_count": null,
   "metadata": {
    "collapsed": true
   },
   "outputs": [],
   "source": []
  },
  {
   "cell_type": "code",
   "execution_count": null,
   "metadata": {
    "collapsed": true
   },
   "outputs": [],
   "source": []
  },
  {
   "cell_type": "code",
   "execution_count": null,
   "metadata": {
    "collapsed": true
   },
   "outputs": [],
   "source": []
  }
 ],
 "metadata": {
  "kernelspec": {
   "display_name": "Python 2",
   "language": "python",
   "name": "python2"
  },
  "language_info": {
   "codemirror_mode": {
    "name": "ipython",
    "version": 2
   },
   "file_extension": ".py",
   "mimetype": "text/x-python",
   "name": "python",
   "nbconvert_exporter": "python",
   "pygments_lexer": "ipython2",
   "version": "2.7.13"
  }
 },
 "nbformat": 4,
 "nbformat_minor": 1
}
