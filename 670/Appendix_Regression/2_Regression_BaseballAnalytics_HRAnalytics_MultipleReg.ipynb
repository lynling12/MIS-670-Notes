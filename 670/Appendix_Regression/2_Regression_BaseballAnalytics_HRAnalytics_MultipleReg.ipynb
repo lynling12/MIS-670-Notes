{
 "cells": [
  {
   "cell_type": "markdown",
   "metadata": {},
   "source": [
    "# Multiple Regression Analysis: Baseball Analytics & HR Analytics\n",
    "\n",
    "- The goal of regression model is to **minimize Sum of Squared Error (SSE)**\n",
    "\n",
    "                             minimize SSE\n",
    " \n",
    "- **The model with multiple X variables is likely to reduce SSE. This makes multiple regression more powerful than single variable regression (or univariate regression)**"
   ]
  },
  {
   "cell_type": "code",
   "execution_count": 1,
   "metadata": {
    "collapsed": true
   },
   "outputs": [],
   "source": [
    "import pandas as pd\n",
    "import numpy as np\n",
    "import seaborn as sns\n",
    "import matplotlib.pyplot as plt\n",
    "%matplotlib inline\n",
    "\n",
    "#regression packages\n",
    "import sklearn.linear_model as lm\n",
    "from sklearn.metrics import mean_squared_error\n",
    "from sklearn.metrics import explained_variance_score\n",
    "import statsmodels.formula.api as sm"
   ]
  },
  {
   "cell_type": "code",
   "execution_count": 2,
   "metadata": {},
   "outputs": [
    {
     "data": {
      "text/html": [
       "<div>\n",
       "<style>\n",
       "    .dataframe thead tr:only-child th {\n",
       "        text-align: right;\n",
       "    }\n",
       "\n",
       "    .dataframe thead th {\n",
       "        text-align: left;\n",
       "    }\n",
       "\n",
       "    .dataframe tbody tr th {\n",
       "        vertical-align: top;\n",
       "    }\n",
       "</style>\n",
       "<table border=\"1\" class=\"dataframe\">\n",
       "  <thead>\n",
       "    <tr style=\"text-align: right;\">\n",
       "      <th></th>\n",
       "      <th>yearID</th>\n",
       "      <th>teamID</th>\n",
       "      <th>Rank</th>\n",
       "      <th>R</th>\n",
       "      <th>RA</th>\n",
       "      <th>G</th>\n",
       "      <th>W</th>\n",
       "      <th>H</th>\n",
       "      <th>BB</th>\n",
       "      <th>HBP</th>\n",
       "      <th>AB</th>\n",
       "      <th>SF</th>\n",
       "      <th>HR</th>\n",
       "      <th>2B</th>\n",
       "      <th>3B</th>\n",
       "      <th>salary</th>\n",
       "      <th>BA</th>\n",
       "      <th>OBP</th>\n",
       "      <th>SLG</th>\n",
       "    </tr>\n",
       "  </thead>\n",
       "  <tbody>\n",
       "    <tr>\n",
       "      <th>0</th>\n",
       "      <td>2000</td>\n",
       "      <td>CHA</td>\n",
       "      <td>1</td>\n",
       "      <td>978</td>\n",
       "      <td>839</td>\n",
       "      <td>162</td>\n",
       "      <td>95</td>\n",
       "      <td>1615</td>\n",
       "      <td>591</td>\n",
       "      <td>53</td>\n",
       "      <td>5646</td>\n",
       "      <td>61</td>\n",
       "      <td>216</td>\n",
       "      <td>325</td>\n",
       "      <td>33</td>\n",
       "      <td>31133500</td>\n",
       "      <td>0.286043</td>\n",
       "      <td>0.355692</td>\n",
       "      <td>0.470067</td>\n",
       "    </tr>\n",
       "    <tr>\n",
       "      <th>1</th>\n",
       "      <td>2000</td>\n",
       "      <td>CLE</td>\n",
       "      <td>2</td>\n",
       "      <td>950</td>\n",
       "      <td>816</td>\n",
       "      <td>162</td>\n",
       "      <td>90</td>\n",
       "      <td>1639</td>\n",
       "      <td>685</td>\n",
       "      <td>51</td>\n",
       "      <td>5683</td>\n",
       "      <td>52</td>\n",
       "      <td>221</td>\n",
       "      <td>310</td>\n",
       "      <td>30</td>\n",
       "      <td>75880771</td>\n",
       "      <td>0.288404</td>\n",
       "      <td>0.367022</td>\n",
       "      <td>0.470174</td>\n",
       "    </tr>\n",
       "    <tr>\n",
       "      <th>2</th>\n",
       "      <td>2000</td>\n",
       "      <td>DET</td>\n",
       "      <td>3</td>\n",
       "      <td>823</td>\n",
       "      <td>827</td>\n",
       "      <td>162</td>\n",
       "      <td>79</td>\n",
       "      <td>1553</td>\n",
       "      <td>562</td>\n",
       "      <td>43</td>\n",
       "      <td>5644</td>\n",
       "      <td>49</td>\n",
       "      <td>177</td>\n",
       "      <td>307</td>\n",
       "      <td>41</td>\n",
       "      <td>58265167</td>\n",
       "      <td>0.275159</td>\n",
       "      <td>0.342648</td>\n",
       "      <td>0.438164</td>\n",
       "    </tr>\n",
       "    <tr>\n",
       "      <th>3</th>\n",
       "      <td>2000</td>\n",
       "      <td>KCA</td>\n",
       "      <td>4</td>\n",
       "      <td>879</td>\n",
       "      <td>930</td>\n",
       "      <td>162</td>\n",
       "      <td>77</td>\n",
       "      <td>1644</td>\n",
       "      <td>511</td>\n",
       "      <td>48</td>\n",
       "      <td>5709</td>\n",
       "      <td>70</td>\n",
       "      <td>150</td>\n",
       "      <td>281</td>\n",
       "      <td>27</td>\n",
       "      <td>23433000</td>\n",
       "      <td>0.287966</td>\n",
       "      <td>0.347586</td>\n",
       "      <td>0.425469</td>\n",
       "    </tr>\n",
       "    <tr>\n",
       "      <th>4</th>\n",
       "      <td>2000</td>\n",
       "      <td>MIN</td>\n",
       "      <td>5</td>\n",
       "      <td>748</td>\n",
       "      <td>880</td>\n",
       "      <td>162</td>\n",
       "      <td>69</td>\n",
       "      <td>1516</td>\n",
       "      <td>556</td>\n",
       "      <td>35</td>\n",
       "      <td>5615</td>\n",
       "      <td>51</td>\n",
       "      <td>116</td>\n",
       "      <td>325</td>\n",
       "      <td>49</td>\n",
       "      <td>16519500</td>\n",
       "      <td>0.269991</td>\n",
       "      <td>0.336743</td>\n",
       "      <td>0.407302</td>\n",
       "    </tr>\n",
       "  </tbody>\n",
       "</table>\n",
       "</div>"
      ],
      "text/plain": [
       "   yearID teamID  Rank    R   RA    G   W     H   BB  HBP    AB  SF   HR   2B  \\\n",
       "0    2000    CHA     1  978  839  162  95  1615  591   53  5646  61  216  325   \n",
       "1    2000    CLE     2  950  816  162  90  1639  685   51  5683  52  221  310   \n",
       "2    2000    DET     3  823  827  162  79  1553  562   43  5644  49  177  307   \n",
       "3    2000    KCA     4  879  930  162  77  1644  511   48  5709  70  150  281   \n",
       "4    2000    MIN     5  748  880  162  69  1516  556   35  5615  51  116  325   \n",
       "\n",
       "   3B    salary        BA       OBP       SLG  \n",
       "0  33  31133500  0.286043  0.355692  0.470067  \n",
       "1  30  75880771  0.288404  0.367022  0.470174  \n",
       "2  41  58265167  0.275159  0.342648  0.438164  \n",
       "3  27  23433000  0.287966  0.347586  0.425469  \n",
       "4  49  16519500  0.269991  0.336743  0.407302  "
      ]
     },
     "execution_count": 2,
     "metadata": {},
     "output_type": "execute_result"
    }
   ],
   "source": [
    "teams = pd.read_csv(\"data/baseball.csv\")\n",
    "teams.head()"
   ]
  },
  {
   "cell_type": "raw",
   "metadata": {},
   "source": [
    "Below is an explanation of the teams DataFrame attribtues.\n",
    "\n",
    "yearID: Year\n",
    "teamID: Team\n",
    "Rank: Position in final standings\n",
    "R: Runs scored\n",
    "RA: Opponents runs scored\n",
    "G: Games played\n",
    "W: Wins\n",
    "H: Hits by batters\n",
    "BB: Walks by batters\n",
    "HBP: Batters hit by pitch\n",
    "AB: At bats\n",
    "SF: Sacrifice flies\n",
    "HR: Homeruns by batters\n",
    "2B: Doubles\n",
    "3B: Triples\n",
    "Batting Average (BA) = H/AB    \n",
    "On Base Percentage (OBP) = (H+BB+HBP)/(AB+BB+HBP+SF)\n",
    "Slugging Percentage (SLG) = H+2B+(2*3B)+(3*HR)/AB"
   ]
  },
  {
   "cell_type": "markdown",
   "metadata": {},
   "source": [
    "On Base Percentage (OBP, On Base Average, OBA) is a measure of how often a batter reaches base. \n",
    "\n",
    "The full formula is OBP = (Hits + Walks + Hit by Pitch) / (At Bats + Walks + Hit by Pitch + Sacrifice Flies). Batters are not credited with reaching base on an error or fielder's choice, and they are not charged with an opportunity if they make a sacrifice bunt.\n",
    "\n",
    "All Time Leaders\n",
    "Ted Williams\t.482\t(career)\n",
    "Barry Bonds\t    .609\t(2004 season)\n",
    "\n",
    "http://www.baseball-reference.com/bullpen/On_base_percentage"
   ]
  },
  {
   "cell_type": "code",
   "execution_count": 3,
   "metadata": {
    "collapsed": true
   },
   "outputs": [],
   "source": [
    "# correlation \n"
   ]
  },
  {
   "cell_type": "code",
   "execution_count": 4,
   "metadata": {
    "collapsed": true
   },
   "outputs": [],
   "source": [
    "# correlation heatmap\n"
   ]
  },
  {
   "cell_type": "code",
   "execution_count": 5,
   "metadata": {},
   "outputs": [
    {
     "data": {
      "text/plain": [
       "<seaborn.axisgrid.FacetGrid at 0x11196bad0>"
      ]
     },
     "execution_count": 5,
     "metadata": {},
     "output_type": "execute_result"
    },
    {
     "data": {
      "image/png": "[encoded data removed]",
      "text/plain": [
       "<matplotlib.figure.Figure at 0x11cd0e0d0>"
      ]
     },
     "metadata": {},
     "output_type": "display_data"
    }
   ],
   "source": [
    "sns.lmplot('OBP', 'R', teams)"
   ]
  },
  {
   "cell_type": "code",
   "execution_count": 6,
   "metadata": {
    "collapsed": true
   },
   "outputs": [],
   "source": [
    "# lmplot for SLF and R\n",
    "\n"
   ]
  },
  {
   "cell_type": "markdown",
   "metadata": {},
   "source": [
    "# Model Development\n",
    "- We use **scikit**, the python package for statistical analysis and data mining (predictive analytics)"
   ]
  },
  {
   "cell_type": "code",
   "execution_count": 7,
   "metadata": {},
   "outputs": [
    {
     "data": {
      "text/html": [
       "<div>\n",
       "<style>\n",
       "    .dataframe thead tr:only-child th {\n",
       "        text-align: right;\n",
       "    }\n",
       "\n",
       "    .dataframe thead th {\n",
       "        text-align: left;\n",
       "    }\n",
       "\n",
       "    .dataframe tbody tr th {\n",
       "        vertical-align: top;\n",
       "    }\n",
       "</style>\n",
       "<table border=\"1\" class=\"dataframe\">\n",
       "  <thead>\n",
       "    <tr style=\"text-align: right;\">\n",
       "      <th></th>\n",
       "      <th>R</th>\n",
       "      <th>RA</th>\n",
       "      <th>G</th>\n",
       "      <th>W</th>\n",
       "      <th>H</th>\n",
       "      <th>BB</th>\n",
       "      <th>HBP</th>\n",
       "      <th>AB</th>\n",
       "      <th>SF</th>\n",
       "      <th>HR</th>\n",
       "      <th>2B</th>\n",
       "      <th>3B</th>\n",
       "      <th>salary</th>\n",
       "      <th>BA</th>\n",
       "      <th>OBP</th>\n",
       "      <th>SLG</th>\n",
       "    </tr>\n",
       "  </thead>\n",
       "  <tbody>\n",
       "    <tr>\n",
       "      <th>0</th>\n",
       "      <td>978</td>\n",
       "      <td>839</td>\n",
       "      <td>162</td>\n",
       "      <td>95</td>\n",
       "      <td>1615</td>\n",
       "      <td>591</td>\n",
       "      <td>53</td>\n",
       "      <td>5646</td>\n",
       "      <td>61</td>\n",
       "      <td>216</td>\n",
       "      <td>325</td>\n",
       "      <td>33</td>\n",
       "      <td>31133500</td>\n",
       "      <td>0.286043</td>\n",
       "      <td>0.355692</td>\n",
       "      <td>0.470067</td>\n",
       "    </tr>\n",
       "    <tr>\n",
       "      <th>1</th>\n",
       "      <td>950</td>\n",
       "      <td>816</td>\n",
       "      <td>162</td>\n",
       "      <td>90</td>\n",
       "      <td>1639</td>\n",
       "      <td>685</td>\n",
       "      <td>51</td>\n",
       "      <td>5683</td>\n",
       "      <td>52</td>\n",
       "      <td>221</td>\n",
       "      <td>310</td>\n",
       "      <td>30</td>\n",
       "      <td>75880771</td>\n",
       "      <td>0.288404</td>\n",
       "      <td>0.367022</td>\n",
       "      <td>0.470174</td>\n",
       "    </tr>\n",
       "  </tbody>\n",
       "</table>\n",
       "</div>"
      ],
      "text/plain": [
       "     R   RA    G   W     H   BB  HBP    AB  SF   HR   2B  3B    salary  \\\n",
       "0  978  839  162  95  1615  591   53  5646  61  216  325  33  31133500   \n",
       "1  950  816  162  90  1639  685   51  5683  52  221  310  30  75880771   \n",
       "\n",
       "         BA       OBP       SLG  \n",
       "0  0.286043  0.355692  0.470067  \n",
       "1  0.288404  0.367022  0.470174  "
      ]
     },
     "execution_count": 7,
     "metadata": {},
     "output_type": "execute_result"
    }
   ],
   "source": [
    "teams = teams.drop(['yearID', 'teamID', 'Rank'], axis=1)\n",
    "teams.head(2)"
   ]
  },
  {
   "cell_type": "code",
   "execution_count": 8,
   "metadata": {
    "collapsed": true
   },
   "outputs": [],
   "source": [
    "#assigning columns to X and Y variables\n",
    "y = teams['R'] \n",
    "X = teams.drop(['R'], axis =1)\n",
    "# X contains (too) many independent variables or predictors ... we will see how it goes"
   ]
  },
  {
   "cell_type": "code",
   "execution_count": 9,
   "metadata": {},
   "outputs": [
    {
     "data": {
      "text/plain": [
       "0    978\n",
       "1    950\n",
       "Name: R, dtype: int64"
      ]
     },
     "execution_count": 9,
     "metadata": {},
     "output_type": "execute_result"
    }
   ],
   "source": [
    "y.head(2)"
   ]
  },
  {
   "cell_type": "code",
   "execution_count": 10,
   "metadata": {},
   "outputs": [
    {
     "data": {
      "text/html": [
       "<div>\n",
       "<style>\n",
       "    .dataframe thead tr:only-child th {\n",
       "        text-align: right;\n",
       "    }\n",
       "\n",
       "    .dataframe thead th {\n",
       "        text-align: left;\n",
       "    }\n",
       "\n",
       "    .dataframe tbody tr th {\n",
       "        vertical-align: top;\n",
       "    }\n",
       "</style>\n",
       "<table border=\"1\" class=\"dataframe\">\n",
       "  <thead>\n",
       "    <tr style=\"text-align: right;\">\n",
       "      <th></th>\n",
       "      <th>RA</th>\n",
       "      <th>G</th>\n",
       "      <th>W</th>\n",
       "      <th>H</th>\n",
       "      <th>BB</th>\n",
       "      <th>HBP</th>\n",
       "      <th>AB</th>\n",
       "      <th>SF</th>\n",
       "      <th>HR</th>\n",
       "      <th>2B</th>\n",
       "      <th>3B</th>\n",
       "      <th>salary</th>\n",
       "      <th>BA</th>\n",
       "      <th>OBP</th>\n",
       "      <th>SLG</th>\n",
       "    </tr>\n",
       "  </thead>\n",
       "  <tbody>\n",
       "    <tr>\n",
       "      <th>0</th>\n",
       "      <td>839</td>\n",
       "      <td>162</td>\n",
       "      <td>95</td>\n",
       "      <td>1615</td>\n",
       "      <td>591</td>\n",
       "      <td>53</td>\n",
       "      <td>5646</td>\n",
       "      <td>61</td>\n",
       "      <td>216</td>\n",
       "      <td>325</td>\n",
       "      <td>33</td>\n",
       "      <td>31133500</td>\n",
       "      <td>0.286043</td>\n",
       "      <td>0.355692</td>\n",
       "      <td>0.470067</td>\n",
       "    </tr>\n",
       "    <tr>\n",
       "      <th>1</th>\n",
       "      <td>816</td>\n",
       "      <td>162</td>\n",
       "      <td>90</td>\n",
       "      <td>1639</td>\n",
       "      <td>685</td>\n",
       "      <td>51</td>\n",
       "      <td>5683</td>\n",
       "      <td>52</td>\n",
       "      <td>221</td>\n",
       "      <td>310</td>\n",
       "      <td>30</td>\n",
       "      <td>75880771</td>\n",
       "      <td>0.288404</td>\n",
       "      <td>0.367022</td>\n",
       "      <td>0.470174</td>\n",
       "    </tr>\n",
       "  </tbody>\n",
       "</table>\n",
       "</div>"
      ],
      "text/plain": [
       "    RA    G   W     H   BB  HBP    AB  SF   HR   2B  3B    salary        BA  \\\n",
       "0  839  162  95  1615  591   53  5646  61  216  325  33  31133500  0.286043   \n",
       "1  816  162  90  1639  685   51  5683  52  221  310  30  75880771  0.288404   \n",
       "\n",
       "        OBP       SLG  \n",
       "0  0.355692  0.470067  \n",
       "1  0.367022  0.470174  "
      ]
     },
     "execution_count": 10,
     "metadata": {},
     "output_type": "execute_result"
    }
   ],
   "source": [
    "X.head(2)"
   ]
  },
  {
   "cell_type": "code",
   "execution_count": 11,
   "metadata": {
    "collapsed": true
   },
   "outputs": [],
   "source": [
    "model1 = lm.LinearRegression()\n",
    "model1.fit(X, y)   \n",
    "model1_y = model1.predict(X)"
   ]
  },
  {
   "cell_type": "code",
   "execution_count": 12,
   "metadata": {},
   "outputs": [
    {
     "name": "stdout",
     "output_type": "stream",
     "text": [
      "Coefficients:  [  2.14557581e-01   2.83197746e-01   2.13712608e+00   4.35374346e+00\n",
      "   4.96998166e-01   5.69565514e-01  -9.04191260e-01   4.13313528e-01\n",
      "  -3.16197606e+00  -1.11752068e+00  -1.95843536e+00  -2.36373413e-08\n",
      "  -2.66509695e+04  -2.37182482e+03   7.19139370e+03]\n",
      "y-intercept  4429.11048328\n"
     ]
    }
   ],
   "source": [
    "print 'Coefficients: ', model1.coef_\n",
    "print \"y-intercept \", model1.intercept_"
   ]
  },
  {
   "cell_type": "code",
   "execution_count": 13,
   "metadata": {},
   "outputs": [
    {
     "data": {
      "text/html": [
       "<div>\n",
       "<style>\n",
       "    .dataframe thead tr:only-child th {\n",
       "        text-align: right;\n",
       "    }\n",
       "\n",
       "    .dataframe thead th {\n",
       "        text-align: left;\n",
       "    }\n",
       "\n",
       "    .dataframe tbody tr th {\n",
       "        vertical-align: top;\n",
       "    }\n",
       "</style>\n",
       "<table border=\"1\" class=\"dataframe\">\n",
       "  <thead>\n",
       "    <tr style=\"text-align: right;\">\n",
       "      <th></th>\n",
       "      <th>0</th>\n",
       "      <th>1</th>\n",
       "    </tr>\n",
       "  </thead>\n",
       "  <tbody>\n",
       "    <tr>\n",
       "      <th>0</th>\n",
       "      <td>RA</td>\n",
       "      <td>2.145576e-01</td>\n",
       "    </tr>\n",
       "    <tr>\n",
       "      <th>1</th>\n",
       "      <td>G</td>\n",
       "      <td>2.831977e-01</td>\n",
       "    </tr>\n",
       "    <tr>\n",
       "      <th>2</th>\n",
       "      <td>W</td>\n",
       "      <td>2.137126e+00</td>\n",
       "    </tr>\n",
       "    <tr>\n",
       "      <th>3</th>\n",
       "      <td>H</td>\n",
       "      <td>4.353743e+00</td>\n",
       "    </tr>\n",
       "    <tr>\n",
       "      <th>4</th>\n",
       "      <td>BB</td>\n",
       "      <td>4.969982e-01</td>\n",
       "    </tr>\n",
       "    <tr>\n",
       "      <th>5</th>\n",
       "      <td>HBP</td>\n",
       "      <td>5.695655e-01</td>\n",
       "    </tr>\n",
       "    <tr>\n",
       "      <th>6</th>\n",
       "      <td>AB</td>\n",
       "      <td>-9.041913e-01</td>\n",
       "    </tr>\n",
       "    <tr>\n",
       "      <th>7</th>\n",
       "      <td>SF</td>\n",
       "      <td>4.133135e-01</td>\n",
       "    </tr>\n",
       "    <tr>\n",
       "      <th>8</th>\n",
       "      <td>HR</td>\n",
       "      <td>-3.161976e+00</td>\n",
       "    </tr>\n",
       "    <tr>\n",
       "      <th>9</th>\n",
       "      <td>2B</td>\n",
       "      <td>-1.117521e+00</td>\n",
       "    </tr>\n",
       "    <tr>\n",
       "      <th>10</th>\n",
       "      <td>3B</td>\n",
       "      <td>-1.958435e+00</td>\n",
       "    </tr>\n",
       "    <tr>\n",
       "      <th>11</th>\n",
       "      <td>salary</td>\n",
       "      <td>-2.363734e-08</td>\n",
       "    </tr>\n",
       "    <tr>\n",
       "      <th>12</th>\n",
       "      <td>BA</td>\n",
       "      <td>-2.665097e+04</td>\n",
       "    </tr>\n",
       "    <tr>\n",
       "      <th>13</th>\n",
       "      <td>OBP</td>\n",
       "      <td>-2.371825e+03</td>\n",
       "    </tr>\n",
       "    <tr>\n",
       "      <th>14</th>\n",
       "      <td>SLG</td>\n",
       "      <td>7.191394e+03</td>\n",
       "    </tr>\n",
       "  </tbody>\n",
       "</table>\n",
       "</div>"
      ],
      "text/plain": [
       "         0             1\n",
       "0       RA  2.145576e-01\n",
       "1        G  2.831977e-01\n",
       "2        W  2.137126e+00\n",
       "3        H  4.353743e+00\n",
       "4       BB  4.969982e-01\n",
       "5      HBP  5.695655e-01\n",
       "6       AB -9.041913e-01\n",
       "7       SF  4.133135e-01\n",
       "8       HR -3.161976e+00\n",
       "9       2B -1.117521e+00\n",
       "10      3B -1.958435e+00\n",
       "11  salary -2.363734e-08\n",
       "12      BA -2.665097e+04\n",
       "13     OBP -2.371825e+03\n",
       "14     SLG  7.191394e+03"
      ]
     },
     "execution_count": 13,
     "metadata": {},
     "output_type": "execute_result"
    }
   ],
   "source": [
    "pd.DataFrame(zip(X.columns, np.transpose(model1.coef_)))"
   ]
  },
  {
   "cell_type": "code",
   "execution_count": null,
   "metadata": {
    "collapsed": true
   },
   "outputs": [],
   "source": [
    "coef = [\"%.3f\" % i for i in model1.coef_]\n",
    "xcolumns = [ i for i in X.columns ]\n",
    "zip(xcolumns, coef)"
   ]
  },
  {
   "cell_type": "code",
   "execution_count": null,
   "metadata": {
    "collapsed": true
   },
   "outputs": [],
   "source": [
    "print \"mean square error: \", mean_squared_error(y, model1_y)\n",
    "print \"variance or r-squared: \", explained_variance_score(y, model1_y)"
   ]
  },
  {
   "cell_type": "markdown",
   "metadata": {},
   "source": [
    "This full model seems better than a model (univariate regression model) with one X variable, but would be too complex to be practical in sports management (hiring baseball players)"
   ]
  },
  {
   "cell_type": "code",
   "execution_count": null,
   "metadata": {
    "collapsed": true
   },
   "outputs": [],
   "source": [
    "# Choose a smaller set of multiple variables as X (e.g., OBP, SLG) and develop a multiple linear regression model (model2).\n",
    "\n",
    "y = teams['R'] \n",
    "X = teams[['OBP', 'SLG']]\n",
    "\n",
    "model2 = lm.LinearRegression()\n",
    "model2.fit(X, y)   \n",
    "model2_y = model2.predict(X)"
   ]
  },
  {
   "cell_type": "code",
   "execution_count": null,
   "metadata": {
    "collapsed": true
   },
   "outputs": [],
   "source": [
    "coef = [\"%.3f\" % i for i in model2.coef_]\n",
    "xcolumns = [ i for i in X.columns ]\n",
    "zip(xcolumns, coef)"
   ]
  },
  {
   "cell_type": "markdown",
   "metadata": {},
   "source": [
    "# Model Evaluation"
   ]
  },
  {
   "cell_type": "code",
   "execution_count": null,
   "metadata": {
    "collapsed": true
   },
   "outputs": [],
   "source": [
    "print \"mean square error: \", mean_squared_error(y, model2_y)\n",
    "print \"variance or r-squared: \", explained_variance_score(y, model2_y)"
   ]
  },
  {
   "cell_type": "code",
   "execution_count": null,
   "metadata": {
    "collapsed": true
   },
   "outputs": [],
   "source": [
    "# Choose three variables (BA, OBP, SLG) and develop a multiple linear regression model (model3).\n",
    "\n",
    "\n",
    "\n",
    "\n"
   ]
  },
  {
   "cell_type": "markdown",
   "metadata": {},
   "source": [
    "# Multiple Regression using Statsmodels"
   ]
  },
  {
   "cell_type": "code",
   "execution_count": null,
   "metadata": {
    "collapsed": true
   },
   "outputs": [],
   "source": [
    "# without two columns: 2B, 3B (Python does not like the variables starting with number)\n",
    "runs_reg_model = sm.ols(\"R~RA+G+W+H+BB+HBP+AB+SF+HR+salary+BA+OBP+SLG\",teams)\n",
    "runs_reg = runs_reg_model.fit()\n",
    "print runs_reg.summary()"
   ]
  },
  {
   "cell_type": "code",
   "execution_count": null,
   "metadata": {
    "collapsed": true
   },
   "outputs": [],
   "source": [
    "# Choose a smaller set of multiple variables as X (e.g., OBP, SLG, BA) and develop a multiple linear regression model with statsmodel.\n",
    "\n",
    "\n",
    "\n"
   ]
  },
  {
   "cell_type": "markdown",
   "metadata": {},
   "source": [
    "# Appendix : With fewer independent variables"
   ]
  },
  {
   "cell_type": "markdown",
   "metadata": {},
   "source": [
    "### Recruting strategy based on Bill Beane's Formula: Bill's \"Hiring\" Strategy\n",
    "\n",
    "Based on the analysis above, a good strategy for recruiting batters would focus on targeting **undervalued players with high OBP and SLG**. In the late 1990s, **the old school scouts overvalued BA, and players with high BA had high salaries**. Although BA and OBP have a positive correlation, **there were some players that have high OBP and SLG, and relatively small BA**. These players were undervalued by the market, and were the target of Billy Beane."
   ]
  },
  {
   "cell_type": "code",
   "execution_count": null,
   "metadata": {
    "collapsed": true
   },
   "outputs": [],
   "source": [
    "#First Model\n",
    "runs_reg_model1 = sm.ols(\"R~OBP+SLG+BA\",teams)\n",
    "runs_reg1 = runs_reg_model1.fit()\n",
    "#Second Model\n",
    "runs_reg_model2 = sm.ols(\"R~OBP+SLG\",teams)\n",
    "runs_reg2 = runs_reg_model2.fit()\n",
    "#Third Model\n",
    "runs_reg_model3 = sm.ols(\"R~BA\",teams)\n",
    "runs_reg3 = runs_reg_model3.fit()"
   ]
  },
  {
   "cell_type": "markdown",
   "metadata": {},
   "source": [
    "- The first one will have as features OBP, SLG and BA. \n",
    "- The second model will have as features OBP and SLG. \n",
    "- The last one will have as feature BA only."
   ]
  },
  {
   "cell_type": "code",
   "execution_count": null,
   "metadata": {
    "collapsed": true
   },
   "outputs": [],
   "source": [
    "print runs_reg1.summary()\n",
    "print runs_reg2.summary()\n",
    "print runs_reg3.summary()"
   ]
  },
  {
   "cell_type": "markdown",
   "metadata": {},
   "source": [
    "- The first model has an Adjusted R-squared of 0.918, with 95% confidence interval of BA between -283 and 468. This is counterintuitive, since we expect the BA value to be positive. This is due to a **multicollinearity** between the variables.\n",
    "\n",
    "- The second model has an Adjusted R-squared of 0.919, and the last model an Adjusted R-squared of 0.500.\n",
    "\n",
    "- Based on this analysis, we could confirm that the second model using **OBP** and **SLG** is the best model for predicting Run Scored."
   ]
  },
  {
   "cell_type": "markdown",
   "metadata": {},
   "source": [
    "# Multicollinearity\n",
    "- The **X variables (or predictors) are highly correlated**. This causes the coefficient estimates (e.g., BA, OBP) to be **unstable** \n",
    "- Thus, the regression model should be **as simple as possible** (having a fewer number of variables) ... **simplicity** is important, but **not too simple either**\n",
    "- You may consider advanced regression techniques such as **lasso** to deal with multicollinearity. lasso removes highly correlated variables from the model. This is called **\"feature selection** in regression. This type of regression helps develop **simple or parsimonious models**."
   ]
  },
  {
   "cell_type": "code",
   "execution_count": null,
   "metadata": {
    "collapsed": true
   },
   "outputs": [],
   "source": [
    "# high values indicate multicollinearity\n",
    "print np.linalg.cond(runs_reg1.model.exog)\n",
    "print np.linalg.cond(runs_reg2.model.exog)\n",
    "print np.linalg.cond(runs_reg3.model.exog)\n",
    "print np.linalg.cond(runs_reg.model.exog)"
   ]
  },
  {
   "cell_type": "markdown",
   "metadata": {},
   "source": [
    "# Modely Deployment : Predictive Analytics (Predicting Y value)\n",
    "- **Scoring dataset** (e.g., baseball_scoringdataset.csv) refers to a dataset without y value. This type of dataset usually refers to the data from **\"the future\"**\n",
    "- On the other hand 'baseball.csv' is called **training dataset** because the model is built on that dataset.\n",
    "- This could be tomorrow's stock price, the next quarter's employment rate or oil price, the next season's team performance, etc. \n",
    "- Your model is used to predict y value for this dataset"
   ]
  },
  {
   "cell_type": "code",
   "execution_count": null,
   "metadata": {
    "collapsed": true
   },
   "outputs": [],
   "source": [
    "# loading the scoring datset\n",
    "scoring = pd.read_csv(\"data/baseball_scoringdataset.csv\")\n",
    "# We use model2 to predict y value. model2 considered only two X variables (OBP, SLG)\n",
    "columns = scoring[['OBP', 'SLG']]\n",
    "model2.predict(columns)"
   ]
  },
  {
   "cell_type": "code",
   "execution_count": null,
   "metadata": {
    "collapsed": true
   },
   "outputs": [],
   "source": [
    "# use model3 to predict y value for the scoring dataset.\n",
    "\n",
    "\n"
   ]
  },
  {
   "cell_type": "markdown",
   "metadata": {},
   "source": [
    "# References\n",
    "\n",
    "- http://adilmoujahid.com/posts/2014/07/baseball-analytics/ (reproduced from this page)"
   ]
  }
 ],
 "metadata": {
  "kernelspec": {
   "display_name": "Python 2",
   "language": "python",
   "name": "python2"
  },
  "language_info": {
   "codemirror_mode": {
    "name": "ipython",
    "version": 2
   },
   "file_extension": ".py",
   "mimetype": "text/x-python",
   "name": "python",
   "nbconvert_exporter": "python",
   "pygments_lexer": "ipython2",
   "version": "2.7.13"
  }
 },
 "nbformat": 4,
 "nbformat_minor": 1
}
