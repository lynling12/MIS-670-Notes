{
 "cells": [
  {
   "cell_type": "markdown",
   "metadata": {},
   "source": [
    "# This lecture teaches you how to transform regular texts to network data for network analytics"
   ]
  },
  {
   "cell_type": "code",
   "execution_count": 1,
   "metadata": {
    "collapsed": true
   },
   "outputs": [],
   "source": [
    "import requests\n",
    "from lxml import html\n",
    "import csv\n",
    "import re"
   ]
  },
  {
   "cell_type": "markdown",
   "metadata": {},
   "source": [
    "# First, a 1 minutes tutorial on XPath :)"
   ]
  },
  {
   "cell_type": "code",
   "execution_count": 2,
   "metadata": {
    "collapsed": false
   },
   "outputs": [
    {
     "data": {
      "text/plain": [
       "['A', 'B', 'A', 'A', 'C']"
      ]
     },
     "execution_count": 2,
     "metadata": {},
     "output_type": "execute_result"
    }
   ],
   "source": [
    "sampledata = '''\n",
    "<p>A</p>\n",
    "<p>B</p>\n",
    "<p>A</p>\n",
    "<p><a>D</a></p>\n",
    "<p>A</p>\n",
    "<p>C</p>       \n",
    "'''\n",
    "doc = html.fromstring(sampledata)\n",
    "data = doc.xpath(\"//p/text()\")\n",
    "data"
   ]
  },
  {
   "cell_type": "code",
   "execution_count": 3,
   "metadata": {
    "collapsed": false
   },
   "outputs": [
    {
     "data": {
      "text/plain": [
       "['A', 'B', 'A', 'Hello', 'A', 'C']"
      ]
     },
     "execution_count": 3,
     "metadata": {},
     "output_type": "execute_result"
    }
   ],
   "source": [
    "sampledata = '''\n",
    "<p>A</p>\n",
    "<p>B</p>\n",
    "<p>A</p>\n",
    "<p><a>Hello</a></p>\n",
    "<p>A</p>\n",
    "<p>C</p>       \n",
    "'''\n",
    "doc = html.fromstring(sampledata)\n",
    "data = doc.xpath(\"//p/text() | //p/a/text()\")\n",
    "data"
   ]
  },
  {
   "cell_type": "markdown",
   "metadata": {},
   "source": [
    "# 2015 marchmadness complete results\n",
    "http://abcnews.go.com/Sports/march-madness-2015-complete-schedule-key-dates/story?id=29618079\n",
    "# Can we visualize the texts as a network?"
   ]
  },
  {
   "cell_type": "code",
   "execution_count": 4,
   "metadata": {
    "collapsed": false
   },
   "outputs": [],
   "source": [
    "data = html.fromstring(requests.get(\"http://abcnews.go.com/Sports/march-madness-2015-complete-schedule-key-dates/story?id=29618079\").text)"
   ]
  },
  {
   "cell_type": "code",
   "execution_count": 5,
   "metadata": {
    "collapsed": false
   },
   "outputs": [
    {
     "data": {
      "text/plain": [
       "['March 17',\n",
       " 'Hampton',\n",
       " 'Ole Miss',\n",
       " 'March 18',\n",
       " 'Robert Morris',\n",
       " 'Dayton',\n",
       " 'March 19',\n",
       " 'Georgia State',\n",
       " 'North Carolina',\n",
       " 'Arkansas',\n",
       " 'Xavier',\n",
       " 'Kentucky',\n",
       " 'UAB',\n",
       " 'UCLA',\n",
       " 'Cincinnati',\n",
       " 'Villanova',\n",
       " 'Notre Dame',\n",
       " 'Butler',\n",
       " 'North Carolina State',\n",
       " 'Arizona',\n",
       " 'Georgetown',\n",
       " 'Ohio State',\n",
       " 'March 20',\n",
       " 'Duke',\n",
       " 'Virginia',\n",
       " ' Michigan State',\n",
       " 'San Diego State',\n",
       " 'Oklahoma',\n",
       " 'Maryland',\n",
       " 'West Virginia',\n",
       " 'Dayton',\n",
       " 'Wisconsin',\n",
       " 'Kansas',\n",
       " 'Wichita State',\n",
       " 'Oregon',\n",
       " 'Gonzaga,',\n",
       " 'Louisville',\n",
       " 'Northern Iowa',\n",
       " 'Iowa',\n",
       " 'March 21',\n",
       " 'Xavier',\n",
       " 'North Carolina',\n",
       " 'Arizona',\n",
       " 'Utah',\n",
       " 'Kentucky',\n",
       " 'UCLA',\n",
       " 'Notre Dame',\n",
       " 'North Carolina State',\n",
       " 'March 22',\n",
       " 'Michigan State',\n",
       " 'Wichita State',\n",
       " 'Wisconsin',\n",
       " 'West Virginia',\n",
       " 'Louisville',\n",
       " 'Duke',\n",
       " 'Oklahoma',\n",
       " 'Gonzaga',\n",
       " 'March 26',\n",
       " 'Kentucky',\n",
       " 'Notre Dame',\n",
       " 'Wisconsin',\n",
       " 'Arizona',\n",
       " 'March 27',\n",
       " 'Louisville',\n",
       " 'Michigan State',\n",
       " 'Duke',\n",
       " 'Gonzaga',\n",
       " 'March 28',\n",
       " 'Kentucky',\n",
       " 'Wisconsin',\n",
       " 'March 29',\n",
       " 'Michigan State',\n",
       " 'Duke',\n",
       " 'April 4',\n",
       " 'Wisconsin',\n",
       " 'Duke',\n",
       " 'April 6',\n",
       " 'Duke 68']"
      ]
     },
     "execution_count": 5,
     "metadata": {},
     "output_type": "execute_result"
    }
   ],
   "source": [
    "winner = data.xpath(\"//div[@class='article-copy']/p[@itemprop='articleBody']/strong/text()\")\n",
    "winner"
   ]
  },
  {
   "cell_type": "markdown",
   "metadata": {},
   "source": [
    "Utah is missing in the above result\n"
   ]
  },
  {
   "cell_type": "code",
   "execution_count": 6,
   "metadata": {
    "collapsed": false
   },
   "outputs": [
    {
     "data": {
      "text/plain": [
       "['March 17',\n",
       " 'Hampton',\n",
       " 'Ole Miss',\n",
       " 'March 18',\n",
       " 'Robert Morris',\n",
       " 'Dayton',\n",
       " 'March 19',\n",
       " 'Georgia State',\n",
       " 'North Carolina',\n",
       " 'Arkansas',\n",
       " 'Xavier',\n",
       " 'Kentucky',\n",
       " 'UAB',\n",
       " 'UCLA',\n",
       " 'Cincinnati',\n",
       " 'Villanova',\n",
       " 'Notre Dame',\n",
       " 'Butler',\n",
       " 'North Carolina State',\n",
       " 'Arizona',\n",
       " 'Georgetown',\n",
       " 'Utah',\n",
       " 'Ohio State',\n",
       " 'March 20',\n",
       " 'Duke',\n",
       " 'Virginia',\n",
       " ' Michigan State',\n",
       " 'San Diego State',\n",
       " 'Oklahoma',\n",
       " 'Maryland',\n",
       " 'West Virginia',\n",
       " 'Dayton',\n",
       " 'Wisconsin',\n",
       " 'Kansas',\n",
       " 'Wichita State',\n",
       " 'Oregon',\n",
       " 'Gonzaga,',\n",
       " 'Louisville',\n",
       " 'Northern Iowa',\n",
       " 'Iowa',\n",
       " 'March 21',\n",
       " 'Xavier',\n",
       " 'North Carolina',\n",
       " 'Arizona',\n",
       " 'Utah',\n",
       " 'Kentucky',\n",
       " 'UCLA',\n",
       " 'Notre Dame',\n",
       " 'North Carolina State',\n",
       " 'March 22',\n",
       " 'Michigan State',\n",
       " 'Wichita State',\n",
       " 'Wisconsin',\n",
       " 'West Virginia',\n",
       " 'Louisville',\n",
       " 'Duke',\n",
       " 'Oklahoma',\n",
       " 'Gonzaga',\n",
       " 'March 26',\n",
       " 'Kentucky',\n",
       " 'Notre Dame',\n",
       " 'Wisconsin',\n",
       " 'Arizona',\n",
       " 'March 27',\n",
       " 'Louisville',\n",
       " 'Michigan State',\n",
       " 'Duke',\n",
       " 'Gonzaga',\n",
       " 'March 28',\n",
       " 'Kentucky',\n",
       " 'Wisconsin',\n",
       " 'March 29',\n",
       " 'Michigan State',\n",
       " 'Duke',\n",
       " 'April 4',\n",
       " 'Wisconsin',\n",
       " 'Duke',\n",
       " 'April 6',\n",
       " 'Duke 68']"
      ]
     },
     "execution_count": 6,
     "metadata": {},
     "output_type": "execute_result"
    }
   ],
   "source": [
    "winner = data.xpath(\"//div[@class='article-copy']/p[@itemprop='articleBody']/strong/text() | //div[@class='article-copy']/p[@itemprop='articleBody']/strong/a/text()\")\n",
    "winner"
   ]
  },
  {
   "cell_type": "markdown",
   "metadata": {},
   "source": [
    "The data still has some issues (e.g., numbers, March, April)"
   ]
  },
  {
   "cell_type": "code",
   "execution_count": 7,
   "metadata": {
    "collapsed": false
   },
   "outputs": [
    {
     "name": "stdout",
     "output_type": "stream",
     "text": [
      "March\n",
      "Hampton\n",
      "OleMiss\n",
      "March\n",
      "RobertMorris\n",
      "Dayton\n",
      "March\n",
      "GeorgiaState\n",
      "NorthCarolina\n",
      "Arkansas\n",
      "Xavier\n",
      "Kentucky\n",
      "UAB\n",
      "UCLA\n",
      "Cincinnati\n",
      "Villanova\n",
      "NotreDame\n",
      "Butler\n",
      "NorthCarolinaState\n",
      "Arizona\n",
      "Georgetown\n",
      "Utah\n",
      "OhioState\n",
      "March\n",
      "Duke\n",
      "Virginia\n",
      "MichiganState\n",
      "SanDiegoState\n",
      "Oklahoma\n",
      "Maryland\n",
      "WestVirginia\n",
      "Dayton\n",
      "Wisconsin\n",
      "Kansas\n",
      "WichitaState\n",
      "Oregon\n",
      "Gonzaga\n",
      "Louisville\n",
      "NorthernIowa\n",
      "Iowa\n",
      "March\n",
      "Xavier\n",
      "NorthCarolina\n",
      "Arizona\n",
      "Utah\n",
      "Kentucky\n",
      "UCLA\n",
      "NotreDame\n",
      "NorthCarolinaState\n",
      "March\n",
      "MichiganState\n",
      "WichitaState\n",
      "Wisconsin\n",
      "WestVirginia\n",
      "Louisville\n",
      "Duke\n",
      "Oklahoma\n",
      "Gonzaga\n",
      "March\n",
      "Kentucky\n",
      "NotreDame\n",
      "Wisconsin\n",
      "Arizona\n",
      "March\n",
      "Louisville\n",
      "MichiganState\n",
      "Duke\n",
      "Gonzaga\n",
      "March\n",
      "Kentucky\n",
      "Wisconsin\n",
      "March\n",
      "MichiganState\n",
      "Duke\n",
      "April\n",
      "Wisconsin\n",
      "Duke\n",
      "April\n",
      "Duke\n"
     ]
    }
   ],
   "source": [
    "winner = data.xpath(\"//div[@class='article-copy']/p[@itemprop='articleBody']/strong/text() | //div[@class='article-copy']/p[@itemprop='articleBody']/strong/a/text()\")\n",
    "for i in winner:\n",
    "    i = i.strip()\n",
    "    i= re.sub('[^a-zA-Z]', '',i)\n",
    "    print i"
   ]
  },
  {
   "cell_type": "code",
   "execution_count": 8,
   "metadata": {
    "collapsed": false
   },
   "outputs": [
    {
     "data": {
      "text/plain": [
       "['Hampton',\n",
       " 'OleMiss',\n",
       " 'RobertMorris',\n",
       " 'Dayton',\n",
       " 'GeorgiaState',\n",
       " 'NorthCarolina',\n",
       " 'Arkansas',\n",
       " 'Xavier',\n",
       " 'Kentucky',\n",
       " 'UAB',\n",
       " 'UCLA',\n",
       " 'Cincinnati',\n",
       " 'Villanova',\n",
       " 'NotreDame',\n",
       " 'Butler',\n",
       " 'NorthCarolinaState',\n",
       " 'Arizona',\n",
       " 'Georgetown',\n",
       " 'Utah',\n",
       " 'OhioState',\n",
       " 'Duke',\n",
       " 'Virginia',\n",
       " 'MichiganState',\n",
       " 'SanDiegoState',\n",
       " 'Oklahoma',\n",
       " 'Maryland',\n",
       " 'WestVirginia',\n",
       " 'Dayton',\n",
       " 'Wisconsin',\n",
       " 'Kansas',\n",
       " 'WichitaState',\n",
       " 'Oregon',\n",
       " 'Gonzaga',\n",
       " 'Louisville',\n",
       " 'NorthernIowa',\n",
       " 'Iowa',\n",
       " 'Xavier',\n",
       " 'NorthCarolina',\n",
       " 'Arizona',\n",
       " 'Utah',\n",
       " 'Kentucky',\n",
       " 'UCLA',\n",
       " 'NotreDame',\n",
       " 'NorthCarolinaState',\n",
       " 'MichiganState',\n",
       " 'WichitaState',\n",
       " 'Wisconsin',\n",
       " 'WestVirginia',\n",
       " 'Louisville',\n",
       " 'Duke',\n",
       " 'Oklahoma',\n",
       " 'Gonzaga',\n",
       " 'Kentucky',\n",
       " 'NotreDame',\n",
       " 'Wisconsin',\n",
       " 'Arizona',\n",
       " 'Louisville',\n",
       " 'MichiganState',\n",
       " 'Duke',\n",
       " 'Gonzaga',\n",
       " 'Kentucky',\n",
       " 'Wisconsin',\n",
       " 'MichiganState',\n",
       " 'Duke',\n",
       " 'Wisconsin',\n",
       " 'Duke',\n",
       " 'Duke']"
      ]
     },
     "execution_count": 8,
     "metadata": {},
     "output_type": "execute_result"
    }
   ],
   "source": [
    "winningteam = []\n",
    "\n",
    "winner = data.xpath(\"//div[@class='article-copy']/p[@itemprop='articleBody']/strong/text() | //div[@class='article-copy']/p[@itemprop='articleBody']/strong/a/text()\")\n",
    "for i in winner:\n",
    "    i = i.strip()\n",
    "    # remove non-alphabetic characters (e.g., numbers)\n",
    "    i= re.sub('[^a-zA-Z]', '',i)\n",
    "    # remove the words (e.g., March, April)\n",
    "    if i <> 'March' and i <> 'April':\n",
    "        winningteam.append(i)\n",
    "        \n",
    "winningteam"
   ]
  },
  {
   "cell_type": "code",
   "execution_count": 9,
   "metadata": {
    "collapsed": false
   },
   "outputs": [
    {
     "data": {
      "text/plain": [
       "['ManhattanCollege',\n",
       " 'BYU',\n",
       " 'NorthFlorida',\n",
       " 'BoiseState',\n",
       " 'Baylor',\n",
       " 'Harvard',\n",
       " 'Wofford',\n",
       " 'OleMiss',\n",
       " 'Hampton',\n",
       " 'IowaState',\n",
       " 'SMU',\n",
       " 'Purdue',\n",
       " 'Lafayette',\n",
       " 'Northeastern',\n",
       " 'Texas',\n",
       " 'LSU',\n",
       " 'TexasSouthern',\n",
       " 'EasternWashington',\n",
       " 'StephenFAustin',\n",
       " 'VCU',\n",
       " 'RobertMorris',\n",
       " 'Belmont',\n",
       " 'Georgia',\n",
       " 'StJohns',\n",
       " 'Albany',\n",
       " 'Valparaiso',\n",
       " 'Buffalo',\n",
       " 'Providence',\n",
       " 'CoastalCarolina',\n",
       " 'NewMexicoState',\n",
       " 'Indiana',\n",
       " 'OklahomaState',\n",
       " 'NorthDakotaState',\n",
       " 'UCIrvine',\n",
       " 'Wyoming',\n",
       " 'Davidson',\n",
       " 'GeorgiaState',\n",
       " 'Arkansas',\n",
       " 'OhioState',\n",
       " 'Georgetown',\n",
       " 'Cincinnati',\n",
       " 'UAB',\n",
       " 'Butler',\n",
       " 'Villanova',\n",
       " 'Virginia',\n",
       " 'Kansas',\n",
       " 'Oregon',\n",
       " 'Maryland',\n",
       " 'NorthernIowa',\n",
       " 'SanDiegoState',\n",
       " 'Dayton',\n",
       " 'Iowa',\n",
       " 'WestVirginia',\n",
       " 'WichitaState',\n",
       " 'NorthCarolina',\n",
       " 'Xavier',\n",
       " 'NorthCarolinaState',\n",
       " 'Oklahoma',\n",
       " 'Utah',\n",
       " 'UCLA',\n",
       " 'NotreDame',\n",
       " 'Arizona',\n",
       " 'Louisville',\n",
       " 'Gonzaga',\n",
       " 'Kentucky',\n",
       " 'MichiganState',\n",
       " 'Wisconsin']"
      ]
     },
     "execution_count": 9,
     "metadata": {},
     "output_type": "execute_result"
    }
   ],
   "source": [
    "losingteam = []\n",
    "loser = data.xpath(\"//div[@class='article-copy']/p[@itemprop='articleBody']/text()[2]\")\n",
    "for i in loser:\n",
    "    i = i.strip()\n",
    "    i = re.sub('\\([^)]*\\)', '', i)\n",
    "    i= re.sub('[^a-zA-Z]', '',i)\n",
    "    losingteam.append(i)\n",
    "\n",
    "losingteam"
   ]
  },
  {
   "cell_type": "code",
   "execution_count": 10,
   "metadata": {
    "collapsed": false
   },
   "outputs": [
    {
     "data": {
      "text/plain": [
       "[('ManhattanCollege', 'Hampton'),\n",
       " ('BYU', 'OleMiss'),\n",
       " ('NorthFlorida', 'RobertMorris'),\n",
       " ('BoiseState', 'Dayton'),\n",
       " ('Baylor', 'GeorgiaState'),\n",
       " ('Harvard', 'NorthCarolina'),\n",
       " ('Wofford', 'Arkansas'),\n",
       " ('OleMiss', 'Xavier'),\n",
       " ('Hampton', 'Kentucky'),\n",
       " ('IowaState', 'UAB'),\n",
       " ('SMU', 'UCLA'),\n",
       " ('Purdue', 'Cincinnati'),\n",
       " ('Lafayette', 'Villanova'),\n",
       " ('Northeastern', 'NotreDame'),\n",
       " ('Texas', 'Butler'),\n",
       " ('LSU', 'NorthCarolinaState'),\n",
       " ('TexasSouthern', 'Arizona'),\n",
       " ('EasternWashington', 'Georgetown'),\n",
       " ('StephenFAustin', 'Utah'),\n",
       " ('VCU', 'OhioState'),\n",
       " ('RobertMorris', 'Duke'),\n",
       " ('Belmont', 'Virginia'),\n",
       " ('Georgia', 'MichiganState'),\n",
       " ('StJohns', 'SanDiegoState'),\n",
       " ('Albany', 'Oklahoma'),\n",
       " ('Valparaiso', 'Maryland'),\n",
       " ('Buffalo', 'WestVirginia'),\n",
       " ('Providence', 'Dayton'),\n",
       " ('CoastalCarolina', 'Wisconsin'),\n",
       " ('NewMexicoState', 'Kansas'),\n",
       " ('Indiana', 'WichitaState'),\n",
       " ('OklahomaState', 'Oregon'),\n",
       " ('NorthDakotaState', 'Gonzaga'),\n",
       " ('UCIrvine', 'Louisville'),\n",
       " ('Wyoming', 'NorthernIowa'),\n",
       " ('Davidson', 'Iowa'),\n",
       " ('GeorgiaState', 'Xavier'),\n",
       " ('Arkansas', 'NorthCarolina'),\n",
       " ('OhioState', 'Arizona'),\n",
       " ('Georgetown', 'Utah'),\n",
       " ('Cincinnati', 'Kentucky'),\n",
       " ('UAB', 'UCLA'),\n",
       " ('Butler', 'NotreDame'),\n",
       " ('Villanova', 'NorthCarolinaState'),\n",
       " ('Virginia', 'MichiganState'),\n",
       " ('Kansas', 'WichitaState'),\n",
       " ('Oregon', 'Wisconsin'),\n",
       " ('Maryland', 'WestVirginia'),\n",
       " ('NorthernIowa', 'Louisville'),\n",
       " ('SanDiegoState', 'Duke'),\n",
       " ('Dayton', 'Oklahoma'),\n",
       " ('Iowa', 'Gonzaga'),\n",
       " ('WestVirginia', 'Kentucky'),\n",
       " ('WichitaState', 'NotreDame'),\n",
       " ('NorthCarolina', 'Wisconsin'),\n",
       " ('Xavier', 'Arizona'),\n",
       " ('NorthCarolinaState', 'Louisville'),\n",
       " ('Oklahoma', 'MichiganState'),\n",
       " ('Utah', 'Duke'),\n",
       " ('UCLA', 'Gonzaga'),\n",
       " ('NotreDame', 'Kentucky'),\n",
       " ('Arizona', 'Wisconsin'),\n",
       " ('Louisville', 'MichiganState'),\n",
       " ('Gonzaga', 'Duke'),\n",
       " ('Kentucky', 'Wisconsin'),\n",
       " ('MichiganState', 'Duke'),\n",
       " ('Wisconsin', 'Duke')]"
      ]
     },
     "execution_count": 10,
     "metadata": {},
     "output_type": "execute_result"
    }
   ],
   "source": [
    "final = zip(losingteam, winningteam)\n",
    "final"
   ]
  },
  {
   "cell_type": "code",
   "execution_count": 11,
   "metadata": {
    "collapsed": true
   },
   "outputs": [],
   "source": [
    "output = open(\"data/output_marchmadness.csv\", \"wb\")\n",
    "w = csv.writer(output)\n",
    "w.writerows(final)\n",
    "output.close()"
   ]
  },
  {
   "cell_type": "markdown",
   "metadata": {},
   "source": [
    "68 nodes & 67 edges"
   ]
  },
  {
   "cell_type": "code",
   "execution_count": 12,
   "metadata": {
    "collapsed": false
   },
   "outputs": [
    {
     "data": {
      "image/png": "[encoded data removed]",
      "text/plain": [
       "<IPython.core.display.Image object>"
      ]
     },
     "execution_count": 12,
     "metadata": {},
     "output_type": "execute_result"
    }
   ],
   "source": [
    "from IPython.display import Image\n",
    "Image(\"data/marchmadness.png\")"
   ]
  }
 ],
 "metadata": {
  "kernelspec": {
   "display_name": "Python 2",
   "language": "python",
   "name": "python2"
  },
  "language_info": {
   "codemirror_mode": {
    "name": "ipython",
    "version": 2
   },
   "file_extension": ".py",
   "mimetype": "text/x-python",
   "name": "python",
   "nbconvert_exporter": "python",
   "pygments_lexer": "ipython2",
   "version": "2.7.12"
  }
 },
 "nbformat": 4,
 "nbformat_minor": 0
}
