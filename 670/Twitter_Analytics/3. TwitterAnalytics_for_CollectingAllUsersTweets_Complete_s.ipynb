{
 "cells": [
  {
   "cell_type": "markdown",
   "metadata": {},
   "source": [
    "# Getting 3,200 tweets of all users\n",
    "\n",
    "The script below demonstrates how to collect 3,200 tweets per user. \n",
    "\n",
    "- I use a few screen names ('realdonaldtrump', 'hillaryclinton, 'kstatebusiness') for the demonstration purpose. \n",
    "- If you understand this script and need to collect 3,200 tweets for a large number of Twitter users, you should use **3_get_all_users_tweets_final_s.py**"
   ]
  },
  {
   "cell_type": "code",
   "execution_count": null,
   "metadata": {},
   "outputs": [],
   "source": [
    "# Adapted from https://gist.github.com/yanofsky/5436496#file-tweet_dumper-py-L36\n",
    "import tweepy #https://github.com/tweepy/tweepy\n",
    "import csv\n",
    "\n",
    "#Variables that contains the user credentials to access Twitter API\n",
    "\n",
    "consumer_key = 'insert your own key here'\n",
    "consumer_secret = 'insert your own key here'\n",
    "access_token = 'insert your own key here'\n",
    "access_token_secret = 'insert your own key here'\n",
    "\n",
    "#Twitter only allows access to a users most recent 3240 tweets with this method\n",
    "\n",
    "#authorize twitter, initialize tweepy\n",
    "auth = tweepy.OAuthHandler(consumer_key, consumer_secret)\n",
    "auth.set_access_token(access_key, access_secret)\n",
    "api = tweepy.API(auth)\n",
    "\n",
    "#initialize a list to hold all the tweepy Tweets\n",
    "\n",
    "screen_names = ['realdonaldtrump','KStateBusiness','HillaryClinton']\n",
    "\n",
    "writefile=open(\"data/output_user_tweets.csv\", \"wb\")\n",
    "w=csv.writer(writefile)\n",
    "\n",
    "for i in screen_names:\n",
    "    alltweets = []\t\n",
    "    print i\n",
    "    \n",
    "    new_tweets = api.user_timeline(screen_name = i, count=200)\n",
    "\n",
    "    #save most recent tweets\n",
    "    alltweets.extend(new_tweets)\n",
    "\n",
    "    try:\n",
    "        oldest = alltweets[-1].id - 1\n",
    "    except:\n",
    "        pass\n",
    "    \n",
    "    #keep grabbing tweets until there are no tweets left to grab\n",
    "    while len(new_tweets) > 0:\n",
    "        print \"getting tweets before %s\" % (oldest)\n",
    "\n",
    "        #all subsiquent requests use the max_id param to prevent duplicates\n",
    "        new_tweets = api.user_timeline(screen_name = i,count=200,max_id=oldest)\n",
    "\n",
    "        #save most recent tweets\n",
    "        alltweets.extend(new_tweets)\n",
    "\n",
    "        #update the id of the oldest tweet less one\n",
    "        oldest = alltweets[-1].id - 1\n",
    "\n",
    "        print \"...%s tweets downloaded so far\" % (len(alltweets))\n",
    "\n",
    "    #write the csv\t\n",
    "    for tweet in alltweets:\n",
    "        w.writerow([i, tweet.id_str, tweet.created_at, tweet.text.encode(\"utf-8\")])\n",
    "        #w.writerow([i, tweet.id_str, tweet.created_at, tweet.text.encode(\"utf-8\"), tweet.source])\n",
    "        \n",
    "writefile.close()"
   ]
  },
  {
   "cell_type": "markdown",
   "metadata": {},
   "source": [
    "# Get all followers of a Twitter user\n",
    "\n",
    "Let's suppose that you want to find out who is following you, a company, or a popular sport team.\n",
    "\n",
    "1. Then, first you should collect all followers of a user using this script (we'll collect their Twitter screen names). Save the entire screen names in csv.\n",
    "\n",
    "2. Second, you use the python script (3_get_all_users_tweets.py) to all tweets per each follower."
   ]
  },
  {
   "cell_type": "code",
   "execution_count": null,
   "metadata": {},
   "outputs": [],
   "source": [
    "import time\n",
    "import tweepy\n",
    "from tweepy.streaming import StreamListener\n",
    "from tweepy import OAuthHandler\n",
    "from tweepy import Stream\n",
    "\n",
    "#Variables that contains the user credentials to access Twitter API\n",
    "\n",
    "consumer_key = 'insert your own key here'\n",
    "consumer_secret = 'insert your own key here'\n",
    "access_token = 'insert your own key here'\n",
    "access_token_secret = 'insert your own key here'\n",
    "\n",
    "auth = OAuthHandler(consumer_key, consumer_secret)\n",
    "auth.set_access_token(access_token, access_token_secret)\n",
    "\n",
    "api = tweepy.API(auth, wait_on_rate_limit=True)\n",
    "\n",
    "# get the followers' screen names (K-State Provost)\n",
    "provost_followers = []\n",
    "for user in tweepy.Cursor(api.followers, screen_name=\"KStateProvost\", count=200, \n",
    "                          wait_on_rate_limit=True, wait_on_rate_limit_notify=True).items():\n",
    "    provost_followers.append(user.screen_name)\n",
    "    print user.screen_name\n",
    "len(provost_followers)"
   ]
  },
  {
   "cell_type": "code",
   "execution_count": null,
   "metadata": {},
   "outputs": [],
   "source": [
    "import csv\n",
    "\n",
    "writefile=open(\"data/screen_names.csv\", \"wb\")\n",
    "w=csv.writer(writefile)\n",
    "for i in provost_followers:\n",
    "    w.writerow([i])\n",
    "writefile.close()"
   ]
  },
  {
   "cell_type": "markdown",
   "metadata": {},
   "source": [
    "# Appendix: Get all followers of a Twitter user (To Avoid Twitter's Rate Limits through Sleeping)"
   ]
  },
  {
   "cell_type": "markdown",
   "metadata": {},
   "source": [
    "- If you want to collect a complete list of Twitter follwers for some popular businesses or people, then use the following script (**4_Collecting_LargeFollowers_s.py**)"
   ]
  },
  {
   "cell_type": "code",
   "execution_count": null,
   "metadata": {
    "collapsed": true
   },
   "outputs": [],
   "source": [
    "import time\n",
    "import csv\n",
    "import tweepy\n",
    "from tweepy.streaming import StreamListener\n",
    "from tweepy import OAuthHandler\n",
    "from tweepy import Stream\n",
    "\n",
    "#Variables that contains the user credentials to access Twitter API\n",
    "consumer_key = ''\n",
    "consumer_secret = ''\n",
    "access_token = ''\n",
    "access_token_secret = ''\n",
    "\n",
    "auth = OAuthHandler(consumer_key, consumer_secret)\n",
    "auth.set_access_token(access_token, access_token_secret)\n",
    "\n",
    "api = tweepy.API(auth)\n",
    "\n",
    "#save the screen names\n",
    "writefile = open(\"data/screen_names_large.csv\", \"wb\")\n",
    "w = csv.writer(writefile)\n",
    "\n",
    "users = tweepy.Cursor(api.followers, screen_name='GTMSportswear').items()\n",
    "\n",
    "while True:\n",
    "    try:\n",
    "        user = next(users)\n",
    "    except tweepy.TweepError:\n",
    "        time.sleep(60*15)\n",
    "        try:\n",
    "            user = next(users)\n",
    "        #http://stackoverflow.com/questions/30582332/python-tweeperror-failed-to-send-request\n",
    "        except BaseException as e:\n",
    "            print('failed on_status,',str(e)) # print the error code obtained from twitter\n",
    "            time.sleep(5) # provide a time before resuming the code when an error arises\n",
    "    except StopIteration:\n",
    "        break\n",
    "    print user.screen_name\n",
    "    w.writerow([user.screen_name])\n",
    "\n",
    "writefile.close()"
   ]
  }
 ],
 "metadata": {
  "kernelspec": {
   "display_name": "Python 2",
   "language": "python",
   "name": "python2"
  },
  "language_info": {
   "codemirror_mode": {
    "name": "ipython",
    "version": 2
   },
   "file_extension": ".py",
   "mimetype": "text/x-python",
   "name": "python",
   "nbconvert_exporter": "python",
   "pygments_lexer": "ipython2",
   "version": "2.7.13"
  }
 },
 "nbformat": 4,
 "nbformat_minor": 1
}
