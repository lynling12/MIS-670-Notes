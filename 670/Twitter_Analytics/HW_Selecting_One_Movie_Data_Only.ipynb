{
 "cells": [
  {
   "cell_type": "markdown",
   "metadata": {},
   "source": [
    "This notebooks demonstrate how to select a sample dataset based on a value (e.g., movie name, keyword)"
   ]
  },
  {
   "cell_type": "code",
   "execution_count": 1,
   "metadata": {},
   "outputs": [],
   "source": [
    "import pandas as pd\n",
    "import csv\n",
    "import re\n",
    "import nltk"
   ]
  },
  {
   "cell_type": "markdown",
   "metadata": {},
   "source": [
    "## Retrieve and Process Twitter Data"
   ]
  },
  {
   "cell_type": "code",
   "execution_count": 1,
   "metadata": {},
   "outputs": [
    {
     "name": "stdout",
     "output_type": "stream",
     "text": [
      "{\n",
      "    \"contributors\": null, \n",
      "    \"truncated\": false, \n",
      "    \"text\": \"Mothers of Black Victims Emerge as a Force for Hillary Clinton https://t.co/KiQihBmSfF\", \n",
      "    \"is_quote_status\": false, \n",
      "    \"in_reply_to_status_id\": null, \n",
      "    \"id\": 720467990551138304, \n",
      "    \"favorite_count\": 0, \n",
      "    \"source\": \"<a href=\\\"http://ifttt.com\\\" rel=\\\"nofollow\\\">IFTTT</a>\", \n",
      "    \"retweeted\": false, \n",
      "    \"coordinates\": null, \n",
      "    \"timestamp_ms\": \"1460607929252\", \n",
      "    \"entities\": {\n",
      "        \"user_mentions\": [], \n",
      "        \"symbols\": [], \n",
      "        \"hashtags\": [], \n",
      "        \"urls\": [\n",
      "            {\n",
      "                \"url\": \"https://t.co/KiQihBmSfF\", \n",
      "                \"indices\": [\n",
      "                    63, \n",
      "                    86\n",
      "                ], \n",
      "                \"expanded_url\": \"http://ift.tt/22vT633\", \n",
      "                \"display_url\": \"ift.tt/22vT633\"\n",
      "            }\n",
      "        ]\n",
      "    }, \n",
      "    \"in_reply_to_screen_name\": null, \n",
      "    \"id_str\": \"720467990551138304\", \n",
      "    \"retweet_count\": 0, \n",
      "    \"in_reply_to_user_id\": null, \n",
      "    \"favorited\": false, \n",
      "    \"user\": {\n",
      "        \"follow_request_sent\": null, \n",
      "        \"profile_use_background_image\": true, \n",
      "        \"default_profile_image\": false, \n",
      "        \"id\": 368215075, \n",
      "        \"verified\": false, \n",
      "        \"profile_image_url_https\": \"https://pbs.twimg.com/profile_images/557473320635887617/zTZTQoxj_normal.jpeg\", \n",
      "        \"profile_sidebar_fill_color\": \"DDEEF6\", \n",
      "        \"profile_text_color\": \"333333\", \n",
      "        \"followers_count\": 1028, \n",
      "        \"profile_sidebar_border_color\": \"C0DEED\", \n",
      "        \"id_str\": \"368215075\", \n",
      "        \"profile_background_color\": \"C0DEED\", \n",
      "        \"listed_count\": 310, \n",
      "        \"profile_background_image_url_https\": \"https://abs.twimg.com/images/themes/theme1/bg.png\", \n",
      "        \"utc_offset\": 10800, \n",
      "        \"statuses_count\": 920141, \n",
      "        \"description\": \"Journalist - Reporter  . /.  Follow the info\", \n",
      "        \"friends_count\": 140, \n",
      "        \"location\": \"Athens - Nicosia\", \n",
      "        \"profile_link_color\": \"0084B4\", \n",
      "        \"profile_image_url\": \"http://pbs.twimg.com/profile_images/557473320635887617/zTZTQoxj_normal.jpeg\", \n",
      "        \"following\": null, \n",
      "        \"geo_enabled\": true, \n",
      "        \"profile_banner_url\": \"https://pbs.twimg.com/profile_banners/368215075/1421920076\", \n",
      "        \"profile_background_image_url\": \"http://abs.twimg.com/images/themes/theme1/bg.png\", \n",
      "        \"name\": \"Paris Hatzievagelou\", \n",
      "        \"lang\": \"en\", \n",
      "        \"profile_background_tile\": false, \n",
      "        \"favourites_count\": 4, \n",
      "        \"screen_name\": \"parishatzi\", \n",
      "        \"notifications\": null, \n",
      "        \"url\": null, \n",
      "        \"created_at\": \"Mon Sep 05 08:25:54 +0000 2011\", \n",
      "        \"contributors_enabled\": false, \n",
      "        \"time_zone\": \"Athens\", \n",
      "        \"protected\": false, \n",
      "        \"default_profile\": true, \n",
      "        \"is_translator\": false\n",
      "    }, \n",
      "    \"geo\": null, \n",
      "    \"in_reply_to_user_id_str\": null, \n",
      "    \"possibly_sensitive\": false, \n",
      "    \"lang\": \"en\", \n",
      "    \"created_at\": \"Thu Apr 14 04:25:29 +0000 2016\", \n",
      "    \"filter_level\": \"low\", \n",
      "    \"in_reply_to_status_id_str\": null, \n",
      "    \"place\": null\n",
      "}\n"
     ]
    }
   ],
   "source": [
    "import json\n",
    " \n",
    "with open('data/politics.json', 'r') as f:\n",
    "    line = f.readline() # read only the first tweet/line\n",
    "    tweet = json.loads(line) # load it as Python dictionary\n",
    "    print(json.dumps(tweet, indent=4)) \n",
    "    \n",
    "# the original data from Twitter looks like below."
   ]
  },
  {
   "cell_type": "code",
   "execution_count": 2,
   "metadata": {},
   "outputs": [
    {
     "name": "stdout",
     "output_type": "stream",
     "text": [
      "968\n"
     ]
    }
   ],
   "source": [
    "import json\n",
    "\n",
    "# create an empty list to store our tweets in\n",
    "data = []\n",
    "\n",
    "# append each line of the data to our tweets list using the json module\n",
    "for line in open('data/politics.json'):\n",
    "    try:\n",
    "        data.append(json.loads(line))\n",
    "    except:\n",
    "        pass\n",
    "\n",
    "# lets see how many we got\n",
    "print len(data)"
   ]
  },
  {
   "cell_type": "code",
   "execution_count": 4,
   "metadata": {},
   "outputs": [
    {
     "name": "stdout",
     "output_type": "stream",
     "text": [
      "{u'contributors': None, u'truncated': False, u'text': u'Mothers of Black Victims Emerge as a Force for Hillary Clinton https://t.co/KiQihBmSfF', u'is_quote_status': False, u'in_reply_to_status_id': None, u'id': 720467990551138304L, u'favorite_count': 0, u'source': u'<a href=\"http://ifttt.com\" rel=\"nofollow\">IFTTT</a>', u'retweeted': False, u'coordinates': None, u'timestamp_ms': u'1460607929252', u'entities': {u'user_mentions': [], u'symbols': [], u'hashtags': [], u'urls': [{u'url': u'https://t.co/KiQihBmSfF', u'indices': [63, 86], u'expanded_url': u'http://ift.tt/22vT633', u'display_url': u'ift.tt/22vT633'}]}, u'in_reply_to_screen_name': None, u'id_str': u'720467990551138304', u'retweet_count': 0, u'in_reply_to_user_id': None, u'favorited': False, u'user': {u'follow_request_sent': None, u'profile_use_background_image': True, u'default_profile_image': False, u'id': 368215075, u'verified': False, u'profile_image_url_https': u'https://pbs.twimg.com/profile_images/557473320635887617/zTZTQoxj_normal.jpeg', u'profile_sidebar_fill_color': u'DDEEF6', u'profile_text_color': u'333333', u'followers_count': 1028, u'profile_sidebar_border_color': u'C0DEED', u'id_str': u'368215075', u'profile_background_color': u'C0DEED', u'listed_count': 310, u'profile_background_image_url_https': u'https://abs.twimg.com/images/themes/theme1/bg.png', u'utc_offset': 10800, u'statuses_count': 920141, u'description': u'Journalist - Reporter  . /.  Follow the info', u'friends_count': 140, u'location': u'Athens - Nicosia', u'profile_link_color': u'0084B4', u'profile_image_url': u'http://pbs.twimg.com/profile_images/557473320635887617/zTZTQoxj_normal.jpeg', u'following': None, u'geo_enabled': True, u'profile_banner_url': u'https://pbs.twimg.com/profile_banners/368215075/1421920076', u'profile_background_image_url': u'http://abs.twimg.com/images/themes/theme1/bg.png', u'name': u'Paris Hatzievagelou', u'lang': u'en', u'profile_background_tile': False, u'favourites_count': 4, u'screen_name': u'parishatzi', u'notifications': None, u'url': None, u'created_at': u'Mon Sep 05 08:25:54 +0000 2011', u'contributors_enabled': False, u'time_zone': u'Athens', u'protected': False, u'default_profile': True, u'is_translator': False}, u'geo': None, u'in_reply_to_user_id_str': None, u'possibly_sensitive': False, u'lang': u'en', u'created_at': u'Thu Apr 14 04:25:29 +0000 2016', u'filter_level': u'low', u'in_reply_to_status_id_str': None, u'place': None}\n",
      "{u'contributors': None, u'truncated': False, u'text': u'RT @Colleges4Bernie: Hillary Clinton rakes in Verizon cash while Bernie Sanders supports company\\u2019s striking workers #FeelTheBern  https://t\\u2026', u'is_quote_status': False, u'in_reply_to_status_id': None, u'id': 720467991817797632L, u'favorite_count': 0, u'source': u'<a href=\"http://twitter.com/download/android\" rel=\"nofollow\">Twitter for Android</a>', u'retweeted': False, u'coordinates': None, u'timestamp_ms': u'1460607929554', u'entities': {u'user_mentions': [{u'id': 4541374877L, u'indices': [3, 19], u'id_str': u'4541374877', u'screen_name': u'Colleges4Bernie', u'name': u'Colleges For Bernie'}], u'symbols': [], u'hashtags': [{u'indices': [116, 128], u'text': u'FeelTheBern'}], u'urls': [{u'url': u'https://t.co/UA9JCiXbB3', u'indices': [139, 140], u'expanded_url': u'http://www.salon.com/2016/04/13/hillary_clinton_rakes_in_verizon_cash_while_bernie_sanders_supports_companys_striking_workers/', u'display_url': u'salon.com/2016/04/13/hil\\u2026'}]}, u'in_reply_to_screen_name': None, u'id_str': u'720467991817797632', u'retweet_count': 0, u'in_reply_to_user_id': None, u'favorited': False, u'retweeted_status': {u'contributors': None, u'truncated': False, u'text': u'Hillary Clinton rakes in Verizon cash while Bernie Sanders supports company\\u2019s striking workers #FeelTheBern  https://t.co/UA9JCiXbB3', u'is_quote_status': False, u'in_reply_to_status_id': None, u'id': 720463324572426240L, u'favorite_count': 21, u'source': u'<a href=\"http://twitter.com/download/iphone\" rel=\"nofollow\">Twitter for iPhone</a>', u'retweeted': False, u'coordinates': None, u'entities': {u'user_mentions': [], u'symbols': [], u'hashtags': [{u'indices': [95, 107], u'text': u'FeelTheBern'}], u'urls': [{u'url': u'https://t.co/UA9JCiXbB3', u'indices': [109, 132], u'expanded_url': u'http://www.salon.com/2016/04/13/hillary_clinton_rakes_in_verizon_cash_while_bernie_sanders_supports_companys_striking_workers/', u'display_url': u'salon.com/2016/04/13/hil\\u2026'}]}, u'in_reply_to_screen_name': None, u'id_str': u'720463324572426240', u'retweet_count': 20, u'in_reply_to_user_id': None, u'favorited': False, u'user': {u'follow_request_sent': None, u'profile_use_background_image': True, u'default_profile_image': False, u'id': 4541374877L, u'verified': False, u'profile_image_url_https': u'https://pbs.twimg.com/profile_images/678397681476100096/XFZVGPeX_normal.jpg', u'profile_sidebar_fill_color': u'DDEEF6', u'profile_text_color': u'333333', u'followers_count': 8692, u'profile_sidebar_border_color': u'C0DEED', u'id_str': u'4541374877', u'profile_background_color': u'F5F8FA', u'listed_count': 96, u'profile_background_image_url_https': u'', u'utc_offset': None, u'statuses_count': 2239, u'description': u'Twitter page for colleges, college students, and anyone who supports Presidential Candidate Bernie Sanders. @BernieSanders #FeelTheBern #Colleges4Bernie', u'friends_count': 9294, u'location': None, u'profile_link_color': u'2B7BB9', u'profile_image_url': u'http://pbs.twimg.com/profile_images/678397681476100096/XFZVGPeX_normal.jpg', u'following': None, u'geo_enabled': False, u'profile_banner_url': u'https://pbs.twimg.com/profile_banners/4541374877/1450577597', u'profile_background_image_url': u'', u'name': u'Colleges For Bernie', u'lang': u'en', u'profile_background_tile': False, u'favourites_count': 6438, u'screen_name': u'Colleges4Bernie', u'notifications': None, u'url': u'http://www.BernieSanders.com', u'created_at': u'Sun Dec 20 01:54:32 +0000 2015', u'contributors_enabled': False, u'time_zone': None, u'protected': False, u'default_profile': True, u'is_translator': False}, u'geo': None, u'in_reply_to_user_id_str': None, u'possibly_sensitive': False, u'lang': u'en', u'created_at': u'Thu Apr 14 04:06:56 +0000 2016', u'filter_level': u'low', u'in_reply_to_status_id_str': None, u'place': None}, u'user': {u'follow_request_sent': None, u'profile_use_background_image': True, u'default_profile_image': False, u'id': 19366171, u'verified': False, u'profile_image_url_https': u'https://pbs.twimg.com/profile_images/693482792143994880/YwPYfHuN_normal.jpg', u'profile_sidebar_fill_color': u'7AC3EE', u'profile_text_color': u'3D1957', u'followers_count': 440, u'profile_sidebar_border_color': u'65B0DA', u'id_str': u'19366171', u'profile_background_color': u'642D8B', u'listed_count': 160, u'profile_background_image_url_https': u'https://abs.twimg.com/images/themes/theme10/bg.gif', u'utc_offset': -25200, u'statuses_count': 8953, u'description': u\"Faber est quisque fortunae suae\\n\\n*You say I'm passionate, I say I'm Cuban Italian French and Spanish*\\n\\n*Dickens favors Twitter 10K*\\n\\nSpousal murderers, UGH\", u'friends_count': 263, u'location': None, u'profile_link_color': u'FF0000', u'profile_image_url': u'http://pbs.twimg.com/profile_images/693482792143994880/YwPYfHuN_normal.jpg', u'following': None, u'geo_enabled': False, u'profile_banner_url': u'https://pbs.twimg.com/profile_banners/19366171/1451715868', u'profile_background_image_url': u'http://abs.twimg.com/images/themes/theme10/bg.gif', u'name': u'Maria Bardino', u'lang': u'en', u'profile_background_tile': True, u'favourites_count': 17019, u'screen_name': u'MABardino', u'notifications': None, u'url': None, u'created_at': u'Thu Jan 22 22:32:03 +0000 2009', u'contributors_enabled': False, u'time_zone': u'Pacific Time (US & Canada)', u'protected': False, u'default_profile': False, u'is_translator': False}, u'geo': None, u'in_reply_to_user_id_str': None, u'possibly_sensitive': False, u'lang': u'en', u'created_at': u'Thu Apr 14 04:25:29 +0000 2016', u'filter_level': u'low', u'in_reply_to_status_id_str': None, u'place': None}\n",
      "{u'contributors': None, u'truncated': False, u'text': u'#UniteWithCruz #ChooseCruz #NeverTrump #DumpTrump #NYPrimary #PAPrimary #MDPrimary #DEPrimary #INPrimary #CAPrimary https://t.co/DpyKFrELtQ', u'is_quote_status': True, u'in_reply_to_status_id': None, u'id': 720467991616483329L, u'favorite_count': 0, u'entities': {u'user_mentions': [], u'symbols': [], u'hashtags': [{u'indices': [0, 14], u'text': u'UniteWithCruz'}, {u'indices': [15, 26], u'text': u'ChooseCruz'}, {u'indices': [27, 38], u'text': u'NeverTrump'}, {u'indices': [39, 49], u'text': u'DumpTrump'}, {u'indices': [50, 60], u'text': u'NYPrimary'}, {u'indices': [61, 71], u'text': u'PAPrimary'}, {u'indices': [72, 82], u'text': u'MDPrimary'}, {u'indices': [83, 93], u'text': u'DEPrimary'}, {u'indices': [94, 104], u'text': u'INPrimary'}, {u'indices': [105, 115], u'text': u'CAPrimary'}], u'urls': [{u'url': u'https://t.co/DpyKFrELtQ', u'indices': [116, 139], u'expanded_url': u'https://twitter.com/SykesCharlie/status/719838676864225280', u'display_url': u'twitter.com/SykesCharlie/s\\u2026'}]}, u'quoted_status_id': 719838676864225280L, u'retweeted': False, u'coordinates': None, u'timestamp_ms': u'1460607929506', u'quoted_status': {u'contributors': None, u'truncated': False, u'text': u'If Trump Doesn\\u2019t Understand 156 Year Old Political Rules, How Will He Understand the Presidency?  https://t.co/PS6qzRM1pD', u'is_quote_status': False, u'in_reply_to_status_id': None, u'id': 719838676864225280L, u'favorite_count': 0, u'source': u'<a href=\"http://twitter.com\" rel=\"nofollow\">Twitter Web Client</a>', u'retweeted': False, u'coordinates': None, u'entities': {u'user_mentions': [], u'symbols': [], u'hashtags': [], u'urls': [{u'url': u'https://t.co/PS6qzRM1pD', u'indices': [98, 121], u'expanded_url': u'http://theresurgent.com/if-trump-doesnt-understand-156-year-old-political-rules-how-will-he-understand-the-presidency/', u'display_url': u'theresurgent.com/if-trump-doesn\\u2026'}]}, u'in_reply_to_screen_name': None, u'id_str': u'719838676864225280', u'retweet_count': 0, u'in_reply_to_user_id': None, u'favorited': False, u'user': {u'follow_request_sent': None, u'profile_use_background_image': True, u'default_profile_image': False, u'id': 95463107, u'verified': False, u'profile_image_url_https': u'https://pbs.twimg.com/profile_images/702857466883776514/XKB0tdB9_normal.jpg', u'profile_sidebar_fill_color': u'DDEEF6', u'profile_text_color': u'333333', u'followers_count': 24636, u'profile_sidebar_border_color': u'C0DEED', u'id_str': u'95463107', u'profile_background_color': u'C0DEED', u'listed_count': 686, u'profile_background_image_url_https': u'https://abs.twimg.com/images/themes/theme1/bg.png', u'utc_offset': -18000, u'statuses_count': 56766, u'description': u'Talk Show host/author; Editor-in-chief of http://RightWisconsin.com; Upcoming new book: Fail U. Bursting the Higher Education Bubble', u'friends_count': 2044, u'location': u'Milwaukee, WI', u'profile_link_color': u'0084B4', u'profile_image_url': u'http://pbs.twimg.com/profile_images/702857466883776514/XKB0tdB9_normal.jpg', u'following': None, u'geo_enabled': True, u'profile_banner_url': u'https://pbs.twimg.com/profile_banners/95463107/1456409300', u'profile_background_image_url': u'http://abs.twimg.com/images/themes/theme1/bg.png', u'name': u'Charles Sykes', u'lang': u'en', u'profile_background_tile': False, u'favourites_count': 119, u'screen_name': u'SykesCharlie', u'notifications': None, u'url': u'http://www.rightwisconsin.com', u'created_at': u'Tue Dec 08 17:28:49 +0000 2009', u'contributors_enabled': False, u'time_zone': u'Central Time (US & Canada)', u'protected': False, u'default_profile': True, u'is_translator': False}, u'geo': None, u'in_reply_to_user_id_str': None, u'possibly_sensitive': False, u'lang': u'en', u'created_at': u'Tue Apr 12 10:44:49 +0000 2016', u'filter_level': u'low', u'in_reply_to_status_id_str': None, u'place': None}, u'source': u'<a href=\"http://twitter.com/download/android\" rel=\"nofollow\">Twitter for Android</a>', u'in_reply_to_screen_name': None, u'id_str': u'720467991616483329', u'retweet_count': 0, u'in_reply_to_user_id': None, u'favorited': False, u'user': {u'follow_request_sent': None, u'profile_use_background_image': True, u'default_profile_image': False, u'id': 3890933907L, u'verified': False, u'profile_image_url_https': u'https://pbs.twimg.com/profile_images/696597366648999941/rMJkb5Oe_normal.jpg', u'profile_sidebar_fill_color': u'DDEEF6', u'profile_text_color': u'333333', u'followers_count': 5797, u'profile_sidebar_border_color': u'C0DEED', u'id_str': u'3890933907', u'profile_background_color': u'C0DEED', u'listed_count': 94, u'profile_background_image_url_https': u'https://abs.twimg.com/images/themes/theme1/bg.png', u'utc_offset': None, u'statuses_count': 79335, u'description': u'Strong conservative & supporter of Ted Cruz for president!\\nLearn more about Ted at http://tedcruz.org #CruzCrew Daytona Beach Vacation Condo Rentals', u'friends_count': 3707, u'location': u'Florida, USA', u'profile_link_color': u'0084B4', u'profile_image_url': u'http://pbs.twimg.com/profile_images/696597366648999941/rMJkb5Oe_normal.jpg', u'following': None, u'geo_enabled': False, u'profile_banner_url': u'https://pbs.twimg.com/profile_banners/3890933907/1456027246', u'profile_background_image_url': u'http://abs.twimg.com/images/themes/theme1/bg.png', u'name': u'Richard', u'lang': u'en', u'profile_background_tile': False, u'favourites_count': 899, u'screen_name': u'CruzinAhead', u'notifications': None, u'url': u'http://www.DaytonaBeachCondoRental.net', u'created_at': u'Wed Oct 07 15:06:06 +0000 2015', u'contributors_enabled': False, u'time_zone': None, u'protected': False, u'default_profile': True, u'is_translator': False}, u'geo': None, u'in_reply_to_user_id_str': None, u'possibly_sensitive': False, u'lang': u'und', u'created_at': u'Thu Apr 14 04:25:29 +0000 2016', u'quoted_status_id_str': u'719838676864225280', u'filter_level': u'low', u'in_reply_to_status_id_str': None, u'place': None}\n",
      "{u'contributors': None, u'truncated': False, u'text': u'RT @TeaPartier_Al: @BROGANMR Trump was bought and also did the selling as well. #CorporateLobbist #NeverTrump @Dboyz22 @NewYork4TedCruz @re\\u2026', u'is_quote_status': False, u'in_reply_to_status_id': None, u'id': 720467991675150336L, u'favorite_count': 0, u'source': u'<a href=\"http://twitter.com/#!/download/ipad\" rel=\"nofollow\">Twitter for iPad</a>', u'retweeted': False, u'coordinates': None, u'timestamp_ms': u'1460607929520', u'entities': {u'user_mentions': [{u'id': 933008323, u'indices': [3, 17], u'id_str': u'933008323', u'screen_name': u'TeaPartier_Al', u'name': u'Alan'}, {u'id': 2346396410L, u'indices': [19, 28], u'id_str': u'2346396410', u'screen_name': u'BROGANMR', u'name': u'I GOTTA BE ME'}, {u'id': 63300391, u'indices': [110, 118], u'id_str': u'63300391', u'screen_name': u'Dboyz22', u'name': u'takes 1 to know 1'}, {u'id': 713569647044505600L, u'indices': [119, 135], u'id_str': u'713569647044505600', u'screen_name': u'NewYork4TedCruz', u'name': u'New York 4 Ted Cruz'}, {u'id': 25073877, u'indices': [136, 140], u'id_str': u'25073877', u'screen_name': u'realDonaldTrump', u'name': u'Donald J. Trump'}], u'symbols': [], u'hashtags': [{u'indices': [80, 97], u'text': u'CorporateLobbist'}, {u'indices': [98, 109], u'text': u'NeverTrump'}], u'urls': []}, u'in_reply_to_screen_name': None, u'id_str': u'720467991675150336', u'retweet_count': 0, u'in_reply_to_user_id': None, u'favorited': False, u'retweeted_status': {u'contributors': None, u'truncated': False, u'text': u'@BROGANMR Trump was bought and also did the selling as well. #CorporateLobbist #NeverTrump @Dboyz22 @NewYork4TedCruz @realDonaldTrump', u'is_quote_status': False, u'in_reply_to_status_id': 720463863557304321L, u'id': 720464868298596353L, u'favorite_count': 0, u'source': u'<a href=\"http://twitter.com/download/android\" rel=\"nofollow\">Twitter for Android</a>', u'retweeted': False, u'coordinates': None, u'entities': {u'user_mentions': [{u'id': 2346396410L, u'indices': [0, 9], u'id_str': u'2346396410', u'screen_name': u'BROGANMR', u'name': u'I GOTTA BE ME'}, {u'id': 63300391, u'indices': [91, 99], u'id_str': u'63300391', u'screen_name': u'Dboyz22', u'name': u'takes 1 to know 1'}, {u'id': 713569647044505600L, u'indices': [100, 116], u'id_str': u'713569647044505600', u'screen_name': u'NewYork4TedCruz', u'name': u'New York 4 Ted Cruz'}, {u'id': 25073877, u'indices': [117, 133], u'id_str': u'25073877', u'screen_name': u'realDonaldTrump', u'name': u'Donald J. Trump'}], u'symbols': [], u'hashtags': [{u'indices': [61, 78], u'text': u'CorporateLobbist'}, {u'indices': [79, 90], u'text': u'NeverTrump'}], u'urls': []}, u'in_reply_to_screen_name': u'BROGANMR', u'id_str': u'720464868298596353', u'retweet_count': 1, u'in_reply_to_user_id': 2346396410L, u'favorited': False, u'user': {u'follow_request_sent': None, u'profile_use_background_image': True, u'default_profile_image': False, u'id': 933008323, u'verified': False, u'profile_image_url_https': u'https://pbs.twimg.com/profile_images/691449407397466112/OxmfKuIE_normal.jpg', u'profile_sidebar_fill_color': u'95E8EC', u'profile_text_color': u'3C3940', u'followers_count': 6595, u'profile_sidebar_border_color': u'FFFFFF', u'id_str': u'933008323', u'profile_background_color': u'0099B9', u'listed_count': 118, u'profile_background_image_url_https': u'https://pbs.twimg.com/profile_background_images/715353642/28aad2cc36f4be49d6da970ee01ceeb3.jpeg', u'utc_offset': -25200, u'statuses_count': 16962, u'description': u'Educating low information voters, one person at a time.  \\u26a0My opinions are my own.\\u26a0 I Endorse Ted Cruz for President #Conservative #tcot', u'friends_count': 6455, u'location': u'Socialist Seattle Area', u'profile_link_color': u'0099B9', u'profile_image_url': u'http://pbs.twimg.com/profile_images/691449407397466112/OxmfKuIE_normal.jpg', u'following': None, u'geo_enabled': True, u'profile_banner_url': u'https://pbs.twimg.com/profile_banners/933008323/1455686226', u'profile_background_image_url': u'http://pbs.twimg.com/profile_background_images/715353642/28aad2cc36f4be49d6da970ee01ceeb3.jpeg', u'name': u'Alan', u'lang': u'en', u'profile_background_tile': True, u'favourites_count': 4684, u'screen_name': u'TeaPartier_Al', u'notifications': None, u'url': None, u'created_at': u'Wed Nov 07 21:39:30 +0000 2012', u'contributors_enabled': False, u'time_zone': u'America/Los_Angeles', u'protected': False, u'default_profile': False, u'is_translator': False}, u'geo': None, u'in_reply_to_user_id_str': u'2346396410', u'lang': u'en', u'created_at': u'Thu Apr 14 04:13:04 +0000 2016', u'filter_level': u'low', u'in_reply_to_status_id_str': u'720463863557304321', u'place': None}, u'user': {u'follow_request_sent': None, u'profile_use_background_image': True, u'default_profile_image': False, u'id': 63300391, u'verified': False, u'profile_image_url_https': u'https://pbs.twimg.com/profile_images/616434119002591232/ByaqdHQa_normal.jpg', u'profile_sidebar_fill_color': u'DDEEF6', u'profile_text_color': u'333333', u'followers_count': 3548, u'profile_sidebar_border_color': u'C0DEED', u'id_str': u'63300391', u'profile_background_color': u'C0DEED', u'listed_count': 103, u'profile_background_image_url_https': u'https://abs.twimg.com/images/themes/theme1/bg.png', u'utc_offset': None, u'statuses_count': 22436, u'description': u'Conservative in Seattle', u'friends_count': 3945, u'location': None, u'profile_link_color': u'0084B4', u'profile_image_url': u'http://pbs.twimg.com/profile_images/616434119002591232/ByaqdHQa_normal.jpg', u'following': None, u'geo_enabled': True, u'profile_banner_url': u'https://pbs.twimg.com/profile_banners/63300391/1396659376', u'profile_background_image_url': u'http://abs.twimg.com/images/themes/theme1/bg.png', u'name': u'takes 1 to know 1', u'lang': u'en', u'profile_background_tile': False, u'favourites_count': 15558, u'screen_name': u'Dboyz22', u'notifications': None, u'url': None, u'created_at': u'Wed Aug 05 23:50:14 +0000 2009', u'contributors_enabled': False, u'time_zone': None, u'protected': False, u'default_profile': True, u'is_translator': False}, u'geo': None, u'in_reply_to_user_id_str': None, u'lang': u'en', u'created_at': u'Thu Apr 14 04:25:29 +0000 2016', u'filter_level': u'low', u'in_reply_to_status_id_str': None, u'place': None}\n",
      "{u'contributors': None, u'truncated': False, u'text': u'RT @onekade: Clinton recently said the coup in Honduras was legal. She knows it was illegal; while at state she got a cable from her staff\\u2026', u'is_quote_status': False, u'in_reply_to_status_id': None, u'id': 720453373112115200L, u'favorite_count': 0, u'source': u'<a href=\"http://twitter.com/#!/download/ipad\" rel=\"nofollow\">Twitter for iPad</a>', u'retweeted': False, u'coordinates': None, u'timestamp_ms': u'1460604444183', u'entities': {u'user_mentions': [{u'id': 15982292, u'indices': [3, 11], u'id_str': u'15982292', u'screen_name': u'onekade', u'name': u'ready 4 december'}], u'symbols': [], u'hashtags': [], u'urls': []}, u'in_reply_to_screen_name': None, u'id_str': u'720453373112115200', u'retweet_count': 0, u'in_reply_to_user_id': None, u'favorited': False, u'retweeted_status': {u'contributors': None, u'truncated': False, u'text': u'Clinton recently said the coup in Honduras was legal. She knows it was illegal; while at state she got a cable from her staff saying so.', u'is_quote_status': False, u'in_reply_to_status_id': None, u'id': 720416503783231489L, u'favorite_count': 48, u'source': u'<a href=\"http://twitter.com/download/iphone\" rel=\"nofollow\">Twitter for iPhone</a>', u'retweeted': False, u'coordinates': None, u'entities': {u'user_mentions': [], u'symbols': [], u'hashtags': [], u'urls': []}, u'in_reply_to_screen_name': None, u'id_str': u'720416503783231489', u'retweet_count': 53, u'in_reply_to_user_id': None, u'favorited': False, u'user': {u'follow_request_sent': None, u'profile_use_background_image': True, u'default_profile_image': False, u'id': 15982292, u'verified': False, u'profile_image_url_https': u'https://pbs.twimg.com/profile_images/659551942386040832/hQ3CJG0C_normal.jpg', u'profile_sidebar_fill_color': u'252429', u'profile_text_color': u'666666', u'followers_count': 14873, u'profile_sidebar_border_color': u'FFFFFF', u'id_str': u'15982292', u'profile_background_color': u'1A1B1F', u'listed_count': 703, u'profile_background_image_url_https': u'https://pbs.twimg.com/profile_background_images/741755618/e7efc008b06faa7d1baeb04da754350f.jpeg', u'utc_offset': -18000, u'statuses_count': 181019, u'description': u'terror/drug wars = death // seize your power! yapping at @humorlessqueers (views mine)', u'friends_count': 2134, u'location': u'Boston', u'profile_link_color': u'2FC2EF', u'profile_image_url': u'http://pbs.twimg.com/profile_images/659551942386040832/hQ3CJG0C_normal.jpg', u'following': None, u'geo_enabled': False, u'profile_banner_url': u'https://pbs.twimg.com/profile_banners/15982292/1423952352', u'profile_background_image_url': u'http://pbs.twimg.com/profile_background_images/741755618/e7efc008b06faa7d1baeb04da754350f.jpeg', u'name': u'ready 4 december', u'lang': u'en', u'profile_background_tile': True, u'favourites_count': 48408, u'screen_name': u'onekade', u'notifications': None, u'url': u'http://privacysos.org/blog', u'created_at': u'Mon Aug 25 15:04:15 +0000 2008', u'contributors_enabled': False, u'time_zone': u'Quito', u'protected': False, u'default_profile': False, u'is_translator': False}, u'geo': None, u'in_reply_to_user_id_str': None, u'lang': u'en', u'created_at': u'Thu Apr 14 01:00:53 +0000 2016', u'filter_level': u'low', u'in_reply_to_status_id_str': None, u'place': None}, u'user': {u'follow_request_sent': None, u'profile_use_background_image': True, u'default_profile_image': False, u'id': 24600048, u'verified': False, u'profile_image_url_https': u'https://pbs.twimg.com/profile_images/378800000242877951/08f03991aaf9a4d6791d76ca64257110_normal.jpeg', u'profile_sidebar_fill_color': u'FFFFFF', u'profile_text_color': u'333333', u'followers_count': 4734, u'profile_sidebar_border_color': u'FFFFFF', u'id_str': u'24600048', u'profile_background_color': u'B2DFDA', u'listed_count': 127, u'profile_background_image_url_https': u'https://pbs.twimg.com/profile_background_images/845851230/6231b41114862a6ff79327e8912a6bd9.jpeg', u'utc_offset': -21600, u'statuses_count': 39946, u'description': u'Labor is prior to, and independent of, capital. Capital is only the fruit of labor, and could never have existed if labor had not first existed. - Abe Lincoln', u'friends_count': 4360, u'location': u'Colorado', u'profile_link_color': u'93A644', u'profile_image_url': u'http://pbs.twimg.com/profile_images/378800000242877951/08f03991aaf9a4d6791d76ca64257110_normal.jpeg', u'following': None, u'geo_enabled': False, u'profile_banner_url': u'https://pbs.twimg.com/profile_banners/24600048/1366242022', u'profile_background_image_url': u'http://pbs.twimg.com/profile_background_images/845851230/6231b41114862a6ff79327e8912a6bd9.jpeg', u'name': u'Rusty Cannon', u'lang': u'en', u'profile_background_tile': True, u'favourites_count': 26379, u'screen_name': u'RustyCannon', u'notifications': None, u'url': None, u'created_at': u'Sun Mar 15 22:37:06 +0000 2009', u'contributors_enabled': False, u'time_zone': u'Mountain Time (US & Canada)', u'protected': False, u'default_profile': False, u'is_translator': False}, u'geo': None, u'in_reply_to_user_id_str': None, u'lang': u'en', u'created_at': u'Thu Apr 14 03:27:24 +0000 2016', u'filter_level': u'low', u'in_reply_to_status_id_str': None, u'place': None}\n"
     ]
    }
   ],
   "source": [
    "# read the first five tweets and other meta data only\n",
    "for i in data[:5]:\n",
    "    print i"
   ]
  },
  {
   "cell_type": "code",
   "execution_count": 20,
   "metadata": {},
   "outputs": [
    {
     "name": "stdout",
     "output_type": "stream",
     "text": [
      "parishatzi Mothers of Black Victims Emerge as a Force for Hillary Clinton https://t.co/KiQihBmSfF\n",
      "MABardino RT @Colleges4Bernie: Hillary Clinton rakes in Verizon cash while Bernie Sanders supports company’s striking workers #FeelTheBern  https://t…\n",
      "CruzinAhead #UniteWithCruz #ChooseCruz #NeverTrump #DumpTrump #NYPrimary #PAPrimary #MDPrimary #DEPrimary #INPrimary #CAPrimary https://t.co/DpyKFrELtQ\n",
      "Dboyz22 RT @TeaPartier_Al: @BROGANMR Trump was bought and also did the selling as well. #CorporateLobbist #NeverTrump @Dboyz22 @NewYork4TedCruz @re…\n",
      "RustyCannon RT @onekade: Clinton recently said the coup in Honduras was legal. She knows it was illegal; while at state she got a cable from her staff…\n"
     ]
    }
   ],
   "source": [
    "# display screen_name, tweets\n",
    "\n",
    "for i in data[:5]:\n",
    "    print i['user']['screen_name'], i['text']"
   ]
  },
  {
   "cell_type": "markdown",
   "metadata": {},
   "source": [
    "## Filtering"
   ]
  },
  {
   "cell_type": "code",
   "execution_count": 24,
   "metadata": {},
   "outputs": [
    {
     "name": "stdout",
     "output_type": "stream",
     "text": [
      "CruzinAhead #UniteWithCruz #ChooseCruz #NeverTrump #DumpTrump #NYPrimary #PAPrimary #MDPrimary #DEPrimary #INPrimary #CAPrimary https://t.co/DpyKFrELtQ\n"
     ]
    }
   ],
   "source": [
    "for i in data[:5]:\n",
    "    if 'nyprimary' in i['text'].lower():\n",
    "        print i['user']['screen_name'], i['text']"
   ]
  },
  {
   "cell_type": "code",
   "execution_count": 25,
   "metadata": {},
   "outputs": [
    {
     "data": {
      "text/plain": [
       "14"
      ]
     },
     "execution_count": 25,
     "metadata": {},
     "output_type": "execute_result"
    }
   ],
   "source": [
    "nyprimary = []\n",
    "\n",
    "for i in data:\n",
    "    if 'nyprimary' in i['text'].lower():\n",
    "        nyprimary.append([i['user']['screen_name'], i['text']])\n",
    "        \n",
    "len(nyprimary)"
   ]
  },
  {
   "cell_type": "code",
   "execution_count": 26,
   "metadata": {},
   "outputs": [
    {
     "name": "stdout",
     "output_type": "stream",
     "text": [
      "[u'CruzinAhead', u'#UniteWithCruz #ChooseCruz #NeverTrump #DumpTrump #NYPrimary #PAPrimary #MDPrimary #DEPrimary #INPrimary #CAPrimary https://t.co/DpyKFrELtQ']\n",
      "[u'MrCharlieHolme2', u'RT @TrumpPassion16: TRUMP SWEEPS USA! #NewYorkCity #NewYorkPrimary #NYPrimary #RochesterNY #Maryland #ALBANY ---&gt;https://t.co/8mTpheRDL3 ht\\u2026']\n",
      "[u'BlueCatKnight', u'RT @CNNPolitics: The New York Daily News endorses Hillary Clinton before the #NYPrimary https://t.co/SVOOBqpE42 via @DylanByers https://t.c\\u2026']\n",
      "[u'prakashmano81', u\"Jane Sanders On Hillary Clinton's Position On Guns #NYPrimary https://t.co/Pf3RZGkDfx via @YouTube\"]\n",
      "[u'oikono1885', u'RT @MrEdTrain: 7 more days NY #NYPrimary #TrumpTrain #Trump2016 #TrumpRally #AlwaysTrump #MakeAmericaGreatAgain #IvankaTrump #Trump https:/\\u2026']\n",
      "[u'KickGamePropers', u'Hillary Clinton VS Bernie sanders #NYPrimary #FeelTheBern #BernieOrBust https://t.co/pCtC5qjvxh']\n",
      "[u'CruzinAhead', u'#UniteWithCruz #ChooseCruz #NeverTrump #DumpTrump #NYPrimary #PAPrimary #MDPrimary #DEPrimary #INPrimary #CAPrimary https://t.co/9VA3GOnEnk']\n",
      "[u'txjean2014', u'RT @CruzinAhead: #UniteWithCruz #ChooseCruz #NeverTrump #DumpTrump #NYPrimary #PAPrimary #MDPrimary #DEPrimary #INPrimary #CAPrimary https:\\u2026']\n",
      "[u'PabloCRUZin16', u'#NYprimary #PAprimary #CAprimary #NJprimary #CTprimary #WVprimary #MDprimary #RIprimary #DEprimary #INprimary #PJNET https://t.co/lrIWxMAJIx']\n",
      "[u'eaglefeather43', u'RT @ouiRaDD: #NYPrimary #CTPrimary #GOTVforBernie https://t.co/65PDriPVS1']\n",
      "[u'CruzinAhead', u'#UniteWithCruz #ChooseCruz #NeverTrump #DumpTrump #NYPrimary #PAPrimary #MDPrimary #DEPrimary #INPrimary #CAPrimary https://t.co/R5q7CqelcZ']\n",
      "[u'gdfewkes', u'RT @vivelafra: Could you PLEASE keep your roommate out of our hallway?! | Princeton Classmates remember Ted Cruz #NYPrimary #Trump https://\\u2026']\n",
      "[u'shawn_everhart', u'RT @Republikim1: #TrumpFans\\n#MobStyleThreats\\n#Indiana\\n#GOPDelegates\\n\\n.@mathewsjw #NYPrimary #PAprimary #CAPrimary #ChooseCruz  https://t.co\\u2026']\n",
      "[u'thomasj17431826', u'TRUMP STOLEN 9/11 RECOVERY MONEY =&gt; DISGUSTING &amp; FRAUDULENT \\n\\n#NewYork #NYPrimary #NewJersey #NJPrimary #CAPrimary  https://t.co/PQXMh8X2yL']\n"
     ]
    }
   ],
   "source": [
    "for i in nyprimary:\n",
    "    print i"
   ]
  },
  {
   "cell_type": "markdown",
   "metadata": {},
   "source": [
    "# References & Additional Resources\n",
    "\n",
    "- http://adilmoujahid.com/posts/2014/07/twitter-analytics/\n",
    "- http://mike.teczno.com/notes/streaming-data-from-twitter.html\n",
    "- https://www.dataquest.io/blog/streaming-data-python/\n",
    "- https://www.digitalocean.com/community/tutorials/how-to-create-a-twitterbot-with-python-3-and-the-tweepy-library"
   ]
  },
  {
   "cell_type": "code",
   "execution_count": null,
   "metadata": {
    "collapsed": true
   },
   "outputs": [],
   "source": []
  }
 ],
 "metadata": {
  "kernelspec": {
   "display_name": "Python 2",
   "language": "python",
   "name": "python2"
  },
  "language_info": {
   "codemirror_mode": {
    "name": "ipython",
    "version": 2
   },
   "file_extension": ".py",
   "mimetype": "text/x-python",
   "name": "python",
   "nbconvert_exporter": "python",
   "pygments_lexer": "ipython2",
   "version": "2.7.13"
  }
 },
 "nbformat": 4,
 "nbformat_minor": 1
}
