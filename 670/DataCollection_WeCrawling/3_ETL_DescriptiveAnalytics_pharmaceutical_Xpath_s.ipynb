{
 "cells": [
  {
   "cell_type": "markdown",
   "metadata": {},
   "source": [
    "# Instruction & Requirements\n",
    "\n",
    "Go to http://projects.propublica.org/docdollars/companies \n",
    "\n",
    "You will see a list of pharmaceutical companies. Visit the web link available to each company. For example, http://projects.propublica.org/docdollars/companies/abbvie This page provides a table “Total Payment by State”. You need to scrape this information (“Total Payment by State”) and the URLs from the web links of the following pharmaceutical companies \n",
    "\n",
    "- http://projects.propublica.org/docdollars/companies/johnson-johnson\n",
    "- http://projects.propublica.org/docdollars/companies/merck\n",
    "- http://projects.propublica.org/docdollars/companies/abbvie\n",
    "\n",
    "You will end up with **three sets of data** from the three webistes above. For **data aggregation (or data integration)**, you need to **join** or **merge** them and crate **an aggregated dataset for analysis**."
   ]
  },
  {
   "cell_type": "code",
   "execution_count": null,
   "metadata": {},
   "outputs": [],
   "source": [
    "# Data broker (60 minutes) ... this video talks about massive data aggregation or integration by companies\n",
    "from IPython.display import YouTubeVideo\n",
    "YouTubeVideo('qAT_ina93NY')"
   ]
  },
  {
   "cell_type": "code",
   "execution_count": null,
   "metadata": {},
   "outputs": [],
   "source": [
    "# import python packages\n",
    "\n",
    "import requests\n",
    "from lxml import html\n",
    "import csv\n",
    "import pandas as pd"
   ]
  },
  {
   "cell_type": "markdown",
   "metadata": {},
   "source": [
    "# first dataset (johnson-johnson)"
   ]
  },
  {
   "cell_type": "code",
   "execution_count": null,
   "metadata": {},
   "outputs": [],
   "source": [
    "# access the website\n",
    "r = requests.get('http://projects.propublica.org/docdollars/companies/johnson-johnson')\n",
    "data = html.fromstring(r.text)"
   ]
  },
  {
   "cell_type": "code",
   "execution_count": null,
   "metadata": {},
   "outputs": [],
   "source": [
    "# extract state\n",
    "state = data.xpath(\"//td/a/text()\") \n",
    "state"
   ]
  },
  {
   "cell_type": "code",
   "execution_count": null,
   "metadata": {},
   "outputs": [],
   "source": [
    "# extract amount\n",
    "amount = data.xpath(\"//table[@class='listings']/tr/td[2]/text()\") \n",
    "amount"
   ]
  },
  {
   "cell_type": "code",
   "execution_count": null,
   "metadata": {},
   "outputs": [],
   "source": [
    "# combining the values\n",
    "jj = zip(state, amount)\n",
    "jj"
   ]
  },
  {
   "cell_type": "code",
   "execution_count": null,
   "metadata": {
    "collapsed": true
   },
   "outputs": [],
   "source": [
    "# saving the data in Excel-like format\n",
    "jj = pd.DataFrame(jj)\n",
    "jj.to_csv(\"data\\\\output_jj.csv\")"
   ]
  },
  {
   "cell_type": "markdown",
   "metadata": {},
   "source": [
    "# second dataset (merck)"
   ]
  },
  {
   "cell_type": "code",
   "execution_count": null,
   "metadata": {},
   "outputs": [],
   "source": [
    "r = requests.get('http://projects.propublica.org/docdollars/companies/merck')\n",
    "data = html.fromstring(r.text)\n",
    "\n",
    "state = data.xpath(\"//table[@class='listings']/tr/td/a/text()\") \n",
    "amount = data.xpath(\"//table[@class='listings']/tr/td[2]/text()\") \n",
    "merck = zip(state, amount)\n",
    "\n",
    "merck = pd.DataFrame(merck)\n",
    "merck.to_csv(\"data\\\\output_merck.csv\")\n",
    "\n",
    "merck"
   ]
  },
  {
   "cell_type": "markdown",
   "metadata": {},
   "source": [
    "# thrid dataset (abbvie)"
   ]
  },
  {
   "cell_type": "code",
   "execution_count": null,
   "metadata": {},
   "outputs": [],
   "source": []
  },
  {
   "cell_type": "markdown",
   "metadata": {},
   "source": [
    "# Descriptive Analytics\n",
    "\n",
    "1.\tReport the total sum of payment made by these pharmaceutical companies? \n",
    "2.\tReport the total sum of payment made by each of these companies? \n",
    "3.\tReport the total payment made to the physicians in Kansas by each of these companies. \n",
    "4.\tWhat are top three companies in terms of their payment to Kansas? And the amounts?\n"
   ]
  },
  {
   "cell_type": "markdown",
   "metadata": {},
   "source": [
    "To answer the above questions, you need to merge or join the three datasets and prepare an aggregated dataset. The aggregated datset should look like:\n",
    "\n",
    "- 1st column: state name\n",
    "- 2nd column: total from jj\n",
    "- 3rd column: total from merck\n",
    "- 4th column: total from pfizer"
   ]
  },
  {
   "cell_type": "code",
   "execution_count": null,
   "metadata": {},
   "outputs": [],
   "source": [
    "# first, change the column names of each of the three datasets you have (jj, merck, pfizer). \n",
    "# 1st column: state, 2nd column: company name \n",
    "\n",
    "jj = jj.rename(columns={0: 'state', 1: 'jj'})\n",
    "merck = merck.rename(columns={0: 'state', 1: 'merck'})\n",
    "abbvie = abbvie.rename(columns={0: 'state', 1: 'abbvie'})"
   ]
  },
  {
   "cell_type": "code",
   "execution_count": null,
   "metadata": {},
   "outputs": [],
   "source": [
    "jj"
   ]
  },
  {
   "cell_type": "code",
   "execution_count": null,
   "metadata": {},
   "outputs": [],
   "source": [
    "# then, merge or join the dataset and prepare an aggregated dataset\n",
    "\n",
    "finaldata = jj.merge(merck, on='state', how='outer')\n",
    "finaldata = finaldata.merge(abbvie, on='state', how='outer')\n",
    "finaldata"
   ]
  },
  {
   "cell_type": "markdown",
   "metadata": {},
   "source": [
    "# Export this data to Tableau for further analysis (descriptive analytics)"
   ]
  },
  {
   "cell_type": "code",
   "execution_count": null,
   "metadata": {
    "collapsed": true
   },
   "outputs": [],
   "source": [
    "finaldata.to_csv(\"data/output_pharmaceutical.csv\")"
   ]
  },
  {
   "cell_type": "markdown",
   "metadata": {},
   "source": [
    "# Descriptive Analytics\n",
    "\n",
    "1.\tReport the total sum of payment made by these pharmaceutical companies? \n",
    "2.\tReport the total sum of payment made by each of these companies? \n",
    "3.\tReport the total payment made to the physicians in Kansas by each of these companies. \n",
    "4.\tWhich states received the payments more than 5 million from jj"
   ]
  },
  {
   "cell_type": "code",
   "execution_count": null,
   "metadata": {
    "collapsed": true
   },
   "outputs": [],
   "source": [
    "df = pd.read_csv(\"data/output_pharmaceutical.csv\")\n",
    "df.head(2)"
   ]
  },
  {
   "cell_type": "code",
   "execution_count": null,
   "metadata": {
    "collapsed": true
   },
   "outputs": [],
   "source": [
    "df.info()"
   ]
  },
  {
   "cell_type": "code",
   "execution_count": null,
   "metadata": {
    "collapsed": true
   },
   "outputs": [],
   "source": [
    "# drop unnecessary columns\n",
    "df = df.drop('Unnamed: 0', axis=1)\n",
    "df.head(2)"
   ]
  },
  {
   "cell_type": "code",
   "execution_count": null,
   "metadata": {
    "collapsed": true
   },
   "outputs": [],
   "source": [
    "df.info()"
   ]
  },
  {
   "cell_type": "markdown",
   "metadata": {},
   "source": [
    "jj, merck, and abbvie are still object or string. We need to convert them to number for further analysis"
   ]
  },
  {
   "cell_type": "code",
   "execution_count": null,
   "metadata": {
    "collapsed": true
   },
   "outputs": [],
   "source": [
    "# remove $ and convert the values to numbers\n",
    "df['jj'] = df['jj'].replace('[\\$,]','',regex=True).astype(float)\n",
    "df['merck'] = df['merck'].replace('[\\$,]','',regex=True).astype(float)\n",
    "df['abbvie'] = df['abbvie'].replace('[\\$,]','',regex=True).astype(float)\n",
    "df.head(2)"
   ]
  },
  {
   "cell_type": "code",
   "execution_count": null,
   "metadata": {
    "collapsed": true
   },
   "outputs": [],
   "source": [
    "df.info()"
   ]
  },
  {
   "cell_type": "code",
   "execution_count": null,
   "metadata": {
    "collapsed": true
   },
   "outputs": [],
   "source": [
    "# Report the total sum of payment made by each of these companies?\n",
    "print df['jj'].sum(), df['merck'].sum(), df['abbvie'].sum()"
   ]
  },
  {
   "cell_type": "code",
   "execution_count": null,
   "metadata": {
    "collapsed": true
   },
   "outputs": [],
   "source": [
    "# Report the total sum of payment made by these pharmaceutical companies?\n",
    "print df['jj'].sum() + df['merck'].sum() + df['abbvie'].sum()"
   ]
  },
  {
   "cell_type": "code",
   "execution_count": null,
   "metadata": {
    "collapsed": true
   },
   "outputs": [],
   "source": [
    "# Report the total payment made to the physicians in Kansas by each of these companies.\n",
    "kansas = df['state'] == \"Kansas\"\n",
    "df[kansas]\n",
    "# df.loc[df['state'] == 'Kansas']"
   ]
  },
  {
   "cell_type": "code",
   "execution_count": null,
   "metadata": {
    "collapsed": true
   },
   "outputs": [],
   "source": [
    "# which states received the payments more than 5 million from jj\n",
    "million = df['jj'] > 5000000\n",
    "df[million]"
   ]
  },
  {
   "cell_type": "code",
   "execution_count": null,
   "metadata": {
    "collapsed": true
   },
   "outputs": [],
   "source": [
    "# sorting the data\n",
    "df.sort_values(['jj'])"
   ]
  },
  {
   "cell_type": "code",
   "execution_count": null,
   "metadata": {
    "collapsed": true
   },
   "outputs": [],
   "source": [
    "df.sort_values(['jj'], ascending=False)"
   ]
  },
  {
   "cell_type": "markdown",
   "metadata": {},
   "source": [
    "Top three beneficieries of JJ : California, New York, and Florida"
   ]
  },
  {
   "cell_type": "code",
   "execution_count": null,
   "metadata": {
    "collapsed": true
   },
   "outputs": [],
   "source": [
    "# decending by jj and then ascdending by merck\n",
    "df.sort_values(['jj', 'merck'], ascending=[False, True])"
   ]
  },
  {
   "cell_type": "code",
   "execution_count": null,
   "metadata": {
    "collapsed": true
   },
   "outputs": [],
   "source": [
    "# which state received 534426 from jj?\n",
    "money = df['jj'] == 534426\n",
    "df[money]"
   ]
  },
  {
   "cell_type": "markdown",
   "metadata": {},
   "source": [
    "Resources:\n",
    "    \n",
    "    - For any python-related questions, go to stackoverflow (http://stackoverflow.com/)\n",
    "    - also, 10 Minutes to pandas(http://pandas.pydata.org/pandas-docs/stable/10min.html) is an excellent resource for how to use Pandas for business intelligence"
   ]
  },
  {
   "cell_type": "markdown",
   "metadata": {
    "collapsed": true
   },
   "source": [
    "# Data Visualization & Business Intelligence using Tableau\n",
    "\n",
    "Data analytics (or science) involves the extensive use of data visualization and predictive analysis techniques to extract useful information from data.\n",
    "\n",
    "Data visualization is an important component in data analytics. There are a number of excellent tools for data visualization. I recommend Python, R, and Tableau. Python and R require some basic programming. Tableau is a GUI-based data visualization tool. It comes with two versions: Tableau Desktop (commercial version) and Tableau Public (free version).\n",
    "\n",
    "** How to Learn Tableau**\n",
    "\n",
    "If you are not familiar with Tableau, you should start from “Getting Started with Tableau” and finish this tutorial (30-40 minutes).\n",
    "\n",
    "http://onlinehelp.tableau.com/current/guides/get-started-tutorial/en-us/get-started-tutorial-connect.html (Links to an external site.)\n",
    "\n",
    "After finishing this tutorial, you will be able to use Tableau for real-world projects. \n",
    "\n",
    "To more advanced features of the software, watch free training videos available here:\n",
    "http://www.tableau.com/learn/training?qt-training_tabs=1#qt-training_tabs (Links to an external site.)\n",
    "\n",
    "As a student of K-State, you can access over hundreds of data analytics books at no charge through Safari Books Online (http://apps.lib.k-state.edu/databases/?s=safari). Consider the following books for further reading:\n",
    "\n",
    "- Learning Tableau\n",
    "- Tableau Dashboard Cookbook\n",
    "- Communicating Data with Tableau"
   ]
  },
  {
   "cell_type": "code",
   "execution_count": null,
   "metadata": {},
   "outputs": [],
   "source": [
    "from IPython.display import Image\n",
    "from IPython.core.display import HTML \n",
    "Image(url= \"http://www.osbi.fr/wp-content/MQ_BI_2016-1.jpg\")"
   ]
  }
 ],
 "metadata": {
  "kernelspec": {
   "display_name": "Python 2",
   "language": "python",
   "name": "python2"
  },
  "language_info": {
   "codemirror_mode": {
    "name": "ipython",
    "version": 2
   },
   "file_extension": ".py",
   "mimetype": "text/x-python",
   "name": "python",
   "nbconvert_exporter": "python",
   "pygments_lexer": "ipython2",
   "version": "2.7.13"
  }
 },
 "nbformat": 4,
 "nbformat_minor": 1
}
