{
 "cells": [
  {
   "cell_type": "code",
   "execution_count": 1,
   "metadata": {
    "collapsed": true,
    "deletable": true,
    "editable": true
   },
   "outputs": [],
   "source": [
    "import requests, csv\n",
    "from lxml import html"
   ]
  },
  {
   "cell_type": "code",
   "execution_count": 2,
   "metadata": {
    "collapsed": false,
    "deletable": true,
    "editable": true
   },
   "outputs": [
    {
     "data": {
      "text/plain": [
       "[]"
      ]
     },
     "execution_count": 2,
     "metadata": {},
     "output_type": "execute_result"
    }
   ],
   "source": [
    "r = requests.get('https://www.staples.com/Notebooks-Pads/cat_CG3783')\n",
    "data = html.fromstring(r.text)\n",
    "texts = data.xpath(\"//div[@class='product-details']/a/text()\") \n",
    "texts"
   ]
  },
  {
   "cell_type": "markdown",
   "metadata": {},
   "source": [
    "The above xpath seems correc to me. But, no data is returned. Why? Because the website is dynamic and uses Javascript. You need to use the approach suggested below. \n",
    " "
   ]
  },
  {
   "cell_type": "markdown",
   "metadata": {
    "deletable": true,
    "editable": true
   },
   "source": [
    "# Website using Infinite Scrolling\n",
    "\n",
    "- Examples: \n",
    "    - http://www.recipe.com/\n",
    "    - https://www.staples.com/Notebooks-Pads/cat_CG3783\n",
    "    - Many other **dynamic** websites\n",
    "    \n",
    "- Solution: Inspect in Chrome / Network / Identify **real** URLs"
   ]
  },
  {
   "cell_type": "code",
   "execution_count": 3,
   "metadata": {
    "collapsed": false,
    "deletable": true,
    "editable": true
   },
   "outputs": [
    {
     "name": "stdout",
     "output_type": "stream",
     "text": [
      "[u'\\n  Staples\\xc2\\xae Composition Notebook, Wide Ruled, Black, 9-3/4\" x 7-1/2\"\\n', u'\\n  Staples\\xc2\\xae Composition Notebook, College Ruled, Black, 9-3/4\" x...\\n', '\\n  Sustainable Earth by Staples Wirebound 1 Subject Notebook, 9...\\n', u'\\n  Staples\\xc2\\xae Arc Customizable Leather Notebook System, Black, 9-1/2\"...\\n', u'\\n  Five Star\\xc2\\xae Trend Wirebound Notebook, 5 Subject, College Ruled...\\n', '\\n  Staples Wide Rule Composition Book, Assorted Colors, 9-3/4\" x...\\n', '\\n  Mead Five Star Wirebound Notebook, 2 Subject, College Ruled, 6\"...\\n', u'\\n  Staples\\xc2\\xae Primary Composition Book, 9 3/4\" x 7 1/2\"\\n', u'\\n  Staples\\xc2\\xae Composition Notebook, College Ruled, Assorted Colors...\\n', u'\\n  Five Star\\xc2\\xae Trend Wirebound Notebook, 3 Subject, College Ruled...\\n', u'\\n  Ampad\\xc2\\xae Gold Fibre Executive Series Project Planning Notebook...\\n', '\\n  Staples Accel Durable Poly Cover 3 Subject Notebook, Assorted...\\n', '\\n  Staples Composition Notebook, Wide Ruled, Blue, 9-3/4\" x 7-1/2\"...\\n', u'\\n  Staples\\xc2\\xae 1 Subject Notebook, 8-1/2\" x 11\", 3/Pack\\n', u'\\n  Staples\\xc2\\xae Composition Notebook, Wide Ruled,  9-3/4\" x 7-1/2\"...\\n', u'\\n  Staples\\xc2\\xae 1 Subject Notebook, Assorted Colors, 7-3/4\" x 5\"...\\n', u'\\n  Staples\\xc2\\xae Composition Notebook, Wide Ruled, 9-3/4\" x 7-1/2\", Red\\n', '\\n  Staples Graph Ruled 4 x 4 Spiral Notebook, Assorted Colors, 8\" x...\\n', u'\\n  Mead\\xc2\\xae Spiral\\xc2\\xae Notebook, 3 Subject, College Ruled, Assorted...\\n', '\\n  Staples Accel Durable Poly Cover Notebook, 5 Subject, 8-1/2\" x...\\n', '\\n  Moleskine Classic Notebook, Large, Ruled, Black, Hard Cover, 5\"...\\n', '\\n  Staples Primary Composition Book, 9 3/4\" x 7 1/2\", 12 pack\\n', '\\n  Roaring Spring Paper Products Black Marble Composition Book, 8...\\n', u'\\n  Cambridge\\xc2\\xae Legal Ruled Business Notebook, 6-5/8\" x 9-1/2\", Black...\\n', '\\n  Eccolo Flexible Journal, Black Leather, 8\" x 10-1/2\"\\n', u'\\n  Cambridge\\xc2\\xae Meeting Format Notebook, 80 Sheets, 8-7/8\" x 11\"...\\n', u'\\n  Staples\\xc2\\xae Composition Notebook, College Ruled, 9-3/4\" x 7-1/2\"...\\n', u'\\n  Staples\\xc2\\xae Accel, Durable Poly Cover 1 Subject Notebook, College...\\n', u'\\n  Staples\\xc2\\xae Accel Durable Poly Cover Notebook, Graph Ruled, 8-1/2\"...\\n', u'\\n  Staples Accel Spine Guard\\xe2\\x84\\xa2 1 Subject Notebook, 8 1/2\" x 11\"...\\n', u'\\n  Five Star\\xc2\\xae Wirebound Notebook, 1 Subject, College Ruled, 11\" x 8...\\n', u\"\\n  Black n' Red\\xe2\\x84\\xa2 Twinwire Business Notebook, Hardcover, Ruled, 70...\\n\", '\\n  Staples 5 Subject Notebook, 8-1/2\" x 11\", Each (10467M-CC)\\n', u'\\n  Staples\\xc2\\xae Arc Customizable Leather Notebook System, Black, 6-3/4\"...\\n', u'\\n  Staples\\xc2\\xae 3 Subject Notebook, 6-1/2\" x 9-1/2\"\\n', u\"\\n  Black n' Red\\xe2\\x84\\xa2 Casebound Business Notebook, Hardcover, Ruled, 96...\\n\", u'\\n  Staples\\xc2\\xae 1 Subject Notebook, Wide Ruled, 8\" x 10-1/2\", Blue\\n', u\"\\n  Black n' Red\\xe2\\x84\\xa2 Twinwire Poly Cover Business Notebook, 70 Sheets...\\n\", u'\\n  Cambridge\\xc2\\xae Action Planner\\xc2\\xae Business Notebook, 8-1/2\" x 11\"...\\n', u'\\n  Cambridge\\xc2\\xae Legal Ruled, Business Notebook, Black, 5\" x 8\" (06074)\\n']\n",
      "[u'\\n  Five Star Flex\\xc2\\xae Refillable Notebook, 3 Subject, College Ruled...\\n', u'\\n  Five Star\\xc2\\xae Advance\\xc2\\xae Wirebound Notebook, 5 Subject, College...\\n', u\"\\n  Black n' Red\\xe2\\x84\\xa2 Twinwire Business Notebook, Soft Cover, Ruled, 70...\\n\", u'\\n  Staples\\xc2\\xae Composition Notebook, College Ruled, 9-3/4\" x 7-1/2\"...\\n', u\"\\n  Black n' Red\\xe2\\x84\\xa2 Twinwire Business Notebook, Hardcover, Ruled, 70...\\n\", u'\\n  Five Star Flex\\xc2\\xae Refillable Notebook, 5 Subject, College Ruled...\\n', u'\\n  TOPS\\xc2\\xae Spiral-Bound Notebooks, 7-3/4\"x5\", College Ruled, White...\\n', u'\\n  Staples\\xc2\\xae Composition Notebook, College Ruled, 9-3/4\" x 7-1/2\"...\\n', u'\\n  Cambridge\\xc2\\xae Legal Ruled Business Notebook, 80 Sheets, 8-7/8\" x...\\n', '\\n  C.R. Gibson Genuine European Bonded Leather Journal, Black...\\n', u'\\n  Staples\\xc2\\xae Poly Composition Notebook, Wide Ruled, Assorted\\n', u'\\n  Staples\\xc2\\xae 1 Subject Notebook, Wide Ruled, 8\" x 10-1/2\", Red\\n', u'\\n  Staples\\xe2\\x84\\xa2 M Hardbound Business Notebook, Assorted, 8-1/2\" x 11\"...\\n', u'\\n  Staples\\xc2\\xae Accel, Durable Poly Cover 1 Subject Notebook, College...\\n', '\\n  Moleskine Classic Colored Notebook, Extra Large, Ruled, Hard...\\n', u'\\n  Staples\\xc2\\xae Arc System Tab Dividers, Black, 9\" x 11\"\\n', u'\\n  Staples\\xc2\\xae Poly Cover Wirebound Notebook, College Ruled, 8\" x...\\n', u'\\n  Staples\\xc2\\xae 1 Subject Notebook, Wide Ruled, 8\" x 10-1/2\", Green\\n', u'\\n  Staples\\xc2\\xae Arc System Tab Dividers, Assorted Colors, 9\" x 11\"\\n', u'\\n  Staples\\xc2\\xae Accel, Durable Poly Cover 1 Subject Notebook, College...\\n', u'\\n  Five Star\\xc2\\xae Wirebound Notebook, 3 Subject, Wide Ruled, 10 1/2\" x...\\n', u\"\\n  Black n' Red?\\xe2\\x84\\xa2 Casebound Business Notebook, Hardcover, Ruled, 96...\\n\", u'\\n  Staples\\xc2\\xae Accel\\xc2\\xae Spine Guard\\xe2\\x84\\xa2Notebook, 3 Subject, 8-1/2\" x 11\"\\n', u'\\n  Five Star\\xc2\\xae Wirebound Notebook, 5 Subject, College Ruled, 11\" x...\\n', '\\n  Staples Mini Poly Composition Notebook, Black, 5\" x 7\", Each...\\n', u'\\n  Staples\\xc2\\xae Accel Durable Poly Cover Notebook, 8-1/2\" x 11\"\\n', u\"\\n  Black n' Red\\xe2\\x84\\xa2 Twinwire Business Notebook, Soft Cover, Ruled, 70...\\n\", u'\\n  Staples\\xc2\\xae Arc System 1-1/2\" Notebook Expansion Discs, Black\\n', u'\\n  Staples\\xc2\\xae Accel, Durable Poly Cover 1 Subject Notebook, College...\\n', u'\\n  Staples\\xc2\\xae 1 Subject Notebook, Wide Ruled, 8\" x 10-1/2\", Black\\n', u'\\n  Staples\\xc2\\xae Arc Customizable Leather Notebook System, Brown, 9-1/2\"...\\n', u'\\n  Staples Accel Spine Guard\\xe2\\x84\\xa2 5 Subject Notebook, 8-1/2\" x 11\"...\\n', '\\n  Staples 5 Subject Notebook, 8\" x 10-1/2\", 2/Pack (11668)\\n', '\\n  Blueline Executive Business Journal, Black Lizard Look Hardbound...\\n', u'\\n  Staples\\xc2\\xae 1 Subject Notebook, Wide Ruled, 8\" x 10-1/2\", Purple\\n', u'\\n  Cambridge\\xc2\\xae Legal Ruled Hardbound Business Notebook, 96 Sheets...\\n', u'\\n  Staples\\xc2\\xae Arc Customizable Durable Poly Notebook System with...\\n', u'\\n  Staples\\xc2\\xae Arc Customizable Woven Preassembled Notebook, Letter...\\n', u'\\n  Staples\\xc2\\xae Arc Customizable Leather Notebook System, Purple...\\n', u'\\n  TOPS\\xc2\\xae Spiral-Bound Notebooks, 9-1/2\"x6\", College Ruled, White...\\n']\n",
      "[u'\\n  Staples\\xc2\\xae 1 Subject Notebook, 8-1/2\" x 11\", College Ruled, Black\\n', u'\\n  Sustainable Earth by Staples\\xc2\\xae Composition Notebook, 9-3/4\" x...\\n', '\\n  Staples Composition Notebook, College Ruled, Various Colors, 48...\\n', u'\\n  Earthwise\\xc2\\xae by Oxford\\xc2\\xae Small Size Notebook, College Rule, 6 x...\\n', '\\n  Mead Five Star Single-Subject Mid Tier Notebook, 7\" x 5\"...\\n', u'\\n  Staples\\xc2\\xae Accel, Durable Poly Cover 1 Subject Notebook, College...\\n', u'\\n  Staples\\xc2\\xae Arc Customizable Patent Leather Notebook System, Teal...\\n', u'\\n  Staples\\xc2\\xae Arc Notebook Top Loading Sheet Protectors, Heavyweight...\\n', '\\n  Moleskine Classic Notebook, Large, Ruled, Black, Soft Cover, 5\"...\\n', u'\\n  Staples\\xc2\\xae Accel, Durable Poly Cover 1 Subject Notebook, College...\\n', u'\\n  Staples\\xc2\\xae 1 Subject Notebook, 8-1/2\" x 11\", College Ruled, Blue\\n', u'\\n  Five Star\\xc2\\xae Wirebound Notebook, 5 Subject, Wide Ruled, 10 1/2\" x...\\n', u'\\n  Staples\\xc2\\xae Arc Customizable Durable Poly Notebook System, Clear, 9...\\n', u'\\n  Staples\\xc2\\xae Mini Composition Book, 3 1/4\"x 4 1/2\", College Ruled...\\n', u'\\n  Staples\\xc2\\xae Accel, Durable Poly Cover 1 Subject Notebook, College...\\n', u'\\n  Staples\\xc2\\xae Arc System Task Pads, White and Gray, 2-1/2\" x 6-7/10\"\\n', '\\n  Mead Five Star Square Deal 1-Subject Black Marble Composition...\\n', u'\\n  Staples\\xc2\\xae 3 Subject Notebook, 8 1/2\" x 11\", College Ruled, 120...\\n', u'\\n  Staples Accel Durable Poly Cover Notebook, 4-1/4\\xe2\\x80\\x9d x 5-1/2\\xe2\\x80\\x9d cover...\\n', u'\\n  Staples\\xc2\\xae Arc Customizable Leather Notebook System, Burgundy...\\n', u'\\n  Staples\\xc2\\xae Accel, Durable Poly Cover 1 Subject Notebook, College...\\n', u'\\n  Staples\\xc2\\xae Poly Composition Notebook, College Ruled, Black ...\\n', u'\\n  TOPS FocusNotes\\xe2\\x84\\xa2 Notebook, 1-Subject, Wirebound, 11\" x 9\", Blue...\\n', '\\n  Staples Wide Rule Composition Book, Assorted Colors, 9-3/4\" x...\\n', '\\n  Moleskine Classic Notebook 9.75\" x 7.5\" Soft Cover Ruled Black...\\n', '\\n  Blueline Executive Business Journal, Black Lizard Look Hardbound...\\n', u'\\n  Mead\\xc2\\xae Spiral\\xc2\\xae Notebook, 5 Subject, College Ruled, 200 Sheets...\\n', u'\\n  Staples\\xc2\\xae 1 Subject Notebook, College Ruled, 8\" x 10-1/2\", Black\\n', '\\n  Staples Poly Cover Wirebound Notebook, Wide Ruled, Assorted...\\n', u'\\n  Staples\\xc2\\xae 3 Subject Notebook, 8\" x 10-1/2\", 3/Pack\\n', '\\n  Sustainable Earth by Staples Wirebound Notebook, 3 Subject...\\n', '\\n  Roaring Spring Composition Book, Grade 1 Ruled, Green\\n', '\\n  Moleskine Folio Professional Book, A4, Ruled, Black, Hard Cover...\\n', u'\\n  Staples\\xc2\\xae 1 Subject Notebook, College Ruled, 8\" x 10-1/2\", Blue\\n', u'\\n  Staples\\xc2\\xae 1 Subject Notebook, 5\" x 7\"\\n', '\\n  Moleskine Cahier Journal, Set of 3, Large, Ruled, Black, Soft...\\n', '\\n  Staples Mini Poly Composition Notebook, Blue, 5\" x 7\", Each...\\n', u'\\n  Staples\\xc2\\xae 1 Subject Notebook, College Ruled, 8\" x 10-1/2\", Green\\n', '\\n  C.R. Gibson Genuine European Bonded Leather Journal, Brown...\\n', u'\\n  Staples\\xc2\\xae 1 Subject Notebook, 8-1/2\" x 11\", College Ruled, Red\\n']\n",
      "[u'\\n  Staples\\xc2\\xae Arc System Tab Dividers, Assorted Colors, 5-5/6\" x...\\n', u'\\n  Cambridge Limited\\xc2\\xae QuickNotes\\xc2\\xae Business Notebook Black 8-1/2\" x...\\n', u'\\n  Mead\\xc2\\xae Spiral\\xc2\\xae Notebook, 3 Subject, College Ruled, Assorted...\\n', u'\\n  Staples\\xc2\\xae 1 Subject Notebook, College Ruled, 8\" x 10-1/2\", Red\\n', u'\\n  Staples\\xc2\\xae Arc Customizable Durable Poly Notebook System, Black...\\n', '\\n  Staples Composition Notebook, Wide Ruled, Black, 9-3/4\" x...\\n', '\\n  Blueline NotePro Business Notebook, Black Hard Lizard Look...\\n', '\\n  Roaring Spring Paper Products Black Marble Composition Book, 8...\\n', u'\\n  Staples\\xc2\\xae Poly Composition Notebook, College Ruled, Red , 9-3/4\"...\\n', u'\\n  Staples\\xc2\\xae 1 Subject Notebook, 8-1/2\" x 11\", College Ruled, Green\\n', '\\n  Blueline NotePro Business Notebook, Black Hard Lizard Look...\\n', '\\n  Staples Poly Composition Notebook, Blue, 9-3/4\" x 7-1/2\" College...\\n', u'\\n  Staples\\xc2\\xae Wireless Notebook, College Ruled, 8-1/2\" x 11\", 80...\\n', '\\n  Roaring Spring Paper Products Stitched Manila Tag Cover...\\n', u'\\n  Five Star\\xc2\\xae Wirebound Notebook, 1 Subject, College Ruled, 11\" x...\\n', u'\\n  Staples\\xc2\\xae Accel, Durable Poly Cover 1 Subject Notebook, College...\\n', '\\n  Mead Five Star Style Wirebound Notebook, 1 Subject, College...\\n', u'\\n  Staples\\xc2\\xae Arc System 1\" Notebook Expansion Discs, Black\\n', u'\\n  Five Star\\xc2\\xae Wirebound Notebook, 1 Subject, College Ruled, 11\" x...\\n', u'\\n  TOPS\\xc2\\xae Royale\\xc2\\xae Grey Geltex Bound Executive Notebook, 10 1/2\" x...\\n', u'\\n  Five Star\\xc2\\xae Advance\\xc2\\xae Wirebound Notebook, 3 Subject, College...\\n', u'\\n  Staples\\xc2\\xae Accel\\xc2\\xae Spine Guard\\xe2\\x84\\xa2Notebook, 2 Subject, 6\" x 9-1/2\"\\n', '\\n  Cambridge QuickNotes 5\" x 8\" Business Notebook, One Subject...\\n', u'\\n  Staples\\xc2\\xae Arc System Business Card Holders, Clear, 8-1/2\" x 11\"\\n', '\\n  Blueline Executive Business Notebook, Black Hard Cover, 192...\\n', u'\\n  Mead\\xc2\\xae Wireless Neatbook\\xc2\\xae Notebooks, 1 Subject, Wide Ruled, 80...\\n', u'\\n  M by Staples\\xe2\\x84\\xa2Business Notebooks, Coilbound, 8-1/2\" x 11\"\\n', u'\\n  Staples\\xc2\\xae Professional Notebooks, College Ruled, 5-3/8\"x8\", Hard...\\n', '\\n  C.R. Gibson Genuine European Bonded Leather Journal, Assorted...\\n', '\\n  Roaring Spring Composition Book, Grade 3 Ruled, Red\\n', u'\\n  Five Star\\xc2\\xae Wirebound Notebook, 5 Subject, College Ruled, 11\" x...\\n', '\\n  Moleskine Pro Collection Professional Notebook, Extra Large...\\n', u'\\n  Staples\\xc2\\xae 1 Subject Notebook, 9\"x11\", College Ruled, 100 Sheets\\n', u'\\n  M by Staples\\xe2\\x84\\xa2Business Notebooks, Coilbound, 6\" x 8-1/2\"\\n', u'\\n  Staples\\xc2\\xae Poly Composition Notebook, College Ruled, Purple ...\\n', u'\\n  Mead\\xc2\\xae Spiral\\xc2\\xae Notebook, 1 Subject, College Ruled, Assorted...\\n', '\\n  Roaring Spring Paper Products Blue Exam Book, 8 1/2\" x 7\", 4...\\n', u'\\n  Staples\\xc2\\xae Arc Customizable Patent Quilted Leather Notebook...\\n', u'\\n  Staples\\xc2\\xae Poly Composition Notebook, College Ruled, Green ...\\n', u'\\n  Staples\\xc2\\xae Arc Customizable Notebook System Accessory Kit, Letter...\\n']\n"
     ]
    }
   ],
   "source": [
    "for page in range(1,5):\n",
    "    url = \"https://www.staples.com/asgard-node/v1/nad/staplesus/deals/html/BI1431814?rank=1&supercategory=&onlybopis=false&pagenum=%s&zipcode=66502&locale=en-US&productTile=secondaryDealsData\" % page\n",
    "    r = requests.get(url)\n",
    "    data = html.fromstring(r.text)\n",
    "    texts = data.xpath(\"//div[@class='product-details']/a/text()\") \n",
    "    print texts"
   ]
  },
  {
   "cell_type": "code",
   "execution_count": 5,
   "metadata": {
    "collapsed": false,
    "deletable": true,
    "editable": true
   },
   "outputs": [
    {
     "name": "stdout",
     "output_type": "stream",
     "text": [
      "StaplesÂ® Arc System Tab Dividers, Assorted Colors, 5-5/6\" x...\n",
      "Cambridge LimitedÂ® QuickNotesÂ® Business Notebook Black 8-1/2\" x...\n",
      "MeadÂ® SpiralÂ® Notebook, 3 Subject, College Ruled, Assorted...\n",
      "StaplesÂ® 1 Subject Notebook, College Ruled, 8\" x 10-1/2\", Red\n",
      "StaplesÂ® Arc Customizable Durable Poly Notebook System, Black...\n",
      "Staples Composition Notebook, Wide Ruled, Black, 9-3/4\" x...\n",
      "Blueline NotePro Business Notebook, Black Hard Lizard Look...\n",
      "Roaring Spring Paper Products Black Marble Composition Book, 8...\n",
      "StaplesÂ® Poly Composition Notebook, College Ruled, Red , 9-3/4\"...\n",
      "StaplesÂ® 1 Subject Notebook, 8-1/2\" x 11\", College Ruled, Green\n",
      "Blueline NotePro Business Notebook, Black Hard Lizard Look...\n",
      "Staples Poly Composition Notebook, Blue, 9-3/4\" x 7-1/2\" College...\n",
      "StaplesÂ® Wireless Notebook, College Ruled, 8-1/2\" x 11\", 80...\n",
      "Roaring Spring Paper Products Stitched Manila Tag Cover...\n",
      "Five StarÂ® Wirebound Notebook, 1 Subject, College Ruled, 11\" x...\n",
      "StaplesÂ® Accel, Durable Poly Cover 1 Subject Notebook, College...\n",
      "Mead Five Star Style Wirebound Notebook, 1 Subject, College...\n",
      "StaplesÂ® Arc System 1\" Notebook Expansion Discs, Black\n",
      "Five StarÂ® Wirebound Notebook, 1 Subject, College Ruled, 11\" x...\n",
      "TOPSÂ® RoyaleÂ® Grey Geltex Bound Executive Notebook, 10 1/2\" x...\n",
      "Five StarÂ® AdvanceÂ® Wirebound Notebook, 3 Subject, College...\n",
      "StaplesÂ® AccelÂ® Spine Guardâ¢Notebook, 2 Subject, 6\" x 9-1/2\"\n",
      "Cambridge QuickNotes 5\" x 8\" Business Notebook, One Subject...\n",
      "StaplesÂ® Arc System Business Card Holders, Clear, 8-1/2\" x 11\"\n",
      "Blueline Executive Business Notebook, Black Hard Cover, 192...\n",
      "MeadÂ® Wireless NeatbookÂ® Notebooks, 1 Subject, Wide Ruled, 80...\n",
      "M by Staplesâ¢Business Notebooks, Coilbound, 8-1/2\" x 11\"\n",
      "StaplesÂ® Professional Notebooks, College Ruled, 5-3/8\"x8\", Hard...\n",
      "C.R. Gibson Genuine European Bonded Leather Journal, Assorted...\n",
      "Roaring Spring Composition Book, Grade 3 Ruled, Red\n",
      "Five StarÂ® Wirebound Notebook, 5 Subject, College Ruled, 11\" x...\n",
      "Moleskine Pro Collection Professional Notebook, Extra Large...\n",
      "StaplesÂ® 1 Subject Notebook, 9\"x11\", College Ruled, 100 Sheets\n",
      "M by Staplesâ¢Business Notebooks, Coilbound, 6\" x 8-1/2\"\n",
      "StaplesÂ® Poly Composition Notebook, College Ruled, Purple ...\n",
      "MeadÂ® SpiralÂ® Notebook, 1 Subject, College Ruled, Assorted...\n",
      "Roaring Spring Paper Products Blue Exam Book, 8 1/2\" x 7\", 4...\n",
      "StaplesÂ® Arc Customizable Patent Quilted Leather Notebook...\n",
      "StaplesÂ® Poly Composition Notebook, College Ruled, Green ...\n",
      "StaplesÂ® Arc Customizable Notebook System Accessory Kit, Letter...\n"
     ]
    }
   ],
   "source": [
    "for i in texts:\n",
    "    print i.strip()"
   ]
  }
 ],
 "metadata": {
  "kernelspec": {
   "display_name": "Python 2",
   "language": "python",
   "name": "python2"
  },
  "language_info": {
   "codemirror_mode": {
    "name": "ipython",
    "version": 2
   },
   "file_extension": ".py",
   "mimetype": "text/x-python",
   "name": "python",
   "nbconvert_exporter": "python",
   "pygments_lexer": "ipython2",
   "version": "2.7.13"
  }
 },
 "nbformat": 4,
 "nbformat_minor": 0
}
