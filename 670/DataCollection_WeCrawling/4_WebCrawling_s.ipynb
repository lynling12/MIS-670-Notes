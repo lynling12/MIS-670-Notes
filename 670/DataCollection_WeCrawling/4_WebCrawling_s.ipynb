{
 "cells": [
  {
   "cell_type": "markdown",
   "metadata": {},
   "source": [
    "# Web Crawling\n",
    "\n",
    "- A web scraping technique, but for large collections of data\n",
    "- Combines **XPath** and **For Loop** statement\n",
    "- Knowledge of **Regular Expression** is plus"
   ]
  },
  {
   "cell_type": "markdown",
   "metadata": {},
   "source": [
    "# Copyright laws: \n",
    "* Using the crawled data for **commerical service** is violating copyright laws\n",
    "* Web crawling in this course is for **educational purpose** only. "
   ]
  },
  {
   "cell_type": "markdown",
   "metadata": {},
   "source": [
    "# Example: IMDb\n",
    "- Previously, we scraped http://www.imdb.com/search/title?at=0&sort=num_votes,desc&start=1&title_type=feature&year=1950,2012\n",
    "- There are over 200,000 webpages for this movie information. To collect data from those webpages, you need **web crawling**"
   ]
  },
  {
   "cell_type": "markdown",
   "metadata": {},
   "source": [
    "## Web Scraping (first webpage only) "
   ]
  },
  {
   "cell_type": "code",
   "execution_count": 2,
   "metadata": {
    "collapsed": true
   },
   "outputs": [],
   "source": [
    "# import python packages\n",
    "import requests\n",
    "from lxml import html\n",
    "import csv\n",
    "import pandas as pd\n",
    "\n",
    "r = requests.get('http://www.imdb.com/search/title?at=0&sort=num_votes,desc&start=1&title_type=feature&year=1950,2012')\n",
    "data = html.fromstring(r.text)\n",
    "\n",
    "# Xpath\n",
    "title = data.xpath(\"//h3/a/text()\")  \n",
    "url = data.xpath(\"//h3[@class='lister-item-header']/a/@href\")        \n",
    "year = data.xpath(\"//h3/span[2]/text()\")    \n",
    "\n",
    "# aggregate three columns\n",
    "imdb = zip(title,url,year)\n",
    "# changing the data more like Excel format\n",
    "imdb = pd.DataFrame(imdb)\n",
    "# then save\n",
    "imdb.to_csv(\"data/output_imdb.csv\", encoding='utf-8')"
   ]
  },
  {
   "cell_type": "markdown",
   "metadata": {},
   "source": [
    "## Web Crawling"
   ]
  },
  {
   "cell_type": "markdown",
   "metadata": {},
   "source": [
    "### Review: for loop"
   ]
  },
  {
   "cell_type": "code",
   "execution_count": 3,
   "metadata": {},
   "outputs": [
    {
     "name": "stdout",
     "output_type": "stream",
     "text": [
      "1\n",
      "2\n",
      "3\n",
      "4\n"
     ]
    }
   ],
   "source": [
    "# loop 5 times\n",
    "for i in range(1,5):\n",
    "    print i"
   ]
  },
  {
   "cell_type": "markdown",
   "metadata": {},
   "source": [
    "When you visit the web site (IMDb), the webpages have a certain pattern:\n",
    "\n",
    "- http://www.imdb.com/search/title?at=0&sort=num_votes,desc&start=1&title_type=feature&year=1950,2012\n",
    "- http://www.imdb.com/search/title?at=0&sort=num_votes,desc&start=51&title_type=feature&year=1950,2012\n",
    "- http://www.imdb.com/search/title?at=0&sort=num_votes,desc&start=101&title_type=feature&year=1950,2012\n",
    " \n",
    "The number after **start=** increases by 50. Then, we can try something like this:"
   ]
  },
  {
   "cell_type": "code",
   "execution_count": 4,
   "metadata": {},
   "outputs": [
    {
     "name": "stdout",
     "output_type": "stream",
     "text": [
      "http://www.imdb.com/search/title?at=0&sort=num_votes,desc&start=&title_type=feature&year=1950,2012\n"
     ]
    }
   ],
   "source": [
    "a = \"http://www.imdb.com/search/title?at=0&sort=num_votes,desc&start=\"\n",
    "b = \"&title_type=feature&year=1950,2012\"\n",
    "\n",
    "print a + b"
   ]
  },
  {
   "cell_type": "markdown",
   "metadata": {},
   "source": [
    "Okay, let's takey one more step. How about this?"
   ]
  },
  {
   "cell_type": "code",
   "execution_count": 5,
   "metadata": {},
   "outputs": [
    {
     "name": "stdout",
     "output_type": "stream",
     "text": [
      "http://www.imdb.com/search/title?at=0&sort=num_votes,desc&start=&title_type=feature&year=1950,2012\n",
      "http://www.imdb.com/search/title?at=0&sort=num_votes,desc&start=&title_type=feature&year=1950,2012\n",
      "http://www.imdb.com/search/title?at=0&sort=num_votes,desc&start=&title_type=feature&year=1950,2012\n",
      "http://www.imdb.com/search/title?at=0&sort=num_votes,desc&start=&title_type=feature&year=1950,2012\n"
     ]
    }
   ],
   "source": [
    "a = \"http://www.imdb.com/search/title?at=0&sort=num_votes,desc&start=\"\n",
    "b = \"&title_type=feature&year=1950,2012\"\n",
    "\n",
    "for i in range(1,5):\n",
    "    print a + b"
   ]
  },
  {
   "cell_type": "markdown",
   "metadata": {},
   "source": [
    "Let's add a number into each url"
   ]
  },
  {
   "cell_type": "code",
   "execution_count": 6,
   "metadata": {},
   "outputs": [
    {
     "name": "stdout",
     "output_type": "stream",
     "text": [
      "http://www.imdb.com/search/title?at=0&sort=num_votes,desc&start=1&title_type=feature&year=1950,2012\n",
      "http://www.imdb.com/search/title?at=0&sort=num_votes,desc&start=51&title_type=feature&year=1950,2012\n",
      "http://www.imdb.com/search/title?at=0&sort=num_votes,desc&start=101&title_type=feature&year=1950,2012\n",
      "http://www.imdb.com/search/title?at=0&sort=num_votes,desc&start=151&title_type=feature&year=1950,2012\n"
     ]
    }
   ],
   "source": [
    "a = \"http://www.imdb.com/search/title?at=0&sort=num_votes,desc&start=\"\n",
    "b = \"&title_type=feature&year=1950,2012\"\n",
    "count = 1\n",
    "for i in range(1,5):\n",
    "    print '%s%s%s' %(a,count,b)\n",
    "    count = count + 50    "
   ]
  },
  {
   "cell_type": "markdown",
   "metadata": {},
   "source": [
    "Now, we will add XPaths into the loop statement."
   ]
  },
  {
   "cell_type": "code",
   "execution_count": 7,
   "metadata": {},
   "outputs": [
    {
     "name": "stdout",
     "output_type": "stream",
     "text": [
      "['The Shawshank Redemption', 'The Dark Knight', 'Inception', 'Fight Club', 'Pulp Fiction', 'Forrest Gump', 'The Lord of the Rings: The Fellowship of the Ring', 'The Matrix', 'The Lord of the Rings: The Return of the King', 'The Godfather', 'The Dark Knight Rises', 'The Lord of the Rings: The Two Towers', 'Se7en', 'Gladiator', 'Batman Begins', 'Django Unchained', 'The Avengers', 'Star Wars: Episode IV - A New Hope', 'The Silence of the Lambs', 'Inglourious Basterds', 'Saving Private Ryan', 'The Departed', \"Schindler's List\", 'Avatar', 'The Prestige', 'Star Wars: Episode V - The Empire Strikes Back', 'Memento', 'American Beauty', 'Pirates of the Caribbean: The Curse of the Black Pearl', 'Shutter Island', 'The Green Mile', 'The Godfather: Part II', 'V for Vendetta', 'Titanic', 'American History X', 'Back to the Future', 'The Usual Suspects', 'Terminator 2: Judgment Day', 'Braveheart', 'Kill Bill: Vol. 1', u'L\\xe9on: The Professional', 'Goodfellas', u'WALL\\xb7E', 'Finding Nemo', 'The Sixth Sense', 'Star Wars: Episode VI - Return of the Jedi', 'Iron Man', 'The Hunger Games', \"One Flew Over the Cuckoo's Nest\", 'Up'] ['/title/tt0111161/?ref_=adv_li_tt', '/title/tt0468569/?ref_=adv_li_tt', '/title/tt1375666/?ref_=adv_li_tt', '/title/tt0137523/?ref_=adv_li_tt', '/title/tt0110912/?ref_=adv_li_tt', '/title/tt0109830/?ref_=adv_li_tt', '/title/tt0120737/?ref_=adv_li_tt', '/title/tt0133093/?ref_=adv_li_tt', '/title/tt0167260/?ref_=adv_li_tt', '/title/tt0068646/?ref_=adv_li_tt', '/title/tt1345836/?ref_=adv_li_tt', '/title/tt0167261/?ref_=adv_li_tt', '/title/tt0114369/?ref_=adv_li_tt', '/title/tt0172495/?ref_=adv_li_tt', '/title/tt0372784/?ref_=adv_li_tt', '/title/tt1853728/?ref_=adv_li_tt', '/title/tt0848228/?ref_=adv_li_tt', '/title/tt0076759/?ref_=adv_li_tt', '/title/tt0102926/?ref_=adv_li_tt', '/title/tt0361748/?ref_=adv_li_tt', '/title/tt0120815/?ref_=adv_li_tt', '/title/tt0407887/?ref_=adv_li_tt', '/title/tt0108052/?ref_=adv_li_tt', '/title/tt0499549/?ref_=adv_li_tt', '/title/tt0482571/?ref_=adv_li_tt', '/title/tt0080684/?ref_=adv_li_tt', '/title/tt0209144/?ref_=adv_li_tt', '/title/tt0169547/?ref_=adv_li_tt', '/title/tt0325980/?ref_=adv_li_tt', '/title/tt1130884/?ref_=adv_li_tt', '/title/tt0120689/?ref_=adv_li_tt', '/title/tt0071562/?ref_=adv_li_tt', '/title/tt0434409/?ref_=adv_li_tt', '/title/tt0120338/?ref_=adv_li_tt', '/title/tt0120586/?ref_=adv_li_tt', '/title/tt0088763/?ref_=adv_li_tt', '/title/tt0114814/?ref_=adv_li_tt', '/title/tt0103064/?ref_=adv_li_tt', '/title/tt0112573/?ref_=adv_li_tt', '/title/tt0266697/?ref_=adv_li_tt', '/title/tt0110413/?ref_=adv_li_tt', '/title/tt0099685/?ref_=adv_li_tt', '/title/tt0910970/?ref_=adv_li_tt', '/title/tt0266543/?ref_=adv_li_tt', '/title/tt0167404/?ref_=adv_li_tt', '/title/tt0086190/?ref_=adv_li_tt', '/title/tt0371746/?ref_=adv_li_tt', '/title/tt1392170/?ref_=adv_li_tt', '/title/tt0073486/?ref_=adv_li_tt', '/title/tt1049413/?ref_=adv_li_tt'] ['(1994)', '(2008)', '(2010)', '(1999)', '(1994)', '(1994)', '(2001)', '(1999)', '(2003)', '(1972)', '(2012)', '(2002)', '(1995)', '(2000)', '(2005)', '(2012)', '(2012)', '(1977)', '(1991)', '(2009)', '(1998)', '(2006)', '(1993)', '(2009)', '(2006)', '(1980)', '(2000)', '(1999)', '(2003)', '(2010)', '(1999)', '(1974)', '(2005)', '(1997)', '(1998)', '(1985)', '(1995)', '(1991)', '(1995)', '(2003)', '(1994)', '(1990)', '(2008)', '(2003)', '(1999)', '(1983)', '(2008)', '(2012)', '(1975)', '(2009)']\n",
      "['The Truman Show', 'Eternal Sunshine of the Spotless Mind', 'Reservoir Dogs', 'Raiders of the Lost Ark', 'The Lion King', 'Toy Story', 'Sin City', 'Slumdog Millionaire', 'Jurassic Park', 'A Beautiful Mind', 'The Hobbit: An Unexpected Journey', 'The Shining', 'No Country for Old Men', 'Good Will Hunting', 'The Terminator', 'Snatch', 'Monsters, Inc.', '300', 'Die Hard', 'Donnie Darko', 'Alien', 'Requiem for a Dream', 'The Hangover', 'A Clockwork Orange', 'Catch Me If You Can', 'Gran Torino', 'Harry Potter and the Deathly Hallows: Part 2', 'Toy Story 3', 'Black Swan', 'The Big Lebowski', 'Scarface', 'Spider-Man', u'Am\\xe9lie', 'Thor', 'Star Wars: Episode I - The Phantom Menace', 'City of God', 'I Am Legend', 'The Intouchables', 'Silver Linings Playbook', 'Iron Man 2', 'Star Wars: Episode III - Revenge of the Sith', \"Pirates of the Caribbean: Dead Man's Chest\", 'District 9', 'Indiana Jones and the Last Crusade', 'Captain America: The First Avenger', 'Taxi Driver', 'X: First Class', 'The Pianist', 'Skyfall', 'Kill Bill: Vol. 2'] ['/title/tt0120382/?ref_=adv_li_tt', '/title/tt0338013/?ref_=adv_li_tt', '/title/tt0105236/?ref_=adv_li_tt', '/title/tt0082971/?ref_=adv_li_tt', '/title/tt0110357/?ref_=adv_li_tt', '/title/tt0114709/?ref_=adv_li_tt', '/title/tt0401792/?ref_=adv_li_tt', '/title/tt1010048/?ref_=adv_li_tt', '/title/tt0107290/?ref_=adv_li_tt', '/title/tt0268978/?ref_=adv_li_tt', '/title/tt0903624/?ref_=adv_li_tt', '/title/tt0081505/?ref_=adv_li_tt', '/title/tt0477348/?ref_=adv_li_tt', '/title/tt0119217/?ref_=adv_li_tt', '/title/tt0088247/?ref_=adv_li_tt', '/title/tt0208092/?ref_=adv_li_tt', '/title/tt0198781/?ref_=adv_li_tt', '/title/tt0416449/?ref_=adv_li_tt', '/title/tt0095016/?ref_=adv_li_tt', '/title/tt0246578/?ref_=adv_li_tt', '/title/tt0078748/?ref_=adv_li_tt', '/title/tt0180093/?ref_=adv_li_tt', '/title/tt1119646/?ref_=adv_li_tt', '/title/tt0066921/?ref_=adv_li_tt', '/title/tt0264464/?ref_=adv_li_tt', '/title/tt1205489/?ref_=adv_li_tt', '/title/tt1201607/?ref_=adv_li_tt', '/title/tt0435761/?ref_=adv_li_tt', '/title/tt0947798/?ref_=adv_li_tt', '/title/tt0118715/?ref_=adv_li_tt', '/title/tt0086250/?ref_=adv_li_tt', '/title/tt0145487/?ref_=adv_li_tt', '/title/tt0211915/?ref_=adv_li_tt', '/title/tt0800369/?ref_=adv_li_tt', '/title/tt0120915/?ref_=adv_li_tt', '/title/tt0317248/?ref_=adv_li_tt', '/title/tt0480249/?ref_=adv_li_tt', '/title/tt1675434/?ref_=adv_li_tt', '/title/tt1045658/?ref_=adv_li_tt', '/title/tt1228705/?ref_=adv_li_tt', '/title/tt0121766/?ref_=adv_li_tt', '/title/tt0383574/?ref_=adv_li_tt', '/title/tt1136608/?ref_=adv_li_tt', '/title/tt0097576/?ref_=adv_li_tt', '/title/tt0458339/?ref_=adv_li_tt', '/title/tt0075314/?ref_=adv_li_tt', '/title/tt1270798/?ref_=adv_li_tt', '/title/tt0253474/?ref_=adv_li_tt', '/title/tt1074638/?ref_=adv_li_tt', '/title/tt0378194/?ref_=adv_li_tt'] ['(1998)', '(2004)', '(1992)', '(1981)', '(1994)', '(1995)', '(2005)', '(2008)', '(1993)', '(2001)', '(2012)', '(1980)', '(2007)', '(1997)', '(1984)', '(2000)', '(2001)', '(2006)', '(1988)', '(2001)', '(1979)', '(2000)', '(2009)', '(1971)', '(2002)', '(2008)', '(2011)', '(2010)', '(2010)', '(1998)', '(1983)', '(2002)', '(2001)', '(2011)', '(1999)', '(2002)', '(2007)', '(2011)', '(2012)', '(2010)', '(2005)', '(2006)', '(2009)', '(1989)', '(2011)', '(1976)', '(2011)', '(2002)', '(2012)', '(2004)']\n",
      "['The Good, the Bad and the Ugly', \"The King's Speech\", 'Transformers', 'Aliens', 'How to Train Your Dragon', 'Full Metal Jacket', 'The Bourne Ultimatum', 'Star Trek', 'Trainspotting', 'Million Dollar Baby', 'The Social Network', 'The Incredibles', 'Ratatouille', \"Pirates of the Caribbean: At World's End\", 'Sherlock Holmes', \"Pan's Labyrinth\", 'Star Wars: Episode II - Attack of the Clones', 'Blade Runner', 'Taken', '12 Angry Men', 'Shrek', 'Casino Royale', 'Ted', 'Prometheus', 'Fargo', 'Twelve Monkeys', \"Harry Potter and the Sorcerer's Stone\", 'The Curious Case of Benjamin Button', 'X-Men', 'Argo', 'Apocalypse Now', 'The Amazing Spider-Man', 'Groundhog Day', 'Life of Pi', 'Spirited Away', 'Life Is Beautiful', '2001: A Space Odyssey', 'Drive', 'Into the Wild', 'Heat', 'Psycho', 'Kick-Ass', 'Looper', 'Independence Day', 'Jaws', 'Limitless', 'Spider-Man 2', 'Superbad', 'Lock, Stock and Two Smoking Barrels', 'L.A. Confidential'] ['/title/tt0060196/?ref_=adv_li_tt', '/title/tt1504320/?ref_=adv_li_tt', '/title/tt0418279/?ref_=adv_li_tt', '/title/tt0090605/?ref_=adv_li_tt', '/title/tt0892769/?ref_=adv_li_tt', '/title/tt0093058/?ref_=adv_li_tt', '/title/tt0440963/?ref_=adv_li_tt', '/title/tt0796366/?ref_=adv_li_tt', '/title/tt0117951/?ref_=adv_li_tt', '/title/tt0405159/?ref_=adv_li_tt', '/title/tt1285016/?ref_=adv_li_tt', '/title/tt0317705/?ref_=adv_li_tt', '/title/tt0382932/?ref_=adv_li_tt', '/title/tt0449088/?ref_=adv_li_tt', '/title/tt0988045/?ref_=adv_li_tt', '/title/tt0457430/?ref_=adv_li_tt', '/title/tt0121765/?ref_=adv_li_tt', '/title/tt0083658/?ref_=adv_li_tt', '/title/tt0936501/?ref_=adv_li_tt', '/title/tt0050083/?ref_=adv_li_tt', '/title/tt0126029/?ref_=adv_li_tt', '/title/tt0381061/?ref_=adv_li_tt', '/title/tt1637725/?ref_=adv_li_tt', '/title/tt1446714/?ref_=adv_li_tt', '/title/tt0116282/?ref_=adv_li_tt', '/title/tt0114746/?ref_=adv_li_tt', '/title/tt0241527/?ref_=adv_li_tt', '/title/tt0421715/?ref_=adv_li_tt', '/title/tt0120903/?ref_=adv_li_tt', '/title/tt1024648/?ref_=adv_li_tt', '/title/tt0078788/?ref_=adv_li_tt', '/title/tt0948470/?ref_=adv_li_tt', '/title/tt0107048/?ref_=adv_li_tt', '/title/tt0454876/?ref_=adv_li_tt', '/title/tt0245429/?ref_=adv_li_tt', '/title/tt0118799/?ref_=adv_li_tt', '/title/tt0062622/?ref_=adv_li_tt', '/title/tt0780504/?ref_=adv_li_tt', '/title/tt0758758/?ref_=adv_li_tt', '/title/tt0113277/?ref_=adv_li_tt', '/title/tt0054215/?ref_=adv_li_tt', '/title/tt1250777/?ref_=adv_li_tt', '/title/tt1276104/?ref_=adv_li_tt', '/title/tt0116629/?ref_=adv_li_tt', '/title/tt0073195/?ref_=adv_li_tt', '/title/tt1219289/?ref_=adv_li_tt', '/title/tt0316654/?ref_=adv_li_tt', '/title/tt0829482/?ref_=adv_li_tt', '/title/tt0120735/?ref_=adv_li_tt', '/title/tt0119488/?ref_=adv_li_tt'] ['(1966)', '(2010)', '(2007)', '(1986)', '(2010)', '(1987)', '(2007)', '(2009)', '(1996)', '(2004)', '(2010)', '(2004)', '(2007)', '(2007)', '(2009)', '(2006)', '(2002)', '(1982)', '(I) (2008)', '(1957)', '(2001)', '(2006)', '(2012)', '(I) (2012)', '(1996)', '(1995)', '(2001)', '(2008)', '(2000)', '(2012)', '(1979)', '(2012)', '(1993)', '(2012)', '(2001)', '(1997)', '(1968)', '(I) (2011)', '(2007)', '(1995)', '(1960)', '(2010)', '(2012)', '(1996)', '(1975)', '(I) (2011)', '(2004)', '(2007)', '(1998)', '(1997)']\n"
     ]
    },
    {
     "name": "stdout",
     "output_type": "stream",
     "text": [
      "['The Matrix Reloaded', 'The Bourne Identity', '21 Jump Street', 'X2', 'Juno', 'Rise of the Planet of the Apes', 'Men in Black', \"Ocean's Eleven\", 'Harry Potter and the Chamber of Secrets', 'The Notebook', 'Minority Report', 'Blood Diamond', 'Cast Away', 'Harry Potter and the Goblet of Fire', 'Shaun of the Dead', 'Harry Potter and the Prisoner of Azkaban', 'I, Robot', 'Despicable Me', 'Toy Story 2', 'Zombieland', 'Watchmen', 'Rocky', 'Spider-Man 3', 'X-Men: The Last Stand', 'Monty Python and the Holy Grail', 'Source Code', 'Troy', 'There Will Be Blood', 'Rain Man', 'Pirates of the Caribbean: On Stranger Tides', '(500) Days of Summer', 'Crazy, Stupid, Love.', 'The Hangover Part II', 'Oldeuboi', 'X-Men Origins: Wolverine', 'Harry Potter and the Order of the Phoenix', 'Children of Men', 'American Psycho', 'Mission: Impossible - Ghost Protocol', 'The Matrix Revolutions', 'The Butterfly Effect', 'The Perks of Being a Wallflower', 'Hot Fuzz', 'Edward Scissorhands', 'Little Miss Sunshine', 'The Bourne Supremacy', 'Crash', 'Mr. & Mrs. Smith', 'Back to the Future Part II', 'Horrible Bosses'] ['/title/tt0234215/?ref_=adv_li_tt', '/title/tt0258463/?ref_=adv_li_tt', '/title/tt1232829/?ref_=adv_li_tt', '/title/tt0290334/?ref_=adv_li_tt', '/title/tt0467406/?ref_=adv_li_tt', '/title/tt1318514/?ref_=adv_li_tt', '/title/tt0119654/?ref_=adv_li_tt', '/title/tt0240772/?ref_=adv_li_tt', '/title/tt0295297/?ref_=adv_li_tt', '/title/tt0332280/?ref_=adv_li_tt', '/title/tt0181689/?ref_=adv_li_tt', '/title/tt0450259/?ref_=adv_li_tt', '/title/tt0162222/?ref_=adv_li_tt', '/title/tt0330373/?ref_=adv_li_tt', '/title/tt0365748/?ref_=adv_li_tt', '/title/tt0304141/?ref_=adv_li_tt', '/title/tt0343818/?ref_=adv_li_tt', '/title/tt1323594/?ref_=adv_li_tt', '/title/tt0120363/?ref_=adv_li_tt', '/title/tt1156398/?ref_=adv_li_tt', '/title/tt0409459/?ref_=adv_li_tt', '/title/tt0075148/?ref_=adv_li_tt', '/title/tt0413300/?ref_=adv_li_tt', '/title/tt0376994/?ref_=adv_li_tt', '/title/tt0071853/?ref_=adv_li_tt', '/title/tt0945513/?ref_=adv_li_tt', '/title/tt0332452/?ref_=adv_li_tt', '/title/tt0469494/?ref_=adv_li_tt', '/title/tt0095953/?ref_=adv_li_tt', '/title/tt1298650/?ref_=adv_li_tt', '/title/tt1022603/?ref_=adv_li_tt', '/title/tt1570728/?ref_=adv_li_tt', '/title/tt1411697/?ref_=adv_li_tt', '/title/tt0364569/?ref_=adv_li_tt', '/title/tt0458525/?ref_=adv_li_tt', '/title/tt0373889/?ref_=adv_li_tt', '/title/tt0206634/?ref_=adv_li_tt', '/title/tt0144084/?ref_=adv_li_tt', '/title/tt1229238/?ref_=adv_li_tt', '/title/tt0242653/?ref_=adv_li_tt', '/title/tt0289879/?ref_=adv_li_tt', '/title/tt1659337/?ref_=adv_li_tt', '/title/tt0425112/?ref_=adv_li_tt', '/title/tt0099487/?ref_=adv_li_tt', '/title/tt0449059/?ref_=adv_li_tt', '/title/tt0372183/?ref_=adv_li_tt', '/title/tt0375679/?ref_=adv_li_tt', '/title/tt0356910/?ref_=adv_li_tt', '/title/tt0096874/?ref_=adv_li_tt', '/title/tt1499658/?ref_=adv_li_tt'] ['(2003)', '(2002)', '(2012)', '(2003)', '(2007)', '(2011)', '(1997)', '(2001)', '(2002)', '(2004)', '(2002)', '(2006)', '(2000)', '(2005)', '(2004)', '(2004)', '(2004)', '(2010)', '(1999)', '(2009)', '(2009)', '(1976)', '(2007)', '(2006)', '(1975)', '(2011)', '(2004)', '(2007)', '(1988)', '(2011)', '(2009)', '(2011)', '(2011)', '(2003)', '(2009)', '(2007)', '(2006)', '(2000)', '(2011)', '(2003)', '(2004)', '(2012)', '(2007)', '(1990)', '(2006)', '(2004)', '(I) (2004)', '(2005)', '(1989)', '(2011)']\n"
     ]
    }
   ],
   "source": [
    "a = \"http://www.imdb.com/search/title?at=0&sort=num_votes,desc&start=\"\n",
    "b = \"&title_type=feature&year=1950,2012\"\n",
    "count = 1\n",
    "\n",
    "for i in range(1,5):\n",
    "    url = '%s%s%s' %(a,count,b)\n",
    "    count = count + 50   \n",
    "    data = html.fromstring(requests.get(url).text)\n",
    "    \n",
    "    # Xpath\n",
    "    title = data.xpath(\"//h3/a/text()\")  \n",
    "    url = data.xpath(\"//h3[@class='lister-item-header']/a/@href\")        \n",
    "    year = data.xpath(\"//h3/span[2]/text()\")    \n",
    "\n",
    "    print title, url, year"
   ]
  },
  {
   "cell_type": "markdown",
   "metadata": {},
   "source": [
    "Let's improve the codes to save the data"
   ]
  },
  {
   "cell_type": "code",
   "execution_count": 11,
   "metadata": {},
   "outputs": [
    {
     "name": "stdout",
     "output_type": "stream",
     "text": [
      "                                                     0  \\\n",
      "0                             The Shawshank Redemption   \n",
      "1                                      The Dark Knight   \n",
      "2                                            Inception   \n",
      "3                                           Fight Club   \n",
      "4                                         Pulp Fiction   \n",
      "5                                         Forrest Gump   \n",
      "6    The Lord of the Rings: The Fellowship of the Ring   \n",
      "7                                           The Matrix   \n",
      "8        The Lord of the Rings: The Return of the King   \n",
      "9                                        The Godfather   \n",
      "10                               The Dark Knight Rises   \n",
      "11               The Lord of the Rings: The Two Towers   \n",
      "12                                               Se7en   \n",
      "13                                           Gladiator   \n",
      "14                                       Batman Begins   \n",
      "15                                    Django Unchained   \n",
      "16                                        The Avengers   \n",
      "17                  Star Wars: Episode IV - A New Hope   \n",
      "18                            The Silence of the Lambs   \n",
      "19                                Inglourious Basterds   \n",
      "20                                 Saving Private Ryan   \n",
      "21                                        The Departed   \n",
      "22                                    Schindler's List   \n",
      "23                                              Avatar   \n",
      "24                                        The Prestige   \n",
      "25      Star Wars: Episode V - The Empire Strikes Back   \n",
      "26                                             Memento   \n",
      "27                                     American Beauty   \n",
      "28   Pirates of the Caribbean: The Curse of the Bla...   \n",
      "29                                      Shutter Island   \n",
      "..                                                 ...   \n",
      "170                                           Watchmen   \n",
      "171                                              Rocky   \n",
      "172                                       Spider-Man 3   \n",
      "173                              X-Men: The Last Stand   \n",
      "174                    Monty Python and the Holy Grail   \n",
      "175                                        Source Code   \n",
      "176                                               Troy   \n",
      "177                                There Will Be Blood   \n",
      "178                                           Rain Man   \n",
      "179        Pirates of the Caribbean: On Stranger Tides   \n",
      "180                               (500) Days of Summer   \n",
      "181                               Crazy, Stupid, Love.   \n",
      "182                               The Hangover Part II   \n",
      "183                                           Oldeuboi   \n",
      "184                           X-Men Origins: Wolverine   \n",
      "185          Harry Potter and the Order of the Phoenix   \n",
      "186                                    Children of Men   \n",
      "187                                    American Psycho   \n",
      "188               Mission: Impossible - Ghost Protocol   \n",
      "189                             The Matrix Revolutions   \n",
      "190                               The Butterfly Effect   \n",
      "191                    The Perks of Being a Wallflower   \n",
      "192                                           Hot Fuzz   \n",
      "193                                Edward Scissorhands   \n",
      "194                               Little Miss Sunshine   \n",
      "195                               The Bourne Supremacy   \n",
      "196                                              Crash   \n",
      "197                                   Mr. & Mrs. Smith   \n",
      "198                         Back to the Future Part II   \n",
      "199                                    Horrible Bosses   \n",
      "\n",
      "                                    1           2  \n",
      "0    /title/tt0111161/?ref_=adv_li_tt      (1994)  \n",
      "1    /title/tt0468569/?ref_=adv_li_tt      (2008)  \n",
      "2    /title/tt1375666/?ref_=adv_li_tt      (2010)  \n",
      "3    /title/tt0137523/?ref_=adv_li_tt      (1999)  \n",
      "4    /title/tt0110912/?ref_=adv_li_tt      (1994)  \n",
      "5    /title/tt0109830/?ref_=adv_li_tt      (1994)  \n",
      "6    /title/tt0120737/?ref_=adv_li_tt      (2001)  \n",
      "7    /title/tt0133093/?ref_=adv_li_tt      (1999)  \n",
      "8    /title/tt0167260/?ref_=adv_li_tt      (2003)  \n",
      "9    /title/tt0068646/?ref_=adv_li_tt      (1972)  \n",
      "10   /title/tt1345836/?ref_=adv_li_tt      (2012)  \n",
      "11   /title/tt0167261/?ref_=adv_li_tt      (2002)  \n",
      "12   /title/tt0114369/?ref_=adv_li_tt      (1995)  \n",
      "13   /title/tt0172495/?ref_=adv_li_tt      (2000)  \n",
      "14   /title/tt0372784/?ref_=adv_li_tt      (2005)  \n",
      "15   /title/tt1853728/?ref_=adv_li_tt      (2012)  \n",
      "16   /title/tt0848228/?ref_=adv_li_tt      (2012)  \n",
      "17   /title/tt0076759/?ref_=adv_li_tt      (1977)  \n",
      "18   /title/tt0102926/?ref_=adv_li_tt      (1991)  \n",
      "19   /title/tt0361748/?ref_=adv_li_tt      (2009)  \n",
      "20   /title/tt0120815/?ref_=adv_li_tt      (1998)  \n",
      "21   /title/tt0407887/?ref_=adv_li_tt      (2006)  \n",
      "22   /title/tt0108052/?ref_=adv_li_tt      (1993)  \n",
      "23   /title/tt0499549/?ref_=adv_li_tt      (2009)  \n",
      "24   /title/tt0482571/?ref_=adv_li_tt      (2006)  \n",
      "25   /title/tt0080684/?ref_=adv_li_tt      (1980)  \n",
      "26   /title/tt0209144/?ref_=adv_li_tt      (2000)  \n",
      "27   /title/tt0169547/?ref_=adv_li_tt      (1999)  \n",
      "28   /title/tt0325980/?ref_=adv_li_tt      (2003)  \n",
      "29   /title/tt1130884/?ref_=adv_li_tt      (2010)  \n",
      "..                                ...         ...  \n",
      "170  /title/tt0409459/?ref_=adv_li_tt      (2009)  \n",
      "171  /title/tt0075148/?ref_=adv_li_tt      (1976)  \n",
      "172  /title/tt0413300/?ref_=adv_li_tt      (2007)  \n",
      "173  /title/tt0376994/?ref_=adv_li_tt      (2006)  \n",
      "174  /title/tt0071853/?ref_=adv_li_tt      (1975)  \n",
      "175  /title/tt0945513/?ref_=adv_li_tt      (2011)  \n",
      "176  /title/tt0332452/?ref_=adv_li_tt      (2004)  \n",
      "177  /title/tt0469494/?ref_=adv_li_tt      (2007)  \n",
      "178  /title/tt0095953/?ref_=adv_li_tt      (1988)  \n",
      "179  /title/tt1298650/?ref_=adv_li_tt      (2011)  \n",
      "180  /title/tt1022603/?ref_=adv_li_tt      (2009)  \n",
      "181  /title/tt1570728/?ref_=adv_li_tt      (2011)  \n",
      "182  /title/tt1411697/?ref_=adv_li_tt      (2011)  \n",
      "183  /title/tt0364569/?ref_=adv_li_tt      (2003)  \n",
      "184  /title/tt0458525/?ref_=adv_li_tt      (2009)  \n",
      "185  /title/tt0373889/?ref_=adv_li_tt      (2007)  \n",
      "186  /title/tt0206634/?ref_=adv_li_tt      (2006)  \n",
      "187  /title/tt0144084/?ref_=adv_li_tt      (2000)  \n",
      "188  /title/tt1229238/?ref_=adv_li_tt      (2011)  \n",
      "189  /title/tt0242653/?ref_=adv_li_tt      (2003)  \n",
      "190  /title/tt0289879/?ref_=adv_li_tt      (2004)  \n",
      "191  /title/tt1659337/?ref_=adv_li_tt      (2012)  \n",
      "192  /title/tt0425112/?ref_=adv_li_tt      (2007)  \n",
      "193  /title/tt0099487/?ref_=adv_li_tt      (1990)  \n",
      "194  /title/tt0449059/?ref_=adv_li_tt      (2006)  \n",
      "195  /title/tt0372183/?ref_=adv_li_tt      (2004)  \n",
      "196  /title/tt0375679/?ref_=adv_li_tt  (I) (2004)  \n",
      "197  /title/tt0356910/?ref_=adv_li_tt      (2005)  \n",
      "198  /title/tt0096874/?ref_=adv_li_tt      (1989)  \n",
      "199  /title/tt1499658/?ref_=adv_li_tt      (2011)  \n",
      "\n",
      "[200 rows x 3 columns]\n"
     ]
    }
   ],
   "source": [
    "finaldata = []\n",
    "\n",
    "a = \"http://www.imdb.com/search/title?at=0&sort=num_votes,desc&start=\"\n",
    "b = \"&title_type=feature&year=1950,2012\"\n",
    "count = 1\n",
    "\n",
    "for i in range(1,5):\n",
    "    url = '%s%s%s' %(a,count,b)\n",
    "    count = count + 50   \n",
    "    data = html.fromstring(requests.get(url).text)\n",
    "    \n",
    "    # Xpath\n",
    "    title = data.xpath(\"//h3/a/text()\")  \n",
    "    url = data.xpath(\"//h3[@class='lister-item-header']/a/@href\")        \n",
    "    year = data.xpath(\"//h3/span[2]/text()\")    \n",
    "\n",
    "    crawleddata = zip(title, url, year)\n",
    "    \n",
    "    for row in crawleddata:\n",
    "        finaldata.append(row)    \n",
    "\n",
    "finaldata = pd.DataFrame(finaldata)     \n",
    "print finaldata\n",
    "finaldata.to_csv(\"data/output_imdb_crawling.csv\", encoding=\"utf-8\")"
   ]
  },
  {
   "cell_type": "raw",
   "metadata": {},
   "source": [
    "finaldata = []\n",
    "openfile = open(\"data/output_imdb_crawling.csv\", 'wb')\n",
    "w = csv.writer(openfile)\n",
    "\n",
    "a = \"http://www.imdb.com/search/title?at=0&sort=num_votes,desc&start=\"\n",
    "b = \"&title_type=feature&year=1950,2012\"\n",
    "count = 1\n",
    "\n",
    "for i in range(1,5):\n",
    "    url = '%s%s%s' %(a,count,b)\n",
    "    count = count + 50   \n",
    "    data = html.fromstring(requests.get(url).text)\n",
    "    \n",
    "    # Xpath\n",
    "    title = data.xpath(\"//h3/a/text()\")  \n",
    "    url = data.xpath(\"//h3[@class='lister-item-header']/a/@href\")        \n",
    "    year = data.xpath(\"//h3/span[2]/text()\")    \n",
    "\n",
    "    crawleddata = zip(title, url, year)\n",
    "    \n",
    "    for row in crawleddata:\n",
    "        w.writerow([row])\n",
    "        finaldata.append(row)    \n",
    "    \n",
    "openfile.close()  "
   ]
  },
  {
   "cell_type": "markdown",
   "metadata": {},
   "source": [
    "# OpenCorporates (The Open Database of the Corporate World)\n",
    "\n",
    "- We're interested in businesses in Kansas. The url is https://opencorporates.com/companies/us_ks?current_status=Active+And+In+Good+Standing&page=1&q=\n",
    "- There are many more webpages (+1000).\n",
    "- For example, the second web page's URL looks like this https://opencorporates.com/companies/us_ks?current_status=Active+And+In+Good+Standing&page=2&q="
   ]
  },
  {
   "cell_type": "markdown",
   "metadata": {},
   "source": [
    "## Web Scraping (first webpage)"
   ]
  },
  {
   "cell_type": "code",
   "execution_count": null,
   "metadata": {
    "collapsed": true
   },
   "outputs": [],
   "source": [
    "r = requests.get('https://opencorporates.com/companies/us_ks?current_status=Active+And+In+Good+Standing&page=1&q=')\n",
    "data = html.fromstring(r.text)\n",
    "\n",
    "# Xpath\n",
    "title = \n",
    "url =     \n",
    "address =  \n",
    "\n",
    "# aggregate three columns\n",
    "\n",
    "# changing the data more like Excel format\n",
    "\n",
    "# then save\n"
   ]
  },
  {
   "cell_type": "code",
   "execution_count": 12,
   "metadata": {},
   "outputs": [
    {
     "name": "stdout",
     "output_type": "stream",
     "text": [
      "https://opencorporates.com/companies/us_ks?current_status=Active+And+In+Good+Standing&page=&q=\n",
      "https://opencorporates.com/companies/us_ks?current_status=Active+And+In+Good+Standing&page=&q=\n",
      "https://opencorporates.com/companies/us_ks?current_status=Active+And+In+Good+Standing&page=&q=\n",
      "https://opencorporates.com/companies/us_ks?current_status=Active+And+In+Good+Standing&page=&q=\n"
     ]
    }
   ],
   "source": [
    "a = \"https://opencorporates.com/companies/us_ks?current_status=Active+And+In+Good+Standing&page=\"\n",
    "b = \"&q=\"\n",
    "\n",
    "for i in range(1,5):\n",
    "    print a + b"
   ]
  },
  {
   "cell_type": "code",
   "execution_count": 13,
   "metadata": {},
   "outputs": [
    {
     "name": "stdout",
     "output_type": "stream",
     "text": [
      "https://opencorporates.com/companies/us_ks?current_status=Active+And+In+Good+Standing&page=1&q=\n",
      "https://opencorporates.com/companies/us_ks?current_status=Active+And+In+Good+Standing&page=2&q=\n",
      "https://opencorporates.com/companies/us_ks?current_status=Active+And+In+Good+Standing&page=3&q=\n",
      "https://opencorporates.com/companies/us_ks?current_status=Active+And+In+Good+Standing&page=4&q=\n"
     ]
    }
   ],
   "source": [
    "a = \"https://opencorporates.com/companies/us_ks?current_status=Active+And+In+Good+Standing&page=\"\n",
    "b = \"&q=\"\n",
    "count = 1\n",
    "for i in range(1,5):\n",
    "    url = '%s%s%s' %(a,count,b)\n",
    "    print url\n",
    "    count = count + 1\n",
    "    "
   ]
  },
  {
   "cell_type": "markdown",
   "metadata": {},
   "source": [
    "## Web crawling"
   ]
  },
  {
   "cell_type": "code",
   "execution_count": null,
   "metadata": {
    "collapsed": true
   },
   "outputs": [],
   "source": [
    "\n",
    "\n",
    "\n",
    "\n",
    "\n",
    "\n",
    "\n",
    "\n",
    "\n",
    "\n",
    "\n",
    "\n",
    "\n",
    "\n",
    "\n",
    "\n",
    "\n",
    "\n"
   ]
  },
  {
   "cell_type": "markdown",
   "metadata": {},
   "source": [
    "# Rotten Tomatoes Movie Reviews\n",
    "\n",
    "- Now, we're familar with how XPath works so we will do coding without using Google Sheets. \n",
    "- Go to https://www.rottentomatoes.com/m/interstellar_2014/reviews/?page=1&sort=\n",
    "- Collect reviewer name, fresh/rotten, review, and date.\n",
    "- There are 15 more webpages of reviews for this movie"
   ]
  },
  {
   "cell_type": "markdown",
   "metadata": {},
   "source": [
    "## Web Scraping"
   ]
  },
  {
   "cell_type": "code",
   "execution_count": null,
   "metadata": {
    "collapsed": true
   },
   "outputs": [],
   "source": [
    "r = requests.get('https://www.rottentomatoes.com/m/interstellar_2014/reviews/?page=1&sort=')\n",
    "data = html.fromstring(r.text)\n",
    "\n",
    "name = \n",
    "rotten_fresh = \n",
    "date = \n",
    "review = \n",
    "movie = zip(name, rotten_fresh, date, review)\n",
    "movie"
   ]
  },
  {
   "cell_type": "markdown",
   "metadata": {},
   "source": [
    "## Web Crawling: Your Turn!"
   ]
  },
  {
   "cell_type": "code",
   "execution_count": null,
   "metadata": {
    "collapsed": true
   },
   "outputs": [],
   "source": [
    "\n",
    "\n",
    "\n",
    "\n",
    "\n",
    "\n",
    "\n",
    "\n",
    "\n",
    "\n",
    "\n",
    "\n",
    "\n",
    "\n",
    "\n",
    "\n",
    "\n",
    "\n",
    "\n",
    "\n"
   ]
  },
  {
   "cell_type": "code",
   "execution_count": null,
   "metadata": {
    "collapsed": true
   },
   "outputs": [],
   "source": [
    "# renaming the columns 0: 'reviewer', 1: 'sentiment', 2: 'date', 3:'review'\n",
    "finaldata = finaldata.rename(columns={0: 'reviewer', 1: 'sentiment', 2: 'date', 3:'review'})\n",
    "finaldata"
   ]
  },
  {
   "cell_type": "code",
   "execution_count": null,
   "metadata": {
    "collapsed": true
   },
   "outputs": [],
   "source": [
    "# pivot table\n",
    "finaldata.groupby('date').count()"
   ]
  },
  {
   "cell_type": "code",
   "execution_count": null,
   "metadata": {
    "collapsed": true
   },
   "outputs": [],
   "source": [
    "# pivot table\n"
   ]
  },
  {
   "cell_type": "markdown",
   "metadata": {},
   "source": [
    "# Word Frequency Analysis"
   ]
  },
  {
   "cell_type": "code",
   "execution_count": null,
   "metadata": {
    "collapsed": true
   },
   "outputs": [],
   "source": [
    "import nltk\n",
    "from nltk import FreqDist, word_tokenize\n",
    "from nltk.corpus import stopwords\n",
    "import matplotlib.pyplot as plt\n",
    "% matplotlib inline\n",
    "\n",
    "# convert to string\n",
    "tokens = str(review)\n",
    "\n",
    "#lowecases\n",
    "tokens = tokens.lower()\n",
    "\n",
    "#tokenization\n",
    "tokens = word_tokenize(tokens)\n",
    "\n",
    "#Remove stopwords\n",
    "tokens = (word for word in tokens if word not in stopwords.words('english'))\n",
    "\n",
    "# Filter non-alphanumeric characters from tokens\n",
    "tokens = (word for word in tokens if word.isalpha())\n",
    "\n",
    "#remove short words\n",
    "tokens = [ word for word in tokens if len(word) >= 2 ]\n",
    "\n",
    "#Create your bigrams ... bigrams are two tokens\n",
    "#bgs = nltk.bigrams(tokens)\n",
    "\n",
    "#compute frequency distribution for all the bigrams in the text\n",
    "fdist_h = nltk.FreqDist(tokens)\n",
    "fdist_h.most_common(20)"
   ]
  }
 ],
 "metadata": {
  "kernelspec": {
   "display_name": "Python 2",
   "language": "python",
   "name": "python2"
  },
  "language_info": {
   "codemirror_mode": {
    "name": "ipython",
    "version": 2
   },
   "file_extension": ".py",
   "mimetype": "text/x-python",
   "name": "python",
   "nbconvert_exporter": "python",
   "pygments_lexer": "ipython2",
   "version": "2.7.13"
  }
 },
 "nbformat": 4,
 "nbformat_minor": 1
}
