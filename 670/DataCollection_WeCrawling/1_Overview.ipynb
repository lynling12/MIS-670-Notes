{
 "cells": [
  {
   "cell_type": "markdown",
   "metadata": {
    "deletable": true,
    "editable": true
   },
   "source": [
    "# Web Crawling"
   ]
  },
  {
   "cell_type": "markdown",
   "metadata": {
    "deletable": true,
    "editable": true
   },
   "source": [
    "Note: \n",
    "* We're learning web crawling techniques for **educational purpose** only. Always “respect” the **website's terms of use** you’re crawling. Do not cause any traffic to the web server. The webiste may block your IP address (also there could be legal issues). You should never post the scraped data on the web nor share the data for commerical purpose."
   ]
  },
  {
   "cell_type": "markdown",
   "metadata": {
    "deletable": true,
    "editable": true
   },
   "source": [
    "## Web scraping\n",
    "\n",
    "* A single or multiple web pages\n",
    "* You know what you are “specifically” looking for\n",
    "* XPath"
   ]
  },
  {
   "cell_type": "markdown",
   "metadata": {
    "deletable": true,
    "editable": true
   },
   "source": [
    "## Web crawling\n",
    "\n",
    "* A large number of web pages\n",
    "* E.g., I am looking for “all” the webpages about football\n",
    "* XPath plus more ...* \n",
    "* **Regular Expression** needed to crawl relevant URLs and extract data from them\n"
   ]
  },
  {
   "cell_type": "markdown",
   "metadata": {
    "deletable": true,
    "editable": true
   },
   "source": [
    "What can I crawl & Copyright laws: \n",
    "* Technically speaking, all the websites can be crawled. \n",
    "* Using the crawled data for **commerical service** is violating copyright laws\n",
    "* Web crawling in this course is for **educational purpose** only. "
   ]
  },
  {
   "cell_type": "markdown",
   "metadata": {
    "deletable": true,
    "editable": true
   },
   "source": [
    "Overview\n",
    "\n",
    "* A programmatic method of extracting data from the web (and other sources)\n",
    "\n",
    "* For collecting a large volume of data \n",
    "    - Online news articles in many web pages\n",
    "    - A sizable Wikipedia pages\n",
    "    - A sizable data from a blog site\n",
    "    - Data from a customer review site\n",
    "    - Get the entire web pages from a site (just an example, NOT recommended at all)"
   ]
  }
 ],
 "metadata": {
  "kernelspec": {
   "display_name": "Python 2",
   "language": "python",
   "name": "python2"
  },
  "language_info": {
   "codemirror_mode": {
    "name": "ipython",
    "version": 2
   },
   "file_extension": ".py",
   "mimetype": "text/x-python",
   "name": "python",
   "nbconvert_exporter": "python",
   "pygments_lexer": "ipython2",
   "version": "2.7.13"
  }
 },
 "nbformat": 4,
 "nbformat_minor": 0
}
