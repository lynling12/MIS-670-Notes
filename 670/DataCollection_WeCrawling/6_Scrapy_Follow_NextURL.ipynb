{
 "cells": [
  {
   "cell_type": "markdown",
   "metadata": {
    "deletable": true,
    "editable": true
   },
   "source": [
    "# Collecting URLs using Scrapy\n",
    "\n",
    "You need to have:\n",
    "* scrapy (python package) for web crawling\n",
    "* PyCharm Educational Edition or Spyder (In Windows, Start/All Apps/Anaconda2/Spyder)    \n",
    "\n",
    "You can download PyCharm Edu from https://www.jetbrains.com/pycharm-edu/download/#section=windows"
   ]
  },
  {
   "cell_type": "markdown",
   "metadata": {
    "deletable": true,
    "editable": true
   },
   "source": [
    "## Scrapy\n",
    "\n",
    "- Python package for web crawling https://scrapy.org/\n",
    "- Suitable for big data collection\n",
    "\n",
    "Installation\n",
    "\n",
    "- conda install -c conda-forge scrapy"
   ]
  },
  {
   "cell_type": "markdown",
   "metadata": {
    "deletable": true,
    "editable": true
   },
   "source": [
    "## Scenario: Reddit\n",
    "\n",
    "Let's suppose you're interested in collecting data from \n",
    "\n",
    "    https://www.reddit.com/r/learnpython/new"
   ]
  },
  {
   "cell_type": "raw",
   "metadata": {},
   "source": [
    "# start a scrapy project\n",
    "\n",
    "scrapy startproject reddit\n",
    "\n",
    "# Generating a spider\n",
    "\n",
    "cd reddit\n",
    "scrapy genspider redditcrawler www.reddit.com\n",
    "\n",
    "\n",
    "# coding\n",
    "\n",
    "import scrapy\n",
    "from scrapy.selector import Selector\n",
    "from scrapy.item import Item, Field\n",
    "from scrapy.contrib.spiders import CrawlSpider, Rule\n",
    "\n",
    "class TextPostItem(Item):\n",
    "    url = Field()\n",
    "    \n",
    "class RedditcrawlerSpider(scrapy.Spider):\n",
    "    name = \"redditcrawler\"\n",
    "    allowed_domains = [\"www.reddit.com\"]\n",
    "    start_urls = ['https://www.reddit.com/r/learnpython/new']\n",
    "\n",
    "    def parse(self, response):\n",
    "        next_link = Selector(response).xpath('//span[@class=\"next-button\"]/a/@href').extract()[0]\n",
    "        if len(next_link):\n",
    "            yield self.make_requests_from_url(next_link)\n",
    "        Item = TextPostItem()\n",
    "        Item['url'] = response.url\n",
    "        yield Item\n",
    "        pass\n",
    "\t\t\t\n",
    "\t\t\t\n",
    "# how to run\n",
    "\n",
    "scrapy crawl redditcrawler -o items.csv \n",
    "\n",
    "# to stop\n",
    "\n",
    "CTRL-C\n",
    "\n",
    "# to restart\n",
    "\n",
    "scrapy crawl redditcrawler -o items.csv "
   ]
  }
 ],
 "metadata": {
  "kernelspec": {
   "display_name": "Python 2",
   "language": "python",
   "name": "python2"
  },
  "language_info": {
   "codemirror_mode": {
    "name": "ipython",
    "version": 2
   },
   "file_extension": ".py",
   "mimetype": "text/x-python",
   "name": "python",
   "nbconvert_exporter": "python",
   "pygments_lexer": "ipython2",
   "version": "2.7.13"
  }
 },
 "nbformat": 4,
 "nbformat_minor": 0
}
