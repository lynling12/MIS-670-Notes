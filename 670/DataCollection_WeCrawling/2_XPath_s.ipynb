{
 "cells": [
  {
   "cell_type": "markdown",
   "metadata": {
    "deletable": true,
    "editable": true
   },
   "source": [
    "# XPath\n",
    "- Xpath is a query language to access specific contents or data on the web page\n",
    "- Xpath is used to collect data from webpages\n",
    "\n",
    "\n",
    "# XPath Cheat Sheets\n",
    "- Go to http://ricostacruz.com/cheatsheets/xpath.html"
   ]
  },
  {
   "cell_type": "markdown",
   "metadata": {
    "deletable": true,
    "editable": true
   },
   "source": [
    "### Additional resources\n",
    "\n",
    "We just finished the first example using XPath for data collection. You should be more familar with this query language. More resources can be found:\n",
    "- http://www.w3schools.com/xml/xpath_syntax.asp\n",
    "- http://www.w3schools.com/xml/xpath_axes.asp\n",
    "- http://www.w3schools.com/xml/xpath_operators.asp\n",
    "- Finally, test your XPath skill http://www.w3schools.com/xml/xpath_operators.asp"
   ]
  },
  {
   "cell_type": "markdown",
   "metadata": {
    "deletable": true,
    "editable": true
   },
   "source": [
    "# Example: IMDb\n",
    "- Use Google Chrome for the following:\n",
    "- Go to http://www.imdb.com/search/title?at=0&sort=num_votes,desc&start=1&title_type=feature&year=1950,2012 (1st page of Most Voted Feature Films Released 1950-2012)\n",
    "- We will inspect **the source page** to develop **Xpath** for the information we're looking for. **Right Click** and select **Inspect**. This will show the source HTML code. "
   ]
  },
  {
   "cell_type": "code",
   "execution_count": null,
   "metadata": {
    "collapsed": false,
    "deletable": true,
    "editable": true
   },
   "outputs": [],
   "source": [
    "# import python packages\n",
    "import requests\n",
    "from lxml import html\n",
    "import csv\n",
    "import pandas as pd\n",
    "\n",
    "r = requests.get('http://www.imdb.com/search/title?at=0&sort=num_votes,desc&start=1&title_type=feature&year=1950,2012')\n",
    "data = html.fromstring(r.text)\n",
    "\n",
    "# Xpath\n",
    "alldata =[]\n",
    "\n",
    "for i in data.xpath(\"//h3[@class='lister-item-header']\"):\n",
    "    title = i.xpath('a/text()')  \n",
    "    url = i.xpath('a/@href')        \n",
    "    year = i.xpath('span[2]/text()')   \n",
    "    print title, url, year\n",
    "    alldata.append([title, url, year])\n",
    "    \n",
    "len(alldata)"
   ]
  },
  {
   "cell_type": "code",
   "execution_count": null,
   "metadata": {
    "collapsed": false,
    "deletable": true,
    "editable": true
   },
   "outputs": [],
   "source": [
    "# convert list to data frame (excel-like)\n",
    "df = pd.DataFrame(alldata)\n",
    "df.head(2)"
   ]
  },
  {
   "cell_type": "markdown",
   "metadata": {
    "deletable": true,
    "editable": true
   },
   "source": [
    "## Important!!!\n",
    "## Data cleaning & transformation\n",
    "- This is considered one of the most important steps in data analytics. You may spend 60% to 70% of your time on data cleaning & transformation \n",
    "- You need to rely on **Stackoverflow.com**\n",
    "- Also you should check **Working with Text Data in Pandas** https://pandas.pydata.org/pandas-docs/stable/text.html"
   ]
  },
  {
   "cell_type": "code",
   "execution_count": null,
   "metadata": {
    "collapsed": false,
    "deletable": true,
    "editable": true
   },
   "outputs": [],
   "source": [
    "# remove brackets\n",
    "\n",
    "df[0]=df[0].str[0]\n",
    "df[1]=df[1].str[0]\n",
    "df[2]=df[2].str[0]\n",
    "df.head(2)"
   ]
  },
  {
   "cell_type": "code",
   "execution_count": null,
   "metadata": {
    "collapsed": false,
    "deletable": true,
    "editable": true
   },
   "outputs": [],
   "source": [
    "df[1] = 'http://www.imdb.com' + df[1].astype(str)\n",
    "df.head(2)"
   ]
  },
  {
   "cell_type": "markdown",
   "metadata": {
    "deletable": true,
    "editable": true
   },
   "source": [
    "## regular expression (regex)\n",
    "- We need to remove parenthesis from the data\n",
    "- go to https://regexr.com/ and test your regex"
   ]
  },
  {
   "cell_type": "code",
   "execution_count": null,
   "metadata": {
    "collapsed": false,
    "deletable": true,
    "editable": true
   },
   "outputs": [],
   "source": [
    "df[2] = df[2].str.replace('\\(|\\)', '')\n",
    "df.head(2)"
   ]
  },
  {
   "cell_type": "code",
   "execution_count": null,
   "metadata": {
    "collapsed": false,
    "deletable": true,
    "editable": true
   },
   "outputs": [],
   "source": [
    "df.to_csv(\"data/imdb.csv\", index=False, encoding='utf-8')"
   ]
  },
  {
   "cell_type": "markdown",
   "metadata": {
    "deletable": true,
    "editable": true
   },
   "source": [
    "# OpenCorporates (The Open Database of the Corporate World)\n",
    "\n",
    "- We're interested in businesses in Kansas. The url is https://opencorporates.com/companies/us_ks?current_status=Active+And+In+Good+Standing&page=1&q=\n",
    "- Collect business names, urls, and addresses. \n",
    "- This is the second web page https://opencorporates.com/companies/us_ks?current_status=Active+And+In+Good+Standing&page=2&q="
   ]
  },
  {
   "cell_type": "markdown",
   "metadata": {
    "deletable": true,
    "editable": true
   },
   "source": [
    "#### for more examples of Xpath, go to http://ricostacruz.com/cheatsheets/xpath.html\n",
    "\n",
    "- **contains()**                 \n",
    "    - div[contains(@class, \"head\")]\n",
    "- starts-with()              \n",
    "    - div[starts-with(@class, \"head\")]\n",
    "- ends-with()                \n",
    "    - div[ends-with(@class, \"head\")]"
   ]
  },
  {
   "cell_type": "code",
   "execution_count": null,
   "metadata": {
    "collapsed": false,
    "deletable": true,
    "editable": true
   },
   "outputs": [],
   "source": [
    "r = requests.get('https://opencorporates.com/companies/us_ks?current_status=Active+And+In+Good+Standing&page=1&q=')\n",
    "data = html.fromstring(r.text)\n",
    "\n",
    "# Xpath\n",
    "\n",
    "for i in data.xpath(\"//li[contains(@class,'search-result')]\"):\n",
    "    title = i.xpath('a[2]/text()')   \n",
    "    url = i.xpath('span[@class=\"address\"]/a/@href')       \n",
    "    address = i.xpath('span[@class=\"address\"]/text()') \n",
    "    print title, url, address\n",
    "\n",
    "# This is NOT perfect\n",
    "#for i in data.xpath(\"//li\"):\n",
    "#    title = i.xpath('a[2]/text()')   \n",
    "#    url = i.xpath('span[@class=\"address\"]/a/@href')       \n",
    "#    address = i.xpath('span[@class=\"address\"]/text()') \n",
    "#    print title, url, address"
   ]
  },
  {
   "cell_type": "markdown",
   "metadata": {
    "deletable": true,
    "editable": true
   },
   "source": [
    "# UK Parliament & Descriptive Analytics"
   ]
  },
  {
   "cell_type": "markdown",
   "metadata": {
    "deletable": true,
    "editable": true
   },
   "source": [
    "- Let's find out the people in UK Parliament. The url is http://www.parliament.uk/mps-lords-and-offices/mps/\n",
    "- Collect business names, urls, and district information. \n",
    "- ** Pay special attention to the xpath for political party**"
   ]
  },
  {
   "cell_type": "code",
   "execution_count": null,
   "metadata": {
    "collapsed": false,
    "deletable": true,
    "editable": true
   },
   "outputs": [],
   "source": [
    "r = requests.get('http://www.parliament.uk/mps-lords-and-offices/mps/')\n",
    "data = html.fromstring(r.text)\n",
    "\n",
    "# Xpath\n",
    "\n",
    "\n",
    "\n",
    "\n",
    "\n",
    "\n",
    "\n"
   ]
  },
  {
   "cell_type": "markdown",
   "metadata": {
    "deletable": true,
    "editable": true
   },
   "source": [
    "# Rotten Tomatoes Movie Reviews\n",
    "\n",
    "- Now, we're familar with how XPath works so we will do coding without using Google Sheets. \n",
    "- Go to https://www.rottentomatoes.com/m/interstellar_2014/reviews/?page=1&sort=\n",
    "- Collect reviewer name, fresh/rotten, review, and date.\n",
    "- There are 15 more webpages of reviews for this movie"
   ]
  },
  {
   "cell_type": "code",
   "execution_count": null,
   "metadata": {
    "collapsed": false,
    "deletable": true,
    "editable": true
   },
   "outputs": [],
   "source": [
    "r = requests.get('https://www.rottentomatoes.com/m/interstellar_2014/reviews/?page=1&sort=')\n",
    "data = html.fromstring(r.text)\n",
    "\n",
    "for i in data.xpath(\"//div[@class='row review_table_row']\"):\n",
    "    name = i.xpath('div/div/a[contains(@href, \"critic\")]/text()')\n",
    "    sentiment = i.xpath('div[@class=\"col-xs-16 review_container\"]/div[1]/@class')\n",
    "    date = i.xpath('div[@class=\"col-xs-16 review_container\"]/div[2]/div[1]/text()')\n",
    "    review = i.xpath('div[@class=\"col-xs-16 review_container\"]/div[2]/div[2]/div[1]/text()')\n",
    "    print name, sentiment, date, review   "
   ]
  },
  {
   "cell_type": "markdown",
   "metadata": {
    "deletable": true,
    "editable": true
   },
   "source": [
    "# More on Xpaths\n",
    "- There are many examples of Xpath you need to be familiar with. \n",
    "- Go to http://ricostacruz.com/cheatsheets/xpath.html\n",
    "\n",
    "#### Union\n",
    "- Use **|** to join two expressions (e.g., //a | //span)"
   ]
  },
  {
   "cell_type": "code",
   "execution_count": null,
   "metadata": {
    "collapsed": true,
    "deletable": true,
    "editable": true
   },
   "outputs": [],
   "source": [
    "r = requests.get('http://www.pythonscraping.com/pages/page3.html')\n",
    "data = html.fromstring(r.text)"
   ]
  },
  {
   "cell_type": "code",
   "execution_count": null,
   "metadata": {
    "collapsed": false,
    "deletable": true,
    "editable": true
   },
   "outputs": [],
   "source": [
    "fruit = []\n",
    "\n",
    "#Xpath\n",
    "\n",
    "\n",
    "\n"
   ]
  },
  {
   "cell_type": "code",
   "execution_count": null,
   "metadata": {
    "collapsed": false,
    "deletable": true,
    "editable": true
   },
   "outputs": [],
   "source": [
    "pd.set_option('display.max_colwidth', -1)\n",
    "df = pd.DataFrame(fruit)\n",
    "df"
   ]
  },
  {
   "cell_type": "markdown",
   "metadata": {
    "deletable": true,
    "editable": true
   },
   "source": [
    "#### This dataset needs much cleaning & transformation"
   ]
  },
  {
   "cell_type": "code",
   "execution_count": null,
   "metadata": {
    "collapsed": false,
    "deletable": true,
    "editable": true
   },
   "outputs": [],
   "source": [
    "# You could convert your list to str with astype(str) and then remove ', [, ] characters\n",
    "# https://stackoverflow.com/questions/37347725/converting-a-panda-df-list-into-a-string/37347837\n",
    "\n",
    "df[0] = df[0].astype(str).str.replace('\\[|\\]', '')\n",
    "df[1] = df[1].astype(str).str.replace('\\[|\\]', '')\n",
    "df"
   ]
  },
  {
   "cell_type": "markdown",
   "metadata": {
    "deletable": true,
    "editable": true
   },
   "source": [
    "now, remove \\n (newlines) from the dataset"
   ]
  },
  {
   "cell_type": "code",
   "execution_count": null,
   "metadata": {
    "collapsed": false,
    "deletable": true,
    "editable": true
   },
   "outputs": [],
   "source": [
    "#https://stackoverflow.com/questions/37160929/how-to-remove-carriage-return-in-a-dataframe\n",
    "# r --> regular expression\n",
    "\n",
    "df[0] = df[0].str.replace(r'\\\\n',' ')\n",
    "df[1] = df[1].str.replace(r'\\\\n',' ')\n",
    "df"
   ]
  },
  {
   "cell_type": "code",
   "execution_count": null,
   "metadata": {
    "collapsed": false,
    "deletable": true,
    "editable": true
   },
   "outputs": [],
   "source": [
    "df[0] = df[0].str.replace(r'\\'','')\n",
    "df[1] = df[1].str.replace(r'\\'','')\n",
    "df"
   ]
  },
  {
   "cell_type": "code",
   "execution_count": null,
   "metadata": {
    "collapsed": true,
    "deletable": true,
    "editable": true
   },
   "outputs": [],
   "source": [
    "df.to_csv(\"data/fruit.csv\", index=False, encoding='utf-8')"
   ]
  },
  {
   "cell_type": "markdown",
   "metadata": {
    "deletable": true,
    "editable": true
   },
   "source": [
    "# References\n",
    "- Working with Text Data in Pandas https://pandas.pydata.org/pandas-docs/stable/text.html"
   ]
  }
 ],
 "metadata": {
  "kernelspec": {
   "display_name": "Python 2",
   "language": "python",
   "name": "python2"
  },
  "language_info": {
   "codemirror_mode": {
    "name": "ipython",
    "version": 2
   },
   "file_extension": ".py",
   "mimetype": "text/x-python",
   "name": "python",
   "nbconvert_exporter": "python",
   "pygments_lexer": "ipython2",
   "version": "2.7.13"
  }
 },
 "nbformat": 4,
 "nbformat_minor": 0
}
