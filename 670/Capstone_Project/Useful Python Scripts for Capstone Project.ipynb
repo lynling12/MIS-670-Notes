{
 "cells": [
  {
   "cell_type": "markdown",
   "metadata": {},
   "source": [
    "This notebook demonstrates \n",
    "\n",
    "1. how to filter out sentences (or customer reviews) that you don't want\n",
    "2. how to select sentences you want"
   ]
  },
  {
   "cell_type": "code",
   "execution_count": 86,
   "metadata": {
    "collapsed": true,
    "deletable": true,
    "editable": true
   },
   "outputs": [],
   "source": [
    "import csv\n",
    "import re\n",
    "import pandas as pd\n",
    "\n",
    "import nltk\n",
    "from nltk.corpus import stopwords"
   ]
  },
  {
   "cell_type": "code",
   "execution_count": 87,
   "metadata": {
    "collapsed": true,
    "deletable": true,
    "editable": true
   },
   "outputs": [],
   "source": [
    "reviews = [\n",
    "    \"The server was rude, bad location, poor service overall, call 911!\",\n",
    "    \"This bike is amazing, awesome\",\n",
    "    \"This ice maker works great, the price is very reasonable\",\n",
    "    \"staff was very rude\"\n",
    "    ]"
   ]
  },
  {
   "cell_type": "code",
   "execution_count": 88,
   "metadata": {
    "collapsed": true,
    "deletable": true,
    "editable": true
   },
   "outputs": [],
   "source": [
    "good = ['amazing', 'great', 'awesome', 'reasonable'] # select sentences which contain one of these words\n",
    "bad = ['poor', 'bad', 'rude'] # if one of these words shown, remove the sentence from the dataset"
   ]
  },
  {
   "cell_type": "code",
   "execution_count": 89,
   "metadata": {
    "collapsed": false
   },
   "outputs": [
    {
     "data": {
      "text/plain": [
       "['This bike is amazing, awesome',\n",
       " 'This ice maker works great, the price is very reasonable']"
      ]
     },
     "execution_count": 89,
     "metadata": {},
     "output_type": "execute_result"
    }
   ],
   "source": [
    "goodsen = []\n",
    "\n",
    "for sentence in reviews:\n",
    "    if all(term not in sentence for term in bad):\n",
    "        goodsen.append(sentence)\n",
    "\n",
    "goodsen"
   ]
  },
  {
   "cell_type": "code",
   "execution_count": 90,
   "metadata": {
    "collapsed": false
   },
   "outputs": [
    {
     "data": {
      "text/plain": [
       "['The server was rude, bad location, poor service overall, call 911!',\n",
       " 'staff was very rude']"
      ]
     },
     "execution_count": 90,
     "metadata": {},
     "output_type": "execute_result"
    }
   ],
   "source": [
    "badsen = []\n",
    "\n",
    "for sentence in reviews:\n",
    "    if all(term not in sentence for term in good):\n",
    "        badsen.append(sentence)\n",
    "\n",
    "badsen"
   ]
  }
 ],
 "metadata": {
  "kernelspec": {
   "display_name": "Python 2",
   "language": "python",
   "name": "python2"
  },
  "language_info": {
   "codemirror_mode": {
    "name": "ipython",
    "version": 2
   },
   "file_extension": ".py",
   "mimetype": "text/x-python",
   "name": "python",
   "nbconvert_exporter": "python",
   "pygments_lexer": "ipython2",
   "version": "2.7.13"
  }
 },
 "nbformat": 4,
 "nbformat_minor": 2
}
